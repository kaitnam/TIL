{
 "cells": [
  {
   "cell_type": "markdown",
   "id": "9b9a7561",
   "metadata": {},
   "source": [
    "### NLTK를 활용한 품사 태깅_영어"
   ]
  },
  {
   "cell_type": "code",
   "execution_count": 1,
   "id": "6d76629f",
   "metadata": {},
   "outputs": [
    {
     "name": "stdout",
     "output_type": "stream",
     "text": [
      "[('Hello', 'NNP'), ('everyone', 'NN'), ('.', '.'), ('It', 'PRP'), (\"'s\", 'VBZ'), ('good', 'JJ'), ('to', 'TO'), ('see', 'VB'), ('you', 'PRP'), ('.', '.'), ('Let', 'VB'), (\"'s\", 'POS'), ('start', 'VB'), ('our', 'PRP$'), ('text', 'NN'), ('mining', 'NN'), ('class', 'NN'), ('!', '.')]\n"
     ]
    }
   ],
   "source": [
    "import nltk\n",
    "from nltk.tokenize import word_tokenize\n",
    "\n",
    "tokens = word_tokenize(\"Hello everyone. It's good to see you. Let's start our text mining class!\")\n",
    "print(nltk.pos_tag(tokens))"
   ]
  },
  {
   "cell_type": "markdown",
   "id": "83c3de4d",
   "metadata": {},
   "source": [
    "### NLTK를 활용한 품사 태깅_한글"
   ]
  },
  {
   "cell_type": "code",
   "execution_count": 5,
   "id": "c6b56f5e",
   "metadata": {},
   "outputs": [
    {
     "name": "stdout",
     "output_type": "stream",
     "text": [
      "[('안녕하세요', 'NN'), ('.', '.'), ('여러분', 'NN'), (',', ','), ('만나서', 'NNP'), ('반갑습니다', 'NNP'), ('.', '.'), ('이제', 'VB'), ('텍스트', 'JJ'), ('마이닝', 'NNP'), ('클래스를', 'NNP'), ('시작해봅시다', 'NN'), ('!', '.')]\n"
     ]
    }
   ],
   "source": [
    "sentence = '안녕하세요. 여러분, 만나서 반갑습니다. 이제 텍스트 마이닝 클래스를 시작해봅시다!'\n",
    "tokens = word_tokenize(sentence)\n",
    "print(nltk.pos_tag(tokens))"
   ]
  },
  {
   "cell_type": "markdown",
   "id": "8ae83aac",
   "metadata": {},
   "source": [
    "### 품사의 약어 확인 : nltk.help.upenn_tagset()"
   ]
  },
  {
   "cell_type": "code",
   "execution_count": 9,
   "id": "d12897b0",
   "metadata": {},
   "outputs": [
    {
     "name": "stdout",
     "output_type": "stream",
     "text": [
      "NNP: noun, proper, singular\n",
      "    Motown Venneboerger Czestochwa Ranzer Conchita Trumplane Christos\n",
      "    Oceanside Escobar Kreisler Sawyer Cougar Yvette Ervin ODI Darryl CTCA\n",
      "    Shannon A.K.C. Meltex Liverpool ...\n",
      "None\n",
      "JJ: adjective or numeral, ordinal\n",
      "    third ill-mannered pre-war regrettable oiled calamitous first separable\n",
      "    ectoplasmic battery-powered participatory fourth still-to-be-named\n",
      "    multilingual multi-disciplinary ...\n",
      "None\n"
     ]
    }
   ],
   "source": [
    "print(nltk.help.upenn_tagset('NNP'))\n",
    "print(nltk.help.upenn_tagset('JJ'))"
   ]
  },
  {
   "cell_type": "code",
   "execution_count": null,
   "id": "9049dcb2",
   "metadata": {},
   "outputs": [],
   "source": []
  },
  {
   "cell_type": "markdown",
   "id": "cde91abc",
   "metadata": {},
   "source": [
    "### KoNLPy를 활용한 품사 태깅 "
   ]
  },
  {
   "cell_type": "code",
   "execution_count": 8,
   "id": "94d4d48e",
   "metadata": {},
   "outputs": [
    {
     "name": "stdout",
     "output_type": "stream",
     "text": [
      "형태소:  ['안녕하세요', '.', '여러분', ',', '만나서', '반갑습니다', '.', '이제', '텍스트', '마', '이닝', '클래스', '를', '시작', '해봅시다', '!']\n",
      "\n",
      "명사:  ['여러분', '이제', '텍스트', '마', '이닝', '클래스', '시작']\n",
      "\n",
      "품사 태깅 결과:  [('안녕하세요', 'Adjective'), ('.', 'Punctuation'), ('여러분', 'Noun'), (',', 'Punctuation'), ('만나서', 'Verb'), ('반갑습니다', 'Adjective'), ('.', 'Punctuation'), ('이제', 'Noun'), ('텍스트', 'Noun'), ('마', 'Noun'), ('이닝', 'Noun'), ('클래스', 'Noun'), ('를', 'Josa'), ('시작', 'Noun'), ('해봅시다', 'Verb'), ('!', 'Punctuation')]\n"
     ]
    }
   ],
   "source": [
    "from konlpy.tag import Okt\n",
    "\n",
    "t=Okt()\n",
    "sentence = '안녕하세요. 여러분, 만나서 반갑습니다. 이제 텍스트 마이닝 클래스를 시작해봅시다!'\n",
    "\n",
    "print(\"형태소: \", t.morphs(sentence))\n",
    "print()\n",
    "print(\"명사: \", t.nouns(sentence))\n",
    "print()\n",
    "print(\"품사 태깅 결과: \", t.pos(sentence))"
   ]
  },
  {
   "cell_type": "code",
   "execution_count": null,
   "id": "369a0628",
   "metadata": {},
   "outputs": [],
   "source": []
  },
  {
   "cell_type": "code",
   "execution_count": null,
   "id": "4547aeba",
   "metadata": {},
   "outputs": [],
   "source": []
  }
 ],
 "metadata": {
  "kernelspec": {
   "display_name": "Python 3 (ipykernel)",
   "language": "python",
   "name": "python3"
  },
  "language_info": {
   "codemirror_mode": {
    "name": "ipython",
    "version": 3
   },
   "file_extension": ".py",
   "mimetype": "text/x-python",
   "name": "python",
   "nbconvert_exporter": "python",
   "pygments_lexer": "ipython3",
   "version": "3.9.12"
  }
 },
 "nbformat": 4,
 "nbformat_minor": 5
}
