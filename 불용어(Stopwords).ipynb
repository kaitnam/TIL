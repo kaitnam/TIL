{
 "cells": [
  {
   "cell_type": "markdown",
   "id": "83f92807",
   "metadata": {},
   "source": [
    "## 불용어 확인하기"
   ]
  },
  {
   "cell_type": "code",
   "execution_count": 3,
   "id": "103461f4",
   "metadata": {},
   "outputs": [
    {
     "name": "stdout",
     "output_type": "stream",
     "text": [
      "{'during', 'having', 'with', 'haven', 'it', 'than', 'him', 'they', 'being', 'ourselves', \"wasn't\", 'mightn', 'her', \"you'd\", 'itself', 'ain', 'whom', 'or', 'before', 'under', 's', 'isn', 'some', 'who', 'so', 'if', 'wasn', 'herself', 'below', 'same', 'were', 'this', 'is', 'weren', 'from', 'about', 'into', 'when', 'ours', 'no', 'shouldn', 'doing', 'on', 'your', 'few', 'me', 're', 'should', 'through', 'has', 'do', 'have', 'mustn', 'yourself', 'most', 'those', 'just', 'now', \"don't\", 'their', \"should've\", 've', \"couldn't\", 'are', 'couldn', 'our', \"wouldn't\", 'hadn', 'but', 'does', 'am', 'as', 'where', 'not', 'because', 'each', \"didn't\", 'shan', 'ma', \"shan't\", 'hasn', \"that'll\", \"you've\", 'm', \"isn't\", 'needn', 'was', \"mightn't\", 'i', \"hadn't\", 'y', 'further', \"weren't\", 'wouldn', 'over', 'what', 'very', 'once', 't', 'been', 'his', \"mustn't\", 'such', \"won't\", 'we', 'can', 'until', 'down', \"haven't\", 'my', 'yourselves', 'had', 'while', 'more', 'too', 'themselves', 'nor', 'out', \"hasn't\", 'he', 'after', \"you're\", 'didn', \"shouldn't\", 'theirs', \"she's\", 'between', 'its', 'myself', 'off', 'own', 'of', 'there', 'will', 'she', 'don', 'd', 'doesn', 'how', 'up', 'the', 'yours', 'that', 'for', 'again', 'here', 'o', 'himself', 'only', 'them', \"aren't\", 'both', 'an', \"you'll\", 'which', 'against', 'by', 'hers', 'other', 'in', 'at', 'to', 'why', 'any', 'and', 'be', \"needn't\", \"it's\", 'a', 'won', 'll', 'aren', \"doesn't\", 'then', 'above', 'these', 'did', 'all', 'you'}\n"
     ]
    }
   ],
   "source": [
    "from nltk.corpus import stopwords\n",
    "\n",
    "english_stops = set(stopwords.words('english'))\n",
    "print(english_stops)"
   ]
  },
  {
   "cell_type": "code",
   "execution_count": null,
   "id": "99616181",
   "metadata": {},
   "outputs": [],
   "source": []
  },
  {
   "cell_type": "markdown",
   "id": "fd58fd32",
   "metadata": {},
   "source": [
    "## 자신만의 불용어 사전 만들어 사용하기"
   ]
  },
  {
   "cell_type": "code",
   "execution_count": 11,
   "id": "354dcd75",
   "metadata": {},
   "outputs": [
    {
     "name": "stdout",
     "output_type": "stream",
     "text": [
      "\n",
      "English_Stopwords: ['sorry', 'go', 'movie', 'yesterday']\n",
      "\n",
      "My_Stopwords: ['sorry', \"couldn't\", 'movie', 'yesterday']\n",
      "\n"
     ]
    }
   ],
   "source": [
    "from nltk.tokenize import RegexpTokenizer\n",
    "\n",
    "my_stopword=['i', 'go', 'to']\n",
    "\n",
    "text = \"Sorry, I couldn't go to movie yesterday.\"\n",
    "\n",
    "tokenizer = RegexpTokenizer(\"[\\w']+\")\n",
    "tokens = tokenizer.tokenize(text.lower())\n",
    "\n",
    "result_stopword = [word for word in tokens if word not in english_stops]\n",
    "result_my_stopword = [word for word in tokens if word not in my_stopword]\n",
    "\n",
    "print()\n",
    "print('English_Stopwords:', result_stopword)\n",
    "print()\n",
    "print('My_Stopwords:', result_my_stopword)\n",
    "print()"
   ]
  },
  {
   "cell_type": "code",
   "execution_count": null,
   "id": "816f9e79",
   "metadata": {},
   "outputs": [],
   "source": []
  }
 ],
 "metadata": {
  "kernelspec": {
   "display_name": "Python 3 (ipykernel)",
   "language": "python",
   "name": "python3"
  },
  "language_info": {
   "codemirror_mode": {
    "name": "ipython",
    "version": 3
   },
   "file_extension": ".py",
   "mimetype": "text/x-python",
   "name": "python",
   "nbconvert_exporter": "python",
   "pygments_lexer": "ipython3",
   "version": "3.9.12"
  }
 },
 "nbformat": 4,
 "nbformat_minor": 5
}
