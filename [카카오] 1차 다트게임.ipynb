{
 "cells": [
  {
   "cell_type": "code",
   "execution_count": null,
   "id": "8ee89b61",
   "metadata": {},
   "outputs": [],
   "source": [
    "# https://programmers.co.kr/learn/courses/30/lessons/17682"
   ]
  },
  {
   "cell_type": "code",
   "execution_count": 1,
   "id": "94882653",
   "metadata": {},
   "outputs": [],
   "source": [
    "def solution(dartResult):\n",
    "    n = ''\n",
    "    score = []\n",
    "    for i in dartResult:\n",
    "        if i.isnumeric():\n",
    "            n += i\n",
    "        elif i == 'S':\n",
    "            n = int(n)**1\n",
    "            score.append(n)\n",
    "            n = ''\n",
    "        elif i == 'D':\n",
    "            n = int(n)**2\n",
    "            score.append(n)\n",
    "            n = ''\n",
    "        elif i == 'T':\n",
    "            n = int(n)**3\n",
    "            score.append(n)\n",
    "            n = ''\n",
    "        elif i == '*':\n",
    "            if len(score) > 1:\n",
    "                score[-2] = score[-2] * 2\n",
    "                score[-1] = score[-1] * 2\n",
    "            else:\n",
    "                score[-1] = score[-1] * 2\n",
    "        elif i == '#':\n",
    "            score[-1] = score[-1] * -1\n",
    "        \n",
    "    return sum(score)"
   ]
  },
  {
   "cell_type": "code",
   "execution_count": 2,
   "id": "71dbd7f4",
   "metadata": {},
   "outputs": [
    {
     "data": {
      "text/plain": [
       "37"
      ]
     },
     "execution_count": 2,
     "metadata": {},
     "output_type": "execute_result"
    }
   ],
   "source": [
    "dartResult = \"1S2D*3T\" \n",
    "solution(dartResult)"
   ]
  },
  {
   "cell_type": "code",
   "execution_count": 3,
   "id": "c30aaeb5",
   "metadata": {},
   "outputs": [
    {
     "data": {
      "text/plain": [
       "3"
      ]
     },
     "execution_count": 3,
     "metadata": {},
     "output_type": "execute_result"
    }
   ],
   "source": [
    "dartResult = \"1D2T#10S\" \n",
    "solution(dartResult)"
   ]
  },
  {
   "cell_type": "markdown",
   "id": "f425e403",
   "metadata": {},
   "source": [
    "## '좋아요' 수 많은 풀이"
   ]
  },
  {
   "cell_type": "code",
   "execution_count": 4,
   "id": "2b24db8c",
   "metadata": {},
   "outputs": [],
   "source": [
    "import re\n",
    "\n",
    "\n",
    "def solution(dartResult):\n",
    "    bonus = {'S' : 1, 'D' : 2, 'T' : 3}\n",
    "    option = {'' : 1, '*' : 2, '#' : -1}\n",
    "    p = re.compile('(\\d+)([SDT])([*#]?)')\n",
    "    dart = p.findall(dartResult)\n",
    "    for i in range(len(dart)):\n",
    "        if dart[i][2] == '*' and i > 0:\n",
    "            dart[i-1] *= 2\n",
    "        dart[i] = int(dart[i][0]) ** bonus[dart[i][1]] * option[dart[i][2]]\n",
    "\n",
    "    answer = sum(dart)\n",
    "    return answer"
   ]
  },
  {
   "cell_type": "code",
   "execution_count": 5,
   "id": "9786b1b5",
   "metadata": {},
   "outputs": [
    {
     "data": {
      "text/plain": [
       "37"
      ]
     },
     "execution_count": 5,
     "metadata": {},
     "output_type": "execute_result"
    }
   ],
   "source": [
    "dartResult = \"1S2D*3T\" \n",
    "solution(dartResult)"
   ]
  },
  {
   "cell_type": "code",
   "execution_count": null,
   "id": "6a51d6ce",
   "metadata": {},
   "outputs": [],
   "source": [
    "dartResult = \"1D2T#10S\" \n",
    "solution(dartResult)"
   ]
  },
  {
   "cell_type": "markdown",
   "id": "02ee3f1b",
   "metadata": {},
   "source": [
    "## 코드 풀이\n",
    "### https://katenam32.tistory.com/5"
   ]
  }
 ],
 "metadata": {
  "kernelspec": {
   "display_name": "Python 3 (ipykernel)",
   "language": "python",
   "name": "python3"
  },
  "language_info": {
   "codemirror_mode": {
    "name": "ipython",
    "version": 3
   },
   "file_extension": ".py",
   "mimetype": "text/x-python",
   "name": "python",
   "nbconvert_exporter": "python",
   "pygments_lexer": "ipython3",
   "version": "3.8.9"
  }
 },
 "nbformat": 4,
 "nbformat_minor": 5
}
