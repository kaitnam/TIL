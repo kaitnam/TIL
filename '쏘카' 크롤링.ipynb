{
 "cells": [
  {
   "cell_type": "code",
   "execution_count": 1,
   "id": "965f5169",
   "metadata": {},
   "outputs": [],
   "source": [
    "def insta_searching(word):\n",
    "    url='https://www.instagram.com/explore/tags/'+word\n",
    "    return url"
   ]
  },
  {
   "cell_type": "code",
   "execution_count": 10,
   "id": "85bb6107",
   "metadata": {},
   "outputs": [],
   "source": [
    "from selenium import webdriver\n",
    "from bs4 import BeautifulSoup\n",
    "import time\n",
    "import re"
   ]
  },
  {
   "cell_type": "code",
   "execution_count": 11,
   "id": "115993cf",
   "metadata": {},
   "outputs": [],
   "source": [
    "def insta_searching(word):\n",
    "    url='https://www.instagram.com/explore/tags/'+word\n",
    "    return url"
   ]
  },
  {
   "cell_type": "code",
   "execution_count": 12,
   "id": "94930768",
   "metadata": {},
   "outputs": [],
   "source": [
    "def select_first(driver):\n",
    "    first=driver.find_element_by_css_selector(\"div._9AhH0\")\n",
    "    first.click()\n",
    "    time.sleep(3)\n"
   ]
  },
  {
   "cell_type": "code",
   "execution_count": 116,
   "id": "a518f6c7",
   "metadata": {},
   "outputs": [],
   "source": [
    "import re\n",
    "from bs4 import BeautifulSoup\n",
    "import unicodedata   # 추가, 2020.08.20\n",
    "\n",
    "def get_content(driver):\n",
    "    html = driver.page_source\n",
    "    soup = BeautifulSoup(html, 'lxml')\n",
    "# 데이터 기록, 다음 게시물로 클릭\n",
    "    try: \n",
    "        # account 데이터 기록\n",
    "        #contents = soup.select('span._7UhW9.xLCgt.MMzan.KV-D4.se6yk.T0kll')[0].text\n",
    "        #content = unicodedata.normalize('NFC', contents)\n",
    "        content = soup.find('span',{'class':\"_7UhW9.xLCgt.MMzan.KV-D4.se6yk.T0kll\"})\n",
    "        #content = contents.split('#',1)[0]\n",
    "        #account_data = driver.find_element_by_css_selector('a.sqdOP.yWX7d._8A5w5.ZIAjV')\n",
    "        #account_text = account_data.text\n",
    "        \n",
    "        # 날짜 기록 (주단위)\n",
    "        date = soup.select('time._1o9PC')[0]['datetime'][:10]\n",
    "        \n",
    "        # 날짜 데이터가 시간, 일, 분 단위이면 0주로 변환\n",
    "        if date.find('시간') != -1 or date.find('일') != -1 or date.find('분') != -1:\n",
    "            date_text = '0주'\n",
    "        else:\n",
    "            date_text = date\n",
    "        # 해쉬태그 데이터 기록\n",
    "        data = driver.find_element_by_css_selector('.C7I1f.X7jCj')\n",
    "        tag_raw = data.text\n",
    "        tag = re.findall('#[A-Za-z0-9가-힣]+', tag_raw)\n",
    "        tag = ''.join(tag).replace(\"#\",\" \") # \"#\" 제거\n",
    "        tag_data = tag.split()\n",
    "\n",
    "    except:\n",
    "        tag_data = \"error\"\n",
    "        date_text = \"error\"\n",
    "        like = 0\n",
    "    data = [date, content, tag_data]#[content, date, like, tags]\n",
    "    return data"
   ]
  },
  {
   "cell_type": "code",
   "execution_count": 117,
   "id": "8bdac727",
   "metadata": {},
   "outputs": [],
   "source": [
    "def move_next(driver):\n",
    "    right=driver.find_element_by_css_selector('div.l8mY4.feth3')    \n",
    "    right.click()\n",
    "    time.sleep(3)"
   ]
  },
  {
   "cell_type": "code",
   "execution_count": 118,
   "id": "9c3d8d72",
   "metadata": {},
   "outputs": [
    {
     "name": "stdout",
     "output_type": "stream",
     "text": [
      "[['2022-01-12', None, ['selfie', '셀카', '일상', '운전', '쏘카', '타다', 'trafficjam', 'daily', '드라이브', '여행', 'night', '셀스타그램', '데일리', '셀스타그램', '극한초보', '셀피', '소통', 'ride', 'seoul', '좋아요', '여행스타그램', '꿀잼', '타다패스포트']], ['2021-04-27', None, ['콩코드', '코란도', '기아', '기아자동차', '기아산업', '김경래', '올드카', '클래식카', '출장', '복원', '리스토어', '광고', '협찬', '폐차', '중고차', '술', '대전', '유성', '학하동', '좋아요', '맞팔', '인친', '소통', '팔로우', '다이렉트', '쏘카', '사진', '촬영', '레트로']]]\n"
     ]
    }
   ],
   "source": [
    "driver=webdriver.Chrome('C:/Users/kaitnam/Downloads/chromedriver_win32/chromedriver.exe')\n",
    "\n",
    "# 인스타그램 접속하기\n",
    "driver.get('http://www.instargram.com')\n",
    "time.sleep(3)\n",
    "\n",
    "email = 'gfydkate'   ### 계정 정보 수정 필요\n",
    "input_id = driver.find_elements_by_css_selector('input._2hvTZ.pexuQ.zyHYP')[0]\n",
    "input_id.clear()\n",
    "input_id.send_keys(email)\n",
    "\n",
    "password = 'dldlawkd3' ### 비번 정보 수정 필요\n",
    "input_pw = driver.find_elements_by_css_selector('input._2hvTZ.pexuQ.zyHYP')[1]\n",
    "input_pw.clear()\n",
    "input_pw.send_keys(password)\n",
    "input_pw.submit()\n",
    "\n",
    "time.sleep(5)\n",
    "\n",
    "# 검색 결과 페이지 열기\n",
    "word='쏘카'\n",
    "url=insta_searching(word)\n",
    "driver.get(url)\n",
    "\n",
    "time.sleep(3)\n",
    "\n",
    "# 첫 번째 게시물 클릭\n",
    "select_first(driver)\n",
    "\n",
    "# 본격적으로 데이터 수집 시작\n",
    "results = []\n",
    "\n",
    "# 수집할 게시물의 수\n",
    "target = 2\n",
    "\n",
    "for i in range(target):\n",
    "    try:\n",
    "        data = get_content(driver)\n",
    "        results.append(data)\n",
    "        move_next(driver)\n",
    "    except:\n",
    "        time.sleep(2)\n",
    "        move_next(driver)\n",
    "\n",
    "print(results[:2])"
   ]
  },
  {
   "cell_type": "code",
   "execution_count": 112,
   "id": "c816810a",
   "metadata": {},
   "outputs": [
    {
     "data": {
      "text/html": [
       "<div>\n",
       "<style scoped>\n",
       "    .dataframe tbody tr th:only-of-type {\n",
       "        vertical-align: middle;\n",
       "    }\n",
       "\n",
       "    .dataframe tbody tr th {\n",
       "        vertical-align: top;\n",
       "    }\n",
       "\n",
       "    .dataframe thead th {\n",
       "        text-align: right;\n",
       "    }\n",
       "</style>\n",
       "<table border=\"1\" class=\"dataframe\">\n",
       "  <thead>\n",
       "    <tr style=\"text-align: right;\">\n",
       "      <th></th>\n",
       "      <th>date</th>\n",
       "      <th>content</th>\n",
       "      <th>tag</th>\n",
       "    </tr>\n",
       "  </thead>\n",
       "  <tbody>\n",
       "    <tr>\n",
       "      <th>0</th>\n",
       "      <td>2022-01-12</td>\n",
       "      <td>타다 패스포트로 쏘카 이용하기🌟-#selfie #셀카 #일상 #운전 #쏘카 #타다 ...</td>\n",
       "      <td>[selfie, 셀카, 일상, 운전, 쏘카, 타다, trafficjam, daily...</td>\n",
       "    </tr>\n",
       "    <tr>\n",
       "      <th>1</th>\n",
       "      <td>2021-04-27</td>\n",
       "      <td>왕복 500km 출장중에... 발견한콩코드 코란도... .이번주는 내일도 출장 다음...</td>\n",
       "      <td>[콩코드, 코란도, 기아, 기아자동차, 기아산업, 김경래, 올드카, 클래식카, 출장...</td>\n",
       "    </tr>\n",
       "  </tbody>\n",
       "</table>\n",
       "</div>"
      ],
      "text/plain": [
       "         date                                            content  \\\n",
       "0  2022-01-12  타다 패스포트로 쏘카 이용하기🌟-#selfie #셀카 #일상 #운전 #쏘카 #타다 ...   \n",
       "1  2021-04-27  왕복 500km 출장중에... 발견한콩코드 코란도... .이번주는 내일도 출장 다음...   \n",
       "\n",
       "                                                 tag  \n",
       "0  [selfie, 셀카, 일상, 운전, 쏘카, 타다, trafficjam, daily...  \n",
       "1  [콩코드, 코란도, 기아, 기아자동차, 기아산업, 김경래, 올드카, 클래식카, 출장...  "
      ]
     },
     "execution_count": 112,
     "metadata": {},
     "output_type": "execute_result"
    }
   ],
   "source": [
    "import pandas as pd\n",
    "\n",
    "results_df=pd.DataFrame(results)\n",
    "results_df.columns=['date','content','tag']\n",
    "results_df"
   ]
  },
  {
   "cell_type": "code",
   "execution_count": null,
   "id": "3906d54c",
   "metadata": {},
   "outputs": [],
   "source": []
  },
  {
   "cell_type": "code",
   "execution_count": null,
   "id": "4fde534a",
   "metadata": {},
   "outputs": [],
   "source": [
    "import re\n",
    "from bs4 import BeautifulSoup\n",
    "import unicodedata   # 추가, 2020.08.20\n",
    "\n",
    "def get_content(driver):\n",
    "    # ① 현재 페이지 html 정보 가져오기\n",
    "    html = driver.page_source\n",
    "    soup = BeautifulSoup(html, 'lxml')\n",
    "    # ② 본문 내용 가져오기\n",
    "    try:\n",
    "        content = soup.select('div.C4VMK > span')[0].text\n",
    "        content = unicodedata.normalize('NFC', content)   # 신규 추가. 2020.08.20\n",
    "    except:\n",
    "        content = ' '\n",
    "    # ③ 본문 내용에서 해시태그 가져오기(정규식 활용)\n",
    "    tags = re.findall(r'#[^\\s#,\\\\]+', content)  \n",
    "    # ④ 작성일자 정보 가져오기\n",
    "    date = soup.select('time._1o9PC.Nzb55')[0]['datetime'][:10]\n",
    "    # ⑤ 좋아요 수 가져오기\n",
    "    try:\n",
    "        like = soup.select('div.Nm9Fw > button')[0].text[4:-1]   \n",
    "    except:\n",
    "        like = 0\n",
    "    # ⑥ 위치정보 가져오기\n",
    "    #try: \n",
    "        #place = soup.select('div.M30cS')[0].text\n",
    "        #place = unicodedata.normalize('NFC', place)      # 신규 추가. 2020.08.20\n",
    "    #except:\n",
    "        #place = ''\n",
    "    # ⑦ 수집한 정보 저장하기\n",
    "    data = [content, date, like, tags]\n",
    "    return data"
   ]
  }
 ],
 "metadata": {
  "kernelspec": {
   "display_name": "Python 3",
   "language": "python",
   "name": "python3"
  },
  "language_info": {
   "codemirror_mode": {
    "name": "ipython",
    "version": 3
   },
   "file_extension": ".py",
   "mimetype": "text/x-python",
   "name": "python",
   "nbconvert_exporter": "python",
   "pygments_lexer": "ipython3",
   "version": "3.8.8"
  }
 },
 "nbformat": 4,
 "nbformat_minor": 5
}
