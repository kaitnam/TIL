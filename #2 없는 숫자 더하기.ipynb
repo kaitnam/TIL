{
 "cells": [
  {
   "cell_type": "code",
   "execution_count": null,
   "id": "e6904492",
   "metadata": {},
   "outputs": [],
   "source": [
    "# https://programmers.co.kr/learn/courses/30/lessons/86051\n",
    "\n",
    "# 0부터 9까지의 숫자 중 일부가 들어있는 배열 numbers가 매개변수로 주어집니다. \n",
    "# numbers에서 찾을 수 없는 0부터 9까지의 숫자를 모두 찾아 더한 수를 return 하도록 \n",
    "# solution 함수를 완성해주세요.\n",
    "\n",
    "# 제한사항\n",
    "# 1 ≤ numbers의 길이 ≤ 9\n",
    "# 0 ≤ numbers의 모든 수 ≤ 9\n",
    "# numbers의 모든 수는 서로 다릅니다.\n",
    "\n",
    "# 입출력 예\n",
    "# numbers\tresult\n",
    "# [1,2,3,4,6,7,8,0] \t14\n",
    "# [5,8,4,0,6,7,9]\t6"
   ]
  },
  {
   "cell_type": "code",
   "execution_count": 1,
   "id": "d8990b98",
   "metadata": {},
   "outputs": [],
   "source": [
    "# numbers 안에 있는 숫자 더하기\n",
    "\n",
    "def solution(numbers):\n",
    "    answer = 0\n",
    "    for i in numbers:\n",
    "        answer += i\n",
    "    return answer"
   ]
  },
  {
   "cell_type": "code",
   "execution_count": 2,
   "id": "3bbccd82",
   "metadata": {},
   "outputs": [
    {
     "data": {
      "text/plain": [
       "15"
      ]
     },
     "execution_count": 2,
     "metadata": {},
     "output_type": "execute_result"
    }
   ],
   "source": [
    "solution([1,2,3,4,5])"
   ]
  },
  {
   "cell_type": "code",
   "execution_count": 3,
   "id": "63ee158f",
   "metadata": {},
   "outputs": [],
   "source": [
    "# numbers 안에 없는 숫자 더하기\n",
    "\n",
    "def solution(numbers):\n",
    "    answer = 0\n",
    "    for i in range(0,10):\n",
    "        if i not in numbers:\n",
    "            answer += i\n",
    "        else:\n",
    "            pass\n",
    "    return answer"
   ]
  },
  {
   "cell_type": "code",
   "execution_count": 4,
   "id": "9cf4fda8",
   "metadata": {},
   "outputs": [
    {
     "data": {
      "text/plain": [
       "20"
      ]
     },
     "execution_count": 4,
     "metadata": {},
     "output_type": "execute_result"
    }
   ],
   "source": [
    "solution([1,3,5,7,9])"
   ]
  },
  {
   "cell_type": "markdown",
   "id": "15422cbd",
   "metadata": {},
   "source": [
    "## 정리\n",
    "- '숫자가 리스트에 없으면~' 이라고 하려면 \"not in\" 사용\n",
    "- range를 쓸때 range(start, stop) 인데 stop값이 stop-1 이므로 0부터 9까지이면 range(0, 10) 이렇게 써야한다."
   ]
  }
 ],
 "metadata": {
  "kernelspec": {
   "display_name": "Python 3",
   "language": "python",
   "name": "python3"
  },
  "language_info": {
   "codemirror_mode": {
    "name": "ipython",
    "version": 3
   },
   "file_extension": ".py",
   "mimetype": "text/x-python",
   "name": "python",
   "nbconvert_exporter": "python",
   "pygments_lexer": "ipython3",
   "version": "3.8.8"
  }
 },
 "nbformat": 4,
 "nbformat_minor": 5
}
