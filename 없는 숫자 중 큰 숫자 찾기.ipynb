{
 "cells": [
  {
   "cell_type": "code",
   "execution_count": null,
   "id": "22c7420a",
   "metadata": {},
   "outputs": [],
   "source": [
    "# Write a function:\n",
    "\n",
    "# def solution(A)\n",
    "\n",
    "# that, given an array A of N integers, returns the smallest positive integer (greater than 0) that does not occur in A.\n",
    "\n",
    "# For example, given A = [1, 3, 6, 4, 1, 2], the function should return 5.\n",
    "\n",
    "# Given A = [1, 2, 3], the function should return 4.\n",
    "\n",
    "# Given A = [−1, −3], the function should return 1.\n",
    "\n",
    "# Write an efficient algorithm for the following assumptions:\n",
    "\n",
    "# N is an integer within the range [1..100,000];\n",
    "# each element of array A is an integer within the range [−1,000,000..1,000,000]."
   ]
  },
  {
   "cell_type": "code",
   "execution_count": 2,
   "id": "e3d05417",
   "metadata": {},
   "outputs": [],
   "source": [
    "def solution(A):\n",
    "    A.sort()\n",
    "    min = 1\n",
    "    for i in A:\n",
    "        if i == min:\n",
    "            min += 1\n",
    "    return min"
   ]
  },
  {
   "cell_type": "code",
   "execution_count": 3,
   "id": "14c1579a",
   "metadata": {},
   "outputs": [
    {
     "data": {
      "text/plain": [
       "5"
      ]
     },
     "execution_count": 3,
     "metadata": {},
     "output_type": "execute_result"
    }
   ],
   "source": [
    "A = [1, 3, 6, 4, 1, 2]\n",
    "solution(A)"
   ]
  },
  {
   "cell_type": "code",
   "execution_count": null,
   "id": "69d858ba",
   "metadata": {},
   "outputs": [],
   "source": []
  }
 ],
 "metadata": {
  "kernelspec": {
   "display_name": "Python 3 (ipykernel)",
   "language": "python",
   "name": "python3"
  },
  "language_info": {
   "codemirror_mode": {
    "name": "ipython",
    "version": 3
   },
   "file_extension": ".py",
   "mimetype": "text/x-python",
   "name": "python",
   "nbconvert_exporter": "python",
   "pygments_lexer": "ipython3",
   "version": "3.9.12"
  }
 },
 "nbformat": 4,
 "nbformat_minor": 5
}
