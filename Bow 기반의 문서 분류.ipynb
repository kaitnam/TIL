{
 "cells": [
  {
   "cell_type": "code",
   "execution_count": 2,
   "id": "5f620956",
   "metadata": {},
   "outputs": [
    {
     "name": "stdout",
     "output_type": "stream",
     "text": [
      "Train set size: 2034\n",
      "Test set size: 1353\n",
      "Selected categories: ['alt.atheism', 'comp.graphics', 'sci.space', 'talk.religion.misc']\n",
      "Train labels: {0, 1, 2, 3}\n"
     ]
    }
   ],
   "source": [
    "from sklearn.datasets import fetch_20newsgroups\n",
    "\n",
    "# 20개의 토픽 중 선택하고자 하는 토픽을 리스트로 생성\n",
    "categories = ['alt.atheism', 'talk.religion.misc', 'comp.graphics', 'sci.space']\n",
    "\n",
    "# 학습 데이터셋을 가져옴\n",
    "newsgroups_train = fetch_20newsgroups(subset='train',\n",
    "                                      # remove를 사용하여 내용에서 힌트가 되는 부분을 삭제, 순수하게 내용만으로 분류\n",
    "                                      remove=('headers', 'footers', 'quotes'),\n",
    "                                      categories = categories)\n",
    "\n",
    "# 평가 데이터셋을 가져옴\n",
    "newsgroups_test = fetch_20newsgroups(subset='test', remove=('headers', 'footers', 'quotes'),categories = categories)\n",
    "\n",
    "print('Train set size:', len(newsgroups_train.data))\n",
    "print('Test set size:', len(newsgroups_test.data))\n",
    "print('Selected categories:', newsgroups_train.target_names)\n",
    "print('Train labels:', set(newsgroups_train.target))"
   ]
  },
  {
   "cell_type": "markdown",
   "id": "d9896030",
   "metadata": {},
   "source": [
    "- #### .data는 텍스트의 내용을, .target은 숫자로 표시된 라벨(분류)을 의미한다.\n",
    "- #### 라벨은 실행결과에서 나온(코드 작성 순서 아님) categories의 순서대로 번호를 붙인다.\n",
    "- #### 예를 들어서 실행 결과 Selected categories: ['alt.atheism', 'comp.graphics', 'sci.space', 'talk.religion.misc'] 이거라면 \n",
    "- #### 'alt.atheism' = 라벨 0, 'comp.graphics' = 라벨 1, 이런 순서대로 라벨이 정해진다."
   ]
  },
  {
   "cell_type": "code",
   "execution_count": 4,
   "id": "f79e29cb",
   "metadata": {},
   "outputs": [
    {
     "name": "stdout",
     "output_type": "stream",
     "text": [
      "Train set text samples: Hi,\n",
      "\n",
      "I've noticed that if you only save a model (with all your mapping planes\n",
      "positioned carefully) to a .3DS file that when you reload it after restarting\n",
      "3DS, they are given a default position and orientation.  But if you save\n",
      "to a .PRJ file their positions/orientation are preserved.  Does anyone\n",
      "know why this information is not stored in the .3DS file?  Nothing is\n",
      "explicitly said in the manual about saving texture rules in the .PRJ file. \n",
      "I'd like to be able to read the texture rule information, does anyone have \n",
      "the format for the .PRJ file?\n",
      "\n",
      "Is the .CEL file format available from somewhere?\n",
      "\n",
      "Rych\n",
      "-----------------------------------------------------------\n",
      "Train set label samples: 1\n",
      "-----------------------------------------------------------\n",
      "Test set text samples: TRry the SKywatch project in  Arizona.\n",
      "-----------------------------------------------------------\n",
      "Test set label samples: 2\n"
     ]
    }
   ],
   "source": [
    "print('Train set text samples:', newsgroups_train.data[0])\n",
    "print('-----------------------------------------------------------')\n",
    "print('Train set label samples:', newsgroups_train.target[0])\n",
    "print('-----------------------------------------------------------')\n",
    "print('Test set text samples:', newsgroups_test.data[0])\n",
    "print('-----------------------------------------------------------')\n",
    "print('Test set label samples:', newsgroups_test.target[0])"
   ]
  },
  {
   "cell_type": "code",
   "execution_count": null,
   "id": "59d8cdb4",
   "metadata": {},
   "outputs": [],
   "source": [
    "- #### train set[0]의 라벨이 1 이므로 이 텍스트의 내용은 'comp.graphics'의 내용이다.\n",
    "- #### test set[0]의 라벨이 2 이므로 이 텍스트의 내용은 'sci.space'의 내용이다."
   ]
  },
  {
   "cell_type": "code",
   "execution_count": 5,
   "id": "5a50541b",
   "metadata": {},
   "outputs": [
    {
     "name": "stdout",
     "output_type": "stream",
     "text": [
      "Train set text samples: \n",
      "\n",
      "Seems to be, barring evidence to the contrary, that Koresh was simply\n",
      "another deranged fanatic who thought it neccessary to take a whole bunch of\n",
      "folks with him, children and all, to satisfy his delusional mania. Jim\n",
      "Jones, circa 1993.\n",
      "\n",
      "\n",
      "Nope - fruitcakes like Koresh have been demonstrating such evil corruption\n",
      "for centuries.\n",
      "-----------------------------------------------------------\n",
      "Train set label samples: 3\n",
      "-----------------------------------------------------------\n",
      "Test set text samples: The Vatican library recently made a tour of the US.\n",
      " Can anyone help me in finding a FTP site where this collection is \n",
      " available.\n",
      "-----------------------------------------------------------\n",
      "Test set label samples: 1\n"
     ]
    }
   ],
   "source": [
    "print('Train set text samples:', newsgroups_train.data[1])\n",
    "print('-----------------------------------------------------------')\n",
    "print('Train set label samples:', newsgroups_train.target[1])\n",
    "print('-----------------------------------------------------------')\n",
    "print('Test set text samples:', newsgroups_test.data[1])\n",
    "print('-----------------------------------------------------------')\n",
    "print('Test set label samples:', newsgroups_test.target[1])"
   ]
  },
  {
   "cell_type": "code",
   "execution_count": null,
   "id": "a5fd97ac",
   "metadata": {},
   "outputs": [],
   "source": [
    "- #### .data는 텍스트의 내용을, .target은 숫자로 표시된 라벨(분류)을 의미한다.\n",
    "- #### 라벨은 categories의 순서대로 번호를 붙인다.\n",
    "- #### 예를들어서 categories = ['alt.atheism', 'talk.religion.misc', 'comp.graphics', 'sci.space'] 이거라면 \n",
    "- #### 'alt.atheism' = 라벨 0, 'talk.religion.misc' = 라벨 1, 이런 순서대로 라벨이 정해진다."
   ]
  },
  {
   "cell_type": "code",
   "execution_count": null,
   "id": "9e5ba6a5",
   "metadata": {},
   "outputs": [],
   "source": [
    "# X_train, X_test, y_train, y_test를 추출한 후에 실제로 문서 분류를 수행하기"
   ]
  },
  {
   "cell_type": "code",
   "execution_count": 6,
   "id": "86dd3314",
   "metadata": {},
   "outputs": [
    {
     "name": "stdout",
     "output_type": "stream",
     "text": [
      "Train set dimension: (2034, 2000)\n",
      "Test set dimension: (1353, 2000)\n"
     ]
    }
   ],
   "source": [
    "X_train = newsgroups_train.data\n",
    "y_train = newsgroups_train.target\n",
    "\n",
    "X_test = newsgroups_test.data\n",
    "y_test = newsgroups_test.target\n",
    "\n",
    "from sklearn.feature_extraction.text import CountVectorizer\n",
    "\n",
    "cv = CountVectorizer(max_features=2000, min_df=5, max_df=0.5)\n",
    "\n",
    "X_train_cv = cv.fit_transform(X_train) # Train set을 변환\n",
    "print('Train set dimension:', X_train_cv.shape)\n",
    "X_test_cv = cv.transform(X_test) # test set을 변환\n",
    "print('Test set dimension:', X_test_cv.shape)"
   ]
  },
  {
   "cell_type": "code",
   "execution_count": null,
   "id": "c1a231ff",
   "metadata": {},
   "outputs": [],
   "source": []
  }
 ],
 "metadata": {
  "kernelspec": {
   "display_name": "Python 3 (ipykernel)",
   "language": "python",
   "name": "python3"
  },
  "language_info": {
   "codemirror_mode": {
    "name": "ipython",
    "version": 3
   },
   "file_extension": ".py",
   "mimetype": "text/x-python",
   "name": "python",
   "nbconvert_exporter": "python",
   "pygments_lexer": "ipython3",
   "version": "3.9.12"
  }
 },
 "nbformat": 4,
 "nbformat_minor": 5
}
