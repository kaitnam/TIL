{
 "cells": [
  {
   "cell_type": "code",
   "execution_count": null,
   "id": "3932fca0",
   "metadata": {},
   "outputs": [],
   "source": [
    "from selenium import webdriver\n",
    "from konlpy.tag import Okt\n",
    "from nltk import Text\n",
    "from matplotlib import font_manager, rc\n",
    "from wordcloud import WordCloud\n",
    "from selenium.webdriver.common.by import By\n",
    " \n",
    "import matplotlib.pyplot as plt\n",
    "import time"
   ]
  },
  {
   "cell_type": "code",
   "execution_count": null,
   "id": "abf00748",
   "metadata": {},
   "outputs": [],
   "source": [
    "\n",
    "path = \"C:/Users/katenam/chromedriver.exe\" # 웹드라이버 실행\n",
    " \n",
    "driver = webdriver.Chrome(path) # 드라이버 경로 설정\n",
    "url_list = [] # 블로그 url을 저장하기 위한 변수\n",
    "content_list = \"\" # 블로그 content를 누적하기 위한 변수\n",
    "\n",
    " \n",
    "for i in range(1, 20):  # 1~2페이지까지의 블로그 내용을 읽어옴\n",
    "    url = 'https://section.cafe.naver.com/ca-fe/home/search/articles?q=%EC%8F%98%EC%B9%B4&p='+ str(i) + '&pr=6'\n",
    "    driver.get(url)\n",
    "    time.sleep(0.5) # 오류 방지 sleep\n",
    " \n",
    "    for j in range(1, 3):\n",
    "        article = '.item_subject'\n",
    "        articles = driver.find_elements_by_css_selector(article)\n",
    "        for i in articles:\n",
    "            article_url = i.get_attribute('href')\n",
    "            url_list.append(article_url)\n",
    " \n",
    "print(\"url 수집 끝, 해당 url 데이터 크롤링\")\n"
   ]
  },
  {
   "cell_type": "code",
   "execution_count": null,
   "id": "4244b21c",
   "metadata": {},
   "outputs": [],
   "source": [
    "driver = webdriver.Chrome('C:/Users/katenam/chromedriver.exe')\n",
    "comments = []\n",
    "for i in url_list:\n",
    "    driver.get(i)\n",
    "    driver.switch_to.frame('cafe_main')\n",
    "\n",
    "    overlays = \".comment_text_box\" # 내용 크롤링\n",
    "    contents = driver.find_elements_by_css_selector(overlays)\n",
    "    for i in contents:\n",
    "        contentss = i.text\n",
    "        comments.append(contentss)\n",
    "print(comments)"
   ]
  },
  {
   "cell_type": "code",
   "execution_count": null,
   "id": "c7f24124",
   "metadata": {},
   "outputs": [],
   "source": [
    "df = pd.DataFrame(comments, columns = ['Comments'])\n",
    "df"
   ]
  },
  {
   "cell_type": "code",
   "execution_count": null,
   "id": "e8b39f62",
   "metadata": {},
   "outputs": [],
   "source": [
    "import pandas as pd\n",
    "\n",
    "driver = webdriver.Chrome('C:/Users/katenam/chromedriver.exe')\n",
    "results = []\n",
    "for url in url_list:\n",
    "    \n",
    "    driver.get(url)\n",
    "\n",
    "    driver.switch_to.frame('cafe_main')\n",
    "    \n",
    "    container=dict()\n",
    "\n",
    "    overlays = \".comment_text_box\" # 내용 크롤링\n",
    "    contents = driver.find_elements_by_css_selector(overlays)\n",
    "    for i in contents:\n",
    "        comments = i.text\n",
    "        \n",
    "    container['comments'] = comments\n",
    "    results.append(container)\n",
    "\n",
    "\n",
    "print(results)"
   ]
  },
  {
   "cell_type": "code",
   "execution_count": null,
   "id": "0af9cdb9",
   "metadata": {},
   "outputs": [],
   "source": [
    "import pandas as pd\n",
    "result = pd.DataFrame(result)\n",
    "result\n",
    "\n",
    "result.to_csv(\"C:/Users/katenam/Socar_Review.csv\", index=False)\n",
    "result.head()"
   ]
  }
 ],
 "metadata": {
  "kernelspec": {
   "display_name": "Python 3 (ipykernel)",
   "language": "python",
   "name": "python3"
  },
  "language_info": {
   "codemirror_mode": {
    "name": "ipython",
    "version": 3
   },
   "file_extension": ".py",
   "mimetype": "text/x-python",
   "name": "python",
   "nbconvert_exporter": "python",
   "pygments_lexer": "ipython3",
   "version": "3.9.12"
  }
 },
 "nbformat": 4,
 "nbformat_minor": 5
}
