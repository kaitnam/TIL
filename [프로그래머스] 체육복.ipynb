{
 "cells": [
  {
   "cell_type": "code",
   "execution_count": null,
   "id": "8a8cfd7e",
   "metadata": {},
   "outputs": [],
   "source": [
    "# https://programmers.co.kr/learn/courses/30/lessons/42862"
   ]
  },
  {
   "cell_type": "markdown",
   "id": "d9529a25",
   "metadata": {},
   "source": [
    "## 풀이 1 "
   ]
  },
  {
   "cell_type": "code",
   "execution_count": 1,
   "id": "14a1151d",
   "metadata": {},
   "outputs": [],
   "source": [
    "def solution(n, lost, reserve): \n",
    "    reserve_only = list(set(reserve) - set(lost)) \n",
    "    lost_only = list(set(lost) - set(reserve)) \n",
    "    reserve_only.sort(); \n",
    "    for reserve in reserve_only: \n",
    "        front = reserve - 1 \n",
    "        back = reserve + 1 \n",
    "        if front in lost_only: \n",
    "            lost_only.remove(front) \n",
    "        elif back in lost_only: \n",
    "            lost_only.remove(back)\n",
    "    return n - len(lost_only) "
   ]
  },
  {
   "cell_type": "code",
   "execution_count": 3,
   "id": "30f25ec0",
   "metadata": {},
   "outputs": [
    {
     "data": {
      "text/plain": [
       "5"
      ]
     },
     "execution_count": 3,
     "metadata": {},
     "output_type": "execute_result"
    }
   ],
   "source": [
    "n = 5\n",
    "lost = [2,4]\n",
    "reserve = [1,3,5]\n",
    "\n",
    "solution(n, lost, reserve)"
   ]
  },
  {
   "cell_type": "code",
   "execution_count": 4,
   "id": "f751d8cf",
   "metadata": {},
   "outputs": [
    {
     "data": {
      "text/plain": [
       "4"
      ]
     },
     "execution_count": 4,
     "metadata": {},
     "output_type": "execute_result"
    }
   ],
   "source": [
    "n = 5\n",
    "lost = [2,4]\n",
    "reserve = [3]\n",
    "\n",
    "solution(n, lost, reserve)"
   ]
  },
  {
   "cell_type": "code",
   "execution_count": 5,
   "id": "f1306d9d",
   "metadata": {},
   "outputs": [
    {
     "data": {
      "text/plain": [
       "2"
      ]
     },
     "execution_count": 5,
     "metadata": {},
     "output_type": "execute_result"
    }
   ],
   "source": [
    "n = 3\n",
    "lost = [3]\n",
    "reserve = [1]\n",
    "\n",
    "solution(n, lost, reserve)"
   ]
  },
  {
   "cell_type": "markdown",
   "id": "a5936eae",
   "metadata": {},
   "source": [
    "## 풀이 2"
   ]
  },
  {
   "cell_type": "code",
   "execution_count": 6,
   "id": "f9ac9956",
   "metadata": {},
   "outputs": [],
   "source": [
    "def solution(n, lost, reserve):\n",
    "    student = [0]*(n+2) \n",
    "    for r in reserve: \n",
    "        student[r] += 1 \n",
    "    for l in lost: \n",
    "        student[l] -= 1 \n",
    "    for i in range(1, n+1): \n",
    "        if student[i] > 0: \n",
    "            if student[i-1] < 0: \n",
    "                student[i] -= 1 \n",
    "                student[i-1] += 1 \n",
    "            elif student[i+1] < 0: \n",
    "                student[i] -= 1 \n",
    "                student[i+1] += 1 \n",
    "    answer = 0 \n",
    "    for i in range(1, n+1): \n",
    "        if student[i] > -1: \n",
    "            answer += 1 \n",
    "    return answer "
   ]
  },
  {
   "cell_type": "code",
   "execution_count": 7,
   "id": "54025be6",
   "metadata": {},
   "outputs": [
    {
     "data": {
      "text/plain": [
       "5"
      ]
     },
     "execution_count": 7,
     "metadata": {},
     "output_type": "execute_result"
    }
   ],
   "source": [
    "n = 5\n",
    "lost = [2,4]\n",
    "reserve = [1,3,5]\n",
    "\n",
    "solution(n, lost, reserve)"
   ]
  },
  {
   "cell_type": "code",
   "execution_count": 8,
   "id": "ba68fe98",
   "metadata": {},
   "outputs": [
    {
     "data": {
      "text/plain": [
       "4"
      ]
     },
     "execution_count": 8,
     "metadata": {},
     "output_type": "execute_result"
    }
   ],
   "source": [
    "n = 5\n",
    "lost = [2,4]\n",
    "reserve = [3]\n",
    "\n",
    "solution(n, lost, reserve)"
   ]
  },
  {
   "cell_type": "code",
   "execution_count": 9,
   "id": "a41514f1",
   "metadata": {},
   "outputs": [
    {
     "data": {
      "text/plain": [
       "2"
      ]
     },
     "execution_count": 9,
     "metadata": {},
     "output_type": "execute_result"
    }
   ],
   "source": [
    "n = 3\n",
    "lost = [3]\n",
    "reserve = [1]\n",
    "\n",
    "solution(n, lost, reserve)"
   ]
  },
  {
   "cell_type": "code",
   "execution_count": null,
   "id": "e0264fa0",
   "metadata": {},
   "outputs": [],
   "source": []
  }
 ],
 "metadata": {
  "kernelspec": {
   "display_name": "Python 3 (ipykernel)",
   "language": "python",
   "name": "python3"
  },
  "language_info": {
   "codemirror_mode": {
    "name": "ipython",
    "version": 3
   },
   "file_extension": ".py",
   "mimetype": "text/x-python",
   "name": "python",
   "nbconvert_exporter": "python",
   "pygments_lexer": "ipython3",
   "version": "3.8.9"
  }
 },
 "nbformat": 4,
 "nbformat_minor": 5
}
