{
  "nbformat": 4,
  "nbformat_minor": 0,
  "metadata": {
    "colab": {
      "name": "CreditCard_Fraud_Detection(Tensorflow).ipynb",
      "provenance": [],
      "authorship_tag": "ABX9TyPd9hXmWenbCcAqvkH4YnX7",
      "include_colab_link": true
    },
    "kernelspec": {
      "name": "python3",
      "display_name": "Python 3"
    },
    "language_info": {
      "name": "python"
    }
  },
  "cells": [
    {
      "cell_type": "markdown",
      "metadata": {
        "id": "view-in-github",
        "colab_type": "text"
      },
      "source": [
        "<a href=\"https://colab.research.google.com/github/kaitnam/TIL/blob/master/CreditCard_Fraud_Detection(Tensorflow).ipynb\" target=\"_parent\"><img src=\"https://colab.research.google.com/assets/colab-badge.svg\" alt=\"Open In Colab\"/></a>"
      ]
    },
    {
      "cell_type": "markdown",
      "metadata": {
        "id": "TdFT8XVC7Pci"
      },
      "source": [
        "**Kaggle 신용카드 사기 검출 (Google Drive Mount)**\n",
        "Credit Card Fraud Detection\n",
        "- creditcard.csv\n",
        "- Class : 0(정상), 1(사기)\n",
        "- 사기 검출 (Fraud Detection), 이상 탐지 (Anomaly Detection)"
      ]
    },
    {
      "cell_type": "code",
      "metadata": {
        "id": "1qWOvbw37utH"
      },
      "source": [
        "import warnings\n",
        "warnings.filterwarnings('ignore')"
      ],
      "execution_count": 2,
      "outputs": []
    },
    {
      "cell_type": "markdown",
      "metadata": {
        "id": "52AmnhHG8WzI"
      },
      "source": [
        "**l.Google Drive Mount**\n",
        "- creditcardFraud.zip 파일을 구글드라이브에 업로드 후 진행"
      ]
    },
    {
      "cell_type": "code",
      "metadata": {
        "colab": {
          "base_uri": "https://localhost:8080/"
        },
        "id": "fNhEN-Qo8SvO",
        "outputId": "653a4bc6-ab59-415d-9659-ea65de504d1b"
      },
      "source": [
        "from google.colab import drive\n",
        "drive.mount('/content/drive')"
      ],
      "execution_count": 3,
      "outputs": [
        {
          "output_type": "stream",
          "text": [
            "Mounted at /content/drive\n"
          ],
          "name": "stdout"
        }
      ]
    },
    {
      "cell_type": "code",
      "metadata": {
        "colab": {
          "base_uri": "https://localhost:8080/"
        },
        "id": "qXETxhNv88qn",
        "outputId": "787ff219-eaea-4c10-af7d-4ff41668d133"
      },
      "source": [
        "!ls -l '/content/drive/My Drive/Colab Notebooks/datasets/creditCardFraud.zip'"
      ],
      "execution_count": 4,
      "outputs": [
        {
          "output_type": "stream",
          "text": [
            "-rw------- 1 root root 69155672 Aug  4 07:28 '/content/drive/My Drive/Colab Notebooks/datasets/creditCardFraud.zip'\n"
          ],
          "name": "stdout"
        }
      ]
    },
    {
      "cell_type": "markdown",
      "metadata": {
        "id": "svN0WtIj9Qb0"
      },
      "source": [
        "**ll. Data Preprocessing**"
      ]
    },
    {
      "cell_type": "code",
      "metadata": {
        "colab": {
          "base_uri": "https://localhost:8080/"
        },
        "id": "7FCqcOLU9P6E",
        "outputId": "db440bfd-3e0f-4257-dcf6-b73705ca72bb"
      },
      "source": [
        "# Unzip 'creditCardFraud.zip'\n",
        "# Colab 파일시스템에 'creditcard.csv' 파일 생성\n",
        "\n",
        "!unzip /content/drive/My\\ Drive/Colab\\ Notebooks/datasets/creditCardFraud.zip"
      ],
      "execution_count": 5,
      "outputs": [
        {
          "output_type": "stream",
          "text": [
            "Archive:  /content/drive/My Drive/Colab Notebooks/datasets/creditCardFraud.zip\n",
            "  inflating: creditcard.csv          \n"
          ],
          "name": "stdout"
        }
      ]
    },
    {
      "cell_type": "code",
      "metadata": {
        "colab": {
          "base_uri": "https://localhost:8080/"
        },
        "id": "dRp6vyaP9Iy5",
        "outputId": "8db803bd-5886-4f03-e762-3e2bc87d2a88"
      },
      "source": [
        "# creditcard.csv 파일 확인\n",
        "\n",
        "!ls -l"
      ],
      "execution_count": 6,
      "outputs": [
        {
          "output_type": "stream",
          "text": [
            "total 147304\n",
            "-rw-r--r-- 1 root root 150828752 Sep 20  2019 creditcard.csv\n",
            "drwx------ 5 root root      4096 Aug  5 03:56 drive\n",
            "drwxr-xr-x 1 root root      4096 Jul 16 13:20 sample_data\n"
          ],
          "name": "stdout"
        }
      ]
    },
    {
      "cell_type": "code",
      "metadata": {
        "colab": {
          "base_uri": "https://localhost:8080/"
        },
        "id": "D3byhkUC95hW",
        "outputId": "9ee310a7-51ab-4ac3-a92c-34eacab903a8"
      },
      "source": [
        "# 데이터 읽어오기\n",
        "\n",
        "import pandas as pd\n",
        "\n",
        "DF = pd.read_csv('creditcard.csv')\n",
        "DF.info()"
      ],
      "execution_count": 7,
      "outputs": [
        {
          "output_type": "stream",
          "text": [
            "<class 'pandas.core.frame.DataFrame'>\n",
            "RangeIndex: 284807 entries, 0 to 284806\n",
            "Data columns (total 31 columns):\n",
            " #   Column  Non-Null Count   Dtype  \n",
            "---  ------  --------------   -----  \n",
            " 0   Time    284807 non-null  float64\n",
            " 1   V1      284807 non-null  float64\n",
            " 2   V2      284807 non-null  float64\n",
            " 3   V3      284807 non-null  float64\n",
            " 4   V4      284807 non-null  float64\n",
            " 5   V5      284807 non-null  float64\n",
            " 6   V6      284807 non-null  float64\n",
            " 7   V7      284807 non-null  float64\n",
            " 8   V8      284807 non-null  float64\n",
            " 9   V9      284807 non-null  float64\n",
            " 10  V10     284807 non-null  float64\n",
            " 11  V11     284807 non-null  float64\n",
            " 12  V12     284807 non-null  float64\n",
            " 13  V13     284807 non-null  float64\n",
            " 14  V14     284807 non-null  float64\n",
            " 15  V15     284807 non-null  float64\n",
            " 16  V16     284807 non-null  float64\n",
            " 17  V17     284807 non-null  float64\n",
            " 18  V18     284807 non-null  float64\n",
            " 19  V19     284807 non-null  float64\n",
            " 20  V20     284807 non-null  float64\n",
            " 21  V21     284807 non-null  float64\n",
            " 22  V22     284807 non-null  float64\n",
            " 23  V23     284807 non-null  float64\n",
            " 24  V24     284807 non-null  float64\n",
            " 25  V25     284807 non-null  float64\n",
            " 26  V26     284807 non-null  float64\n",
            " 27  V27     284807 non-null  float64\n",
            " 28  V28     284807 non-null  float64\n",
            " 29  Amount  284807 non-null  float64\n",
            " 30  Class   284807 non-null  int64  \n",
            "dtypes: float64(30), int64(1)\n",
            "memory usage: 67.4 MB\n"
          ],
          "name": "stdout"
        }
      ]
    },
    {
      "cell_type": "code",
      "metadata": {
        "colab": {
          "base_uri": "https://localhost:8080/",
          "height": 223
        },
        "id": "TLFA4_mY-Gry",
        "outputId": "11a60589-1856-471c-d144-aa321235b08b"
      },
      "source": [
        "DF.head()"
      ],
      "execution_count": 8,
      "outputs": [
        {
          "output_type": "execute_result",
          "data": {
            "text/html": [
              "<div>\n",
              "<style scoped>\n",
              "    .dataframe tbody tr th:only-of-type {\n",
              "        vertical-align: middle;\n",
              "    }\n",
              "\n",
              "    .dataframe tbody tr th {\n",
              "        vertical-align: top;\n",
              "    }\n",
              "\n",
              "    .dataframe thead th {\n",
              "        text-align: right;\n",
              "    }\n",
              "</style>\n",
              "<table border=\"1\" class=\"dataframe\">\n",
              "  <thead>\n",
              "    <tr style=\"text-align: right;\">\n",
              "      <th></th>\n",
              "      <th>Time</th>\n",
              "      <th>V1</th>\n",
              "      <th>V2</th>\n",
              "      <th>V3</th>\n",
              "      <th>V4</th>\n",
              "      <th>V5</th>\n",
              "      <th>V6</th>\n",
              "      <th>V7</th>\n",
              "      <th>V8</th>\n",
              "      <th>V9</th>\n",
              "      <th>V10</th>\n",
              "      <th>V11</th>\n",
              "      <th>V12</th>\n",
              "      <th>V13</th>\n",
              "      <th>V14</th>\n",
              "      <th>V15</th>\n",
              "      <th>V16</th>\n",
              "      <th>V17</th>\n",
              "      <th>V18</th>\n",
              "      <th>V19</th>\n",
              "      <th>V20</th>\n",
              "      <th>V21</th>\n",
              "      <th>V22</th>\n",
              "      <th>V23</th>\n",
              "      <th>V24</th>\n",
              "      <th>V25</th>\n",
              "      <th>V26</th>\n",
              "      <th>V27</th>\n",
              "      <th>V28</th>\n",
              "      <th>Amount</th>\n",
              "      <th>Class</th>\n",
              "    </tr>\n",
              "  </thead>\n",
              "  <tbody>\n",
              "    <tr>\n",
              "      <th>0</th>\n",
              "      <td>0.0</td>\n",
              "      <td>-1.359807</td>\n",
              "      <td>-0.072781</td>\n",
              "      <td>2.536347</td>\n",
              "      <td>1.378155</td>\n",
              "      <td>-0.338321</td>\n",
              "      <td>0.462388</td>\n",
              "      <td>0.239599</td>\n",
              "      <td>0.098698</td>\n",
              "      <td>0.363787</td>\n",
              "      <td>0.090794</td>\n",
              "      <td>-0.551600</td>\n",
              "      <td>-0.617801</td>\n",
              "      <td>-0.991390</td>\n",
              "      <td>-0.311169</td>\n",
              "      <td>1.468177</td>\n",
              "      <td>-0.470401</td>\n",
              "      <td>0.207971</td>\n",
              "      <td>0.025791</td>\n",
              "      <td>0.403993</td>\n",
              "      <td>0.251412</td>\n",
              "      <td>-0.018307</td>\n",
              "      <td>0.277838</td>\n",
              "      <td>-0.110474</td>\n",
              "      <td>0.066928</td>\n",
              "      <td>0.128539</td>\n",
              "      <td>-0.189115</td>\n",
              "      <td>0.133558</td>\n",
              "      <td>-0.021053</td>\n",
              "      <td>149.62</td>\n",
              "      <td>0</td>\n",
              "    </tr>\n",
              "    <tr>\n",
              "      <th>1</th>\n",
              "      <td>0.0</td>\n",
              "      <td>1.191857</td>\n",
              "      <td>0.266151</td>\n",
              "      <td>0.166480</td>\n",
              "      <td>0.448154</td>\n",
              "      <td>0.060018</td>\n",
              "      <td>-0.082361</td>\n",
              "      <td>-0.078803</td>\n",
              "      <td>0.085102</td>\n",
              "      <td>-0.255425</td>\n",
              "      <td>-0.166974</td>\n",
              "      <td>1.612727</td>\n",
              "      <td>1.065235</td>\n",
              "      <td>0.489095</td>\n",
              "      <td>-0.143772</td>\n",
              "      <td>0.635558</td>\n",
              "      <td>0.463917</td>\n",
              "      <td>-0.114805</td>\n",
              "      <td>-0.183361</td>\n",
              "      <td>-0.145783</td>\n",
              "      <td>-0.069083</td>\n",
              "      <td>-0.225775</td>\n",
              "      <td>-0.638672</td>\n",
              "      <td>0.101288</td>\n",
              "      <td>-0.339846</td>\n",
              "      <td>0.167170</td>\n",
              "      <td>0.125895</td>\n",
              "      <td>-0.008983</td>\n",
              "      <td>0.014724</td>\n",
              "      <td>2.69</td>\n",
              "      <td>0</td>\n",
              "    </tr>\n",
              "    <tr>\n",
              "      <th>2</th>\n",
              "      <td>1.0</td>\n",
              "      <td>-1.358354</td>\n",
              "      <td>-1.340163</td>\n",
              "      <td>1.773209</td>\n",
              "      <td>0.379780</td>\n",
              "      <td>-0.503198</td>\n",
              "      <td>1.800499</td>\n",
              "      <td>0.791461</td>\n",
              "      <td>0.247676</td>\n",
              "      <td>-1.514654</td>\n",
              "      <td>0.207643</td>\n",
              "      <td>0.624501</td>\n",
              "      <td>0.066084</td>\n",
              "      <td>0.717293</td>\n",
              "      <td>-0.165946</td>\n",
              "      <td>2.345865</td>\n",
              "      <td>-2.890083</td>\n",
              "      <td>1.109969</td>\n",
              "      <td>-0.121359</td>\n",
              "      <td>-2.261857</td>\n",
              "      <td>0.524980</td>\n",
              "      <td>0.247998</td>\n",
              "      <td>0.771679</td>\n",
              "      <td>0.909412</td>\n",
              "      <td>-0.689281</td>\n",
              "      <td>-0.327642</td>\n",
              "      <td>-0.139097</td>\n",
              "      <td>-0.055353</td>\n",
              "      <td>-0.059752</td>\n",
              "      <td>378.66</td>\n",
              "      <td>0</td>\n",
              "    </tr>\n",
              "    <tr>\n",
              "      <th>3</th>\n",
              "      <td>1.0</td>\n",
              "      <td>-0.966272</td>\n",
              "      <td>-0.185226</td>\n",
              "      <td>1.792993</td>\n",
              "      <td>-0.863291</td>\n",
              "      <td>-0.010309</td>\n",
              "      <td>1.247203</td>\n",
              "      <td>0.237609</td>\n",
              "      <td>0.377436</td>\n",
              "      <td>-1.387024</td>\n",
              "      <td>-0.054952</td>\n",
              "      <td>-0.226487</td>\n",
              "      <td>0.178228</td>\n",
              "      <td>0.507757</td>\n",
              "      <td>-0.287924</td>\n",
              "      <td>-0.631418</td>\n",
              "      <td>-1.059647</td>\n",
              "      <td>-0.684093</td>\n",
              "      <td>1.965775</td>\n",
              "      <td>-1.232622</td>\n",
              "      <td>-0.208038</td>\n",
              "      <td>-0.108300</td>\n",
              "      <td>0.005274</td>\n",
              "      <td>-0.190321</td>\n",
              "      <td>-1.175575</td>\n",
              "      <td>0.647376</td>\n",
              "      <td>-0.221929</td>\n",
              "      <td>0.062723</td>\n",
              "      <td>0.061458</td>\n",
              "      <td>123.50</td>\n",
              "      <td>0</td>\n",
              "    </tr>\n",
              "    <tr>\n",
              "      <th>4</th>\n",
              "      <td>2.0</td>\n",
              "      <td>-1.158233</td>\n",
              "      <td>0.877737</td>\n",
              "      <td>1.548718</td>\n",
              "      <td>0.403034</td>\n",
              "      <td>-0.407193</td>\n",
              "      <td>0.095921</td>\n",
              "      <td>0.592941</td>\n",
              "      <td>-0.270533</td>\n",
              "      <td>0.817739</td>\n",
              "      <td>0.753074</td>\n",
              "      <td>-0.822843</td>\n",
              "      <td>0.538196</td>\n",
              "      <td>1.345852</td>\n",
              "      <td>-1.119670</td>\n",
              "      <td>0.175121</td>\n",
              "      <td>-0.451449</td>\n",
              "      <td>-0.237033</td>\n",
              "      <td>-0.038195</td>\n",
              "      <td>0.803487</td>\n",
              "      <td>0.408542</td>\n",
              "      <td>-0.009431</td>\n",
              "      <td>0.798278</td>\n",
              "      <td>-0.137458</td>\n",
              "      <td>0.141267</td>\n",
              "      <td>-0.206010</td>\n",
              "      <td>0.502292</td>\n",
              "      <td>0.219422</td>\n",
              "      <td>0.215153</td>\n",
              "      <td>69.99</td>\n",
              "      <td>0</td>\n",
              "    </tr>\n",
              "  </tbody>\n",
              "</table>\n",
              "</div>"
            ],
            "text/plain": [
              "   Time        V1        V2        V3  ...       V27       V28  Amount  Class\n",
              "0   0.0 -1.359807 -0.072781  2.536347  ...  0.133558 -0.021053  149.62      0\n",
              "1   0.0  1.191857  0.266151  0.166480  ... -0.008983  0.014724    2.69      0\n",
              "2   1.0 -1.358354 -1.340163  1.773209  ... -0.055353 -0.059752  378.66      0\n",
              "3   1.0 -0.966272 -0.185226  1.792993  ...  0.062723  0.061458  123.50      0\n",
              "4   2.0 -1.158233  0.877737  1.548718  ...  0.219422  0.215153   69.99      0\n",
              "\n",
              "[5 rows x 31 columns]"
            ]
          },
          "metadata": {
            "tags": []
          },
          "execution_count": 8
        }
      ]
    },
    {
      "cell_type": "code",
      "metadata": {
        "colab": {
          "base_uri": "https://localhost:8080/"
        },
        "id": "mgkavOFc-JxP",
        "outputId": "bbc2e4c4-49ab-4af0-a735-486add2c1be5"
      },
      "source": [
        "# 0(정상) Class와 1(사기) Class 개수 확인\n",
        "\n",
        "DF.Class.value_counts()"
      ],
      "execution_count": 9,
      "outputs": [
        {
          "output_type": "execute_result",
          "data": {
            "text/plain": [
              "0    284315\n",
              "1       492\n",
              "Name: Class, dtype: int64"
            ]
          },
          "metadata": {
            "tags": []
          },
          "execution_count": 9
        }
      ]
    },
    {
      "cell_type": "code",
      "metadata": {
        "colab": {
          "base_uri": "https://localhost:8080/"
        },
        "id": "sRF7Z4bH-m0P",
        "outputId": "3e25396b-babb-4df5-ecb1-8c8f510dd278"
      },
      "source": [
        "DF.shape"
      ],
      "execution_count": 10,
      "outputs": [
        {
          "output_type": "execute_result",
          "data": {
            "text/plain": [
              "(284807, 31)"
            ]
          },
          "metadata": {
            "tags": []
          },
          "execution_count": 10
        }
      ]
    },
    {
      "cell_type": "code",
      "metadata": {
        "colab": {
          "base_uri": "https://localhost:8080/"
        },
        "id": "vOY5pNI6-W0H",
        "outputId": "8f8560fd-b035-47ac-d77b-3890022ccc4a"
      },
      "source": [
        "# 0(정상) Class와 1(사기) Class 비율\n",
        "\n",
        "(DF.Class.value_counts() / DF.shape[0]) * 100"
      ],
      "execution_count": 11,
      "outputs": [
        {
          "output_type": "execute_result",
          "data": {
            "text/plain": [
              "0    99.827251\n",
              "1     0.172749\n",
              "Name: Class, dtype: float64"
            ]
          },
          "metadata": {
            "tags": []
          },
          "execution_count": 11
        }
      ]
    },
    {
      "cell_type": "code",
      "metadata": {
        "colab": {
          "base_uri": "https://localhost:8080/",
          "height": 100
        },
        "id": "oi-V17Ng-wbk",
        "outputId": "0daef031-e2d4-4b40-cebc-ab76d2bc5392"
      },
      "source": [
        "# Time 열(Column) 삭제\n",
        "\n",
        "DF.drop('Time', axis=1, inplace=True)\n",
        "DF.head(1)"
      ],
      "execution_count": 12,
      "outputs": [
        {
          "output_type": "execute_result",
          "data": {
            "text/html": [
              "<div>\n",
              "<style scoped>\n",
              "    .dataframe tbody tr th:only-of-type {\n",
              "        vertical-align: middle;\n",
              "    }\n",
              "\n",
              "    .dataframe tbody tr th {\n",
              "        vertical-align: top;\n",
              "    }\n",
              "\n",
              "    .dataframe thead th {\n",
              "        text-align: right;\n",
              "    }\n",
              "</style>\n",
              "<table border=\"1\" class=\"dataframe\">\n",
              "  <thead>\n",
              "    <tr style=\"text-align: right;\">\n",
              "      <th></th>\n",
              "      <th>V1</th>\n",
              "      <th>V2</th>\n",
              "      <th>V3</th>\n",
              "      <th>V4</th>\n",
              "      <th>V5</th>\n",
              "      <th>V6</th>\n",
              "      <th>V7</th>\n",
              "      <th>V8</th>\n",
              "      <th>V9</th>\n",
              "      <th>V10</th>\n",
              "      <th>V11</th>\n",
              "      <th>V12</th>\n",
              "      <th>V13</th>\n",
              "      <th>V14</th>\n",
              "      <th>V15</th>\n",
              "      <th>V16</th>\n",
              "      <th>V17</th>\n",
              "      <th>V18</th>\n",
              "      <th>V19</th>\n",
              "      <th>V20</th>\n",
              "      <th>V21</th>\n",
              "      <th>V22</th>\n",
              "      <th>V23</th>\n",
              "      <th>V24</th>\n",
              "      <th>V25</th>\n",
              "      <th>V26</th>\n",
              "      <th>V27</th>\n",
              "      <th>V28</th>\n",
              "      <th>Amount</th>\n",
              "      <th>Class</th>\n",
              "    </tr>\n",
              "  </thead>\n",
              "  <tbody>\n",
              "    <tr>\n",
              "      <th>0</th>\n",
              "      <td>-1.359807</td>\n",
              "      <td>-0.072781</td>\n",
              "      <td>2.536347</td>\n",
              "      <td>1.378155</td>\n",
              "      <td>-0.338321</td>\n",
              "      <td>0.462388</td>\n",
              "      <td>0.239599</td>\n",
              "      <td>0.098698</td>\n",
              "      <td>0.363787</td>\n",
              "      <td>0.090794</td>\n",
              "      <td>-0.5516</td>\n",
              "      <td>-0.617801</td>\n",
              "      <td>-0.99139</td>\n",
              "      <td>-0.311169</td>\n",
              "      <td>1.468177</td>\n",
              "      <td>-0.470401</td>\n",
              "      <td>0.207971</td>\n",
              "      <td>0.025791</td>\n",
              "      <td>0.403993</td>\n",
              "      <td>0.251412</td>\n",
              "      <td>-0.018307</td>\n",
              "      <td>0.277838</td>\n",
              "      <td>-0.110474</td>\n",
              "      <td>0.066928</td>\n",
              "      <td>0.128539</td>\n",
              "      <td>-0.189115</td>\n",
              "      <td>0.133558</td>\n",
              "      <td>-0.021053</td>\n",
              "      <td>149.62</td>\n",
              "      <td>0</td>\n",
              "    </tr>\n",
              "  </tbody>\n",
              "</table>\n",
              "</div>"
            ],
            "text/plain": [
              "         V1        V2        V3        V4  ...       V27       V28  Amount  Class\n",
              "0 -1.359807 -0.072781  2.536347  1.378155  ...  0.133558 -0.021053  149.62      0\n",
              "\n",
              "[1 rows x 30 columns]"
            ]
          },
          "metadata": {
            "tags": []
          },
          "execution_count": 12
        }
      ]
    },
    {
      "cell_type": "code",
      "metadata": {
        "colab": {
          "base_uri": "https://localhost:8080/"
        },
        "id": "MqS0XJVL-97x",
        "outputId": "1f3a3267-2ec0-4902-e32f-00a7d5394a3c"
      },
      "source": [
        "DF.shape\n",
        "\n",
        "# 결과\n",
        "# 원래 31열이었지만 'Time' 열이 삭제되면서 30으로 바뀜"
      ],
      "execution_count": 13,
      "outputs": [
        {
          "output_type": "execute_result",
          "data": {
            "text/plain": [
              "(284807, 30)"
            ]
          },
          "metadata": {
            "tags": []
          },
          "execution_count": 13
        }
      ]
    },
    {
      "cell_type": "code",
      "metadata": {
        "colab": {
          "base_uri": "https://localhost:8080/"
        },
        "id": "ENWiiZQS_FMW",
        "outputId": "d57e0391-0558-4454-fee9-2a1dda958e58"
      },
      "source": [
        "# train_test_split()\n",
        "# X(Input), y(output) 지정\n",
        "\n",
        "X = DF.iloc[:,:-1]\n",
        "y = DF.iloc[:,-1]\n",
        "\n",
        "X.shape, y.shape"
      ],
      "execution_count": 14,
      "outputs": [
        {
          "output_type": "execute_result",
          "data": {
            "text/plain": [
              "((284807, 29), (284807,))"
            ]
          },
          "metadata": {
            "tags": []
          },
          "execution_count": 14
        }
      ]
    },
    {
      "cell_type": "code",
      "metadata": {
        "colab": {
          "base_uri": "https://localhost:8080/"
        },
        "id": "yVo3G4EJ_lAW",
        "outputId": "74cb4bb6-37d2-481b-a486-0663f08e1d53"
      },
      "source": [
        "# with 'Stratify'\n",
        "\n",
        "from sklearn.model_selection import train_test_split\n",
        "\n",
        "X_train, X_test, y_train, y_test = train_test_split(X, y, test_size = 0.3,\n",
        "                                                    random_state = 2045,\n",
        "                                                    stratify = y)\n",
        "X_train.shape, y_train.shape, X_test.shape, y_test.shape"
      ],
      "execution_count": 15,
      "outputs": [
        {
          "output_type": "execute_result",
          "data": {
            "text/plain": [
              "((199364, 29), (199364,), (85443, 29), (85443,))"
            ]
          },
          "metadata": {
            "tags": []
          },
          "execution_count": 15
        }
      ]
    },
    {
      "cell_type": "code",
      "metadata": {
        "id": "TJlqDfeiEQby"
      },
      "source": [
        "# Train_Data와 Test_Data의 1(부정) 비율이 균형"
      ],
      "execution_count": null,
      "outputs": []
    },
    {
      "cell_type": "code",
      "metadata": {
        "colab": {
          "base_uri": "https://localhost:8080/"
        },
        "id": "pLHHeDkGcuqi",
        "outputId": "37c7d957-fde6-4d95-8a87-34c7015f6a63"
      },
      "source": [
        "print('Train_Data :','\\n',(y_train.value_counts() / y_train.shape[0]) * 100)\n",
        "print('Test_Data :','\\n',(y_test.value_counts() / y_test.shape[0]) * 100)"
      ],
      "execution_count": 16,
      "outputs": [
        {
          "output_type": "stream",
          "text": [
            "Train_Data : \n",
            " 0    99.827451\n",
            "1     0.172549\n",
            "Name: Class, dtype: float64\n",
            "Test_Data : \n",
            " 0    99.826785\n",
            "1     0.173215\n",
            "Name: Class, dtype: float64\n"
          ],
          "name": "stdout"
        }
      ]
    },
    {
      "cell_type": "markdown",
      "metadata": {
        "id": "odYFSkOUda86"
      },
      "source": [
        "**l.Keras Modeling**"
      ]
    },
    {
      "cell_type": "code",
      "metadata": {
        "colab": {
          "base_uri": "https://localhost:8080/",
          "height": 35
        },
        "id": "DJgddYBnde50",
        "outputId": "3e555a5e-9a37-41fe-95ee-1dbefe6f5212"
      },
      "source": [
        "# Import Tensorflow\n",
        "\n",
        "import tensorflow\n",
        "tensorflow.__version__"
      ],
      "execution_count": 17,
      "outputs": [
        {
          "output_type": "execute_result",
          "data": {
            "application/vnd.google.colaboratory.intrinsic+json": {
              "type": "string"
            },
            "text/plain": [
              "'2.5.0'"
            ]
          },
          "metadata": {
            "tags": []
          },
          "execution_count": 17
        }
      ]
    },
    {
      "cell_type": "code",
      "metadata": {
        "id": "R3WtU0y6dnq7"
      },
      "source": [
        "# Model Define\n",
        "# 모델 신경망 구조 정의\n",
        "\n",
        "from tensorflow.keras import models\n",
        "from tensorflow.keras import layers\n",
        "\n",
        "ccfd = models.Sequential()\n",
        "ccfd.add(layers.Dense(128, activation = 'relu', input_shape = (29,)))\n",
        "ccfd.add(layers.Dense(64, activation = 'relu'))\n",
        "ccfd.add(layers.Dense(32, activation = 'relu'))\n",
        "ccfd.add(layers.Dense(1, activation = 'sigmoid'))\n"
      ],
      "execution_count": 18,
      "outputs": []
    },
    {
      "cell_type": "code",
      "metadata": {
        "colab": {
          "base_uri": "https://localhost:8080/"
        },
        "id": "_-KT0XmueXPt",
        "outputId": "b072e42d-c467-4696-d26d-08761e495436"
      },
      "source": [
        "# 모델 구조 확인\n",
        "\n",
        "ccfd.summary()"
      ],
      "execution_count": 19,
      "outputs": [
        {
          "output_type": "stream",
          "text": [
            "Model: \"sequential\"\n",
            "_________________________________________________________________\n",
            "Layer (type)                 Output Shape              Param #   \n",
            "=================================================================\n",
            "dense (Dense)                (None, 128)               3840      \n",
            "_________________________________________________________________\n",
            "dense_1 (Dense)              (None, 64)                8256      \n",
            "_________________________________________________________________\n",
            "dense_2 (Dense)              (None, 32)                2080      \n",
            "_________________________________________________________________\n",
            "dense_3 (Dense)              (None, 1)                 33        \n",
            "=================================================================\n",
            "Total params: 14,209\n",
            "Trainable params: 14,209\n",
            "Non-trainable params: 0\n",
            "_________________________________________________________________\n"
          ],
          "name": "stdout"
        }
      ]
    },
    {
      "cell_type": "code",
      "metadata": {
        "id": "DptQluRhebTf"
      },
      "source": [
        "# Model Complie\n",
        "# 모델 학습방법 설정\n",
        "\n",
        "ccfd.compile(loss = 'binary_crossentropy',optimizer = 'adam', metrics = ['Recall'])"
      ],
      "execution_count": 22,
      "outputs": []
    },
    {
      "cell_type": "code",
      "metadata": {
        "colab": {
          "base_uri": "https://localhost:8080/"
        },
        "id": "rk25oM0je-4Q",
        "outputId": "6b6e9378-a03b-4aa0-fc13-31c9f5d52092"
      },
      "source": [
        "# Model Fit\n",
        "# 모델 학습 수행\n",
        "\n",
        "Hist_ccfd = ccfd.fit(X_train, y_train, epochs = 50, \n",
        "                     batch_size = 1024, validation_data = (X_test, y_test))"
      ],
      "execution_count": 23,
      "outputs": [
        {
          "output_type": "stream",
          "text": [
            "Epoch 1/50\n",
            "195/195 [==============================] - 2s 6ms/step - loss: 0.0417 - recall: 0.3547 - val_loss: 0.0051 - val_recall: 0.8243\n",
            "Epoch 2/50\n",
            "195/195 [==============================] - 1s 5ms/step - loss: 0.0131 - recall: 0.6744 - val_loss: 0.0083 - val_recall: 0.7838\n",
            "Epoch 3/50\n",
            "195/195 [==============================] - 1s 6ms/step - loss: 0.0166 - recall: 0.7064 - val_loss: 0.0068 - val_recall: 0.7365\n",
            "Epoch 4/50\n",
            "195/195 [==============================] - 1s 5ms/step - loss: 0.0121 - recall: 0.7180 - val_loss: 0.0058 - val_recall: 0.7432\n",
            "Epoch 5/50\n",
            "195/195 [==============================] - 1s 5ms/step - loss: 0.0148 - recall: 0.7151 - val_loss: 0.0041 - val_recall: 0.8378\n",
            "Epoch 6/50\n",
            "195/195 [==============================] - 1s 4ms/step - loss: 0.0037 - recall: 0.7907 - val_loss: 0.0034 - val_recall: 0.8446\n",
            "Epoch 7/50\n",
            "195/195 [==============================] - 1s 5ms/step - loss: 0.0056 - recall: 0.7878 - val_loss: 0.0239 - val_recall: 0.6486\n",
            "Epoch 8/50\n",
            "195/195 [==============================] - 1s 5ms/step - loss: 0.0160 - recall: 0.7326 - val_loss: 0.0206 - val_recall: 0.5811\n",
            "Epoch 9/50\n",
            "195/195 [==============================] - 1s 5ms/step - loss: 0.0086 - recall: 0.7529 - val_loss: 0.0035 - val_recall: 0.8581\n",
            "Epoch 10/50\n",
            "195/195 [==============================] - 1s 5ms/step - loss: 0.0034 - recall: 0.8023 - val_loss: 0.0030 - val_recall: 0.8649\n",
            "Epoch 11/50\n",
            "195/195 [==============================] - 1s 5ms/step - loss: 0.0039 - recall: 0.8023 - val_loss: 0.0031 - val_recall: 0.8649\n",
            "Epoch 12/50\n",
            "195/195 [==============================] - 1s 5ms/step - loss: 0.0030 - recall: 0.7994 - val_loss: 0.0028 - val_recall: 0.8649\n",
            "Epoch 13/50\n",
            "195/195 [==============================] - 1s 5ms/step - loss: 0.0029 - recall: 0.8081 - val_loss: 0.0025 - val_recall: 0.8311\n",
            "Epoch 14/50\n",
            "195/195 [==============================] - 1s 5ms/step - loss: 0.0028 - recall: 0.8140 - val_loss: 0.0034 - val_recall: 0.8378\n",
            "Epoch 15/50\n",
            "195/195 [==============================] - 1s 5ms/step - loss: 0.0028 - recall: 0.8140 - val_loss: 0.0036 - val_recall: 0.8649\n",
            "Epoch 16/50\n",
            "195/195 [==============================] - 1s 5ms/step - loss: 0.0028 - recall: 0.8140 - val_loss: 0.0030 - val_recall: 0.7500\n",
            "Epoch 17/50\n",
            "195/195 [==============================] - 1s 4ms/step - loss: 0.0031 - recall: 0.8169 - val_loss: 0.0030 - val_recall: 0.8378\n",
            "Epoch 18/50\n",
            "195/195 [==============================] - 1s 5ms/step - loss: 0.0028 - recall: 0.8110 - val_loss: 0.0041 - val_recall: 0.8514\n",
            "Epoch 19/50\n",
            "195/195 [==============================] - 1s 5ms/step - loss: 0.0025 - recall: 0.8169 - val_loss: 0.0028 - val_recall: 0.8378\n",
            "Epoch 20/50\n",
            "195/195 [==============================] - 1s 5ms/step - loss: 0.0026 - recall: 0.8198 - val_loss: 0.0027 - val_recall: 0.8784\n",
            "Epoch 21/50\n",
            "195/195 [==============================] - 1s 5ms/step - loss: 0.0022 - recall: 0.8372 - val_loss: 0.0026 - val_recall: 0.8243\n",
            "Epoch 22/50\n",
            "195/195 [==============================] - 1s 4ms/step - loss: 0.0023 - recall: 0.8169 - val_loss: 0.0029 - val_recall: 0.8514\n",
            "Epoch 23/50\n",
            "195/195 [==============================] - 1s 4ms/step - loss: 0.0049 - recall: 0.7849 - val_loss: 0.0031 - val_recall: 0.8581\n",
            "Epoch 24/50\n",
            "195/195 [==============================] - 1s 4ms/step - loss: 0.0031 - recall: 0.7994 - val_loss: 0.0032 - val_recall: 0.8514\n",
            "Epoch 25/50\n",
            "195/195 [==============================] - 1s 5ms/step - loss: 0.0055 - recall: 0.7965 - val_loss: 0.0038 - val_recall: 0.8108\n",
            "Epoch 26/50\n",
            "195/195 [==============================] - 1s 5ms/step - loss: 0.0023 - recall: 0.8401 - val_loss: 0.0030 - val_recall: 0.8514\n",
            "Epoch 27/50\n",
            "195/195 [==============================] - 1s 5ms/step - loss: 0.0024 - recall: 0.8343 - val_loss: 0.0028 - val_recall: 0.8446\n",
            "Epoch 28/50\n",
            "195/195 [==============================] - 1s 5ms/step - loss: 0.0094 - recall: 0.7849 - val_loss: 0.0077 - val_recall: 0.8176\n",
            "Epoch 29/50\n",
            "195/195 [==============================] - 1s 5ms/step - loss: 0.0092 - recall: 0.7791 - val_loss: 0.0102 - val_recall: 0.7297\n",
            "Epoch 30/50\n",
            "195/195 [==============================] - 1s 5ms/step - loss: 0.0043 - recall: 0.8140 - val_loss: 0.0043 - val_recall: 0.7905\n",
            "Epoch 31/50\n",
            "195/195 [==============================] - 1s 5ms/step - loss: 0.0071 - recall: 0.8110 - val_loss: 0.0053 - val_recall: 0.8378\n",
            "Epoch 32/50\n",
            "195/195 [==============================] - 1s 5ms/step - loss: 0.0085 - recall: 0.7994 - val_loss: 0.0073 - val_recall: 0.7635\n",
            "Epoch 33/50\n",
            "195/195 [==============================] - 1s 5ms/step - loss: 0.0042 - recall: 0.8314 - val_loss: 0.0035 - val_recall: 0.8108\n",
            "Epoch 34/50\n",
            "195/195 [==============================] - 1s 5ms/step - loss: 0.0024 - recall: 0.8459 - val_loss: 0.0032 - val_recall: 0.8311\n",
            "Epoch 35/50\n",
            "195/195 [==============================] - 1s 5ms/step - loss: 0.0028 - recall: 0.8547 - val_loss: 0.0033 - val_recall: 0.8446\n",
            "Epoch 36/50\n",
            "195/195 [==============================] - 1s 5ms/step - loss: 0.0019 - recall: 0.8663 - val_loss: 0.0059 - val_recall: 0.8649\n",
            "Epoch 37/50\n",
            "195/195 [==============================] - 1s 5ms/step - loss: 0.0019 - recall: 0.8634 - val_loss: 0.0031 - val_recall: 0.8378\n",
            "Epoch 38/50\n",
            "195/195 [==============================] - 1s 5ms/step - loss: 0.0018 - recall: 0.8634 - val_loss: 0.0031 - val_recall: 0.8311\n",
            "Epoch 39/50\n",
            "195/195 [==============================] - 1s 5ms/step - loss: 0.0018 - recall: 0.8576 - val_loss: 0.0037 - val_recall: 0.8716\n",
            "Epoch 40/50\n",
            "195/195 [==============================] - 1s 5ms/step - loss: 0.0018 - recall: 0.8576 - val_loss: 0.0030 - val_recall: 0.8649\n",
            "Epoch 41/50\n",
            "195/195 [==============================] - 1s 5ms/step - loss: 0.0019 - recall: 0.8605 - val_loss: 0.0032 - val_recall: 0.8649\n",
            "Epoch 42/50\n",
            "195/195 [==============================] - 1s 5ms/step - loss: 0.0017 - recall: 0.8750 - val_loss: 0.0031 - val_recall: 0.8446\n",
            "Epoch 43/50\n",
            "195/195 [==============================] - 1s 5ms/step - loss: 0.0017 - recall: 0.8547 - val_loss: 0.0037 - val_recall: 0.8716\n",
            "Epoch 44/50\n",
            "195/195 [==============================] - 1s 5ms/step - loss: 0.0015 - recall: 0.8634 - val_loss: 0.0031 - val_recall: 0.8446\n",
            "Epoch 45/50\n",
            "195/195 [==============================] - 1s 5ms/step - loss: 0.0016 - recall: 0.8779 - val_loss: 0.0033 - val_recall: 0.8311\n",
            "Epoch 46/50\n",
            "195/195 [==============================] - 1s 5ms/step - loss: 0.0015 - recall: 0.8459 - val_loss: 0.0036 - val_recall: 0.8446\n",
            "Epoch 47/50\n",
            "195/195 [==============================] - 1s 5ms/step - loss: 0.0014 - recall: 0.8634 - val_loss: 0.0036 - val_recall: 0.8716\n",
            "Epoch 48/50\n",
            "195/195 [==============================] - 1s 5ms/step - loss: 0.0019 - recall: 0.8517 - val_loss: 0.0036 - val_recall: 0.8041\n",
            "Epoch 49/50\n",
            "195/195 [==============================] - 1s 5ms/step - loss: 0.0024 - recall: 0.8488 - val_loss: 0.0046 - val_recall: 0.8649\n",
            "Epoch 50/50\n",
            "195/195 [==============================] - 1s 5ms/step - loss: 0.0026 - recall: 0.8721 - val_loss: 0.0038 - val_recall: 0.7838\n"
          ],
          "name": "stdout"
        }
      ]
    },
    {
      "cell_type": "code",
      "metadata": {
        "colab": {
          "base_uri": "https://localhost:8080/",
          "height": 404
        },
        "id": "w8-_WWGffnAd",
        "outputId": "273d9dab-10c9-4713-9459-d5258e7fd9b3"
      },
      "source": [
        "# 학습 결과 시각화\n",
        "# Loss visualization\n",
        "\n",
        "import matplotlib.pyplot as plt\n",
        "\n",
        "epochs = range(1, len(Hist_ccfd.history['loss']) + 1)\n",
        "\n",
        "plt.figure(figsize = (9, 6))\n",
        "plt.plot(epochs, Hist_ccfd.history['loss'])\n",
        "plt.plot(epochs, Hist_ccfd.history['val_loss'])\n",
        "plt.title('Training & Validation Loss')\n",
        "plt.xlabel('Epochs')\n",
        "plt.ylabel('Loss')\n",
        "plt.legend(['Training Loss', 'Validation Loss'])\n",
        "plt.grid()\n",
        "plt.show()"
      ],
      "execution_count": 26,
      "outputs": [
        {
          "output_type": "display_data",
          "data": {
            "image/png": "[encoded data removed]",
            "text/plain": [
              "<Figure size 648x432 with 1 Axes>"
            ]
          },
          "metadata": {
            "tags": [],
            "needs_background": "light"
          }
        }
      ]
    },
    {
      "cell_type": "code",
      "metadata": {
        "colab": {
          "base_uri": "https://localhost:8080/",
          "height": 404
        },
        "id": "dDbHNvlTgZi-",
        "outputId": "18fbca63-43ee-432e-f07c-096b21d8b229"
      },
      "source": [
        "# Recall Visualization\n",
        "\n",
        "import matplotlib.pyplot as plt\n",
        "\n",
        "epochs = range(1, len(Hist_ccfd.history['loss']) + 1)\n",
        "\n",
        "plt.figure(figsize = (9, 6))\n",
        "plt.plot(epochs, Hist_ccfd.history['recall'])\n",
        "plt.plot(epochs, Hist_ccfd.history['val_recall'])\n",
        "plt.title('Training & Validation Recall')\n",
        "plt.xlabel('Epochs')\n",
        "plt.ylabel('Recall')\n",
        "plt.legend(['Training Recall', 'Validation Recall'])\n",
        "plt.grid()\n",
        "plt.show()"
      ],
      "execution_count": 28,
      "outputs": [
        {
          "output_type": "display_data",
          "data": {
            "image/png": "[encoded data removed]",
            "text/plain": [
              "<Figure size 648x432 with 1 Axes>"
            ]
          },
          "metadata": {
            "tags": [],
            "needs_background": "light"
          }
        }
      ]
    },
    {
      "cell_type": "code",
      "metadata": {
        "colab": {
          "base_uri": "https://localhost:8080/"
        },
        "id": "RvssGOc9gtV5",
        "outputId": "f91c06f9-313b-4975-b4ca-6a788f4165a4"
      },
      "source": [
        "# Model Evaluate\n",
        "# Loss & Accuracy\n",
        "\n",
        "loss, recall = ccfd.evaluate(X_test, y_test)\n",
        "\n",
        "print('Loss = {:.5f}'.format(loss))\n",
        "print('Recall = {:.5f}'.format(recall))"
      ],
      "execution_count": 29,
      "outputs": [
        {
          "output_type": "stream",
          "text": [
            "2671/2671 [==============================] - 2s 817us/step - loss: 0.0038 - recall: 0.7838\n",
            "Loss = 0.00378\n",
            "Recall = 0.78378\n"
          ],
          "name": "stdout"
        }
      ]
    },
    {
      "cell_type": "code",
      "metadata": {
        "colab": {
          "base_uri": "https://localhost:8080/"
        },
        "id": "IvDIkUsshJMp",
        "outputId": "52145db3-9b56-4bcf-9933-604d5f85c441"
      },
      "source": [
        "# Model Predict\n",
        "\n",
        "y_hat = ccfd.predict_classes(X_test)\n",
        "\n",
        "from sklearn.metrics import confusion_matrix\n",
        "\n",
        "confusion_matrix(y_test, y_hat)"
      ],
      "execution_count": 30,
      "outputs": [
        {
          "output_type": "execute_result",
          "data": {
            "text/plain": [
              "array([[85284,    11],\n",
              "       [   32,   116]])"
            ]
          },
          "metadata": {
            "tags": []
          },
          "execution_count": 30
        }
      ]
    },
    {
      "cell_type": "code",
      "metadata": {
        "colab": {
          "base_uri": "https://localhost:8080/"
        },
        "id": "gGnl4ekDhW7y",
        "outputId": "d0aaa87e-2995-4b00-b39b-5428636d4733"
      },
      "source": [
        "from sklearn.metrics import accuracy_score, precision_score, recall_score\n",
        "\n",
        "print(accuracy_score(y_test, y_hat))\n",
        "print(precision_score(y_test, y_hat, pos_label = 1))\n",
        "print(recall_score(y_test, y_hat, pos_label = 1))"
      ],
      "execution_count": 33,
      "outputs": [
        {
          "output_type": "stream",
          "text": [
            "0.9994967405170698\n",
            "0.9133858267716536\n",
            "0.7837837837837838\n"
          ],
          "name": "stdout"
        }
      ]
    }
  ]
}