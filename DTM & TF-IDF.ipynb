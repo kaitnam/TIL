{
 "cells": [
  {
   "cell_type": "code",
   "execution_count": 2,
   "id": "70ab4475",
   "metadata": {},
   "outputs": [
    {
     "name": "stderr",
     "output_type": "stream",
     "text": [
      "[nltk_data] Downloading package movie_reviews to\n",
      "[nltk_data]     C:\\Users\\katenam\\AppData\\Roaming\\nltk_data...\n",
      "[nltk_data]   Package movie_reviews is already up-to-date!\n"
     ]
    }
   ],
   "source": [
    "import nltk\n",
    "nltk.download('movie_reviews')\n",
    "\n",
    "from nltk.corpus import movie_reviews"
   ]
  },
  {
   "cell_type": "code",
   "execution_count": 5,
   "id": "600f7940",
   "metadata": {},
   "outputs": [],
   "source": [
    "from sklearn.feature_extraction.text import CountVectorizer\n",
    "from sklearn.feature_extraction.text import TfidfTransformer"
   ]
  },
  {
   "cell_type": "code",
   "execution_count": 12,
   "id": "1cc5b5c8",
   "metadata": {},
   "outputs": [],
   "source": [
    "reviews = ['The terms, text mining and text analytics, are largely synonymous in meaning in conversation, but they can have a more nuanced meaning.',\n",
    "         'Text mining and text analysis identifies textual patterns and trends within unstructured data through the use of machine learning, statistics, and linguistics.',\n",
    "         'By transforming the data into a more structured format through text mining and text analysis, more quantitative insights can be found through text analytics.',\n",
    "         'Data visualization techniques can then be harnessed to communicate findings to wider audiences.']"
   ]
  },
  {
   "cell_type": "code",
   "execution_count": 17,
   "id": "be0092cd",
   "metadata": {},
   "outputs": [
    {
     "name": "stdout",
     "output_type": "stream",
     "text": [
      "#20 count score of the first review (DTM):\n",
      "[0 1 1 1 0 0 1 0 1 0 1 0 0 0 0 0 1 0 2 0]\n",
      "\n",
      "#20 tfidf score of the first review (TF-IDF):\n",
      "[0.         0.17002343 0.13764862 0.21565317 0.         0.\n",
      " 0.21565317 0.         0.13764862 0.         0.21565317 0.\n",
      " 0.         0.         0.         0.         0.21565317 0.\n",
      " 0.43130634 0.        ]\n"
     ]
    }
   ],
   "source": [
    "cv = CountVectorizer()\n",
    "transformer = TfidfTransformer()\n",
    "reviews_cv = cv.fit_transform(reviews)\n",
    "reviews_tfidf = transformer.fit_transform(reviews_cv)\n",
    "\n",
    "\n",
    "print('#20 count score of the first review (DTM):')\n",
    "print(reviews_cv[0].toarray()[0][:20])\n",
    "print('')\n",
    "print('#20 tfidf score of the first review (TF-IDF):')\n",
    "print(reviews_tfidf[0].toarray()[0][:20])"
   ]
  },
  {
   "cell_type": "code",
   "execution_count": null,
   "id": "fb703530",
   "metadata": {},
   "outputs": [],
   "source": []
  },
  {
   "cell_type": "code",
   "execution_count": null,
   "id": "9ac2feac",
   "metadata": {},
   "outputs": [],
   "source": []
  }
 ],
 "metadata": {
  "kernelspec": {
   "display_name": "Python 3 (ipykernel)",
   "language": "python",
   "name": "python3"
  },
  "language_info": {
   "codemirror_mode": {
    "name": "ipython",
    "version": 3
   },
   "file_extension": ".py",
   "mimetype": "text/x-python",
   "name": "python",
   "nbconvert_exporter": "python",
   "pygments_lexer": "ipython3",
   "version": "3.9.12"
  }
 },
 "nbformat": 4,
 "nbformat_minor": 5
}
