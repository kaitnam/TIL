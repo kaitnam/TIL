{
  "nbformat": 4,
  "nbformat_minor": 0,
  "metadata": {
    "colab": {
      "name": "없는 숫자 더하기.ipynb",
      "provenance": [],
      "collapsed_sections": [],
      "authorship_tag": "ABX9TyOug3KdivzIaM8cYxpVkpKE",
      "include_colab_link": true
    },
    "kernelspec": {
      "name": "python3",
      "display_name": "Python 3"
    },
    "language_info": {
      "name": "python"
    }
  },
  "cells": [
    {
      "cell_type": "markdown",
      "metadata": {
        "id": "view-in-github",
        "colab_type": "text"
      },
      "source": [
        "<a href=\"https://colab.research.google.com/github/kaitnam/TIL/blob/master/%EC%97%86%EB%8A%94_%EC%88%AB%EC%9E%90_%EB%8D%94%ED%95%98%EA%B8%B0.ipynb\" target=\"_parent\"><img src=\"https://colab.research.google.com/assets/colab-badge.svg\" alt=\"Open In Colab\"/></a>"
      ]
    },
    {
      "cell_type": "code",
      "metadata": {
        "id": "udt1GepxgQzP"
      },
      "source": [
        "# https://programmers.co.kr/learn/courses/30/lessons/86051\n",
        "\n",
        "# 0부터 9까지의 숫자 중 일부가 들어있는 배열 numbers가 매개변수로 주어집니다. \n",
        "# numbers에서 찾을 수 없는 0부터 9까지의 숫자를 모두 찾아 더한 수를 return 하도록 \n",
        "# solution 함수를 완성해주세요.\n",
        "\n",
        "# 제한사항\n",
        "# 1 ≤ numbers의 길이 ≤ 9\n",
        "# 0 ≤ numbers의 모든 수 ≤ 9\n",
        "# numbers의 모든 수는 서로 다릅니다.\n",
        "\n",
        "# 입출력 예\n",
        "# numbers\tresult\n",
        "# [1,2,3,4,6,7,8,0] \t14\n",
        "# [5,8,4,0,6,7,9]\t6"
      ],
      "execution_count": null,
      "outputs": []
    },
    {
      "cell_type": "code",
      "metadata": {
        "id": "H1UaFEDRgUyv"
      },
      "source": [
        "# numbers 안에 있는 숫자 더하기\n",
        "\n",
        "def solution(numbers):\n",
        "    answer = 0\n",
        "    for i in numbers:\n",
        "        answer += i\n",
        "    return answer"
      ],
      "execution_count": 1,
      "outputs": []
    },
    {
      "cell_type": "code",
      "metadata": {
        "colab": {
          "base_uri": "https://localhost:8080/"
        },
        "id": "Ktkkyh_vgZbC",
        "outputId": "45c2aa0e-5486-4818-b5a3-e57a8cdd78b1"
      },
      "source": [
        "solution([1,3,5,7,9])"
      ],
      "execution_count": 2,
      "outputs": [
        {
          "output_type": "execute_result",
          "data": {
            "text/plain": [
              "25"
            ]
          },
          "metadata": {},
          "execution_count": 2
        }
      ]
    },
    {
      "cell_type": "code",
      "metadata": {
        "id": "MTUJttQ5gd2C"
      },
      "source": [
        "# numbers 안에 없는 숫자 더하기\n",
        "\n",
        "def solution(numbers):\n",
        "    answer = 0\n",
        "    for i in range(0,10):\n",
        "        if i not in numbers:\n",
        "            answer += i\n",
        "        else:\n",
        "            pass\n",
        "    return answer"
      ],
      "execution_count": 3,
      "outputs": []
    },
    {
      "cell_type": "code",
      "metadata": {
        "colab": {
          "base_uri": "https://localhost:8080/"
        },
        "id": "o3v4fL4ageyJ",
        "outputId": "8759ebb7-7e0c-497b-9af5-50b1983da07e"
      },
      "source": [
        "\n",
        "solution([1,3,5,7,9])"
      ],
      "execution_count": 4,
      "outputs": [
        {
          "output_type": "execute_result",
          "data": {
            "text/plain": [
              "20"
            ]
          },
          "metadata": {},
          "execution_count": 4
        }
      ]
    },
    {
      "cell_type": "markdown",
      "metadata": {
        "id": "Rexfkax1gh9H"
      },
      "source": [
        "## **<정리>**\n",
        "- #### '숫자가 리스트에 없으면~' 이라고 하려면 \"not in\" 사용\n",
        "- #### range를 쓸때 range(start, stop) 인데 stop값이 stop-1 이므로 0부터 9까지이면 range(0, 10) 이렇게 써야한다.\n",
        "\n"
      ]
    }
  ]
}