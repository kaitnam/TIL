{
 "cells": [
  {
   "cell_type": "code",
   "execution_count": null,
   "id": "2519de08",
   "metadata": {},
   "outputs": [],
   "source": [
    "# https://programmers.co.kr/learn/courses/30/lessons/81302"
   ]
  },
  {
   "cell_type": "code",
   "execution_count": 1,
   "id": "365e77af",
   "metadata": {},
   "outputs": [],
   "source": [
    "def solution(places):\n",
    "    answer = []\n",
    "    for p in places:\n",
    "        key = False\n",
    "        nowArr = []\n",
    "        for n in p:\n",
    "            nowArr.append(list(n))\n",
    "        for i in range(5):\n",
    "            if key:\n",
    "                break;\n",
    "            for j in range(5):\n",
    "                if key:\n",
    "                    break;\n",
    "                if nowArr[i][j] == \"P\":\n",
    "                    if i+1<5:\n",
    "                        if nowArr[i+1][j] == \"P\":\n",
    "                            key = True;\n",
    "                            break;\n",
    "                        elif nowArr[i+1][j] == \"O\":\n",
    "                            if i+2<5:\n",
    "                                if nowArr[i+2][j] == \"P\":\n",
    "                                    key = True;\n",
    "                                    break;\n",
    "                    if j+1<5:\n",
    "                        if nowArr[i][j+1] == \"P\":\n",
    "                            key = True;\n",
    "                            break;\n",
    "                        if nowArr[i][j+1] == \"O\":\n",
    "                            if j+2<5:\n",
    "                                if nowArr[i][j+2] == \"P\":\n",
    "                                    key = True;\n",
    "                                    break;\n",
    "                    if i+1<5 and j+1<5:\n",
    "                            if nowArr[i+1][j+1] == \"P\" and (nowArr[i+1][j] == \"O\" or nowArr[i][j+1] == \"O\"):\n",
    "                                key = True;\n",
    "                                break;\n",
    "                    if i+1<5 and j-1>=0:\n",
    "                            if nowArr[i+1][j-1] == \"P\" and (nowArr[i+1][j] == \"O\" or nowArr[i][j-1] == \"O\"):\n",
    "                                key = True;\n",
    "                                break;\n",
    "        if key:\n",
    "            answer.append(0);\n",
    "        else:\n",
    "            answer.append(1);\n",
    "                                             \n",
    "    return answer"
   ]
  },
  {
   "cell_type": "code",
   "execution_count": 2,
   "id": "85bb0bf4",
   "metadata": {},
   "outputs": [
    {
     "data": {
      "text/plain": [
       "[1, 0, 1, 1, 1]"
      ]
     },
     "execution_count": 2,
     "metadata": {},
     "output_type": "execute_result"
    }
   ],
   "source": [
    "places = [[\"POOOP\", \"OXXOX\", \"OPXPX\", \"OOXOX\", \"POXXP\"], \n",
    "          [\"POOPX\", \"OXPXP\", \"PXXXO\", \"OXXXO\", \"OOOPP\"], \n",
    "          [\"PXOPX\", \"OXOXP\", \"OXPOX\", \"OXXOP\", \"PXPOX\"], \n",
    "          [\"OOOXX\", \"XOOOX\", \"OOOXX\", \"OXOOX\", \"OOOOO\"], \n",
    "          [\"PXPXP\", \"XPXPX\", \"PXPXP\", \"XPXPX\", \"PXPXP\"]]\n",
    "\n",
    "solution(places)"
   ]
  },
  {
   "cell_type": "code",
   "execution_count": null,
   "id": "bfa53bcc",
   "metadata": {},
   "outputs": [],
   "source": []
  }
 ],
 "metadata": {
  "kernelspec": {
   "display_name": "Python 3 (ipykernel)",
   "language": "python",
   "name": "python3"
  },
  "language_info": {
   "codemirror_mode": {
    "name": "ipython",
    "version": 3
   },
   "file_extension": ".py",
   "mimetype": "text/x-python",
   "name": "python",
   "nbconvert_exporter": "python",
   "pygments_lexer": "ipython3",
   "version": "3.8.9"
  }
 },
 "nbformat": 4,
 "nbformat_minor": 5
}
