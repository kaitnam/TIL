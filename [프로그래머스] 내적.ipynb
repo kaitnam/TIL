{
 "cells": [
  {
   "cell_type": "code",
   "execution_count": null,
   "id": "e6426ed6",
   "metadata": {},
   "outputs": [],
   "source": [
    "# https://programmers.co.kr/learn/courses/30/lessons/70128"
   ]
  },
  {
   "cell_type": "markdown",
   "id": "c9056a08",
   "metadata": {},
   "source": [
    "## 내 풀이"
   ]
  },
  {
   "cell_type": "code",
   "execution_count": 9,
   "id": "6682e70b",
   "metadata": {},
   "outputs": [],
   "source": [
    "def solution(a, b):\n",
    "    answer = 0\n",
    "    for i in range(len(a)):\n",
    "        #a[i] * b[i] \n",
    "        answer += a[i] * b[i]\n",
    "    return answer"
   ]
  },
  {
   "cell_type": "code",
   "execution_count": 10,
   "id": "be741f5d",
   "metadata": {},
   "outputs": [
    {
     "data": {
      "text/plain": [
       "3"
      ]
     },
     "execution_count": 10,
     "metadata": {},
     "output_type": "execute_result"
    }
   ],
   "source": [
    "a = [1,2,3,4]\n",
    "b = [-3,-1,0,2]\n",
    "\n",
    "solution(a,b)"
   ]
  },
  {
   "cell_type": "code",
   "execution_count": 11,
   "id": "58a8058b",
   "metadata": {},
   "outputs": [
    {
     "data": {
      "text/plain": [
       "-2"
      ]
     },
     "execution_count": 11,
     "metadata": {},
     "output_type": "execute_result"
    }
   ],
   "source": [
    "a = [-1,0,1]\n",
    "b = [1,0,-1]\n",
    "\n",
    "solution(a,b)"
   ]
  },
  {
   "cell_type": "markdown",
   "id": "ff6f26d0",
   "metadata": {},
   "source": [
    "## '좋아요' 많은 풀이"
   ]
  },
  {
   "cell_type": "code",
   "execution_count": 12,
   "id": "97811b00",
   "metadata": {},
   "outputs": [],
   "source": [
    "def solution(a, b):\n",
    "\n",
    "    return sum([x*y for x, y in zip(a,b)])"
   ]
  },
  {
   "cell_type": "code",
   "execution_count": 13,
   "id": "34eb2cf0",
   "metadata": {},
   "outputs": [
    {
     "data": {
      "text/plain": [
       "3"
      ]
     },
     "execution_count": 13,
     "metadata": {},
     "output_type": "execute_result"
    }
   ],
   "source": [
    "a = [1,2,3,4]\n",
    "b = [-3,-1,0,2]\n",
    "\n",
    "solution(a,b)"
   ]
  },
  {
   "cell_type": "code",
   "execution_count": 14,
   "id": "d76d909e",
   "metadata": {},
   "outputs": [
    {
     "data": {
      "text/plain": [
       "-2"
      ]
     },
     "execution_count": 14,
     "metadata": {},
     "output_type": "execute_result"
    }
   ],
   "source": [
    "a = [-1,0,1]\n",
    "b = [1,0,-1]\n",
    "\n",
    "solution(a,b)"
   ]
  },
  {
   "cell_type": "code",
   "execution_count": null,
   "id": "4865b19e",
   "metadata": {},
   "outputs": [],
   "source": []
  }
 ],
 "metadata": {
  "kernelspec": {
   "display_name": "Python 3 (ipykernel)",
   "language": "python",
   "name": "python3"
  },
  "language_info": {
   "codemirror_mode": {
    "name": "ipython",
    "version": 3
   },
   "file_extension": ".py",
   "mimetype": "text/x-python",
   "name": "python",
   "nbconvert_exporter": "python",
   "pygments_lexer": "ipython3",
   "version": "3.8.9"
  }
 },
 "nbformat": 4,
 "nbformat_minor": 5
}
