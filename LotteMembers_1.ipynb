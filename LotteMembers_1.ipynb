{
 "cells": [
  {
   "cell_type": "code",
   "execution_count": 1,
   "id": "60b0b1f8",
   "metadata": {},
   "outputs": [
    {
     "name": "stderr",
     "output_type": "stream",
     "text": [
      "C:\\Users\\katenam\\AppData\\Local\\Temp\\ipykernel_8652\\3081077247.py:4: DtypeWarning: Columns (4) have mixed types. Specify dtype option on import or set low_memory=False.\n",
      "  pdde = pd.read_csv(\"E:/Kaggle_Practice/LotteMembers/LPOINT_BIG_COMP_02_PDDE.csv\")\n"
     ]
    }
   ],
   "source": [
    "import pandas as pd\n",
    "\n",
    "demo = pd.read_csv(\"E:/Kaggle_Practice/LotteMembers/LPOINT_BIG_COMP_01_DEMO.csv\")\n",
    "pdde = pd.read_csv(\"E:/Kaggle_Practice/LotteMembers/LPOINT_BIG_COMP_02_PDDE.csv\")\n",
    "copu = pd.read_csv(\"E:/Kaggle_Practice/LotteMembers/LPOINT_BIG_COMP_03_COP_U.csv\")\n",
    "pdclac = pd.read_csv(\"E:/Kaggle_Practice/LotteMembers/LPOINT_BIG_COMP_04_PD_CLAC.csv\")\n",
    "br = pd.read_csv(\"E:/Kaggle_Practice/LotteMembers/LPOINT_BIG_COMP_05_BR.csv\")\n",
    "lpay = pd.read_csv(\"E:/Kaggle_Practice/LotteMembers/LPOINT_BIG_COMP_06_LPAY.csv\")"
   ]
  },
  {
   "cell_type": "code",
   "execution_count": 2,
   "id": "c111d8a7",
   "metadata": {},
   "outputs": [
    {
     "data": {
      "text/html": [
       "<div>\n",
       "<style scoped>\n",
       "    .dataframe tbody tr th:only-of-type {\n",
       "        vertical-align: middle;\n",
       "    }\n",
       "\n",
       "    .dataframe tbody tr th {\n",
       "        vertical-align: top;\n",
       "    }\n",
       "\n",
       "    .dataframe thead th {\n",
       "        text-align: right;\n",
       "    }\n",
       "</style>\n",
       "<table border=\"1\" class=\"dataframe\">\n",
       "  <thead>\n",
       "    <tr style=\"text-align: right;\">\n",
       "      <th></th>\n",
       "      <th>cust</th>\n",
       "      <th>ma_fem_dv</th>\n",
       "      <th>ages</th>\n",
       "      <th>zon_hlv</th>\n",
       "    </tr>\n",
       "  </thead>\n",
       "  <tbody>\n",
       "    <tr>\n",
       "      <th>0</th>\n",
       "      <td>M000034966</td>\n",
       "      <td>여성</td>\n",
       "      <td>40대</td>\n",
       "      <td>Z07</td>\n",
       "    </tr>\n",
       "    <tr>\n",
       "      <th>1</th>\n",
       "      <td>M000059535</td>\n",
       "      <td>여성</td>\n",
       "      <td>30대</td>\n",
       "      <td>Z12</td>\n",
       "    </tr>\n",
       "    <tr>\n",
       "      <th>2</th>\n",
       "      <td>M000136117</td>\n",
       "      <td>여성</td>\n",
       "      <td>30대</td>\n",
       "      <td>Z11</td>\n",
       "    </tr>\n",
       "    <tr>\n",
       "      <th>3</th>\n",
       "      <td>M000201112</td>\n",
       "      <td>여성</td>\n",
       "      <td>50대</td>\n",
       "      <td>Z17</td>\n",
       "    </tr>\n",
       "    <tr>\n",
       "      <th>4</th>\n",
       "      <td>M000225114</td>\n",
       "      <td>여성</td>\n",
       "      <td>40대</td>\n",
       "      <td>Z17</td>\n",
       "    </tr>\n",
       "    <tr>\n",
       "      <th>...</th>\n",
       "      <td>...</td>\n",
       "      <td>...</td>\n",
       "      <td>...</td>\n",
       "      <td>...</td>\n",
       "    </tr>\n",
       "    <tr>\n",
       "      <th>29908</th>\n",
       "      <td>M999708287</td>\n",
       "      <td>여성</td>\n",
       "      <td>40대</td>\n",
       "      <td>Z10</td>\n",
       "    </tr>\n",
       "    <tr>\n",
       "      <th>29909</th>\n",
       "      <td>M999770689</td>\n",
       "      <td>여성</td>\n",
       "      <td>30대</td>\n",
       "      <td>Z16</td>\n",
       "    </tr>\n",
       "    <tr>\n",
       "      <th>29910</th>\n",
       "      <td>M999849895</td>\n",
       "      <td>여성</td>\n",
       "      <td>20대</td>\n",
       "      <td>Z04</td>\n",
       "    </tr>\n",
       "    <tr>\n",
       "      <th>29911</th>\n",
       "      <td>M999926092</td>\n",
       "      <td>남성</td>\n",
       "      <td>30대</td>\n",
       "      <td>Z08</td>\n",
       "    </tr>\n",
       "    <tr>\n",
       "      <th>29912</th>\n",
       "      <td>M999962961</td>\n",
       "      <td>여성</td>\n",
       "      <td>50대</td>\n",
       "      <td>Z17</td>\n",
       "    </tr>\n",
       "  </tbody>\n",
       "</table>\n",
       "<p>29913 rows × 4 columns</p>\n",
       "</div>"
      ],
      "text/plain": [
       "             cust ma_fem_dv ages zon_hlv\n",
       "0      M000034966        여성  40대     Z07\n",
       "1      M000059535        여성  30대     Z12\n",
       "2      M000136117        여성  30대     Z11\n",
       "3      M000201112        여성  50대     Z17\n",
       "4      M000225114        여성  40대     Z17\n",
       "...           ...       ...  ...     ...\n",
       "29908  M999708287        여성  40대     Z10\n",
       "29909  M999770689        여성  30대     Z16\n",
       "29910  M999849895        여성  20대     Z04\n",
       "29911  M999926092        남성  30대     Z08\n",
       "29912  M999962961        여성  50대     Z17\n",
       "\n",
       "[29913 rows x 4 columns]"
      ]
     },
     "execution_count": 2,
     "metadata": {},
     "output_type": "execute_result"
    }
   ],
   "source": [
    "demo"
   ]
  },
  {
   "cell_type": "code",
   "execution_count": 3,
   "id": "64678e38",
   "metadata": {},
   "outputs": [
    {
     "data": {
      "text/html": [
       "<div>\n",
       "<style scoped>\n",
       "    .dataframe tbody tr th:only-of-type {\n",
       "        vertical-align: middle;\n",
       "    }\n",
       "\n",
       "    .dataframe tbody tr th {\n",
       "        vertical-align: top;\n",
       "    }\n",
       "\n",
       "    .dataframe thead th {\n",
       "        text-align: right;\n",
       "    }\n",
       "</style>\n",
       "<table border=\"1\" class=\"dataframe\">\n",
       "  <thead>\n",
       "    <tr style=\"text-align: right;\">\n",
       "      <th></th>\n",
       "      <th>cust</th>\n",
       "      <th>rct_no</th>\n",
       "      <th>chnl_dv</th>\n",
       "      <th>cop_c</th>\n",
       "      <th>br_c</th>\n",
       "      <th>pd_c</th>\n",
       "      <th>de_dt</th>\n",
       "      <th>de_hr</th>\n",
       "      <th>buy_am</th>\n",
       "      <th>buy_ct</th>\n",
       "    </tr>\n",
       "  </thead>\n",
       "  <tbody>\n",
       "    <tr>\n",
       "      <th>0</th>\n",
       "      <td>M430112881</td>\n",
       "      <td>A01000001113</td>\n",
       "      <td>1</td>\n",
       "      <td>A01</td>\n",
       "      <td>A010039</td>\n",
       "      <td>PD0290</td>\n",
       "      <td>20210101</td>\n",
       "      <td>10</td>\n",
       "      <td>15000.0</td>\n",
       "      <td>1</td>\n",
       "    </tr>\n",
       "    <tr>\n",
       "      <th>1</th>\n",
       "      <td>M646853852</td>\n",
       "      <td>A01000002265</td>\n",
       "      <td>1</td>\n",
       "      <td>A01</td>\n",
       "      <td>A010025</td>\n",
       "      <td>PD1369</td>\n",
       "      <td>20210101</td>\n",
       "      <td>10</td>\n",
       "      <td>79700.0</td>\n",
       "      <td>1</td>\n",
       "    </tr>\n",
       "    <tr>\n",
       "      <th>2</th>\n",
       "      <td>M430112881</td>\n",
       "      <td>A01000003148</td>\n",
       "      <td>1</td>\n",
       "      <td>A01</td>\n",
       "      <td>A010039</td>\n",
       "      <td>PD0290</td>\n",
       "      <td>20210101</td>\n",
       "      <td>10</td>\n",
       "      <td>19000.0</td>\n",
       "      <td>1</td>\n",
       "    </tr>\n",
       "    <tr>\n",
       "      <th>3</th>\n",
       "      <td>M430112881</td>\n",
       "      <td>A01000003148</td>\n",
       "      <td>1</td>\n",
       "      <td>A01</td>\n",
       "      <td>A010039</td>\n",
       "      <td>PD0290</td>\n",
       "      <td>20210101</td>\n",
       "      <td>10</td>\n",
       "      <td>19000.0</td>\n",
       "      <td>1</td>\n",
       "    </tr>\n",
       "    <tr>\n",
       "      <th>4</th>\n",
       "      <td>M430112881</td>\n",
       "      <td>A01000004946</td>\n",
       "      <td>1</td>\n",
       "      <td>A01</td>\n",
       "      <td>A010039</td>\n",
       "      <td>PD0290</td>\n",
       "      <td>20210101</td>\n",
       "      <td>10</td>\n",
       "      <td>19000.0</td>\n",
       "      <td>1</td>\n",
       "    </tr>\n",
       "    <tr>\n",
       "      <th>...</th>\n",
       "      <td>...</td>\n",
       "      <td>...</td>\n",
       "      <td>...</td>\n",
       "      <td>...</td>\n",
       "      <td>...</td>\n",
       "      <td>...</td>\n",
       "      <td>...</td>\n",
       "      <td>...</td>\n",
       "      <td>...</td>\n",
       "      <td>...</td>\n",
       "    </tr>\n",
       "    <tr>\n",
       "      <th>4381738</th>\n",
       "      <td>M533286446</td>\n",
       "      <td>E06052119978</td>\n",
       "      <td>2</td>\n",
       "      <td>A06</td>\n",
       "      <td>NaN</td>\n",
       "      <td>PD0507</td>\n",
       "      <td>20211231</td>\n",
       "      <td>23</td>\n",
       "      <td>50000.0</td>\n",
       "      <td>1</td>\n",
       "    </tr>\n",
       "    <tr>\n",
       "      <th>4381739</th>\n",
       "      <td>M533286446</td>\n",
       "      <td>E06052119978</td>\n",
       "      <td>2</td>\n",
       "      <td>A06</td>\n",
       "      <td>NaN</td>\n",
       "      <td>PD0507</td>\n",
       "      <td>20211231</td>\n",
       "      <td>23</td>\n",
       "      <td>50000.0</td>\n",
       "      <td>1</td>\n",
       "    </tr>\n",
       "    <tr>\n",
       "      <th>4381740</th>\n",
       "      <td>M533286446</td>\n",
       "      <td>E06052119978</td>\n",
       "      <td>2</td>\n",
       "      <td>A06</td>\n",
       "      <td>NaN</td>\n",
       "      <td>PD0507</td>\n",
       "      <td>20211231</td>\n",
       "      <td>23</td>\n",
       "      <td>50000.0</td>\n",
       "      <td>1</td>\n",
       "    </tr>\n",
       "    <tr>\n",
       "      <th>4381741</th>\n",
       "      <td>M533286446</td>\n",
       "      <td>E06052119978</td>\n",
       "      <td>2</td>\n",
       "      <td>A06</td>\n",
       "      <td>NaN</td>\n",
       "      <td>PD0507</td>\n",
       "      <td>20211231</td>\n",
       "      <td>23</td>\n",
       "      <td>50000.0</td>\n",
       "      <td>1</td>\n",
       "    </tr>\n",
       "    <tr>\n",
       "      <th>4381742</th>\n",
       "      <td>M533286446</td>\n",
       "      <td>E06052119978</td>\n",
       "      <td>2</td>\n",
       "      <td>A06</td>\n",
       "      <td>NaN</td>\n",
       "      <td>PD0507</td>\n",
       "      <td>20211231</td>\n",
       "      <td>23</td>\n",
       "      <td>50000.0</td>\n",
       "      <td>1</td>\n",
       "    </tr>\n",
       "  </tbody>\n",
       "</table>\n",
       "<p>4381743 rows × 10 columns</p>\n",
       "</div>"
      ],
      "text/plain": [
       "               cust        rct_no  chnl_dv cop_c     br_c    pd_c     de_dt  \\\n",
       "0        M430112881  A01000001113        1   A01  A010039  PD0290  20210101   \n",
       "1        M646853852  A01000002265        1   A01  A010025  PD1369  20210101   \n",
       "2        M430112881  A01000003148        1   A01  A010039  PD0290  20210101   \n",
       "3        M430112881  A01000003148        1   A01  A010039  PD0290  20210101   \n",
       "4        M430112881  A01000004946        1   A01  A010039  PD0290  20210101   \n",
       "...             ...           ...      ...   ...      ...     ...       ...   \n",
       "4381738  M533286446  E06052119978        2   A06      NaN  PD0507  20211231   \n",
       "4381739  M533286446  E06052119978        2   A06      NaN  PD0507  20211231   \n",
       "4381740  M533286446  E06052119978        2   A06      NaN  PD0507  20211231   \n",
       "4381741  M533286446  E06052119978        2   A06      NaN  PD0507  20211231   \n",
       "4381742  M533286446  E06052119978        2   A06      NaN  PD0507  20211231   \n",
       "\n",
       "         de_hr   buy_am  buy_ct  \n",
       "0           10  15000.0       1  \n",
       "1           10  79700.0       1  \n",
       "2           10  19000.0       1  \n",
       "3           10  19000.0       1  \n",
       "4           10  19000.0       1  \n",
       "...        ...      ...     ...  \n",
       "4381738     23  50000.0       1  \n",
       "4381739     23  50000.0       1  \n",
       "4381740     23  50000.0       1  \n",
       "4381741     23  50000.0       1  \n",
       "4381742     23  50000.0       1  \n",
       "\n",
       "[4381743 rows x 10 columns]"
      ]
     },
     "execution_count": 3,
     "metadata": {},
     "output_type": "execute_result"
    }
   ],
   "source": [
    "pdde"
   ]
  },
  {
   "cell_type": "code",
   "execution_count": 4,
   "id": "79fa84d7",
   "metadata": {},
   "outputs": [
    {
     "data": {
      "text/html": [
       "<div>\n",
       "<style scoped>\n",
       "    .dataframe tbody tr th:only-of-type {\n",
       "        vertical-align: middle;\n",
       "    }\n",
       "\n",
       "    .dataframe tbody tr th {\n",
       "        vertical-align: top;\n",
       "    }\n",
       "\n",
       "    .dataframe thead th {\n",
       "        text-align: right;\n",
       "    }\n",
       "</style>\n",
       "<table border=\"1\" class=\"dataframe\">\n",
       "  <thead>\n",
       "    <tr style=\"text-align: right;\">\n",
       "      <th></th>\n",
       "      <th>cust</th>\n",
       "      <th>rct_no</th>\n",
       "      <th>cop_c</th>\n",
       "      <th>br_c</th>\n",
       "      <th>chnl_dv</th>\n",
       "      <th>de_dt</th>\n",
       "      <th>vst_dt</th>\n",
       "      <th>de_hr</th>\n",
       "      <th>buy_am</th>\n",
       "    </tr>\n",
       "  </thead>\n",
       "  <tbody>\n",
       "    <tr>\n",
       "      <th>0</th>\n",
       "      <td>M839993508</td>\n",
       "      <td>21102612B015763935</td>\n",
       "      <td>B01</td>\n",
       "      <td>B010012</td>\n",
       "      <td>1</td>\n",
       "      <td>20211026</td>\n",
       "      <td>20211026</td>\n",
       "      <td>12</td>\n",
       "      <td>60000</td>\n",
       "    </tr>\n",
       "    <tr>\n",
       "      <th>1</th>\n",
       "      <td>M839993508</td>\n",
       "      <td>21110610B014219744</td>\n",
       "      <td>B01</td>\n",
       "      <td>B010012</td>\n",
       "      <td>1</td>\n",
       "      <td>20211106</td>\n",
       "      <td>20211106</td>\n",
       "      <td>10</td>\n",
       "      <td>17100</td>\n",
       "    </tr>\n",
       "    <tr>\n",
       "      <th>2</th>\n",
       "      <td>M839993508</td>\n",
       "      <td>21021112B013419710</td>\n",
       "      <td>B01</td>\n",
       "      <td>B010012</td>\n",
       "      <td>1</td>\n",
       "      <td>20210211</td>\n",
       "      <td>20210211</td>\n",
       "      <td>12</td>\n",
       "      <td>136500</td>\n",
       "    </tr>\n",
       "    <tr>\n",
       "      <th>3</th>\n",
       "      <td>M839993508</td>\n",
       "      <td>21092010B012637545</td>\n",
       "      <td>B01</td>\n",
       "      <td>B010012</td>\n",
       "      <td>1</td>\n",
       "      <td>20210920</td>\n",
       "      <td>20210920</td>\n",
       "      <td>10</td>\n",
       "      <td>34200</td>\n",
       "    </tr>\n",
       "    <tr>\n",
       "      <th>4</th>\n",
       "      <td>M839993508</td>\n",
       "      <td>21101009D015920171</td>\n",
       "      <td>D01</td>\n",
       "      <td>D010614</td>\n",
       "      <td>1</td>\n",
       "      <td>20211010</td>\n",
       "      <td>20211010</td>\n",
       "      <td>9</td>\n",
       "      <td>2500</td>\n",
       "    </tr>\n",
       "    <tr>\n",
       "      <th>...</th>\n",
       "      <td>...</td>\n",
       "      <td>...</td>\n",
       "      <td>...</td>\n",
       "      <td>...</td>\n",
       "      <td>...</td>\n",
       "      <td>...</td>\n",
       "      <td>...</td>\n",
       "      <td>...</td>\n",
       "      <td>...</td>\n",
       "    </tr>\n",
       "    <tr>\n",
       "      <th>248299</th>\n",
       "      <td>M058650684</td>\n",
       "      <td>21111614C021426818</td>\n",
       "      <td>C02</td>\n",
       "      <td>C020002</td>\n",
       "      <td>1</td>\n",
       "      <td>20211116</td>\n",
       "      <td>20211116</td>\n",
       "      <td>14</td>\n",
       "      <td>2000</td>\n",
       "    </tr>\n",
       "    <tr>\n",
       "      <th>248300</th>\n",
       "      <td>M058650684</td>\n",
       "      <td>21111619C023223432</td>\n",
       "      <td>C02</td>\n",
       "      <td>C020002</td>\n",
       "      <td>1</td>\n",
       "      <td>20211116</td>\n",
       "      <td>20211116</td>\n",
       "      <td>19</td>\n",
       "      <td>26900</td>\n",
       "    </tr>\n",
       "    <tr>\n",
       "      <th>248301</th>\n",
       "      <td>M014154595</td>\n",
       "      <td>21121209C015324520</td>\n",
       "      <td>C01</td>\n",
       "      <td>C010087</td>\n",
       "      <td>2</td>\n",
       "      <td>20211212</td>\n",
       "      <td>20211212</td>\n",
       "      <td>9</td>\n",
       "      <td>2000</td>\n",
       "    </tr>\n",
       "    <tr>\n",
       "      <th>248302</th>\n",
       "      <td>M510878172</td>\n",
       "      <td>21112719C013369102</td>\n",
       "      <td>C01</td>\n",
       "      <td>C010007</td>\n",
       "      <td>2</td>\n",
       "      <td>20211127</td>\n",
       "      <td>20211127</td>\n",
       "      <td>19</td>\n",
       "      <td>6000</td>\n",
       "    </tr>\n",
       "    <tr>\n",
       "      <th>248303</th>\n",
       "      <td>M761634870</td>\n",
       "      <td>21122419C013829696</td>\n",
       "      <td>C01</td>\n",
       "      <td>C010014</td>\n",
       "      <td>2</td>\n",
       "      <td>20211224</td>\n",
       "      <td>20211225</td>\n",
       "      <td>19</td>\n",
       "      <td>28000</td>\n",
       "    </tr>\n",
       "  </tbody>\n",
       "</table>\n",
       "<p>248304 rows × 9 columns</p>\n",
       "</div>"
      ],
      "text/plain": [
       "              cust              rct_no cop_c     br_c  chnl_dv     de_dt  \\\n",
       "0       M839993508  21102612B015763935   B01  B010012        1  20211026   \n",
       "1       M839993508  21110610B014219744   B01  B010012        1  20211106   \n",
       "2       M839993508  21021112B013419710   B01  B010012        1  20210211   \n",
       "3       M839993508  21092010B012637545   B01  B010012        1  20210920   \n",
       "4       M839993508  21101009D015920171   D01  D010614        1  20211010   \n",
       "...            ...                 ...   ...      ...      ...       ...   \n",
       "248299  M058650684  21111614C021426818   C02  C020002        1  20211116   \n",
       "248300  M058650684  21111619C023223432   C02  C020002        1  20211116   \n",
       "248301  M014154595  21121209C015324520   C01  C010087        2  20211212   \n",
       "248302  M510878172  21112719C013369102   C01  C010007        2  20211127   \n",
       "248303  M761634870  21122419C013829696   C01  C010014        2  20211224   \n",
       "\n",
       "          vst_dt  de_hr  buy_am  \n",
       "0       20211026     12   60000  \n",
       "1       20211106     10   17100  \n",
       "2       20210211     12  136500  \n",
       "3       20210920     10   34200  \n",
       "4       20211010      9    2500  \n",
       "...          ...    ...     ...  \n",
       "248299  20211116     14    2000  \n",
       "248300  20211116     19   26900  \n",
       "248301  20211212      9    2000  \n",
       "248302  20211127     19    6000  \n",
       "248303  20211225     19   28000  \n",
       "\n",
       "[248304 rows x 9 columns]"
      ]
     },
     "execution_count": 4,
     "metadata": {},
     "output_type": "execute_result"
    }
   ],
   "source": [
    "copu"
   ]
  },
  {
   "cell_type": "code",
   "execution_count": 5,
   "id": "d23cf559",
   "metadata": {},
   "outputs": [
    {
     "data": {
      "text/html": [
       "<div>\n",
       "<style scoped>\n",
       "    .dataframe tbody tr th:only-of-type {\n",
       "        vertical-align: middle;\n",
       "    }\n",
       "\n",
       "    .dataframe tbody tr th {\n",
       "        vertical-align: top;\n",
       "    }\n",
       "\n",
       "    .dataframe thead th {\n",
       "        text-align: right;\n",
       "    }\n",
       "</style>\n",
       "<table border=\"1\" class=\"dataframe\">\n",
       "  <thead>\n",
       "    <tr style=\"text-align: right;\">\n",
       "      <th></th>\n",
       "      <th>pd_c</th>\n",
       "      <th>pd_nm</th>\n",
       "      <th>clac_hlv_nm</th>\n",
       "      <th>clac_mcls_nm</th>\n",
       "    </tr>\n",
       "  </thead>\n",
       "  <tbody>\n",
       "    <tr>\n",
       "      <th>0</th>\n",
       "      <td>PD0001</td>\n",
       "      <td>소파</td>\n",
       "      <td>가구</td>\n",
       "      <td>거실가구</td>\n",
       "    </tr>\n",
       "    <tr>\n",
       "      <th>1</th>\n",
       "      <td>PD0002</td>\n",
       "      <td>스툴/리빙의자</td>\n",
       "      <td>가구</td>\n",
       "      <td>거실가구</td>\n",
       "    </tr>\n",
       "    <tr>\n",
       "      <th>2</th>\n",
       "      <td>PD0003</td>\n",
       "      <td>탁자</td>\n",
       "      <td>가구</td>\n",
       "      <td>거실가구</td>\n",
       "    </tr>\n",
       "    <tr>\n",
       "      <th>3</th>\n",
       "      <td>PD0004</td>\n",
       "      <td>장식장/진열장</td>\n",
       "      <td>가구</td>\n",
       "      <td>거실가구</td>\n",
       "    </tr>\n",
       "    <tr>\n",
       "      <th>4</th>\n",
       "      <td>PD0005</td>\n",
       "      <td>기타가구</td>\n",
       "      <td>가구</td>\n",
       "      <td>기타가구</td>\n",
       "    </tr>\n",
       "    <tr>\n",
       "      <th>...</th>\n",
       "      <td>...</td>\n",
       "      <td>...</td>\n",
       "      <td>...</td>\n",
       "      <td>...</td>\n",
       "    </tr>\n",
       "    <tr>\n",
       "      <th>1928</th>\n",
       "      <td>PD1929</td>\n",
       "      <td>여성향수</td>\n",
       "      <td>화장품/뷰티케어</td>\n",
       "      <td>향수</td>\n",
       "    </tr>\n",
       "    <tr>\n",
       "      <th>1929</th>\n",
       "      <td>PD1930</td>\n",
       "      <td>남성향수</td>\n",
       "      <td>화장품/뷰티케어</td>\n",
       "      <td>향수</td>\n",
       "    </tr>\n",
       "    <tr>\n",
       "      <th>1930</th>\n",
       "      <td>PD1931</td>\n",
       "      <td>남녀공용향수</td>\n",
       "      <td>화장품/뷰티케어</td>\n",
       "      <td>향수</td>\n",
       "    </tr>\n",
       "    <tr>\n",
       "      <th>1931</th>\n",
       "      <td>PD1932</td>\n",
       "      <td>남성향수세트</td>\n",
       "      <td>화장품/뷰티케어</td>\n",
       "      <td>향수</td>\n",
       "    </tr>\n",
       "    <tr>\n",
       "      <th>1932</th>\n",
       "      <td>PD1933</td>\n",
       "      <td>남녀공용향수세트</td>\n",
       "      <td>화장품/뷰티케어</td>\n",
       "      <td>향수</td>\n",
       "    </tr>\n",
       "  </tbody>\n",
       "</table>\n",
       "<p>1933 rows × 4 columns</p>\n",
       "</div>"
      ],
      "text/plain": [
       "        pd_c     pd_nm clac_hlv_nm clac_mcls_nm\n",
       "0     PD0001        소파          가구         거실가구\n",
       "1     PD0002   스툴/리빙의자          가구         거실가구\n",
       "2     PD0003        탁자          가구         거실가구\n",
       "3     PD0004   장식장/진열장          가구         거실가구\n",
       "4     PD0005      기타가구          가구         기타가구\n",
       "...      ...       ...         ...          ...\n",
       "1928  PD1929      여성향수    화장품/뷰티케어           향수\n",
       "1929  PD1930      남성향수    화장품/뷰티케어           향수\n",
       "1930  PD1931    남녀공용향수    화장품/뷰티케어           향수\n",
       "1931  PD1932    남성향수세트    화장품/뷰티케어           향수\n",
       "1932  PD1933  남녀공용향수세트    화장품/뷰티케어           향수\n",
       "\n",
       "[1933 rows x 4 columns]"
      ]
     },
     "execution_count": 5,
     "metadata": {},
     "output_type": "execute_result"
    }
   ],
   "source": [
    "pdclac"
   ]
  },
  {
   "cell_type": "code",
   "execution_count": 6,
   "id": "58453e5b",
   "metadata": {},
   "outputs": [
    {
     "data": {
      "text/html": [
       "<div>\n",
       "<style scoped>\n",
       "    .dataframe tbody tr th:only-of-type {\n",
       "        vertical-align: middle;\n",
       "    }\n",
       "\n",
       "    .dataframe tbody tr th {\n",
       "        vertical-align: top;\n",
       "    }\n",
       "\n",
       "    .dataframe thead th {\n",
       "        text-align: right;\n",
       "    }\n",
       "</style>\n",
       "<table border=\"1\" class=\"dataframe\">\n",
       "  <thead>\n",
       "    <tr style=\"text-align: right;\">\n",
       "      <th></th>\n",
       "      <th>br_c</th>\n",
       "      <th>cop_c</th>\n",
       "      <th>zon_hlv</th>\n",
       "      <th>zon_mcls</th>\n",
       "    </tr>\n",
       "  </thead>\n",
       "  <tbody>\n",
       "    <tr>\n",
       "      <th>0</th>\n",
       "      <td>A010001</td>\n",
       "      <td>A01</td>\n",
       "      <td>Z17</td>\n",
       "      <td>Z17024</td>\n",
       "    </tr>\n",
       "    <tr>\n",
       "      <th>1</th>\n",
       "      <td>A010002</td>\n",
       "      <td>A01</td>\n",
       "      <td>Z17</td>\n",
       "      <td>Z17018</td>\n",
       "    </tr>\n",
       "    <tr>\n",
       "      <th>2</th>\n",
       "      <td>A010003</td>\n",
       "      <td>A01</td>\n",
       "      <td>Z17</td>\n",
       "      <td>Z17011</td>\n",
       "    </tr>\n",
       "    <tr>\n",
       "      <th>3</th>\n",
       "      <td>A010004</td>\n",
       "      <td>A01</td>\n",
       "      <td>Z16</td>\n",
       "      <td>Z16007</td>\n",
       "    </tr>\n",
       "    <tr>\n",
       "      <th>4</th>\n",
       "      <td>A010005</td>\n",
       "      <td>A01</td>\n",
       "      <td>Z17</td>\n",
       "      <td>Z17005</td>\n",
       "    </tr>\n",
       "    <tr>\n",
       "      <th>...</th>\n",
       "      <td>...</td>\n",
       "      <td>...</td>\n",
       "      <td>...</td>\n",
       "      <td>...</td>\n",
       "    </tr>\n",
       "    <tr>\n",
       "      <th>8803</th>\n",
       "      <td>E010040</td>\n",
       "      <td>E01</td>\n",
       "      <td>Z17</td>\n",
       "      <td>Z17024</td>\n",
       "    </tr>\n",
       "    <tr>\n",
       "      <th>8804</th>\n",
       "      <td>E010041</td>\n",
       "      <td>E01</td>\n",
       "      <td>Z16</td>\n",
       "      <td>Z16005</td>\n",
       "    </tr>\n",
       "    <tr>\n",
       "      <th>8805</th>\n",
       "      <td>E010042</td>\n",
       "      <td>E01</td>\n",
       "      <td>Z17</td>\n",
       "      <td>Z17021</td>\n",
       "    </tr>\n",
       "    <tr>\n",
       "      <th>8806</th>\n",
       "      <td>E010043</td>\n",
       "      <td>E01</td>\n",
       "      <td>Z10</td>\n",
       "      <td>Z10035</td>\n",
       "    </tr>\n",
       "    <tr>\n",
       "      <th>8807</th>\n",
       "      <td>E010044</td>\n",
       "      <td>E01</td>\n",
       "      <td>Z12</td>\n",
       "      <td>Z12014</td>\n",
       "    </tr>\n",
       "  </tbody>\n",
       "</table>\n",
       "<p>8808 rows × 4 columns</p>\n",
       "</div>"
      ],
      "text/plain": [
       "         br_c cop_c zon_hlv zon_mcls\n",
       "0     A010001   A01     Z17   Z17024\n",
       "1     A010002   A01     Z17   Z17018\n",
       "2     A010003   A01     Z17   Z17011\n",
       "3     A010004   A01     Z16   Z16007\n",
       "4     A010005   A01     Z17   Z17005\n",
       "...       ...   ...     ...      ...\n",
       "8803  E010040   E01     Z17   Z17024\n",
       "8804  E010041   E01     Z16   Z16005\n",
       "8805  E010042   E01     Z17   Z17021\n",
       "8806  E010043   E01     Z10   Z10035\n",
       "8807  E010044   E01     Z12   Z12014\n",
       "\n",
       "[8808 rows x 4 columns]"
      ]
     },
     "execution_count": 6,
     "metadata": {},
     "output_type": "execute_result"
    }
   ],
   "source": [
    "br"
   ]
  },
  {
   "cell_type": "code",
   "execution_count": 7,
   "id": "a10bf696",
   "metadata": {},
   "outputs": [
    {
     "data": {
      "text/html": [
       "<div>\n",
       "<style scoped>\n",
       "    .dataframe tbody tr th:only-of-type {\n",
       "        vertical-align: middle;\n",
       "    }\n",
       "\n",
       "    .dataframe tbody tr th {\n",
       "        vertical-align: top;\n",
       "    }\n",
       "\n",
       "    .dataframe thead th {\n",
       "        text-align: right;\n",
       "    }\n",
       "</style>\n",
       "<table border=\"1\" class=\"dataframe\">\n",
       "  <thead>\n",
       "    <tr style=\"text-align: right;\">\n",
       "      <th></th>\n",
       "      <th>cust</th>\n",
       "      <th>rct_no</th>\n",
       "      <th>cop_c</th>\n",
       "      <th>chnl_dv</th>\n",
       "      <th>de_dt</th>\n",
       "      <th>de_hr</th>\n",
       "      <th>buy_am</th>\n",
       "    </tr>\n",
       "  </thead>\n",
       "  <tbody>\n",
       "    <tr>\n",
       "      <th>0</th>\n",
       "      <td>M629656521</td>\n",
       "      <td>210803210311226</td>\n",
       "      <td>A03</td>\n",
       "      <td>1</td>\n",
       "      <td>20210803</td>\n",
       "      <td>21</td>\n",
       "      <td>10900</td>\n",
       "    </tr>\n",
       "    <tr>\n",
       "      <th>1</th>\n",
       "      <td>M216016456</td>\n",
       "      <td>210803130167542</td>\n",
       "      <td>L01</td>\n",
       "      <td>2</td>\n",
       "      <td>20210803</td>\n",
       "      <td>13</td>\n",
       "      <td>6860</td>\n",
       "    </tr>\n",
       "    <tr>\n",
       "      <th>2</th>\n",
       "      <td>M205142844</td>\n",
       "      <td>210803140275112</td>\n",
       "      <td>A02</td>\n",
       "      <td>1</td>\n",
       "      <td>20210803</td>\n",
       "      <td>14</td>\n",
       "      <td>9000</td>\n",
       "    </tr>\n",
       "    <tr>\n",
       "      <th>3</th>\n",
       "      <td>M737010483</td>\n",
       "      <td>210803040637594</td>\n",
       "      <td>A06</td>\n",
       "      <td>2</td>\n",
       "      <td>20210803</td>\n",
       "      <td>4</td>\n",
       "      <td>36740</td>\n",
       "    </tr>\n",
       "    <tr>\n",
       "      <th>4</th>\n",
       "      <td>M707775545</td>\n",
       "      <td>210803140675502</td>\n",
       "      <td>A06</td>\n",
       "      <td>2</td>\n",
       "      <td>20210803</td>\n",
       "      <td>14</td>\n",
       "      <td>138500</td>\n",
       "    </tr>\n",
       "    <tr>\n",
       "      <th>...</th>\n",
       "      <td>...</td>\n",
       "      <td>...</td>\n",
       "      <td>...</td>\n",
       "      <td>...</td>\n",
       "      <td>...</td>\n",
       "      <td>...</td>\n",
       "      <td>...</td>\n",
       "    </tr>\n",
       "    <tr>\n",
       "      <th>353179</th>\n",
       "      <td>M470112503</td>\n",
       "      <td>210125110644545</td>\n",
       "      <td>A06</td>\n",
       "      <td>2</td>\n",
       "      <td>20210125</td>\n",
       "      <td>11</td>\n",
       "      <td>51800</td>\n",
       "    </tr>\n",
       "    <tr>\n",
       "      <th>353180</th>\n",
       "      <td>M470112503</td>\n",
       "      <td>210104210652271</td>\n",
       "      <td>A06</td>\n",
       "      <td>2</td>\n",
       "      <td>20210104</td>\n",
       "      <td>21</td>\n",
       "      <td>6440</td>\n",
       "    </tr>\n",
       "    <tr>\n",
       "      <th>353181</th>\n",
       "      <td>M748878049</td>\n",
       "      <td>210119200278240</td>\n",
       "      <td>A02</td>\n",
       "      <td>1</td>\n",
       "      <td>20210119</td>\n",
       "      <td>20</td>\n",
       "      <td>17600</td>\n",
       "    </tr>\n",
       "    <tr>\n",
       "      <th>353182</th>\n",
       "      <td>M748878049</td>\n",
       "      <td>210119180267206</td>\n",
       "      <td>A02</td>\n",
       "      <td>1</td>\n",
       "      <td>20210119</td>\n",
       "      <td>18</td>\n",
       "      <td>12400</td>\n",
       "    </tr>\n",
       "    <tr>\n",
       "      <th>353183</th>\n",
       "      <td>M748878049</td>\n",
       "      <td>210119150154756</td>\n",
       "      <td>C01</td>\n",
       "      <td>2</td>\n",
       "      <td>20210119</td>\n",
       "      <td>15</td>\n",
       "      <td>5000</td>\n",
       "    </tr>\n",
       "  </tbody>\n",
       "</table>\n",
       "<p>353184 rows × 7 columns</p>\n",
       "</div>"
      ],
      "text/plain": [
       "              cust           rct_no cop_c  chnl_dv     de_dt  de_hr  buy_am\n",
       "0       M629656521  210803210311226   A03        1  20210803     21   10900\n",
       "1       M216016456  210803130167542   L01        2  20210803     13    6860\n",
       "2       M205142844  210803140275112   A02        1  20210803     14    9000\n",
       "3       M737010483  210803040637594   A06        2  20210803      4   36740\n",
       "4       M707775545  210803140675502   A06        2  20210803     14  138500\n",
       "...            ...              ...   ...      ...       ...    ...     ...\n",
       "353179  M470112503  210125110644545   A06        2  20210125     11   51800\n",
       "353180  M470112503  210104210652271   A06        2  20210104     21    6440\n",
       "353181  M748878049  210119200278240   A02        1  20210119     20   17600\n",
       "353182  M748878049  210119180267206   A02        1  20210119     18   12400\n",
       "353183  M748878049  210119150154756   C01        2  20210119     15    5000\n",
       "\n",
       "[353184 rows x 7 columns]"
      ]
     },
     "execution_count": 7,
     "metadata": {},
     "output_type": "execute_result"
    }
   ],
   "source": [
    "lpay"
   ]
  },
  {
   "cell_type": "markdown",
   "id": "d027439f",
   "metadata": {},
   "source": [
    "## EDA(demo)"
   ]
  },
  {
   "cell_type": "code",
   "execution_count": 40,
   "id": "abe5700d",
   "metadata": {},
   "outputs": [],
   "source": [
    "import numpy as np\n",
    "import pandas as pd\n",
    "import matplotlib.pyplot as plt\n",
    "import seaborn as sns\n",
    "from matplotlib import font_manager, rc"
   ]
  },
  {
   "cell_type": "code",
   "execution_count": 3,
   "id": "2732b069",
   "metadata": {},
   "outputs": [
    {
     "data": {
      "text/plain": [
       "cust         0\n",
       "ma_fem_dv    0\n",
       "ages         0\n",
       "zon_hlv      0\n",
       "dtype: int64"
      ]
     },
     "execution_count": 3,
     "metadata": {},
     "output_type": "execute_result"
    }
   ],
   "source": [
    "demo.isnull().sum()"
   ]
  },
  {
   "cell_type": "code",
   "execution_count": 29,
   "id": "658089e4",
   "metadata": {},
   "outputs": [
    {
     "name": "stdout",
     "output_type": "stream",
     "text": [
      "<class 'pandas.core.frame.DataFrame'>\n",
      "RangeIndex: 29913 entries, 0 to 29912\n",
      "Data columns (total 4 columns):\n",
      " #   Column     Non-Null Count  Dtype \n",
      "---  ------     --------------  ----- \n",
      " 0   cust       29913 non-null  object\n",
      " 1   ma_fem_dv  29913 non-null  object\n",
      " 2   ages       29913 non-null  object\n",
      " 3   zon_hlv    29913 non-null  object\n",
      "dtypes: object(4)\n",
      "memory usage: 934.9+ KB\n"
     ]
    }
   ],
   "source": [
    "demo.info()"
   ]
  },
  {
   "cell_type": "code",
   "execution_count": 3,
   "id": "6b75a5b8",
   "metadata": {
    "scrolled": true
   },
   "outputs": [
    {
     "data": {
      "text/plain": [
       "<AxesSubplot:>"
      ]
     },
     "execution_count": 3,
     "metadata": {},
     "output_type": "execute_result"
    },
    {
     "name": "stderr",
     "output_type": "stream",
     "text": [
      "C:\\Users\\katenam\\anaconda3\\lib\\site-packages\\IPython\\core\\pylabtools.py:151: UserWarning: Glyph 50668 (\\N{HANGUL SYLLABLE YEO}) missing from current font.\n",
      "  fig.canvas.print_figure(bytes_io, **kw)\n",
      "C:\\Users\\katenam\\anaconda3\\lib\\site-packages\\IPython\\core\\pylabtools.py:151: UserWarning: Glyph 49457 (\\N{HANGUL SYLLABLE SEONG}) missing from current font.\n",
      "  fig.canvas.print_figure(bytes_io, **kw)\n",
      "C:\\Users\\katenam\\anaconda3\\lib\\site-packages\\IPython\\core\\pylabtools.py:151: UserWarning: Glyph 45224 (\\N{HANGUL SYLLABLE NAM}) missing from current font.\n",
      "  fig.canvas.print_figure(bytes_io, **kw)\n"
     ]
    },
    {
     "data": {
      "image/png": "[encoded data removed]",
      "text/plain": [
       "<Figure size 432x576 with 1 Axes>"
      ]
     },
     "metadata": {
      "needs_background": "light"
     },
     "output_type": "display_data"
    }
   ],
   "source": [
    "sex = demo['ma_fem_dv'].value_counts().plot(kind='bar',\n",
    "                                    figsize=(6,8))\n",
    "                                    #title=\"Number for each Owner Name\")\n",
    "#ax.set_xlabel(\"Owner Names\")\n",
    "#ax.set_ylabel(\"Frequency\")\n",
    "\n",
    "# 한글 폰트 사용을 위해서 세팅\n",
    "font_path = \"C:/Users/katenam/AppData/Local/Microsoft/Windows/Fonts/malgun.ttf\"\n",
    "font = font_manager.FontProperties(fname=font_path).get_name()\n",
    "rc('font', family=font)\n",
    "\n",
    "sex.xaxis.label.set_size(30)\n",
    "sex.yaxis.label.set_size(30)\n",
    "\n",
    "sex"
   ]
  },
  {
   "cell_type": "code",
   "execution_count": 6,
   "id": "49d82768",
   "metadata": {},
   "outputs": [
    {
     "data": {
      "text/plain": [
       "<AxesSubplot:>"
      ]
     },
     "execution_count": 6,
     "metadata": {},
     "output_type": "execute_result"
    },
    {
     "data": {
      "image/png": "[encoded data removed]",
      "text/plain": [
       "<Figure size 864x576 with 1 Axes>"
      ]
     },
     "metadata": {
      "needs_background": "light"
     },
     "output_type": "display_data"
    }
   ],
   "source": [
    "\n",
    "age = demo['ages'].value_counts().plot(kind='bar',\n",
    "                                    figsize=(12,8))\n",
    "                                    #title=\"Number for each Owner Name\")\n",
    "#ax.set_xlabel(\"Owner Names\")\n",
    "#ax.set_ylabel(\"Frequency\")\n",
    "\n",
    "# 한글 폰트 사용을 위해서 세팅\n",
    "font_path = \"C:/Users/katenam/AppData/Local/Microsoft/Windows/Fonts/malgun.ttf\"\n",
    "font = font_manager.FontProperties(fname=font_path).get_name()\n",
    "rc('font', family=font)\n",
    "\n",
    "age"
   ]
  },
  {
   "cell_type": "code",
   "execution_count": 7,
   "id": "69979f60",
   "metadata": {},
   "outputs": [
    {
     "data": {
      "text/plain": [
       "0        False\n",
       "1        False\n",
       "2        False\n",
       "3        False\n",
       "4        False\n",
       "         ...  \n",
       "29908    False\n",
       "29909    False\n",
       "29910     True\n",
       "29911    False\n",
       "29912    False\n",
       "Name: ages, Length: 29913, dtype: bool"
      ]
     },
     "execution_count": 7,
     "metadata": {},
     "output_type": "execute_result"
    }
   ],
   "source": [
    "twenty = demo['ages'] == '20대'\n",
    "twenty"
   ]
  },
  {
   "cell_type": "code",
   "execution_count": 8,
   "id": "6ce0cc78",
   "metadata": {},
   "outputs": [
    {
     "data": {
      "text/plain": [
       "40대    9863\n",
       "30대    7736\n",
       "50대    5633\n",
       "20대    3853\n",
       "60대    2115\n",
       "70대     713\n",
       "Name: ages, dtype: int64"
      ]
     },
     "execution_count": 8,
     "metadata": {},
     "output_type": "execute_result"
    }
   ],
   "source": [
    "ages_order = demo['ages'].value_counts()\n",
    "ages_order"
   ]
  },
  {
   "cell_type": "code",
   "execution_count": 9,
   "id": "8e86121b",
   "metadata": {},
   "outputs": [
    {
     "name": "stdout",
     "output_type": "stream",
     "text": [
      "Index(['40대', '30대', '50대', '20대', '60대', '70대'], dtype='object')\n",
      "[9863 7736 5633 3853 2115  713]\n"
     ]
    }
   ],
   "source": [
    "print(ages_order.index)\n",
    "print(ages_order.values)"
   ]
  },
  {
   "cell_type": "code",
   "execution_count": 10,
   "id": "2a87602e",
   "metadata": {},
   "outputs": [
    {
     "data": {
      "text/plain": [
       "20대    3853\n",
       "30대    7736\n",
       "40대    9863\n",
       "50대    5633\n",
       "60대    2115\n",
       "70대     713\n",
       "Name: ages, dtype: int64"
      ]
     },
     "execution_count": 10,
     "metadata": {},
     "output_type": "execute_result"
    }
   ],
   "source": [
    "# 20대 30대 40대 50대 60대 70대로 순서를 바꿈\n",
    "ages_order_1 = ['20대', '30대', '40대', '50대', '60대', '70대']\n",
    "ages_order_2 = ages_order.loc[ages_order_1]\n",
    "\n",
    "ages_order_2"
   ]
  },
  {
   "cell_type": "code",
   "execution_count": 11,
   "id": "35c9cb4d",
   "metadata": {},
   "outputs": [
    {
     "data": {
      "image/png": "[encoded data removed]",
      "text/plain": [
       "<Figure size 864x576 with 1 Axes>"
      ]
     },
     "metadata": {
      "needs_background": "light"
     },
     "output_type": "display_data"
    }
   ],
   "source": [
    "plt.figure(figsize=(12, 8))\n",
    "plt.bar(ages_order_2.index, ages_order_2.values)\n",
    "#plt.title(\"Bar plot after reordering x-axis label\", fontsize=20)\n",
    "#plt.xlabel(fontsize=18)\n",
    "plt.xticks(fontsize=16)\n",
    "plt.yticks(fontsize=16)\n",
    "plt.show()\n"
   ]
  },
  {
   "cell_type": "code",
   "execution_count": 12,
   "id": "7beb36ca",
   "metadata": {},
   "outputs": [
    {
     "data": {
      "text/plain": [
       "<AxesSubplot:>"
      ]
     },
     "execution_count": 12,
     "metadata": {},
     "output_type": "execute_result"
    },
    {
     "data": {
      "image/png": "[encoded data removed]",
      "text/plain": [
       "<Figure size 1440x576 with 1 Axes>"
      ]
     },
     "metadata": {
      "needs_background": "light"
     },
     "output_type": "display_data"
    }
   ],
   "source": [
    "zone = demo['zon_hlv'].value_counts().plot(kind='bar',\n",
    "                                    figsize=(20,8))\n",
    "                                    #title=\"Number for each Owner Name\")\n",
    "#ax.set_xlabel(\"Owner Names\")\n",
    "#ax.set_ylabel(\"Frequency\")\n",
    "\n",
    "# 한글 폰트 사용을 위해서 세팅\n",
    "font_path = \"C:/Users/katenam/AppData/Local/Microsoft/Windows/Fonts/malgun.ttf\"\n",
    "font = font_manager.FontProperties(fname=font_path).get_name()\n",
    "rc('font', family=font)\n",
    "\n",
    "zone"
   ]
  },
  {
   "cell_type": "code",
   "execution_count": 13,
   "id": "f55761fe",
   "metadata": {},
   "outputs": [
    {
     "data": {
      "text/plain": [
       "array(['Z07', 'Z12', 'Z11', 'Z17', 'Z10', 'Z05', 'Z16', 'Z03', 'Z06',\n",
       "       'Z14', 'Z01', 'Z04', 'Z09', 'Z15', 'Z08', 'Z13', 'Z02'],\n",
       "      dtype=object)"
      ]
     },
     "execution_count": 13,
     "metadata": {},
     "output_type": "execute_result"
    }
   ],
   "source": [
    "demo['zon_hlv'].unique()"
   ]
  },
  {
   "cell_type": "code",
   "execution_count": 14,
   "id": "9bac986d",
   "metadata": {},
   "outputs": [
    {
     "data": {
      "image/png": "[encoded data removed]",
      "text/plain": [
       "<Figure size 1440x576 with 1 Axes>"
      ]
     },
     "metadata": {
      "needs_background": "light"
     },
     "output_type": "display_data"
    }
   ],
   "source": [
    "z_order = demo['zon_hlv'].value_counts()\n",
    "\n",
    "zorders = ['Z01','Z02','Z03','Z04','Z05','Z06','Z07','Z08','Z09','Z10','Z11','Z12','Z13','Z14','Z15','Z16','Z17']\n",
    "zone_orders = z_order.loc[zorders]\n",
    "\n",
    "plt.figure(figsize=(20, 8))\n",
    "plt.bar(zone_orders.index, zone_orders.values)\n",
    "#plt.title(\"Bar plot after reordering x-axis label\", fontsize=20)\n",
    "#plt.xlabel(fontsize=18)\n",
    "plt.xticks(fontsize=16)\n",
    "plt.yticks(fontsize=16)\n",
    "plt.show()"
   ]
  },
  {
   "cell_type": "code",
   "execution_count": null,
   "id": "924cdd64",
   "metadata": {},
   "outputs": [],
   "source": []
  },
  {
   "cell_type": "markdown",
   "id": "f796ae46",
   "metadata": {},
   "source": [
    "## EDA(pdde)"
   ]
  },
  {
   "cell_type": "code",
   "execution_count": 2,
   "id": "d42785bc",
   "metadata": {},
   "outputs": [
    {
     "data": {
      "text/html": [
       "<div>\n",
       "<style scoped>\n",
       "    .dataframe tbody tr th:only-of-type {\n",
       "        vertical-align: middle;\n",
       "    }\n",
       "\n",
       "    .dataframe tbody tr th {\n",
       "        vertical-align: top;\n",
       "    }\n",
       "\n",
       "    .dataframe thead th {\n",
       "        text-align: right;\n",
       "    }\n",
       "</style>\n",
       "<table border=\"1\" class=\"dataframe\">\n",
       "  <thead>\n",
       "    <tr style=\"text-align: right;\">\n",
       "      <th></th>\n",
       "      <th>cust</th>\n",
       "      <th>rct_no</th>\n",
       "      <th>chnl_dv</th>\n",
       "      <th>cop_c</th>\n",
       "      <th>br_c</th>\n",
       "      <th>pd_c</th>\n",
       "      <th>de_dt</th>\n",
       "      <th>de_hr</th>\n",
       "      <th>buy_am</th>\n",
       "      <th>buy_ct</th>\n",
       "    </tr>\n",
       "  </thead>\n",
       "  <tbody>\n",
       "    <tr>\n",
       "      <th>0</th>\n",
       "      <td>M430112881</td>\n",
       "      <td>A01000001113</td>\n",
       "      <td>1</td>\n",
       "      <td>A01</td>\n",
       "      <td>A010039</td>\n",
       "      <td>PD0290</td>\n",
       "      <td>20210101</td>\n",
       "      <td>10</td>\n",
       "      <td>15000.0</td>\n",
       "      <td>1</td>\n",
       "    </tr>\n",
       "    <tr>\n",
       "      <th>1</th>\n",
       "      <td>M646853852</td>\n",
       "      <td>A01000002265</td>\n",
       "      <td>1</td>\n",
       "      <td>A01</td>\n",
       "      <td>A010025</td>\n",
       "      <td>PD1369</td>\n",
       "      <td>20210101</td>\n",
       "      <td>10</td>\n",
       "      <td>79700.0</td>\n",
       "      <td>1</td>\n",
       "    </tr>\n",
       "    <tr>\n",
       "      <th>2</th>\n",
       "      <td>M430112881</td>\n",
       "      <td>A01000003148</td>\n",
       "      <td>1</td>\n",
       "      <td>A01</td>\n",
       "      <td>A010039</td>\n",
       "      <td>PD0290</td>\n",
       "      <td>20210101</td>\n",
       "      <td>10</td>\n",
       "      <td>19000.0</td>\n",
       "      <td>1</td>\n",
       "    </tr>\n",
       "    <tr>\n",
       "      <th>3</th>\n",
       "      <td>M430112881</td>\n",
       "      <td>A01000003148</td>\n",
       "      <td>1</td>\n",
       "      <td>A01</td>\n",
       "      <td>A010039</td>\n",
       "      <td>PD0290</td>\n",
       "      <td>20210101</td>\n",
       "      <td>10</td>\n",
       "      <td>19000.0</td>\n",
       "      <td>1</td>\n",
       "    </tr>\n",
       "    <tr>\n",
       "      <th>4</th>\n",
       "      <td>M430112881</td>\n",
       "      <td>A01000004946</td>\n",
       "      <td>1</td>\n",
       "      <td>A01</td>\n",
       "      <td>A010039</td>\n",
       "      <td>PD0290</td>\n",
       "      <td>20210101</td>\n",
       "      <td>10</td>\n",
       "      <td>19000.0</td>\n",
       "      <td>1</td>\n",
       "    </tr>\n",
       "    <tr>\n",
       "      <th>...</th>\n",
       "      <td>...</td>\n",
       "      <td>...</td>\n",
       "      <td>...</td>\n",
       "      <td>...</td>\n",
       "      <td>...</td>\n",
       "      <td>...</td>\n",
       "      <td>...</td>\n",
       "      <td>...</td>\n",
       "      <td>...</td>\n",
       "      <td>...</td>\n",
       "    </tr>\n",
       "    <tr>\n",
       "      <th>4381738</th>\n",
       "      <td>M533286446</td>\n",
       "      <td>E06052119978</td>\n",
       "      <td>2</td>\n",
       "      <td>A06</td>\n",
       "      <td>NaN</td>\n",
       "      <td>PD0507</td>\n",
       "      <td>20211231</td>\n",
       "      <td>23</td>\n",
       "      <td>50000.0</td>\n",
       "      <td>1</td>\n",
       "    </tr>\n",
       "    <tr>\n",
       "      <th>4381739</th>\n",
       "      <td>M533286446</td>\n",
       "      <td>E06052119978</td>\n",
       "      <td>2</td>\n",
       "      <td>A06</td>\n",
       "      <td>NaN</td>\n",
       "      <td>PD0507</td>\n",
       "      <td>20211231</td>\n",
       "      <td>23</td>\n",
       "      <td>50000.0</td>\n",
       "      <td>1</td>\n",
       "    </tr>\n",
       "    <tr>\n",
       "      <th>4381740</th>\n",
       "      <td>M533286446</td>\n",
       "      <td>E06052119978</td>\n",
       "      <td>2</td>\n",
       "      <td>A06</td>\n",
       "      <td>NaN</td>\n",
       "      <td>PD0507</td>\n",
       "      <td>20211231</td>\n",
       "      <td>23</td>\n",
       "      <td>50000.0</td>\n",
       "      <td>1</td>\n",
       "    </tr>\n",
       "    <tr>\n",
       "      <th>4381741</th>\n",
       "      <td>M533286446</td>\n",
       "      <td>E06052119978</td>\n",
       "      <td>2</td>\n",
       "      <td>A06</td>\n",
       "      <td>NaN</td>\n",
       "      <td>PD0507</td>\n",
       "      <td>20211231</td>\n",
       "      <td>23</td>\n",
       "      <td>50000.0</td>\n",
       "      <td>1</td>\n",
       "    </tr>\n",
       "    <tr>\n",
       "      <th>4381742</th>\n",
       "      <td>M533286446</td>\n",
       "      <td>E06052119978</td>\n",
       "      <td>2</td>\n",
       "      <td>A06</td>\n",
       "      <td>NaN</td>\n",
       "      <td>PD0507</td>\n",
       "      <td>20211231</td>\n",
       "      <td>23</td>\n",
       "      <td>50000.0</td>\n",
       "      <td>1</td>\n",
       "    </tr>\n",
       "  </tbody>\n",
       "</table>\n",
       "<p>4381743 rows × 10 columns</p>\n",
       "</div>"
      ],
      "text/plain": [
       "               cust        rct_no  chnl_dv cop_c     br_c    pd_c     de_dt  \\\n",
       "0        M430112881  A01000001113        1   A01  A010039  PD0290  20210101   \n",
       "1        M646853852  A01000002265        1   A01  A010025  PD1369  20210101   \n",
       "2        M430112881  A01000003148        1   A01  A010039  PD0290  20210101   \n",
       "3        M430112881  A01000003148        1   A01  A010039  PD0290  20210101   \n",
       "4        M430112881  A01000004946        1   A01  A010039  PD0290  20210101   \n",
       "...             ...           ...      ...   ...      ...     ...       ...   \n",
       "4381738  M533286446  E06052119978        2   A06      NaN  PD0507  20211231   \n",
       "4381739  M533286446  E06052119978        2   A06      NaN  PD0507  20211231   \n",
       "4381740  M533286446  E06052119978        2   A06      NaN  PD0507  20211231   \n",
       "4381741  M533286446  E06052119978        2   A06      NaN  PD0507  20211231   \n",
       "4381742  M533286446  E06052119978        2   A06      NaN  PD0507  20211231   \n",
       "\n",
       "         de_hr   buy_am  buy_ct  \n",
       "0           10  15000.0       1  \n",
       "1           10  79700.0       1  \n",
       "2           10  19000.0       1  \n",
       "3           10  19000.0       1  \n",
       "4           10  19000.0       1  \n",
       "...        ...      ...     ...  \n",
       "4381738     23  50000.0       1  \n",
       "4381739     23  50000.0       1  \n",
       "4381740     23  50000.0       1  \n",
       "4381741     23  50000.0       1  \n",
       "4381742     23  50000.0       1  \n",
       "\n",
       "[4381743 rows x 10 columns]"
      ]
     },
     "execution_count": 2,
     "metadata": {},
     "output_type": "execute_result"
    }
   ],
   "source": [
    "pdde"
   ]
  },
  {
   "cell_type": "code",
   "execution_count": null,
   "id": "c54c92cc",
   "metadata": {},
   "outputs": [],
   "source": [
    "# CUST = 고객번호 (고객의 고유 식별번호)\n",
    "# RCT_NO = 영수증 번호 (장바구니 식별 번호)　\n",
    "# CHNL_DV = 채널 구분 (1: 오프라인 / 2: 온라인)\n",
    "\n",
    "# COP_C = 제휴사 (제휴사 구분 코드 A01~06 : 유통사)\n",
    "# PD_C = 상품 코드\n",
    "# BR_C = 점포 코드 (구매 점포 구분 코드)\n",
    "# DE_DT = 구매 일자 (YYYY/MM/DD)\n",
    "# DE_HR = 구매 시간 (HH)\n",
    "# BUY_AM = 구매 금액 (구매한 금액)\n",
    "# BUY_CT = 구매 수량 (구매한 수량)"
   ]
  },
  {
   "cell_type": "code",
   "execution_count": 16,
   "id": "96e46405",
   "metadata": {},
   "outputs": [
    {
     "data": {
      "text/plain": [
       "cust            0\n",
       "rct_no          0\n",
       "chnl_dv         0\n",
       "cop_c           0\n",
       "br_c       428501\n",
       "pd_c            0\n",
       "de_dt           0\n",
       "de_hr           0\n",
       "buy_am          0\n",
       "buy_ct          0\n",
       "dtype: int64"
      ]
     },
     "execution_count": 16,
     "metadata": {},
     "output_type": "execute_result"
    }
   ],
   "source": [
    "pdde.isnull().sum()"
   ]
  },
  {
   "cell_type": "code",
   "execution_count": 30,
   "id": "acba7964",
   "metadata": {},
   "outputs": [
    {
     "name": "stdout",
     "output_type": "stream",
     "text": [
      "<class 'pandas.core.frame.DataFrame'>\n",
      "RangeIndex: 4381743 entries, 0 to 4381742\n",
      "Data columns (total 10 columns):\n",
      " #   Column   Dtype  \n",
      "---  ------   -----  \n",
      " 0   cust     object \n",
      " 1   rct_no   object \n",
      " 2   chnl_dv  int64  \n",
      " 3   cop_c    object \n",
      " 4   br_c     object \n",
      " 5   pd_c     object \n",
      " 6   de_dt    int64  \n",
      " 7   de_hr    int64  \n",
      " 8   buy_am   float64\n",
      " 9   buy_ct   int64  \n",
      "dtypes: float64(1), int64(4), object(5)\n",
      "memory usage: 334.3+ MB\n"
     ]
    }
   ],
   "source": [
    "pdde.info()"
   ]
  },
  {
   "cell_type": "code",
   "execution_count": 31,
   "id": "7ddc4f1b",
   "metadata": {},
   "outputs": [
    {
     "data": {
      "text/plain": [
       "['chnl_dv', 'de_dt', 'de_hr', 'buy_am', 'buy_ct']"
      ]
     },
     "execution_count": 31,
     "metadata": {},
     "output_type": "execute_result"
    }
   ],
   "source": [
    "# 숫자 column을 원하는 경우\n",
    "pdde.select_dtypes(include=np.number).columns.tolist()"
   ]
  },
  {
   "cell_type": "code",
   "execution_count": 33,
   "id": "e8c8b223",
   "metadata": {},
   "outputs": [
    {
     "data": {
      "text/plain": [
       "Index(['cust', 'rct_no', 'chnl_dv', 'cop_c', 'br_c', 'pd_c', 'de_dt', 'de_hr',\n",
       "       'buy_am', 'buy_ct'],\n",
       "      dtype='object')"
      ]
     },
     "execution_count": 33,
     "metadata": {},
     "output_type": "execute_result"
    }
   ],
   "source": [
    "pdde.columns"
   ]
  },
  {
   "cell_type": "code",
   "execution_count": 36,
   "id": "3e2a43c5",
   "metadata": {},
   "outputs": [
    {
     "data": {
      "text/html": [
       "<div>\n",
       "<style scoped>\n",
       "    .dataframe tbody tr th:only-of-type {\n",
       "        vertical-align: middle;\n",
       "    }\n",
       "\n",
       "    .dataframe tbody tr th {\n",
       "        vertical-align: top;\n",
       "    }\n",
       "\n",
       "    .dataframe thead th {\n",
       "        text-align: right;\n",
       "    }\n",
       "</style>\n",
       "<table border=\"1\" class=\"dataframe\">\n",
       "  <thead>\n",
       "    <tr style=\"text-align: right;\">\n",
       "      <th></th>\n",
       "      <th>buy_am</th>\n",
       "      <th>buy_ct</th>\n",
       "    </tr>\n",
       "  </thead>\n",
       "  <tbody>\n",
       "    <tr>\n",
       "      <th>0</th>\n",
       "      <td>15000.00</td>\n",
       "      <td>1</td>\n",
       "    </tr>\n",
       "    <tr>\n",
       "      <th>1</th>\n",
       "      <td>79700.00</td>\n",
       "      <td>1</td>\n",
       "    </tr>\n",
       "    <tr>\n",
       "      <th>2</th>\n",
       "      <td>19000.00</td>\n",
       "      <td>1</td>\n",
       "    </tr>\n",
       "    <tr>\n",
       "      <th>3</th>\n",
       "      <td>19000.00</td>\n",
       "      <td>1</td>\n",
       "    </tr>\n",
       "    <tr>\n",
       "      <th>4</th>\n",
       "      <td>19000.00</td>\n",
       "      <td>1</td>\n",
       "    </tr>\n",
       "    <tr>\n",
       "      <th>...</th>\n",
       "      <td>...</td>\n",
       "      <td>...</td>\n",
       "    </tr>\n",
       "    <tr>\n",
       "      <th>4381738</th>\n",
       "      <td>50000.00</td>\n",
       "      <td>1</td>\n",
       "    </tr>\n",
       "    <tr>\n",
       "      <th>4381739</th>\n",
       "      <td>50000.00</td>\n",
       "      <td>1</td>\n",
       "    </tr>\n",
       "    <tr>\n",
       "      <th>4381740</th>\n",
       "      <td>50000.00</td>\n",
       "      <td>1</td>\n",
       "    </tr>\n",
       "    <tr>\n",
       "      <th>4381741</th>\n",
       "      <td>50000.00</td>\n",
       "      <td>1</td>\n",
       "    </tr>\n",
       "    <tr>\n",
       "      <th>4381742</th>\n",
       "      <td>50000.00</td>\n",
       "      <td>1</td>\n",
       "    </tr>\n",
       "  </tbody>\n",
       "</table>\n",
       "<p>4381743 rows × 2 columns</p>\n",
       "</div>"
      ],
      "text/plain": [
       "          buy_am  buy_ct\n",
       "0       15000.00       1\n",
       "1       79700.00       1\n",
       "2       19000.00       1\n",
       "3       19000.00       1\n",
       "4       19000.00       1\n",
       "...          ...     ...\n",
       "4381738 50000.00       1\n",
       "4381739 50000.00       1\n",
       "4381740 50000.00       1\n",
       "4381741 50000.00       1\n",
       "4381742 50000.00       1\n",
       "\n",
       "[4381743 rows x 2 columns]"
      ]
     },
     "execution_count": 36,
     "metadata": {},
     "output_type": "execute_result"
    }
   ],
   "source": [
    "pdde_to_plot = pdde.drop(columns = ['cust', 'rct_no', 'chnl_dv', 'cop_c', 'br_c', 'pd_c', 'de_dt', 'de_hr']).select_dtypes(include=np.number)\n",
    "pdde_to_plot"
   ]
  },
  {
   "cell_type": "code",
   "execution_count": 38,
   "id": "73717fe5",
   "metadata": {},
   "outputs": [
    {
     "data": {
      "image/png": "[encoded data removed]",
      "text/plain": [
       "<Figure size 864x1008 with 2 Axes>"
      ]
     },
     "metadata": {
      "needs_background": "light"
     },
     "output_type": "display_data"
    }
   ],
   "source": [
    "# subplots\n",
    "pdde_to_plot.plot(subplots=True, kind='box', figsize=(12,14), patch_artist=True)\n",
    "plt.subplots_adjust(wspace=0.5);"
   ]
  },
  {
   "cell_type": "code",
   "execution_count": 40,
   "id": "e0dc55d4",
   "metadata": {},
   "outputs": [
    {
     "data": {
      "text/plain": [
       "33791"
      ]
     },
     "execution_count": 40,
     "metadata": {},
     "output_type": "execute_result"
    }
   ],
   "source": [
    "pdde['buy_am'].nunique()"
   ]
  },
  {
   "cell_type": "code",
   "execution_count": null,
   "id": "8ef78267",
   "metadata": {},
   "outputs": [],
   "source": []
  },
  {
   "cell_type": "code",
   "execution_count": null,
   "id": "3057f83b",
   "metadata": {},
   "outputs": [],
   "source": [
    "# 점포코드에서 428501 결측치 있음. 대략 전체의 10% 정도."
   ]
  },
  {
   "cell_type": "code",
   "execution_count": 17,
   "id": "29ba054f",
   "metadata": {},
   "outputs": [
    {
     "data": {
      "text/html": [
       "<div>\n",
       "<style scoped>\n",
       "    .dataframe tbody tr th:only-of-type {\n",
       "        vertical-align: middle;\n",
       "    }\n",
       "\n",
       "    .dataframe tbody tr th {\n",
       "        vertical-align: top;\n",
       "    }\n",
       "\n",
       "    .dataframe thead th {\n",
       "        text-align: right;\n",
       "    }\n",
       "</style>\n",
       "<table border=\"1\" class=\"dataframe\">\n",
       "  <thead>\n",
       "    <tr style=\"text-align: right;\">\n",
       "      <th></th>\n",
       "      <th>chnl_dv</th>\n",
       "      <th>de_dt</th>\n",
       "      <th>de_hr</th>\n",
       "      <th>buy_am</th>\n",
       "      <th>buy_ct</th>\n",
       "    </tr>\n",
       "  </thead>\n",
       "  <tbody>\n",
       "    <tr>\n",
       "      <th>count</th>\n",
       "      <td>4.381743e+06</td>\n",
       "      <td>4.381743e+06</td>\n",
       "      <td>4.381743e+06</td>\n",
       "      <td>4.381743e+06</td>\n",
       "      <td>4.381743e+06</td>\n",
       "    </tr>\n",
       "    <tr>\n",
       "      <th>mean</th>\n",
       "      <td>1.097792e+00</td>\n",
       "      <td>2.021063e+07</td>\n",
       "      <td>1.571109e+01</td>\n",
       "      <td>2.321254e+04</td>\n",
       "      <td>1.310360e+00</td>\n",
       "    </tr>\n",
       "    <tr>\n",
       "      <th>std</th>\n",
       "      <td>2.970337e-01</td>\n",
       "      <td>3.411827e+02</td>\n",
       "      <td>3.721817e+00</td>\n",
       "      <td>2.298097e+05</td>\n",
       "      <td>1.596138e+00</td>\n",
       "    </tr>\n",
       "    <tr>\n",
       "      <th>min</th>\n",
       "      <td>1.000000e+00</td>\n",
       "      <td>2.021010e+07</td>\n",
       "      <td>0.000000e+00</td>\n",
       "      <td>1.000000e+00</td>\n",
       "      <td>1.000000e+00</td>\n",
       "    </tr>\n",
       "    <tr>\n",
       "      <th>25%</th>\n",
       "      <td>1.000000e+00</td>\n",
       "      <td>2.021032e+07</td>\n",
       "      <td>1.300000e+01</td>\n",
       "      <td>2.000000e+03</td>\n",
       "      <td>1.000000e+00</td>\n",
       "    </tr>\n",
       "    <tr>\n",
       "      <th>50%</th>\n",
       "      <td>1.000000e+00</td>\n",
       "      <td>2.021062e+07</td>\n",
       "      <td>1.600000e+01</td>\n",
       "      <td>4.000000e+03</td>\n",
       "      <td>1.000000e+00</td>\n",
       "    </tr>\n",
       "    <tr>\n",
       "      <th>75%</th>\n",
       "      <td>1.000000e+00</td>\n",
       "      <td>2.021092e+07</td>\n",
       "      <td>1.800000e+01</td>\n",
       "      <td>9.280000e+03</td>\n",
       "      <td>1.000000e+00</td>\n",
       "    </tr>\n",
       "    <tr>\n",
       "      <th>max</th>\n",
       "      <td>2.000000e+00</td>\n",
       "      <td>2.021123e+07</td>\n",
       "      <td>2.300000e+01</td>\n",
       "      <td>6.400000e+07</td>\n",
       "      <td>1.000000e+02</td>\n",
       "    </tr>\n",
       "  </tbody>\n",
       "</table>\n",
       "</div>"
      ],
      "text/plain": [
       "            chnl_dv         de_dt         de_hr        buy_am        buy_ct\n",
       "count  4.381743e+06  4.381743e+06  4.381743e+06  4.381743e+06  4.381743e+06\n",
       "mean   1.097792e+00  2.021063e+07  1.571109e+01  2.321254e+04  1.310360e+00\n",
       "std    2.970337e-01  3.411827e+02  3.721817e+00  2.298097e+05  1.596138e+00\n",
       "min    1.000000e+00  2.021010e+07  0.000000e+00  1.000000e+00  1.000000e+00\n",
       "25%    1.000000e+00  2.021032e+07  1.300000e+01  2.000000e+03  1.000000e+00\n",
       "50%    1.000000e+00  2.021062e+07  1.600000e+01  4.000000e+03  1.000000e+00\n",
       "75%    1.000000e+00  2.021092e+07  1.800000e+01  9.280000e+03  1.000000e+00\n",
       "max    2.000000e+00  2.021123e+07  2.300000e+01  6.400000e+07  1.000000e+02"
      ]
     },
     "execution_count": 17,
     "metadata": {},
     "output_type": "execute_result"
    }
   ],
   "source": [
    "pdde.describe()"
   ]
  },
  {
   "cell_type": "code",
   "execution_count": 18,
   "id": "1cd10642",
   "metadata": {},
   "outputs": [
    {
     "data": {
      "text/plain": [
       "count    4381743.00\n",
       "mean       23212.54\n",
       "std       229809.69\n",
       "min            1.00\n",
       "25%         2000.00\n",
       "50%         4000.00\n",
       "75%         9280.00\n",
       "max     64000000.00\n",
       "Name: buy_am, dtype: float64"
      ]
     },
     "execution_count": 18,
     "metadata": {},
     "output_type": "execute_result"
    }
   ],
   "source": [
    "pd.options.display.float_format = '{:.2f}'.format\n",
    "pdde['buy_am'].describe()"
   ]
  },
  {
   "cell_type": "code",
   "execution_count": 19,
   "id": "25630b0c",
   "metadata": {},
   "outputs": [
    {
     "data": {
      "text/plain": [
       "count   4381743.00\n",
       "mean          1.31\n",
       "std           1.60\n",
       "min           1.00\n",
       "25%           1.00\n",
       "50%           1.00\n",
       "75%           1.00\n",
       "max         100.00\n",
       "Name: buy_ct, dtype: float64"
      ]
     },
     "execution_count": 19,
     "metadata": {},
     "output_type": "execute_result"
    }
   ],
   "source": [
    "pdde['buy_ct'].describe()"
   ]
  },
  {
   "cell_type": "code",
   "execution_count": 15,
   "id": "68daa5ec",
   "metadata": {},
   "outputs": [
    {
     "name": "stderr",
     "output_type": "stream",
     "text": [
      "C:\\Users\\katenam\\AppData\\Local\\Temp\\ipykernel_20064\\2342478605.py:13: UserWarning: FixedFormatter should only be used together with FixedLocator\n",
      "  plt.gca().set_yticklabels(['{:,.0f}'.format(x) for x in current_values])\n"
     ]
    },
    {
     "data": {
      "text/plain": [
       "<AxesSubplot:>"
      ]
     },
     "execution_count": 15,
     "metadata": {},
     "output_type": "execute_result"
    },
    {
     "data": {
      "image/png": "[encoded data removed]",
      "text/plain": [
       "<Figure size 720x576 with 1 Axes>"
      ]
     },
     "metadata": {
      "needs_background": "light"
     },
     "output_type": "display_data"
    }
   ],
   "source": [
    "ch = pdde['chnl_dv'].value_counts().plot(kind='bar',\n",
    "                                    figsize=(10,8))\n",
    "                                    #title=\"Number for each Owner Name\")\n",
    "#ax.set_xlabel(\"Owner Names\")\n",
    "#ax.set_ylabel(\"Frequency\")\n",
    "\n",
    "# 한글 폰트 사용을 위해서 세팅\n",
    "font_path = \"C:/Users/katenam/AppData/Local/Microsoft/Windows/Fonts/malgun.ttf\"\n",
    "font = font_manager.FontProperties(fname=font_path).get_name()\n",
    "rc('font', family=font)\n",
    "\n",
    "current_values = plt.gca().get_yticks()\n",
    "plt.gca().set_yticklabels(['{:,.0f}'.format(x) for x in current_values])\n",
    "\n",
    "\n",
    "ch"
   ]
  },
  {
   "cell_type": "code",
   "execution_count": null,
   "id": "e8a60c00",
   "metadata": {},
   "outputs": [],
   "source": [
    "# 오프라인:1, 온라인:2 오프라인이 훨씬 많음"
   ]
  },
  {
   "cell_type": "code",
   "execution_count": 16,
   "id": "07893213",
   "metadata": {},
   "outputs": [
    {
     "name": "stderr",
     "output_type": "stream",
     "text": [
      "C:\\Users\\katenam\\AppData\\Local\\Temp\\ipykernel_20064\\3737184204.py:12: UserWarning: FixedFormatter should only be used together with FixedLocator\n",
      "  plt.gca().set_yticklabels(['{:,.0f}'.format(x) for x in current_values])\n"
     ]
    },
    {
     "data": {
      "text/plain": [
       "<AxesSubplot:>"
      ]
     },
     "execution_count": 16,
     "metadata": {},
     "output_type": "execute_result"
    },
    {
     "data": {
      "image/png": "[encoded data removed]",
      "text/plain": [
       "<Figure size 864x576 with 1 Axes>"
      ]
     },
     "metadata": {
      "needs_background": "light"
     },
     "output_type": "display_data"
    }
   ],
   "source": [
    "cop_c = pdde['cop_c'].value_counts().plot(kind='bar',\n",
    "                                    figsize=(12,8))\n",
    "                                    #title=\"Number for each Owner Name\")\n",
    "#ax.set_xlabel(\"Owner Names\")\n",
    "#ax.set_ylabel(\"Frequency\")\n",
    "\n",
    "# 한글 폰트 사용을 위해서 세팅\n",
    "font_path = \"C:/Users/katenam/AppData/Local/Microsoft/Windows/Fonts/malgun.ttf\"\n",
    "font = font_manager.FontProperties(fname=font_path).get_name()\n",
    "rc('font', family=font)\n",
    "current_values = plt.gca().get_yticks()\n",
    "plt.gca().set_yticklabels(['{:,.0f}'.format(x) for x in current_values])\n",
    "cop_c"
   ]
  },
  {
   "cell_type": "code",
   "execution_count": 22,
   "id": "dbfbea1a",
   "metadata": {},
   "outputs": [
    {
     "data": {
      "text/plain": [
       "array(['A01', 'A02', 'A03', 'A04', 'A05', 'A06'], dtype=object)"
      ]
     },
     "execution_count": 22,
     "metadata": {},
     "output_type": "execute_result"
    }
   ],
   "source": [
    "pdde['cop_c'].unique()"
   ]
  },
  {
   "cell_type": "code",
   "execution_count": 17,
   "id": "49f9caa7",
   "metadata": {},
   "outputs": [
    {
     "name": "stderr",
     "output_type": "stream",
     "text": [
      "C:\\Users\\katenam\\AppData\\Local\\Temp\\ipykernel_20064\\1162424079.py:13: UserWarning: FixedFormatter should only be used together with FixedLocator\n",
      "  plt.gca().set_yticklabels(['{:,.0f}'.format(x) for x in current_values])\n"
     ]
    },
    {
     "data": {
      "image/png": "[encoded data removed]",
      "text/plain": [
       "<Figure size 720x576 with 1 Axes>"
      ]
     },
     "metadata": {
      "needs_background": "light"
     },
     "output_type": "display_data"
    }
   ],
   "source": [
    "c_order = pdde['cop_c'].value_counts()\n",
    "\n",
    "corders = ['A01', 'A02', 'A03', 'A04', 'A05', 'A06']\n",
    "cop_order = c_order.loc[corders]\n",
    "\n",
    "plt.figure(figsize=(10, 8))\n",
    "plt.bar(cop_order.index, cop_order.values)\n",
    "#plt.title(\"Bar plot after reordering x-axis label\", fontsize=20)\n",
    "#plt.xlabel(fontsize=18)\n",
    "plt.xticks(fontsize=16)\n",
    "plt.yticks(fontsize=16)\n",
    "current_values = plt.gca().get_yticks()\n",
    "plt.gca().set_yticklabels(['{:,.0f}'.format(x) for x in current_values])\n",
    "plt.show()"
   ]
  },
  {
   "cell_type": "code",
   "execution_count": null,
   "id": "f990923f",
   "metadata": {},
   "outputs": [],
   "source": [
    "# 유통사 A02가 많음"
   ]
  },
  {
   "cell_type": "code",
   "execution_count": 24,
   "id": "afd45869",
   "metadata": {},
   "outputs": [
    {
     "data": {
      "text/plain": [
       "array(['PD0290', 'PD1369', 'PD1692', ..., 'PD0509', 'PD0978', 'PD0520'],\n",
       "      dtype=object)"
      ]
     },
     "execution_count": 24,
     "metadata": {},
     "output_type": "execute_result"
    }
   ],
   "source": [
    "pdde['pd_c'].unique()"
   ]
  },
  {
   "cell_type": "code",
   "execution_count": 25,
   "id": "60e6eba3",
   "metadata": {},
   "outputs": [
    {
     "data": {
      "text/plain": [
       "1933"
      ]
     },
     "execution_count": 25,
     "metadata": {},
     "output_type": "execute_result"
    }
   ],
   "source": [
    "pdde['pd_c'].nunique()"
   ]
  },
  {
   "cell_type": "code",
   "execution_count": 26,
   "id": "39ef8f55",
   "metadata": {},
   "outputs": [
    {
     "data": {
      "text/plain": [
       "PD0232    95092\n",
       "PD1484    88584\n",
       "PD1156    80265\n",
       "PD0403    61778\n",
       "PD0228    56699\n",
       "PD0480    56412\n",
       "PD1387    54862\n",
       "PD1486    52154\n",
       "PD0413    48168\n",
       "PD1330    46616\n",
       "PD0197    40094\n",
       "PD1155    39968\n",
       "PD0218    38883\n",
       "PD1173    38720\n",
       "PD1331    38696\n",
       "PD0230    37468\n",
       "PD1333    37179\n",
       "PD1152    36019\n",
       "PD0298    35134\n",
       "PD1153    34650\n",
       "PD0288    34278\n",
       "PD0364    32279\n",
       "PD1154    32001\n",
       "PD1181    31522\n",
       "PD0409    30675\n",
       "PD1417    29227\n",
       "PD1160    28685\n",
       "PD0379    28663\n",
       "PD0217    28566\n",
       "PD0223    27864\n",
       "PD1690    27311\n",
       "PD1183    26124\n",
       "PD1157    25174\n",
       "PD1390    24503\n",
       "PD0404    24139\n",
       "PD1161    24031\n",
       "PD1689    23032\n",
       "PD1184    22886\n",
       "PD0359    21318\n",
       "PD0360    20882\n",
       "PD0401    20236\n",
       "PD0177    20158\n",
       "PD0949    19925\n",
       "PD0318    19657\n",
       "PD0381    19299\n",
       "PD1420    19220\n",
       "PD1288    18992\n",
       "PD0376    18792\n",
       "PD1182    18689\n",
       "PD0242    18481\n",
       "Name: pd_c, dtype: int64"
      ]
     },
     "execution_count": 26,
     "metadata": {},
     "output_type": "execute_result"
    }
   ],
   "source": [
    "pdde['pd_c'].value_counts().head(50) # 제일 잘나가는 상위 상품 50개"
   ]
  },
  {
   "cell_type": "code",
   "execution_count": 97,
   "id": "67ecb4fb",
   "metadata": {},
   "outputs": [
    {
     "data": {
      "text/plain": [
       "A020006    101838\n",
       "A010002     67724\n",
       "A020010     47926\n",
       "A020036     43280\n",
       "A020008     43120\n",
       "A020023     42299\n",
       "A010004     41938\n",
       "A020007     38900\n",
       "A010001     37623\n",
       "A020096     37505\n",
       "A020013     35575\n",
       "A020028     34969\n",
       "A020037     33799\n",
       "A020016     32413\n",
       "A020059     31502\n",
       "A020104     30488\n",
       "A020110     30254\n",
       "A020025     29667\n",
       "A020099     28666\n",
       "A020004     28421\n",
       "A010034     28366\n",
       "A010017     28303\n",
       "A020065     28248\n",
       "A020058     28072\n",
       "A010026     26826\n",
       "A020092     26149\n",
       "A020078     25761\n",
       "A020057     25225\n",
       "A010037     24577\n",
       "A020073     24233\n",
       "A020075     23715\n",
       "A020085     22798\n",
       "A020015     22778\n",
       "A020012     22705\n",
       "A020082     22599\n",
       "A020081     22163\n",
       "A020042     22107\n",
       "A020068     21914\n",
       "A020101     21845\n",
       "A020020     21526\n",
       "A020103     21525\n",
       "A020093     21481\n",
       "A020112     21318\n",
       "A020026     21139\n",
       "A020005     20721\n",
       "A020077     20519\n",
       "A020050     20513\n",
       "A020044     20404\n",
       "A010045     20363\n",
       "A020069     20065\n",
       "Name: br_c, dtype: int64"
      ]
     },
     "execution_count": 97,
     "metadata": {},
     "output_type": "execute_result"
    }
   ],
   "source": [
    "pdde['br_c'].value_counts().head(50) #제일 상품이 잘 팔린 점포 상위 50개"
   ]
  },
  {
   "cell_type": "code",
   "execution_count": 3,
   "id": "7d3bb529",
   "metadata": {},
   "outputs": [
    {
     "data": {
      "text/plain": [
       "20211231"
      ]
     },
     "execution_count": 3,
     "metadata": {},
     "output_type": "execute_result"
    }
   ],
   "source": [
    "pdde['de_dt'].max()"
   ]
  },
  {
   "cell_type": "code",
   "execution_count": 4,
   "id": "6868b64f",
   "metadata": {},
   "outputs": [
    {
     "data": {
      "text/plain": [
       "20210101"
      ]
     },
     "execution_count": 4,
     "metadata": {},
     "output_type": "execute_result"
    }
   ],
   "source": [
    "pdde['de_dt'].min()"
   ]
  },
  {
   "cell_type": "code",
   "execution_count": 2,
   "id": "4bcd3116",
   "metadata": {},
   "outputs": [
    {
     "data": {
      "text/plain": [
       "0         1970-01-01 00:00:00.020210101\n",
       "1         1970-01-01 00:00:00.020210101\n",
       "2         1970-01-01 00:00:00.020210101\n",
       "3         1970-01-01 00:00:00.020210101\n",
       "4         1970-01-01 00:00:00.020210101\n",
       "                       ...             \n",
       "4381738   1970-01-01 00:00:00.020211231\n",
       "4381739   1970-01-01 00:00:00.020211231\n",
       "4381740   1970-01-01 00:00:00.020211231\n",
       "4381741   1970-01-01 00:00:00.020211231\n",
       "4381742   1970-01-01 00:00:00.020211231\n",
       "Name: de_dt, Length: 4381743, dtype: datetime64[ns]"
      ]
     },
     "execution_count": 2,
     "metadata": {},
     "output_type": "execute_result"
    }
   ],
   "source": [
    "# When you try to convert integers to dates using to_datetime, Pandas default unit is nanoseconds (since January 1, 1970). \n",
    "# That's why you're getting values like 1970-01-01 00:00:00.020201231 as a result.\n",
    "# 그렇기에 dateformat을 적어줘야 한다.\n",
    "\n",
    "wrong = pd.to_datetime(pdde['de_dt'])\n",
    "wrong\n"
   ]
  },
  {
   "cell_type": "code",
   "execution_count": 2,
   "id": "fe163871",
   "metadata": {},
   "outputs": [
    {
     "data": {
      "text/plain": [
       "0         2021-01-01\n",
       "1         2021-01-01\n",
       "2         2021-01-01\n",
       "3         2021-01-01\n",
       "4         2021-01-01\n",
       "             ...    \n",
       "4381738   2021-12-31\n",
       "4381739   2021-12-31\n",
       "4381740   2021-12-31\n",
       "4381741   2021-12-31\n",
       "4381742   2021-12-31\n",
       "Name: de_dt, Length: 4381743, dtype: datetime64[ns]"
      ]
     },
     "execution_count": 2,
     "metadata": {},
     "output_type": "execute_result"
    }
   ],
   "source": [
    "pdde['de_dt'] = pd.to_datetime(pdde['de_dt'], format='%Y%m%d')\n",
    "pdde['de_dt']\n"
   ]
  },
  {
   "cell_type": "code",
   "execution_count": 42,
   "id": "e3617310",
   "metadata": {},
   "outputs": [
    {
     "name": "stdout",
     "output_type": "stream",
     "text": [
      "<class 'pandas.core.frame.DataFrame'>\n",
      "RangeIndex: 4381743 entries, 0 to 4381742\n",
      "Data columns (total 10 columns):\n",
      " #   Column   Dtype         \n",
      "---  ------   -----         \n",
      " 0   cust     object        \n",
      " 1   rct_no   object        \n",
      " 2   chnl_dv  int64         \n",
      " 3   cop_c    object        \n",
      " 4   br_c     object        \n",
      " 5   pd_c     object        \n",
      " 6   de_dt    datetime64[ns]\n",
      " 7   de_hr    int64         \n",
      " 8   buy_am   float64       \n",
      " 9   buy_ct   int64         \n",
      "dtypes: datetime64[ns](1), float64(1), int64(3), object(5)\n",
      "memory usage: 334.3+ MB\n"
     ]
    }
   ],
   "source": [
    "pdde.info()"
   ]
  },
  {
   "cell_type": "code",
   "execution_count": 3,
   "id": "05806870",
   "metadata": {},
   "outputs": [
    {
     "data": {
      "text/html": [
       "<div>\n",
       "<style scoped>\n",
       "    .dataframe tbody tr th:only-of-type {\n",
       "        vertical-align: middle;\n",
       "    }\n",
       "\n",
       "    .dataframe tbody tr th {\n",
       "        vertical-align: top;\n",
       "    }\n",
       "\n",
       "    .dataframe thead th {\n",
       "        text-align: right;\n",
       "    }\n",
       "</style>\n",
       "<table border=\"1\" class=\"dataframe\">\n",
       "  <thead>\n",
       "    <tr style=\"text-align: right;\">\n",
       "      <th></th>\n",
       "      <th>cust</th>\n",
       "      <th>rct_no</th>\n",
       "      <th>chnl_dv</th>\n",
       "      <th>cop_c</th>\n",
       "      <th>br_c</th>\n",
       "      <th>pd_c</th>\n",
       "      <th>de_dt</th>\n",
       "      <th>de_hr</th>\n",
       "      <th>buy_am</th>\n",
       "      <th>buy_ct</th>\n",
       "      <th>payment_tm</th>\n",
       "    </tr>\n",
       "  </thead>\n",
       "  <tbody>\n",
       "    <tr>\n",
       "      <th>0</th>\n",
       "      <td>M430112881</td>\n",
       "      <td>A01000001113</td>\n",
       "      <td>1</td>\n",
       "      <td>A01</td>\n",
       "      <td>A010039</td>\n",
       "      <td>PD0290</td>\n",
       "      <td>2021-01-01</td>\n",
       "      <td>10</td>\n",
       "      <td>15000.0</td>\n",
       "      <td>1</td>\n",
       "      <td>2021-01</td>\n",
       "    </tr>\n",
       "    <tr>\n",
       "      <th>1</th>\n",
       "      <td>M646853852</td>\n",
       "      <td>A01000002265</td>\n",
       "      <td>1</td>\n",
       "      <td>A01</td>\n",
       "      <td>A010025</td>\n",
       "      <td>PD1369</td>\n",
       "      <td>2021-01-01</td>\n",
       "      <td>10</td>\n",
       "      <td>79700.0</td>\n",
       "      <td>1</td>\n",
       "      <td>2021-01</td>\n",
       "    </tr>\n",
       "    <tr>\n",
       "      <th>2</th>\n",
       "      <td>M430112881</td>\n",
       "      <td>A01000003148</td>\n",
       "      <td>1</td>\n",
       "      <td>A01</td>\n",
       "      <td>A010039</td>\n",
       "      <td>PD0290</td>\n",
       "      <td>2021-01-01</td>\n",
       "      <td>10</td>\n",
       "      <td>19000.0</td>\n",
       "      <td>1</td>\n",
       "      <td>2021-01</td>\n",
       "    </tr>\n",
       "    <tr>\n",
       "      <th>3</th>\n",
       "      <td>M430112881</td>\n",
       "      <td>A01000003148</td>\n",
       "      <td>1</td>\n",
       "      <td>A01</td>\n",
       "      <td>A010039</td>\n",
       "      <td>PD0290</td>\n",
       "      <td>2021-01-01</td>\n",
       "      <td>10</td>\n",
       "      <td>19000.0</td>\n",
       "      <td>1</td>\n",
       "      <td>2021-01</td>\n",
       "    </tr>\n",
       "    <tr>\n",
       "      <th>4</th>\n",
       "      <td>M430112881</td>\n",
       "      <td>A01000004946</td>\n",
       "      <td>1</td>\n",
       "      <td>A01</td>\n",
       "      <td>A010039</td>\n",
       "      <td>PD0290</td>\n",
       "      <td>2021-01-01</td>\n",
       "      <td>10</td>\n",
       "      <td>19000.0</td>\n",
       "      <td>1</td>\n",
       "      <td>2021-01</td>\n",
       "    </tr>\n",
       "  </tbody>\n",
       "</table>\n",
       "</div>"
      ],
      "text/plain": [
       "         cust        rct_no  chnl_dv cop_c     br_c    pd_c      de_dt  de_hr  \\\n",
       "0  M430112881  A01000001113        1   A01  A010039  PD0290 2021-01-01     10   \n",
       "1  M646853852  A01000002265        1   A01  A010025  PD1369 2021-01-01     10   \n",
       "2  M430112881  A01000003148        1   A01  A010039  PD0290 2021-01-01     10   \n",
       "3  M430112881  A01000003148        1   A01  A010039  PD0290 2021-01-01     10   \n",
       "4  M430112881  A01000004946        1   A01  A010039  PD0290 2021-01-01     10   \n",
       "\n",
       "    buy_am  buy_ct payment_tm  \n",
       "0  15000.0       1    2021-01  \n",
       "1  79700.0       1    2021-01  \n",
       "2  19000.0       1    2021-01  \n",
       "3  19000.0       1    2021-01  \n",
       "4  19000.0       1    2021-01  "
      ]
     },
     "execution_count": 3,
     "metadata": {},
     "output_type": "execute_result"
    }
   ],
   "source": [
    "pdde['payment_tm'] = pdde['de_dt'].dt.strftime(\"%Y-%m\")\n",
    "pdde.head()"
   ]
  },
  {
   "cell_type": "code",
   "execution_count": 4,
   "id": "7572ac76",
   "metadata": {},
   "outputs": [
    {
     "data": {
      "text/plain": [
       "payment_tm\n",
       "2021-01    8.460592e+09\n",
       "2021-02    8.281529e+09\n",
       "2021-03    8.809085e+09\n",
       "2021-04    8.930830e+09\n",
       "2021-05    9.889392e+09\n",
       "2021-06    7.546470e+09\n",
       "2021-07    7.450141e+09\n",
       "2021-08    7.777241e+09\n",
       "2021-09    8.578416e+09\n",
       "2021-10    8.992093e+09\n",
       "2021-11    8.402595e+09\n",
       "2021-12    8.592990e+09\n",
       "Name: buy_am, dtype: float64"
      ]
     },
     "execution_count": 4,
     "metadata": {},
     "output_type": "execute_result"
    }
   ],
   "source": [
    "pdde.groupby('payment_tm')['buy_am'].sum()"
   ]
  },
  {
   "cell_type": "markdown",
   "id": "2b78c462",
   "metadata": {},
   "source": [
    "#### 구매 금액이 제일 많은 month는?"
   ]
  },
  {
   "cell_type": "code",
   "execution_count": 12,
   "id": "fecd9152",
   "metadata": {},
   "outputs": [
    {
     "name": "stderr",
     "output_type": "stream",
     "text": [
      "C:\\Users\\katenam\\AppData\\Local\\Temp\\ipykernel_8652\\2384602093.py:8: UserWarning: FixedFormatter should only be used together with FixedLocator\n",
      "  plt.gca().set_yticklabels(['{:,.0f}'.format(x) for x in current_values])\n"
     ]
    },
    {
     "data": {
      "image/png": "[encoded data removed]",
      "text/plain": [
       "<Figure size 1440x576 with 1 Axes>"
      ]
     },
     "metadata": {
      "needs_background": "light"
     },
     "output_type": "display_data"
    }
   ],
   "source": [
    "import matplotlib.pyplot as plt\n",
    "\n",
    "plt.figure(figsize=(20,8))\n",
    "plt.plot(pdde.groupby('payment_tm')['buy_am'].sum())\n",
    "plt.xticks(fontsize=16)\n",
    "plt.yticks(fontsize=16)\n",
    "current_values = plt.gca().get_yticks()\n",
    "plt.gca().set_yticklabels(['{:,.0f}'.format(x) for x in current_values])\n",
    "plt.show()\n"
   ]
  },
  {
   "cell_type": "markdown",
   "id": "4668d1be",
   "metadata": {},
   "source": [
    "#### 구매 수량이 제일 많은 month는?"
   ]
  },
  {
   "cell_type": "code",
   "execution_count": 10,
   "id": "dc9d2291",
   "metadata": {},
   "outputs": [
    {
     "name": "stderr",
     "output_type": "stream",
     "text": [
      "C:\\Users\\katenam\\AppData\\Local\\Temp\\ipykernel_8652\\1813584842.py:6: UserWarning: FixedFormatter should only be used together with FixedLocator\n",
      "  plt.gca().set_yticklabels(['{:,.0f}'.format(x) for x in current_values])\n"
     ]
    },
    {
     "data": {
      "image/png": "[encoded data removed]",
      "text/plain": [
       "<Figure size 1440x576 with 1 Axes>"
      ]
     },
     "metadata": {
      "needs_background": "light"
     },
     "output_type": "display_data"
    }
   ],
   "source": [
    "plt.figure(figsize=(20,8))\n",
    "plt.plot(pdde.groupby('payment_tm')['buy_ct'].sum())\n",
    "plt.xticks(fontsize=16)\n",
    "plt.yticks(fontsize=16)\n",
    "current_values = plt.gca().get_yticks()\n",
    "plt.gca().set_yticklabels(['{:,.0f}'.format(x) for x in current_values])\n",
    "plt.show()"
   ]
  },
  {
   "cell_type": "code",
   "execution_count": null,
   "id": "8fa50223",
   "metadata": {},
   "outputs": [],
   "source": [
    "# CUST = 고객번호 (고객의 고유 식별번호)\n",
    "# RCT_NO = 영수증 번호 (장바구니 식별 번호)　\n",
    "# CHNL_DV = 채널 구분 (1: 오프라인 / 2: 온라인)\n",
    "\n",
    "# COP_C = 제휴사 (제휴사 구분 코드 A01~06 : 유통사)\n",
    "# PD_C = 상품 코드\n",
    "# BR_C = 점포 코드 (구매 점포 구분 코드)\n",
    "# DE_DT = 구매 일자 (YYYY/MM/DD)\n",
    "# DE_HR = 구매 시간 (HH)\n",
    "# BUY_AM = 구매 금액 (구매한 금액)\n",
    "# BUY_CT = 구매 수량 (구매한 수량)"
   ]
  },
  {
   "cell_type": "code",
   "execution_count": 84,
   "id": "06f545db",
   "metadata": {},
   "outputs": [
    {
     "data": {
      "text/html": [
       "<div>\n",
       "<style scoped>\n",
       "    .dataframe tbody tr th:only-of-type {\n",
       "        vertical-align: middle;\n",
       "    }\n",
       "\n",
       "    .dataframe tbody tr th {\n",
       "        vertical-align: top;\n",
       "    }\n",
       "\n",
       "    .dataframe thead th {\n",
       "        text-align: right;\n",
       "    }\n",
       "</style>\n",
       "<table border=\"1\" class=\"dataframe\">\n",
       "  <thead>\n",
       "    <tr style=\"text-align: right;\">\n",
       "      <th></th>\n",
       "      <th>cust</th>\n",
       "      <th>rct_no</th>\n",
       "      <th>chnl_dv</th>\n",
       "      <th>cop_c</th>\n",
       "      <th>br_c</th>\n",
       "      <th>pd_c</th>\n",
       "      <th>de_dt</th>\n",
       "      <th>de_hr</th>\n",
       "      <th>buy_am</th>\n",
       "      <th>buy_ct</th>\n",
       "      <th>payment_tm</th>\n",
       "    </tr>\n",
       "  </thead>\n",
       "  <tbody>\n",
       "    <tr>\n",
       "      <th>0</th>\n",
       "      <td>M430112881</td>\n",
       "      <td>A01000001113</td>\n",
       "      <td>1</td>\n",
       "      <td>A01</td>\n",
       "      <td>A010039</td>\n",
       "      <td>PD0290</td>\n",
       "      <td>2021-01-01</td>\n",
       "      <td>10</td>\n",
       "      <td>15000.0</td>\n",
       "      <td>1</td>\n",
       "      <td>2021-01</td>\n",
       "    </tr>\n",
       "    <tr>\n",
       "      <th>1</th>\n",
       "      <td>M646853852</td>\n",
       "      <td>A01000002265</td>\n",
       "      <td>1</td>\n",
       "      <td>A01</td>\n",
       "      <td>A010025</td>\n",
       "      <td>PD1369</td>\n",
       "      <td>2021-01-01</td>\n",
       "      <td>10</td>\n",
       "      <td>79700.0</td>\n",
       "      <td>1</td>\n",
       "      <td>2021-01</td>\n",
       "    </tr>\n",
       "    <tr>\n",
       "      <th>2</th>\n",
       "      <td>M430112881</td>\n",
       "      <td>A01000003148</td>\n",
       "      <td>1</td>\n",
       "      <td>A01</td>\n",
       "      <td>A010039</td>\n",
       "      <td>PD0290</td>\n",
       "      <td>2021-01-01</td>\n",
       "      <td>10</td>\n",
       "      <td>19000.0</td>\n",
       "      <td>1</td>\n",
       "      <td>2021-01</td>\n",
       "    </tr>\n",
       "    <tr>\n",
       "      <th>3</th>\n",
       "      <td>M430112881</td>\n",
       "      <td>A01000003148</td>\n",
       "      <td>1</td>\n",
       "      <td>A01</td>\n",
       "      <td>A010039</td>\n",
       "      <td>PD0290</td>\n",
       "      <td>2021-01-01</td>\n",
       "      <td>10</td>\n",
       "      <td>19000.0</td>\n",
       "      <td>1</td>\n",
       "      <td>2021-01</td>\n",
       "    </tr>\n",
       "    <tr>\n",
       "      <th>4</th>\n",
       "      <td>M430112881</td>\n",
       "      <td>A01000004946</td>\n",
       "      <td>1</td>\n",
       "      <td>A01</td>\n",
       "      <td>A010039</td>\n",
       "      <td>PD0290</td>\n",
       "      <td>2021-01-01</td>\n",
       "      <td>10</td>\n",
       "      <td>19000.0</td>\n",
       "      <td>1</td>\n",
       "      <td>2021-01</td>\n",
       "    </tr>\n",
       "    <tr>\n",
       "      <th>...</th>\n",
       "      <td>...</td>\n",
       "      <td>...</td>\n",
       "      <td>...</td>\n",
       "      <td>...</td>\n",
       "      <td>...</td>\n",
       "      <td>...</td>\n",
       "      <td>...</td>\n",
       "      <td>...</td>\n",
       "      <td>...</td>\n",
       "      <td>...</td>\n",
       "      <td>...</td>\n",
       "    </tr>\n",
       "    <tr>\n",
       "      <th>4381738</th>\n",
       "      <td>M533286446</td>\n",
       "      <td>E06052119978</td>\n",
       "      <td>2</td>\n",
       "      <td>A06</td>\n",
       "      <td>NaN</td>\n",
       "      <td>PD0507</td>\n",
       "      <td>2021-12-31</td>\n",
       "      <td>23</td>\n",
       "      <td>50000.0</td>\n",
       "      <td>1</td>\n",
       "      <td>2021-12</td>\n",
       "    </tr>\n",
       "    <tr>\n",
       "      <th>4381739</th>\n",
       "      <td>M533286446</td>\n",
       "      <td>E06052119978</td>\n",
       "      <td>2</td>\n",
       "      <td>A06</td>\n",
       "      <td>NaN</td>\n",
       "      <td>PD0507</td>\n",
       "      <td>2021-12-31</td>\n",
       "      <td>23</td>\n",
       "      <td>50000.0</td>\n",
       "      <td>1</td>\n",
       "      <td>2021-12</td>\n",
       "    </tr>\n",
       "    <tr>\n",
       "      <th>4381740</th>\n",
       "      <td>M533286446</td>\n",
       "      <td>E06052119978</td>\n",
       "      <td>2</td>\n",
       "      <td>A06</td>\n",
       "      <td>NaN</td>\n",
       "      <td>PD0507</td>\n",
       "      <td>2021-12-31</td>\n",
       "      <td>23</td>\n",
       "      <td>50000.0</td>\n",
       "      <td>1</td>\n",
       "      <td>2021-12</td>\n",
       "    </tr>\n",
       "    <tr>\n",
       "      <th>4381741</th>\n",
       "      <td>M533286446</td>\n",
       "      <td>E06052119978</td>\n",
       "      <td>2</td>\n",
       "      <td>A06</td>\n",
       "      <td>NaN</td>\n",
       "      <td>PD0507</td>\n",
       "      <td>2021-12-31</td>\n",
       "      <td>23</td>\n",
       "      <td>50000.0</td>\n",
       "      <td>1</td>\n",
       "      <td>2021-12</td>\n",
       "    </tr>\n",
       "    <tr>\n",
       "      <th>4381742</th>\n",
       "      <td>M533286446</td>\n",
       "      <td>E06052119978</td>\n",
       "      <td>2</td>\n",
       "      <td>A06</td>\n",
       "      <td>NaN</td>\n",
       "      <td>PD0507</td>\n",
       "      <td>2021-12-31</td>\n",
       "      <td>23</td>\n",
       "      <td>50000.0</td>\n",
       "      <td>1</td>\n",
       "      <td>2021-12</td>\n",
       "    </tr>\n",
       "  </tbody>\n",
       "</table>\n",
       "<p>4381743 rows × 11 columns</p>\n",
       "</div>"
      ],
      "text/plain": [
       "               cust        rct_no  chnl_dv cop_c     br_c    pd_c      de_dt  \\\n",
       "0        M430112881  A01000001113        1   A01  A010039  PD0290 2021-01-01   \n",
       "1        M646853852  A01000002265        1   A01  A010025  PD1369 2021-01-01   \n",
       "2        M430112881  A01000003148        1   A01  A010039  PD0290 2021-01-01   \n",
       "3        M430112881  A01000003148        1   A01  A010039  PD0290 2021-01-01   \n",
       "4        M430112881  A01000004946        1   A01  A010039  PD0290 2021-01-01   \n",
       "...             ...           ...      ...   ...      ...     ...        ...   \n",
       "4381738  M533286446  E06052119978        2   A06      NaN  PD0507 2021-12-31   \n",
       "4381739  M533286446  E06052119978        2   A06      NaN  PD0507 2021-12-31   \n",
       "4381740  M533286446  E06052119978        2   A06      NaN  PD0507 2021-12-31   \n",
       "4381741  M533286446  E06052119978        2   A06      NaN  PD0507 2021-12-31   \n",
       "4381742  M533286446  E06052119978        2   A06      NaN  PD0507 2021-12-31   \n",
       "\n",
       "         de_hr   buy_am  buy_ct payment_tm  \n",
       "0           10  15000.0       1    2021-01  \n",
       "1           10  79700.0       1    2021-01  \n",
       "2           10  19000.0       1    2021-01  \n",
       "3           10  19000.0       1    2021-01  \n",
       "4           10  19000.0       1    2021-01  \n",
       "...        ...      ...     ...        ...  \n",
       "4381738     23  50000.0       1    2021-12  \n",
       "4381739     23  50000.0       1    2021-12  \n",
       "4381740     23  50000.0       1    2021-12  \n",
       "4381741     23  50000.0       1    2021-12  \n",
       "4381742     23  50000.0       1    2021-12  \n",
       "\n",
       "[4381743 rows x 11 columns]"
      ]
     },
     "execution_count": 84,
     "metadata": {},
     "output_type": "execute_result"
    }
   ],
   "source": [
    "pdde"
   ]
  },
  {
   "cell_type": "code",
   "execution_count": 86,
   "id": "caf0651a",
   "metadata": {},
   "outputs": [
    {
     "data": {
      "text/plain": [
       "cust               0\n",
       "rct_no             0\n",
       "chnl_dv            0\n",
       "cop_c              0\n",
       "br_c          428501\n",
       "pd_c               0\n",
       "de_dt              0\n",
       "de_hr              0\n",
       "buy_am             0\n",
       "buy_ct             0\n",
       "payment_tm         0\n",
       "dtype: int64"
      ]
     },
     "execution_count": 86,
     "metadata": {},
     "output_type": "execute_result"
    }
   ],
   "source": [
    "pdde.isnull().sum()"
   ]
  },
  {
   "cell_type": "code",
   "execution_count": 98,
   "id": "1bdd1748",
   "metadata": {},
   "outputs": [
    {
     "data": {
      "text/plain": [
       "array([nan], dtype=object)"
      ]
     },
     "execution_count": 98,
     "metadata": {},
     "output_type": "execute_result"
    }
   ],
   "source": [
    "pdde[pdde.chnl_dv == 2]['br_c'].unique()\n",
    "\n",
    "# 온라인으로 상품을 구매하면 점포코드(br_c)가 nan으로 뜬다."
   ]
  },
  {
   "cell_type": "code",
   "execution_count": 99,
   "id": "fcf45bdc",
   "metadata": {},
   "outputs": [
    {
     "data": {
      "text/plain": [
       "6755"
      ]
     },
     "execution_count": 99,
     "metadata": {},
     "output_type": "execute_result"
    }
   ],
   "source": [
    "pdde['br_c'].nunique()"
   ]
  },
  {
   "cell_type": "code",
   "execution_count": 102,
   "id": "588149a3",
   "metadata": {},
   "outputs": [
    {
     "name": "stdout",
     "output_type": "stream",
     "text": [
      "pd_c\n",
      "PD0001    A010017A010037A010027A010027A010034A010006A010...\n",
      "PD0002    A010030A010003A020007A020034A020026A020095A020...\n",
      "PD0003    A020093A020096A020114A020114A020096A020096A020...\n",
      "PD0004    A010028A010002A010002A010002A010002A020065A020...\n",
      "PD0005    A010043A010043A010025A010020A010020A010008A010...\n",
      "                                ...                        \n",
      "PD1929    A010020A010041A010041A010001A010017A010017A010...\n",
      "PD1930    A010037A010013A010013A010009A010002A010002A010...\n",
      "PD1931    A010041A010001A010002A010002A010002A010002A010...\n",
      "PD1932    A010037A010041A010004A010041A010004A010017A010...\n",
      "PD1933    A010017A010041A010041A010041A010041A010041A010...\n",
      "Name: br_c, Length: 1933, dtype: object\n"
     ]
    }
   ],
   "source": []
  },
  {
   "cell_type": "code",
   "execution_count": 32,
   "id": "026e8052",
   "metadata": {},
   "outputs": [
    {
     "data": {
      "text/plain": [
       "payment_tm\n",
       "2021-01    499782\n",
       "2021-02    429725\n",
       "2021-03    473064\n",
       "2021-04    478713\n",
       "2021-05    476859\n",
       "2021-06    356482\n",
       "2021-07    398424\n",
       "2021-08    379734\n",
       "2021-09    339649\n",
       "2021-10    346033\n",
       "2021-11    291820\n",
       "2021-12    339959\n",
       "Name: chnl_dv, dtype: int64"
      ]
     },
     "execution_count": 32,
     "metadata": {},
     "output_type": "execute_result"
    }
   ],
   "source": [
    "chnldv_sum_by_month = pdde.groupby('payment_tm')['chnl_dv'].sum()\n",
    "chnldv_sum_by_month\n"
   ]
  },
  {
   "cell_type": "code",
   "execution_count": 30,
   "id": "b5e46742",
   "metadata": {},
   "outputs": [
    {
     "data": {
      "text/plain": [
       "payment_tm\n",
       "2021-01    342286\n",
       "2021-02    302703\n",
       "2021-03    329916\n",
       "2021-04    328709\n",
       "2021-05    365141\n",
       "2021-06    336822\n",
       "2021-07    368216\n",
       "2021-08    351736\n",
       "2021-09    315227\n",
       "2021-10    323425\n",
       "2021-11    271544\n",
       "2021-12    317517\n",
       "Name: chnl_dv, dtype: int64"
      ]
     },
     "execution_count": 30,
     "metadata": {},
     "output_type": "execute_result"
    }
   ],
   "source": [
    "# 월(month)별로 오프라인 주문 집계\n",
    "\n",
    "chnldv_sum_by_month_off = pdde[pdde['chnl_dv'] == 1].groupby('payment_tm')['chnl_dv'].sum()\n",
    "chnldv_sum_by_month_off"
   ]
  },
  {
   "cell_type": "code",
   "execution_count": 31,
   "id": "0978d9ba",
   "metadata": {},
   "outputs": [
    {
     "data": {
      "text/plain": [
       "payment_tm\n",
       "2021-01    157496\n",
       "2021-02    127022\n",
       "2021-03    143148\n",
       "2021-04    150004\n",
       "2021-05    111718\n",
       "2021-06     19660\n",
       "2021-07     30208\n",
       "2021-08     27998\n",
       "2021-09     24422\n",
       "2021-10     22608\n",
       "2021-11     20276\n",
       "2021-12     22442\n",
       "Name: chnl_dv, dtype: int64"
      ]
     },
     "execution_count": 31,
     "metadata": {},
     "output_type": "execute_result"
    }
   ],
   "source": [
    "# 월(month)별로 온라인 주문 집계\n",
    "\n",
    "chnldv_sum_by_month_on = pdde[pdde['chnl_dv'] == 2].groupby('payment_tm')['chnl_dv'].sum()\n",
    "chnldv_sum_by_month_on"
   ]
  },
  {
   "cell_type": "code",
   "execution_count": 56,
   "id": "490f458a",
   "metadata": {},
   "outputs": [
    {
     "data": {
      "image/png": "[encoded data removed]",
      "text/plain": [
       "<Figure size 432x288 with 1 Axes>"
      ]
     },
     "metadata": {
      "needs_background": "light"
     },
     "output_type": "display_data"
    },
    {
     "data": {
      "text/plain": [
       "<Figure size 1440x576 with 0 Axes>"
      ]
     },
     "metadata": {},
     "output_type": "display_data"
    }
   ],
   "source": [
    "# https://rfriend.tistory.com/411\n",
    "\n",
    "bar_width = 0.35\n",
    "\n",
    "alpha = 0.5\n",
    "\n",
    "label = ['1', '2', '3', '4', '5', '6',\n",
    "         '7', '8', '9', '10', '11', '12']\n",
    "\n",
    "N = len(pdde['payment_tm'].unique())\n",
    "index = np.arange(N)\n",
    "\n",
    "\n",
    "p1 = plt.bar(index, chnldv_sum_by_month_off,\n",
    "             bar_width,\n",
    "             color='b',\n",
    "             alpha=alpha,\n",
    "             label='OFFLINE')\n",
    "\n",
    "p2 = plt.bar(index + bar_width, chnldv_sum_by_month_on,\n",
    "             bar_width,\n",
    "             color='r',\n",
    "             alpha=alpha,\n",
    "             label='ONLINE')\n",
    "\n",
    "\n",
    "\n",
    "plt.title('OFFLINE & ONLINE SUM BY MONTH', fontsize=20)\n",
    "plt.ylabel('Sum', fontsize=18)\n",
    "plt.xlabel('Month', fontsize=18)\n",
    "plt.xticks(index, label, fontsize=15)\n",
    "plt.legend((p1[0], p2[0]), ('OFFLINE', 'ONLINE'), fontsize=8)\n",
    "plt.figure(figsize=(20, 8))\n",
    "plt.show()\n"
   ]
  },
  {
   "cell_type": "code",
   "execution_count": null,
   "id": "debc33c2",
   "metadata": {},
   "outputs": [],
   "source": [
    "# (Q) 6월부터 갑자기 온라인 주문이 급격히 줄어든 이유는?"
   ]
  },
  {
   "cell_type": "code",
   "execution_count": 64,
   "id": "22b0a44a",
   "metadata": {},
   "outputs": [
    {
     "data": {
      "text/plain": [
       "24"
      ]
     },
     "execution_count": 64,
     "metadata": {},
     "output_type": "execute_result"
    }
   ],
   "source": [
    "len(pdde['de_hr'].unique())"
   ]
  },
  {
   "cell_type": "code",
   "execution_count": 74,
   "id": "495b36cd",
   "metadata": {},
   "outputs": [
    {
     "name": "stderr",
     "output_type": "stream",
     "text": [
      "C:\\Users\\katenam\\AppData\\Local\\Temp\\ipykernel_8652\\2603155373.py:8: UserWarning: FixedFormatter should only be used together with FixedLocator\n",
      "  plt.gca().set_yticklabels(['{:,.0f}'.format(x) for x in current_values])\n"
     ]
    },
    {
     "data": {
      "image/png": "[encoded data removed]",
      "text/plain": [
       "<Figure size 1440x576 with 1 Axes>"
      ]
     },
     "metadata": {
      "needs_background": "light"
     },
     "output_type": "display_data"
    }
   ],
   "source": [
    "import matplotlib.pyplot as plt\n",
    "\n",
    "plt.figure(figsize=(20,8))\n",
    "plt.plot(pdde.groupby('de_hr')['buy_am'].sum())\n",
    "plt.xticks(fontsize=16)\n",
    "plt.yticks(fontsize=16)\n",
    "current_values = plt.gca().get_yticks()\n",
    "plt.gca().set_yticklabels(['{:,.0f}'.format(x) for x in current_values])\n",
    "plt.show()"
   ]
  },
  {
   "cell_type": "code",
   "execution_count": 83,
   "id": "642a2ab1",
   "metadata": {},
   "outputs": [
    {
     "name": "stderr",
     "output_type": "stream",
     "text": [
      "C:\\Users\\katenam\\AppData\\Local\\Temp\\ipykernel_8652\\2355686362.py:6: UserWarning: FixedFormatter should only be used together with FixedLocator\n",
      "  plt.gca().set_yticklabels(['{:,.0f}'.format(x) for x in current_values])\n"
     ]
    },
    {
     "data": {
      "image/png": "[encoded data removed]",
      "text/plain": [
       "<Figure size 1440x576 with 1 Axes>"
      ]
     },
     "metadata": {
      "needs_background": "light"
     },
     "output_type": "display_data"
    }
   ],
   "source": [
    "plt.figure(figsize=(20,8))\n",
    "plt.plot(pdde.groupby('de_hr')['buy_ct'].sum())\n",
    "plt.xticks(fontsize=16)\n",
    "plt.yticks(fontsize=16)\n",
    "current_values = plt.gca().get_yticks()\n",
    "plt.gca().set_yticklabels(['{:,.0f}'.format(x) for x in current_values])\n",
    "plt.show()"
   ]
  },
  {
   "cell_type": "code",
   "execution_count": 76,
   "id": "26ccaf27",
   "metadata": {},
   "outputs": [
    {
     "data": {
      "text/plain": [
       "<AxesSubplot:>"
      ]
     },
     "execution_count": 76,
     "metadata": {},
     "output_type": "execute_result"
    },
    {
     "data": {
      "image/png": "[encoded data removed]",
      "text/plain": [
       "<Figure size 1440x576 with 1 Axes>"
      ]
     },
     "metadata": {
      "needs_background": "light"
     },
     "output_type": "display_data"
    }
   ],
   "source": [
    "dehr = pdde['de_hr'].value_counts().plot(kind='bar',\n",
    "                                    figsize=(20,8))\n",
    "                                    #title=\"Number for each Owner Name\")\n",
    "#ax.set_xlabel(\"Owner Names\")\n",
    "#ax.set_ylabel(\"Frequency\")\n",
    "\n",
    "# 한글 폰트 사용을 위해서 세팅\n",
    "font_path = \"C:/Users/katenam/AppData/Local/Microsoft/Windows/Fonts/malgun.ttf\"\n",
    "font = font_manager.FontProperties(fname=font_path).get_name()\n",
    "rc('font', family=font)\n",
    "\n",
    "dehr"
   ]
  },
  {
   "cell_type": "code",
   "execution_count": 82,
   "id": "1eda0e15",
   "metadata": {},
   "outputs": [
    {
     "name": "stderr",
     "output_type": "stream",
     "text": [
      "C:\\Users\\katenam\\AppData\\Local\\Temp\\ipykernel_8652\\2946055444.py:13: UserWarning: FixedFormatter should only be used together with FixedLocator\n",
      "  plt.gca().set_yticklabels(['{:,.0f}'.format(x) for x in current_values])\n"
     ]
    },
    {
     "data": {
      "image/png": "[encoded data removed]",
      "text/plain": [
       "<Figure size 720x576 with 1 Axes>"
      ]
     },
     "metadata": {
      "needs_background": "light"
     },
     "output_type": "display_data"
    }
   ],
   "source": [
    "dehr_order = pdde['de_hr'].value_counts()\n",
    "\n",
    "dorders = [1, 2, 3, 4, 5, 6, 7, 8, 9, 10, 11, 12, 13, 14, 15, 16, 17, 18, 19, 20, 21, 22, 23]\n",
    "d_order = dehr_order.loc[dorders]\n",
    "\n",
    "plt.figure(figsize=(10, 8))\n",
    "plt.bar(d_order.index, d_order.values)\n",
    "#plt.title(\"Bar plot after reordering x-axis label\", fontsize=20)\n",
    "#plt.xlabel(fontsize=18)\n",
    "plt.xticks(fontsize=16)\n",
    "plt.yticks(fontsize=16)\n",
    "current_values = plt.gca().get_yticks()\n",
    "plt.gca().set_yticklabels(['{:,.0f}'.format(x) for x in current_values])\n",
    "plt.show()\n",
    "\n"
   ]
  },
  {
   "cell_type": "code",
   "execution_count": null,
   "id": "3186bd5a",
   "metadata": {},
   "outputs": [],
   "source": [
    "# 특정 상품이 어떤 매장에서 제일 잘 팔렸는지 검색하기"
   ]
  },
  {
   "cell_type": "code",
   "execution_count": null,
   "id": "bd365665",
   "metadata": {},
   "outputs": [],
   "source": []
  },
  {
   "cell_type": "code",
   "execution_count": null,
   "id": "a6e40615",
   "metadata": {},
   "outputs": [],
   "source": []
  },
  {
   "cell_type": "code",
   "execution_count": null,
   "id": "3bf7eb86",
   "metadata": {},
   "outputs": [],
   "source": []
  },
  {
   "cell_type": "markdown",
   "id": "7f379f88",
   "metadata": {},
   "source": [
    "## EDA(copu)"
   ]
  },
  {
   "cell_type": "code",
   "execution_count": 103,
   "id": "8367321d",
   "metadata": {},
   "outputs": [
    {
     "data": {
      "text/html": [
       "<div>\n",
       "<style scoped>\n",
       "    .dataframe tbody tr th:only-of-type {\n",
       "        vertical-align: middle;\n",
       "    }\n",
       "\n",
       "    .dataframe tbody tr th {\n",
       "        vertical-align: top;\n",
       "    }\n",
       "\n",
       "    .dataframe thead th {\n",
       "        text-align: right;\n",
       "    }\n",
       "</style>\n",
       "<table border=\"1\" class=\"dataframe\">\n",
       "  <thead>\n",
       "    <tr style=\"text-align: right;\">\n",
       "      <th></th>\n",
       "      <th>cust</th>\n",
       "      <th>rct_no</th>\n",
       "      <th>cop_c</th>\n",
       "      <th>br_c</th>\n",
       "      <th>chnl_dv</th>\n",
       "      <th>de_dt</th>\n",
       "      <th>vst_dt</th>\n",
       "      <th>de_hr</th>\n",
       "      <th>buy_am</th>\n",
       "    </tr>\n",
       "  </thead>\n",
       "  <tbody>\n",
       "    <tr>\n",
       "      <th>0</th>\n",
       "      <td>M839993508</td>\n",
       "      <td>21102612B015763935</td>\n",
       "      <td>B01</td>\n",
       "      <td>B010012</td>\n",
       "      <td>1</td>\n",
       "      <td>20211026</td>\n",
       "      <td>20211026</td>\n",
       "      <td>12</td>\n",
       "      <td>60000</td>\n",
       "    </tr>\n",
       "    <tr>\n",
       "      <th>1</th>\n",
       "      <td>M839993508</td>\n",
       "      <td>21110610B014219744</td>\n",
       "      <td>B01</td>\n",
       "      <td>B010012</td>\n",
       "      <td>1</td>\n",
       "      <td>20211106</td>\n",
       "      <td>20211106</td>\n",
       "      <td>10</td>\n",
       "      <td>17100</td>\n",
       "    </tr>\n",
       "    <tr>\n",
       "      <th>2</th>\n",
       "      <td>M839993508</td>\n",
       "      <td>21021112B013419710</td>\n",
       "      <td>B01</td>\n",
       "      <td>B010012</td>\n",
       "      <td>1</td>\n",
       "      <td>20210211</td>\n",
       "      <td>20210211</td>\n",
       "      <td>12</td>\n",
       "      <td>136500</td>\n",
       "    </tr>\n",
       "    <tr>\n",
       "      <th>3</th>\n",
       "      <td>M839993508</td>\n",
       "      <td>21092010B012637545</td>\n",
       "      <td>B01</td>\n",
       "      <td>B010012</td>\n",
       "      <td>1</td>\n",
       "      <td>20210920</td>\n",
       "      <td>20210920</td>\n",
       "      <td>10</td>\n",
       "      <td>34200</td>\n",
       "    </tr>\n",
       "    <tr>\n",
       "      <th>4</th>\n",
       "      <td>M839993508</td>\n",
       "      <td>21101009D015920171</td>\n",
       "      <td>D01</td>\n",
       "      <td>D010614</td>\n",
       "      <td>1</td>\n",
       "      <td>20211010</td>\n",
       "      <td>20211010</td>\n",
       "      <td>9</td>\n",
       "      <td>2500</td>\n",
       "    </tr>\n",
       "    <tr>\n",
       "      <th>...</th>\n",
       "      <td>...</td>\n",
       "      <td>...</td>\n",
       "      <td>...</td>\n",
       "      <td>...</td>\n",
       "      <td>...</td>\n",
       "      <td>...</td>\n",
       "      <td>...</td>\n",
       "      <td>...</td>\n",
       "      <td>...</td>\n",
       "    </tr>\n",
       "    <tr>\n",
       "      <th>248299</th>\n",
       "      <td>M058650684</td>\n",
       "      <td>21111614C021426818</td>\n",
       "      <td>C02</td>\n",
       "      <td>C020002</td>\n",
       "      <td>1</td>\n",
       "      <td>20211116</td>\n",
       "      <td>20211116</td>\n",
       "      <td>14</td>\n",
       "      <td>2000</td>\n",
       "    </tr>\n",
       "    <tr>\n",
       "      <th>248300</th>\n",
       "      <td>M058650684</td>\n",
       "      <td>21111619C023223432</td>\n",
       "      <td>C02</td>\n",
       "      <td>C020002</td>\n",
       "      <td>1</td>\n",
       "      <td>20211116</td>\n",
       "      <td>20211116</td>\n",
       "      <td>19</td>\n",
       "      <td>26900</td>\n",
       "    </tr>\n",
       "    <tr>\n",
       "      <th>248301</th>\n",
       "      <td>M014154595</td>\n",
       "      <td>21121209C015324520</td>\n",
       "      <td>C01</td>\n",
       "      <td>C010087</td>\n",
       "      <td>2</td>\n",
       "      <td>20211212</td>\n",
       "      <td>20211212</td>\n",
       "      <td>9</td>\n",
       "      <td>2000</td>\n",
       "    </tr>\n",
       "    <tr>\n",
       "      <th>248302</th>\n",
       "      <td>M510878172</td>\n",
       "      <td>21112719C013369102</td>\n",
       "      <td>C01</td>\n",
       "      <td>C010007</td>\n",
       "      <td>2</td>\n",
       "      <td>20211127</td>\n",
       "      <td>20211127</td>\n",
       "      <td>19</td>\n",
       "      <td>6000</td>\n",
       "    </tr>\n",
       "    <tr>\n",
       "      <th>248303</th>\n",
       "      <td>M761634870</td>\n",
       "      <td>21122419C013829696</td>\n",
       "      <td>C01</td>\n",
       "      <td>C010014</td>\n",
       "      <td>2</td>\n",
       "      <td>20211224</td>\n",
       "      <td>20211225</td>\n",
       "      <td>19</td>\n",
       "      <td>28000</td>\n",
       "    </tr>\n",
       "  </tbody>\n",
       "</table>\n",
       "<p>248304 rows × 9 columns</p>\n",
       "</div>"
      ],
      "text/plain": [
       "              cust              rct_no cop_c     br_c  chnl_dv     de_dt  \\\n",
       "0       M839993508  21102612B015763935   B01  B010012        1  20211026   \n",
       "1       M839993508  21110610B014219744   B01  B010012        1  20211106   \n",
       "2       M839993508  21021112B013419710   B01  B010012        1  20210211   \n",
       "3       M839993508  21092010B012637545   B01  B010012        1  20210920   \n",
       "4       M839993508  21101009D015920171   D01  D010614        1  20211010   \n",
       "...            ...                 ...   ...      ...      ...       ...   \n",
       "248299  M058650684  21111614C021426818   C02  C020002        1  20211116   \n",
       "248300  M058650684  21111619C023223432   C02  C020002        1  20211116   \n",
       "248301  M014154595  21121209C015324520   C01  C010087        2  20211212   \n",
       "248302  M510878172  21112719C013369102   C01  C010007        2  20211127   \n",
       "248303  M761634870  21122419C013829696   C01  C010014        2  20211224   \n",
       "\n",
       "          vst_dt  de_hr  buy_am  \n",
       "0       20211026     12   60000  \n",
       "1       20211106     10   17100  \n",
       "2       20210211     12  136500  \n",
       "3       20210920     10   34200  \n",
       "4       20211010      9    2500  \n",
       "...          ...    ...     ...  \n",
       "248299  20211116     14    2000  \n",
       "248300  20211116     19   26900  \n",
       "248301  20211212      9    2000  \n",
       "248302  20211127     19    6000  \n",
       "248303  20211225     19   28000  \n",
       "\n",
       "[248304 rows x 9 columns]"
      ]
     },
     "execution_count": 103,
     "metadata": {},
     "output_type": "execute_result"
    }
   ],
   "source": [
    "copu"
   ]
  },
  {
   "cell_type": "code",
   "execution_count": null,
   "id": "866710d0",
   "metadata": {},
   "outputs": [],
   "source": []
  }
 ],
 "metadata": {
  "kernelspec": {
   "display_name": "Python 3 (ipykernel)",
   "language": "python",
   "name": "python3"
  },
  "language_info": {
   "codemirror_mode": {
    "name": "ipython",
    "version": 3
   },
   "file_extension": ".py",
   "mimetype": "text/x-python",
   "name": "python",
   "nbconvert_exporter": "python",
   "pygments_lexer": "ipython3",
   "version": "3.9.12"
  }
 },
 "nbformat": 4,
 "nbformat_minor": 5
}
