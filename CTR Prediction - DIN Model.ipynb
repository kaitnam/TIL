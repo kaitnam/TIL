{
 "cells": [
  {
   "cell_type": "code",
   "execution_count": 2,
   "id": "7db12567",
   "metadata": {},
   "outputs": [],
   "source": [
    "# https://www.kaggle.com/code/pavansanagapati/ad-ctr-prediction-din-model/notebook"
   ]
  },
  {
   "cell_type": "code",
   "execution_count": 4,
   "id": "129e746c",
   "metadata": {},
   "outputs": [],
   "source": [
    "from sklearn.metrics import log_loss, roc_auc_score\n",
    "from sklearn.model_selection import StratifiedKFold\n",
    "from sklearn.preprocessing import LabelEncoder\n",
    "from tensorflow.keras.models import Model, load_model\n",
    "from deepctr.models import DIN\n",
    "from deepctr.inputs import SparseFeat,VarLenSparseFeat,DenseFeat,get_feature_names\n",
    "from tensorflow.keras.callbacks import ModelCheckpoint, LearningRateScheduler, Callback\n",
    "from sklearn.preprocessing import OrdinalEncoder, LabelEncoder, OneHotEncoder\n",
    "from tensorflow.keras.utils import get_custom_objects\n",
    "from tensorflow.keras.optimizers import Adam,RMSprop\n",
    "from tensorflow.keras.layers import Activation\n",
    "from tensorflow.keras import backend as K\n",
    "from tensorflow.keras import callbacks\n",
    "from tensorflow.keras import utils\n",
    "import tensorflow.keras as keras\n",
    "import tensorflow as tf\n",
    "import pandas as pd\n",
    "import numpy as np\n",
    "import warnings\n",
    "import pandas_profiling \n",
    "from sklearn.metrics import log_loss, roc_auc_score\n",
    "from sklearn.model_selection import train_test_split\n",
    "from sklearn.preprocessing import MinMaxScaler\n",
    "warnings.simplefilter('ignore')"
   ]
  },
  {
   "cell_type": "markdown",
   "id": "a68cb37b",
   "metadata": {},
   "source": [
    "## Load Taobao Dataset"
   ]
  },
  {
   "cell_type": "code",
   "execution_count": 6,
   "id": "d827ee9c",
   "metadata": {},
   "outputs": [],
   "source": [
    "raw_sample_df = pd.read_csv(\"E:/Kaggle_Practice/Ad CTR Prediction - DIN Model/raw_sample.csv\")\n",
    "ad_feature_df = pd.read_csv(\"E:/Kaggle_Practice/Ad CTR Prediction - DIN Model/ad_feature.csv\")\n",
    "user_profile_df = pd.read_csv(\"E:/Kaggle_Practice/Ad CTR Prediction - DIN Model/user_profile.csv\")"
   ]
  },
  {
   "cell_type": "code",
   "execution_count": 7,
   "id": "85682544",
   "metadata": {},
   "outputs": [
    {
     "data": {
      "text/html": [
       "<div>\n",
       "<style scoped>\n",
       "    .dataframe tbody tr th:only-of-type {\n",
       "        vertical-align: middle;\n",
       "    }\n",
       "\n",
       "    .dataframe tbody tr th {\n",
       "        vertical-align: top;\n",
       "    }\n",
       "\n",
       "    .dataframe thead th {\n",
       "        text-align: right;\n",
       "    }\n",
       "</style>\n",
       "<table border=\"1\" class=\"dataframe\">\n",
       "  <thead>\n",
       "    <tr style=\"text-align: right;\">\n",
       "      <th></th>\n",
       "      <th>user</th>\n",
       "      <th>time_stamp</th>\n",
       "      <th>adgroup_id</th>\n",
       "      <th>pid</th>\n",
       "      <th>nonclk</th>\n",
       "      <th>clk</th>\n",
       "    </tr>\n",
       "  </thead>\n",
       "  <tbody>\n",
       "    <tr>\n",
       "      <th>0</th>\n",
       "      <td>581738</td>\n",
       "      <td>1494137644</td>\n",
       "      <td>1</td>\n",
       "      <td>430548_1007</td>\n",
       "      <td>1</td>\n",
       "      <td>0</td>\n",
       "    </tr>\n",
       "    <tr>\n",
       "      <th>1</th>\n",
       "      <td>449818</td>\n",
       "      <td>1494638778</td>\n",
       "      <td>3</td>\n",
       "      <td>430548_1007</td>\n",
       "      <td>1</td>\n",
       "      <td>0</td>\n",
       "    </tr>\n",
       "    <tr>\n",
       "      <th>2</th>\n",
       "      <td>914836</td>\n",
       "      <td>1494650879</td>\n",
       "      <td>4</td>\n",
       "      <td>430548_1007</td>\n",
       "      <td>1</td>\n",
       "      <td>0</td>\n",
       "    </tr>\n",
       "    <tr>\n",
       "      <th>3</th>\n",
       "      <td>914836</td>\n",
       "      <td>1494651029</td>\n",
       "      <td>5</td>\n",
       "      <td>430548_1007</td>\n",
       "      <td>1</td>\n",
       "      <td>0</td>\n",
       "    </tr>\n",
       "    <tr>\n",
       "      <th>4</th>\n",
       "      <td>399907</td>\n",
       "      <td>1494302958</td>\n",
       "      <td>8</td>\n",
       "      <td>430548_1007</td>\n",
       "      <td>1</td>\n",
       "      <td>0</td>\n",
       "    </tr>\n",
       "  </tbody>\n",
       "</table>\n",
       "</div>"
      ],
      "text/plain": [
       "     user  time_stamp  adgroup_id          pid  nonclk  clk\n",
       "0  581738  1494137644           1  430548_1007       1    0\n",
       "1  449818  1494638778           3  430548_1007       1    0\n",
       "2  914836  1494650879           4  430548_1007       1    0\n",
       "3  914836  1494651029           5  430548_1007       1    0\n",
       "4  399907  1494302958           8  430548_1007       1    0"
      ]
     },
     "execution_count": 7,
     "metadata": {},
     "output_type": "execute_result"
    }
   ],
   "source": [
    "raw_sample_df.head()"
   ]
  },
  {
   "cell_type": "code",
   "execution_count": 8,
   "id": "283c0462",
   "metadata": {},
   "outputs": [
    {
     "name": "stdout",
     "output_type": "stream",
     "text": [
      "<class 'pandas.core.frame.DataFrame'>\n",
      "RangeIndex: 26557961 entries, 0 to 26557960\n",
      "Data columns (total 6 columns):\n",
      " #   Column      Dtype \n",
      "---  ------      ----- \n",
      " 0   user        int64 \n",
      " 1   time_stamp  int64 \n",
      " 2   adgroup_id  int64 \n",
      " 3   pid         object\n",
      " 4   nonclk      int64 \n",
      " 5   clk         int64 \n",
      "dtypes: int64(5), object(1)\n",
      "memory usage: 1.2+ GB\n"
     ]
    }
   ],
   "source": [
    "raw_sample_df.info()"
   ]
  },
  {
   "cell_type": "code",
   "execution_count": 9,
   "id": "9bf1ddc5",
   "metadata": {},
   "outputs": [
    {
     "data": {
      "text/html": [
       "<div>\n",
       "<style scoped>\n",
       "    .dataframe tbody tr th:only-of-type {\n",
       "        vertical-align: middle;\n",
       "    }\n",
       "\n",
       "    .dataframe tbody tr th {\n",
       "        vertical-align: top;\n",
       "    }\n",
       "\n",
       "    .dataframe thead th {\n",
       "        text-align: right;\n",
       "    }\n",
       "</style>\n",
       "<table border=\"1\" class=\"dataframe\">\n",
       "  <thead>\n",
       "    <tr style=\"text-align: right;\">\n",
       "      <th></th>\n",
       "      <th>adgroup_id</th>\n",
       "      <th>cate_id</th>\n",
       "      <th>campaign_id</th>\n",
       "      <th>customer</th>\n",
       "      <th>brand</th>\n",
       "      <th>price</th>\n",
       "    </tr>\n",
       "  </thead>\n",
       "  <tbody>\n",
       "    <tr>\n",
       "      <th>0</th>\n",
       "      <td>63133</td>\n",
       "      <td>6406</td>\n",
       "      <td>83237</td>\n",
       "      <td>1</td>\n",
       "      <td>95471.0</td>\n",
       "      <td>170.00</td>\n",
       "    </tr>\n",
       "    <tr>\n",
       "      <th>1</th>\n",
       "      <td>313401</td>\n",
       "      <td>6406</td>\n",
       "      <td>83237</td>\n",
       "      <td>1</td>\n",
       "      <td>87331.0</td>\n",
       "      <td>199.00</td>\n",
       "    </tr>\n",
       "    <tr>\n",
       "      <th>2</th>\n",
       "      <td>248909</td>\n",
       "      <td>392</td>\n",
       "      <td>83237</td>\n",
       "      <td>1</td>\n",
       "      <td>32233.0</td>\n",
       "      <td>38.00</td>\n",
       "    </tr>\n",
       "    <tr>\n",
       "      <th>3</th>\n",
       "      <td>208458</td>\n",
       "      <td>392</td>\n",
       "      <td>83237</td>\n",
       "      <td>1</td>\n",
       "      <td>174374.0</td>\n",
       "      <td>139.00</td>\n",
       "    </tr>\n",
       "    <tr>\n",
       "      <th>4</th>\n",
       "      <td>110847</td>\n",
       "      <td>7211</td>\n",
       "      <td>135256</td>\n",
       "      <td>2</td>\n",
       "      <td>145952.0</td>\n",
       "      <td>32.99</td>\n",
       "    </tr>\n",
       "  </tbody>\n",
       "</table>\n",
       "</div>"
      ],
      "text/plain": [
       "   adgroup_id  cate_id  campaign_id  customer     brand   price\n",
       "0       63133     6406        83237         1   95471.0  170.00\n",
       "1      313401     6406        83237         1   87331.0  199.00\n",
       "2      248909      392        83237         1   32233.0   38.00\n",
       "3      208458      392        83237         1  174374.0  139.00\n",
       "4      110847     7211       135256         2  145952.0   32.99"
      ]
     },
     "execution_count": 9,
     "metadata": {},
     "output_type": "execute_result"
    }
   ],
   "source": [
    "ad_feature_df.head()"
   ]
  },
  {
   "cell_type": "code",
   "execution_count": 10,
   "id": "ca1dabb4",
   "metadata": {},
   "outputs": [
    {
     "name": "stdout",
     "output_type": "stream",
     "text": [
      "<class 'pandas.core.frame.DataFrame'>\n",
      "RangeIndex: 846811 entries, 0 to 846810\n",
      "Data columns (total 6 columns):\n",
      " #   Column       Non-Null Count   Dtype  \n",
      "---  ------       --------------   -----  \n",
      " 0   adgroup_id   846811 non-null  int64  \n",
      " 1   cate_id      846811 non-null  int64  \n",
      " 2   campaign_id  846811 non-null  int64  \n",
      " 3   customer     846811 non-null  int64  \n",
      " 4   brand        600481 non-null  float64\n",
      " 5   price        846811 non-null  float64\n",
      "dtypes: float64(2), int64(4)\n",
      "memory usage: 38.8 MB\n"
     ]
    }
   ],
   "source": [
    "ad_feature_df.info()"
   ]
  },
  {
   "cell_type": "code",
   "execution_count": 11,
   "id": "cc00dbef",
   "metadata": {},
   "outputs": [
    {
     "data": {
      "text/html": [
       "<div>\n",
       "<style scoped>\n",
       "    .dataframe tbody tr th:only-of-type {\n",
       "        vertical-align: middle;\n",
       "    }\n",
       "\n",
       "    .dataframe tbody tr th {\n",
       "        vertical-align: top;\n",
       "    }\n",
       "\n",
       "    .dataframe thead th {\n",
       "        text-align: right;\n",
       "    }\n",
       "</style>\n",
       "<table border=\"1\" class=\"dataframe\">\n",
       "  <thead>\n",
       "    <tr style=\"text-align: right;\">\n",
       "      <th></th>\n",
       "      <th>userid</th>\n",
       "      <th>cms_segid</th>\n",
       "      <th>cms_group_id</th>\n",
       "      <th>final_gender_code</th>\n",
       "      <th>age_level</th>\n",
       "      <th>pvalue_level</th>\n",
       "      <th>shopping_level</th>\n",
       "      <th>occupation</th>\n",
       "      <th>new_user_class_level</th>\n",
       "    </tr>\n",
       "  </thead>\n",
       "  <tbody>\n",
       "    <tr>\n",
       "      <th>0</th>\n",
       "      <td>234</td>\n",
       "      <td>0</td>\n",
       "      <td>5</td>\n",
       "      <td>2</td>\n",
       "      <td>5</td>\n",
       "      <td>NaN</td>\n",
       "      <td>3</td>\n",
       "      <td>0</td>\n",
       "      <td>3.0</td>\n",
       "    </tr>\n",
       "    <tr>\n",
       "      <th>1</th>\n",
       "      <td>523</td>\n",
       "      <td>5</td>\n",
       "      <td>2</td>\n",
       "      <td>2</td>\n",
       "      <td>2</td>\n",
       "      <td>1.0</td>\n",
       "      <td>3</td>\n",
       "      <td>1</td>\n",
       "      <td>2.0</td>\n",
       "    </tr>\n",
       "    <tr>\n",
       "      <th>2</th>\n",
       "      <td>612</td>\n",
       "      <td>0</td>\n",
       "      <td>8</td>\n",
       "      <td>1</td>\n",
       "      <td>2</td>\n",
       "      <td>2.0</td>\n",
       "      <td>3</td>\n",
       "      <td>0</td>\n",
       "      <td>NaN</td>\n",
       "    </tr>\n",
       "    <tr>\n",
       "      <th>3</th>\n",
       "      <td>1670</td>\n",
       "      <td>0</td>\n",
       "      <td>4</td>\n",
       "      <td>2</td>\n",
       "      <td>4</td>\n",
       "      <td>NaN</td>\n",
       "      <td>1</td>\n",
       "      <td>0</td>\n",
       "      <td>NaN</td>\n",
       "    </tr>\n",
       "    <tr>\n",
       "      <th>4</th>\n",
       "      <td>2545</td>\n",
       "      <td>0</td>\n",
       "      <td>10</td>\n",
       "      <td>1</td>\n",
       "      <td>4</td>\n",
       "      <td>NaN</td>\n",
       "      <td>3</td>\n",
       "      <td>0</td>\n",
       "      <td>NaN</td>\n",
       "    </tr>\n",
       "  </tbody>\n",
       "</table>\n",
       "</div>"
      ],
      "text/plain": [
       "   userid  cms_segid  cms_group_id  final_gender_code  age_level  \\\n",
       "0     234          0             5                  2          5   \n",
       "1     523          5             2                  2          2   \n",
       "2     612          0             8                  1          2   \n",
       "3    1670          0             4                  2          4   \n",
       "4    2545          0            10                  1          4   \n",
       "\n",
       "   pvalue_level  shopping_level  occupation  new_user_class_level   \n",
       "0           NaN               3           0                    3.0  \n",
       "1           1.0               3           1                    2.0  \n",
       "2           2.0               3           0                    NaN  \n",
       "3           NaN               1           0                    NaN  \n",
       "4           NaN               3           0                    NaN  "
      ]
     },
     "execution_count": 11,
     "metadata": {},
     "output_type": "execute_result"
    }
   ],
   "source": [
    "user_profile_df.head()"
   ]
  },
  {
   "cell_type": "code",
   "execution_count": 12,
   "id": "f191a506",
   "metadata": {},
   "outputs": [
    {
     "name": "stdout",
     "output_type": "stream",
     "text": [
      "<class 'pandas.core.frame.DataFrame'>\n",
      "RangeIndex: 1061768 entries, 0 to 1061767\n",
      "Data columns (total 9 columns):\n",
      " #   Column                 Non-Null Count    Dtype  \n",
      "---  ------                 --------------    -----  \n",
      " 0   userid                 1061768 non-null  int64  \n",
      " 1   cms_segid              1061768 non-null  int64  \n",
      " 2   cms_group_id           1061768 non-null  int64  \n",
      " 3   final_gender_code      1061768 non-null  int64  \n",
      " 4   age_level              1061768 non-null  int64  \n",
      " 5   pvalue_level           485851 non-null   float64\n",
      " 6   shopping_level         1061768 non-null  int64  \n",
      " 7   occupation             1061768 non-null  int64  \n",
      " 8   new_user_class_level   716848 non-null   float64\n",
      "dtypes: float64(2), int64(7)\n",
      "memory usage: 72.9 MB\n"
     ]
    }
   ],
   "source": [
    "user_profile_df.info()"
   ]
  },
  {
   "cell_type": "code",
   "execution_count": 13,
   "id": "86ec8e8f",
   "metadata": {},
   "outputs": [
    {
     "name": "stdout",
     "output_type": "stream",
     "text": [
      "raw_sample_df memory size: 1215.73 MB\n",
      "ad_feature_df memory size: 38.76 MB\n",
      "user_profile_df memory size: 72.91 MB\n"
     ]
    }
   ],
   "source": [
    "test_size_mb = raw_sample_df.memory_usage().sum() / 1024 / 1024\n",
    "test_size_mb1 = ad_feature_df.memory_usage().sum() / 1024 / 1024\n",
    "test_size_mb2 = user_profile_df.memory_usage().sum() / 1024 / 1024\n",
    "print(\"raw_sample_df memory size: %.2f MB\" % test_size_mb)\n",
    "print(\"ad_feature_df memory size: %.2f MB\" % test_size_mb1)\n",
    "print(\"user_profile_df memory size: %.2f MB\" % test_size_mb2)"
   ]
  },
  {
   "cell_type": "code",
   "execution_count": 14,
   "id": "e32dc5b1",
   "metadata": {},
   "outputs": [],
   "source": [
    "# 앞으로 메모리 사용량을 계속 계산할 예정이기 때문에 mem_usage() 함수를 만들었다\n",
    "\n",
    "def mem_usage(pandas_obj):\n",
    "    if isinstance(pandas_obj,pd.DataFrame):\n",
    "        usage_b = pandas_obj.memory_usage(deep=True).sum()\n",
    "    else: # we assume if not a df it's a series\n",
    "        usage_b = pandas_obj.memory_usage(deep=True)\n",
    "    usage_mb = usage_b / 1024 ** 2 # convert bytes to megabytes\n",
    "    return \"{:03.2f} MB\".format(usage_mb)"
   ]
  },
  {
   "cell_type": "code",
   "execution_count": null,
   "id": "dfdb0005",
   "metadata": {},
   "outputs": [],
   "source": [
    "# Let us consider first the raw_sample_df dataframe and its current memory utilisation and look at each column type how much memory it is consuming and provide optimisation of those columns as shown below"
   ]
  },
  {
   "cell_type": "code",
   "execution_count": 15,
   "id": "c9f7ac15",
   "metadata": {},
   "outputs": [
    {
     "name": "stdout",
     "output_type": "stream",
     "text": [
      "<class 'pandas.core.frame.DataFrame'>\n",
      "RangeIndex: 26557961 entries, 0 to 26557960\n",
      "Data columns (total 6 columns):\n",
      " #   Column      Dtype \n",
      "---  ------      ----- \n",
      " 0   user        int64 \n",
      " 1   time_stamp  int64 \n",
      " 2   adgroup_id  int64 \n",
      " 3   pid         object\n",
      " 4   nonclk      int64 \n",
      " 5   clk         int64 \n",
      "dtypes: int64(5), object(1)\n",
      "memory usage: 2.7 GB\n"
     ]
    }
   ],
   "source": [
    "raw_sample_df.info(memory_usage='deep')"
   ]
  },
  {
   "cell_type": "code",
   "execution_count": 17,
   "id": "1eb31e8e",
   "metadata": {},
   "outputs": [
    {
     "name": "stdout",
     "output_type": "stream",
     "text": [
      "Original Ad Feature dataframe:2735.39 MB\n",
      "Memory Optimised Ad Feature dataframe:379.92 MB\n"
     ]
    }
   ],
   "source": [
    "optimized_gl = raw_sample_df.copy()\n",
    "\n",
    "gl_int = raw_sample_df.select_dtypes(include=['int'])\n",
    "converted_int = gl_int.apply(pd.to_numeric,downcast='unsigned')\n",
    "optimized_gl[converted_int.columns] = converted_int\n",
    "\n",
    "\n",
    "gl_obj = raw_sample_df.select_dtypes(include=['object']).copy()\n",
    "converted_obj = pd.DataFrame()\n",
    "for col in gl_obj.columns:\n",
    "    num_unique_values = len(gl_obj[col].unique())\n",
    "    num_total_values = len(gl_obj[col])\n",
    "    if num_unique_values / num_total_values < 0.5:\n",
    "        converted_obj.loc[:,col] = gl_obj[col].astype('category')\n",
    "    else:\n",
    "        converted_obj.loc[:,col] = gl_obj[col]\n",
    "optimized_gl[converted_obj.columns] = converted_obj\n",
    "print(\"Original Ad Feature dataframe:{0}\".format(mem_usage(raw_sample_df)))\n",
    "print(\"Memory Optimised Ad Feature dataframe:{0}\".format(mem_usage(optimized_gl)))"
   ]
  },
  {
   "cell_type": "code",
   "execution_count": 23,
   "id": "dcb61fcc",
   "metadata": {},
   "outputs": [],
   "source": [
    "raw_sample_df = optimized_gl.copy()\n",
    "raw_sample_df_new = raw_sample_df.rename(columns = {\"user\": \"userid\"})"
   ]
  },
  {
   "cell_type": "code",
   "execution_count": 18,
   "id": "880d6c48",
   "metadata": {},
   "outputs": [
    {
     "name": "stdout",
     "output_type": "stream",
     "text": [
      "<class 'pandas.core.frame.DataFrame'>\n",
      "RangeIndex: 846811 entries, 0 to 846810\n",
      "Data columns (total 6 columns):\n",
      " #   Column       Non-Null Count   Dtype  \n",
      "---  ------       --------------   -----  \n",
      " 0   adgroup_id   846811 non-null  int64  \n",
      " 1   cate_id      846811 non-null  int64  \n",
      " 2   campaign_id  846811 non-null  int64  \n",
      " 3   customer     846811 non-null  int64  \n",
      " 4   brand        600481 non-null  float64\n",
      " 5   price        846811 non-null  float64\n",
      "dtypes: float64(2), int64(4)\n",
      "memory usage: 38.8 MB\n"
     ]
    }
   ],
   "source": [
    "ad_feature_df.info(memory_usage='deep')"
   ]
  },
  {
   "cell_type": "code",
   "execution_count": 19,
   "id": "841a95e9",
   "metadata": {},
   "outputs": [
    {
     "name": "stdout",
     "output_type": "stream",
     "text": [
      "Original Ad Feature dataframe:38.76 MB\n",
      "Memory Optimised Ad Feature dataframe:17.77 MB\n"
     ]
    }
   ],
   "source": [
    "optimized_g2 = ad_feature_df.copy()\n",
    "\n",
    "g2_int = ad_feature_df.select_dtypes(include=['int'])\n",
    "converted_int = g2_int.apply(pd.to_numeric,downcast='unsigned')\n",
    "optimized_g2[converted_int.columns] = converted_int\n",
    "\n",
    "g2_float = ad_feature_df.select_dtypes(include=['float'])\n",
    "converted_float = g2_float.apply(pd.to_numeric,downcast='float')\n",
    "optimized_g2[converted_float.columns] = converted_float\n",
    "\n",
    "print(\"Original Ad Feature dataframe:{0}\".format(mem_usage(ad_feature_df)))\n",
    "print(\"Memory Optimised Ad Feature dataframe:{0}\".format(mem_usage(optimized_g2)))"
   ]
  },
  {
   "cell_type": "code",
   "execution_count": 20,
   "id": "c22bb402",
   "metadata": {},
   "outputs": [
    {
     "name": "stdout",
     "output_type": "stream",
     "text": [
      "<class 'pandas.core.frame.DataFrame'>\n",
      "RangeIndex: 1061768 entries, 0 to 1061767\n",
      "Data columns (total 9 columns):\n",
      " #   Column                 Non-Null Count    Dtype  \n",
      "---  ------                 --------------    -----  \n",
      " 0   userid                 1061768 non-null  int64  \n",
      " 1   cms_segid              1061768 non-null  int64  \n",
      " 2   cms_group_id           1061768 non-null  int64  \n",
      " 3   final_gender_code      1061768 non-null  int64  \n",
      " 4   age_level              1061768 non-null  int64  \n",
      " 5   pvalue_level           485851 non-null   float64\n",
      " 6   shopping_level         1061768 non-null  int64  \n",
      " 7   occupation             1061768 non-null  int64  \n",
      " 8   new_user_class_level   716848 non-null   float64\n",
      "dtypes: float64(2), int64(7)\n",
      "memory usage: 72.9 MB\n"
     ]
    }
   ],
   "source": [
    "user_profile_df.info(memory_usage='deep')"
   ]
  },
  {
   "cell_type": "code",
   "execution_count": 21,
   "id": "01bdcf66",
   "metadata": {},
   "outputs": [
    {
     "name": "stdout",
     "output_type": "stream",
     "text": [
      "Original User Feature dataframe:72.91 MB\n",
      "Memory Optimised User Feature dataframe:18.23 MB\n"
     ]
    }
   ],
   "source": [
    "optimized_g3 = user_profile_df.copy()\n",
    "\n",
    "g3_int = user_profile_df.select_dtypes(include=['int'])\n",
    "converted_int = g3_int.apply(pd.to_numeric,downcast='unsigned')\n",
    "optimized_g3[converted_int.columns] = converted_int\n",
    "\n",
    "g3_float = user_profile_df.select_dtypes(include=['float'])\n",
    "converted_float = g3_float.apply(pd.to_numeric,downcast='float')\n",
    "optimized_g3[converted_float.columns] = converted_float\n",
    "\n",
    "print(\"Original User Feature dataframe:{0}\".format(mem_usage(user_profile_df)))\n",
    "print(\"Memory Optimised User Feature dataframe:{0}\".format(mem_usage(optimized_g3)))"
   ]
  },
  {
   "cell_type": "code",
   "execution_count": null,
   "id": "f1a01e05",
   "metadata": {},
   "outputs": [],
   "source": [
    "# Now that we optomised all the dataframes \n",
    "# it is time to converage all into a single final dataset for our model prediction implementation"
   ]
  },
  {
   "cell_type": "code",
   "execution_count": 24,
   "id": "56723911",
   "metadata": {},
   "outputs": [
    {
     "data": {
      "text/html": [
       "<div>\n",
       "<style scoped>\n",
       "    .dataframe tbody tr th:only-of-type {\n",
       "        vertical-align: middle;\n",
       "    }\n",
       "\n",
       "    .dataframe tbody tr th {\n",
       "        vertical-align: top;\n",
       "    }\n",
       "\n",
       "    .dataframe thead th {\n",
       "        text-align: right;\n",
       "    }\n",
       "</style>\n",
       "<table border=\"1\" class=\"dataframe\">\n",
       "  <thead>\n",
       "    <tr style=\"text-align: right;\">\n",
       "      <th></th>\n",
       "      <th>userid</th>\n",
       "      <th>time_stamp</th>\n",
       "      <th>adgroup_id</th>\n",
       "      <th>pid</th>\n",
       "      <th>nonclk</th>\n",
       "      <th>clk</th>\n",
       "      <th>cms_segid</th>\n",
       "      <th>cms_group_id</th>\n",
       "      <th>final_gender_code</th>\n",
       "      <th>age_level</th>\n",
       "      <th>pvalue_level</th>\n",
       "      <th>shopping_level</th>\n",
       "      <th>occupation</th>\n",
       "      <th>new_user_class_level</th>\n",
       "      <th>cate_id</th>\n",
       "      <th>campaign_id</th>\n",
       "      <th>customer</th>\n",
       "      <th>brand</th>\n",
       "      <th>price</th>\n",
       "    </tr>\n",
       "  </thead>\n",
       "  <tbody>\n",
       "    <tr>\n",
       "      <th>0</th>\n",
       "      <td>581738</td>\n",
       "      <td>1494137644</td>\n",
       "      <td>1</td>\n",
       "      <td>430548_1007</td>\n",
       "      <td>1</td>\n",
       "      <td>0</td>\n",
       "      <td>0</td>\n",
       "      <td>8</td>\n",
       "      <td>1</td>\n",
       "      <td>2</td>\n",
       "      <td>NaN</td>\n",
       "      <td>3</td>\n",
       "      <td>0</td>\n",
       "      <td>NaN</td>\n",
       "      <td>9025</td>\n",
       "      <td>108570</td>\n",
       "      <td>1337</td>\n",
       "      <td>20169.0</td>\n",
       "      <td>17.0</td>\n",
       "    </tr>\n",
       "    <tr>\n",
       "      <th>1</th>\n",
       "      <td>581738</td>\n",
       "      <td>1494130330</td>\n",
       "      <td>6029</td>\n",
       "      <td>430548_1007</td>\n",
       "      <td>1</td>\n",
       "      <td>0</td>\n",
       "      <td>0</td>\n",
       "      <td>8</td>\n",
       "      <td>1</td>\n",
       "      <td>2</td>\n",
       "      <td>NaN</td>\n",
       "      <td>3</td>\n",
       "      <td>0</td>\n",
       "      <td>NaN</td>\n",
       "      <td>7008</td>\n",
       "      <td>415604</td>\n",
       "      <td>70200</td>\n",
       "      <td>64668.0</td>\n",
       "      <td>11800.0</td>\n",
       "    </tr>\n",
       "    <tr>\n",
       "      <th>2</th>\n",
       "      <td>439866</td>\n",
       "      <td>1494288737</td>\n",
       "      <td>6029</td>\n",
       "      <td>430548_1007</td>\n",
       "      <td>1</td>\n",
       "      <td>0</td>\n",
       "      <td>91</td>\n",
       "      <td>11</td>\n",
       "      <td>1</td>\n",
       "      <td>5</td>\n",
       "      <td>2.0</td>\n",
       "      <td>3</td>\n",
       "      <td>0</td>\n",
       "      <td>2.0</td>\n",
       "      <td>7008</td>\n",
       "      <td>415604</td>\n",
       "      <td>70200</td>\n",
       "      <td>64668.0</td>\n",
       "      <td>11800.0</td>\n",
       "    </tr>\n",
       "    <tr>\n",
       "      <th>3</th>\n",
       "      <td>439866</td>\n",
       "      <td>1494560339</td>\n",
       "      <td>6029</td>\n",
       "      <td>430548_1007</td>\n",
       "      <td>1</td>\n",
       "      <td>0</td>\n",
       "      <td>91</td>\n",
       "      <td>11</td>\n",
       "      <td>1</td>\n",
       "      <td>5</td>\n",
       "      <td>2.0</td>\n",
       "      <td>3</td>\n",
       "      <td>0</td>\n",
       "      <td>2.0</td>\n",
       "      <td>7008</td>\n",
       "      <td>415604</td>\n",
       "      <td>70200</td>\n",
       "      <td>64668.0</td>\n",
       "      <td>11800.0</td>\n",
       "    </tr>\n",
       "    <tr>\n",
       "      <th>4</th>\n",
       "      <td>986350</td>\n",
       "      <td>1494210451</td>\n",
       "      <td>6029</td>\n",
       "      <td>430548_1007</td>\n",
       "      <td>1</td>\n",
       "      <td>0</td>\n",
       "      <td>0</td>\n",
       "      <td>10</td>\n",
       "      <td>1</td>\n",
       "      <td>4</td>\n",
       "      <td>NaN</td>\n",
       "      <td>3</td>\n",
       "      <td>0</td>\n",
       "      <td>NaN</td>\n",
       "      <td>7008</td>\n",
       "      <td>415604</td>\n",
       "      <td>70200</td>\n",
       "      <td>64668.0</td>\n",
       "      <td>11800.0</td>\n",
       "    </tr>\n",
       "  </tbody>\n",
       "</table>\n",
       "</div>"
      ],
      "text/plain": [
       "   userid  time_stamp  adgroup_id          pid  nonclk  clk  cms_segid  \\\n",
       "0  581738  1494137644           1  430548_1007       1    0          0   \n",
       "1  581738  1494130330        6029  430548_1007       1    0          0   \n",
       "2  439866  1494288737        6029  430548_1007       1    0         91   \n",
       "3  439866  1494560339        6029  430548_1007       1    0         91   \n",
       "4  986350  1494210451        6029  430548_1007       1    0          0   \n",
       "\n",
       "   cms_group_id  final_gender_code  age_level  pvalue_level  shopping_level  \\\n",
       "0             8                  1          2           NaN               3   \n",
       "1             8                  1          2           NaN               3   \n",
       "2            11                  1          5           2.0               3   \n",
       "3            11                  1          5           2.0               3   \n",
       "4            10                  1          4           NaN               3   \n",
       "\n",
       "   occupation  new_user_class_level   cate_id  campaign_id  customer    brand  \\\n",
       "0           0                    NaN     9025       108570      1337  20169.0   \n",
       "1           0                    NaN     7008       415604     70200  64668.0   \n",
       "2           0                    2.0     7008       415604     70200  64668.0   \n",
       "3           0                    2.0     7008       415604     70200  64668.0   \n",
       "4           0                    NaN     7008       415604     70200  64668.0   \n",
       "\n",
       "     price  \n",
       "0     17.0  \n",
       "1  11800.0  \n",
       "2  11800.0  \n",
       "3  11800.0  \n",
       "4  11800.0  "
      ]
     },
     "execution_count": 24,
     "metadata": {},
     "output_type": "execute_result"
    }
   ],
   "source": [
    "# 3개의 csv 파일 다 합치기\n",
    "\n",
    "df1 = raw_sample_df_new.merge(optimized_g3, on=\"userid\")\n",
    "final_df = df1.merge(optimized_g2, on=\"adgroup_id\")\n",
    "final_df.head()"
   ]
  },
  {
   "cell_type": "code",
   "execution_count": 30,
   "id": "b2531fa7",
   "metadata": {},
   "outputs": [
    {
     "data": {
      "text/plain": [
       "userid                          0\n",
       "time_stamp                      0\n",
       "adgroup_id                      0\n",
       "pid                             0\n",
       "nonclk                          0\n",
       "clk                             0\n",
       "cms_segid                       0\n",
       "cms_group_id                    0\n",
       "final_gender_code               0\n",
       "age_level                       0\n",
       "pvalue_level             13024272\n",
       "shopping_level                  0\n",
       "occupation                      0\n",
       "new_user_class_level      6696303\n",
       "cate_id                         0\n",
       "campaign_id                     0\n",
       "customer                        0\n",
       "brand                     7802592\n",
       "price                           0\n",
       "hist_cate_id                    0\n",
       "hist_adgroup_id                 0\n",
       "dtype: int64"
      ]
     },
     "execution_count": 30,
     "metadata": {},
     "output_type": "execute_result"
    }
   ],
   "source": [
    "final_df.isnull().sum()"
   ]
  },
  {
   "cell_type": "code",
   "execution_count": null,
   "id": "fadee772",
   "metadata": {},
   "outputs": [],
   "source": [
    "# Ideally the dataset should contain historical columns for our model implementation.\n",
    "# To overcome this problem I have replicated the two columns as historical columns for calculating the historical behavior of the users."
   ]
  },
  {
   "cell_type": "code",
   "execution_count": 25,
   "id": "d9937f4a",
   "metadata": {},
   "outputs": [],
   "source": [
    "# DIN Model을 돌리기 위해서는 구매 이력(어떤 상품을 구매했는지), 어떤 광고가 display이 되었는지 광고 데이터가 필요하다.\n",
    "# 여기서는 따로 없으므로 기존 데이터에서 따로 빼와서 만들었다.\n",
    "\n",
    "final_df['hist_cate_id'] = final_df['cate_id']\n",
    "final_df['hist_adgroup_id'] = final_df['adgroup_id']"
   ]
  },
  {
   "cell_type": "code",
   "execution_count": null,
   "id": "098f2342",
   "metadata": {},
   "outputs": [],
   "source": [
    "# Now let us choose the sparse,dense and sequence features required for DIN model as shown below"
   ]
  },
  {
   "cell_type": "code",
   "execution_count": 26,
   "id": "ac1bba18",
   "metadata": {},
   "outputs": [
    {
     "data": {
      "text/plain": [
       "['userid', 'adgroup_id', 'clk', 'final_gender_code', 'cate_id']"
      ]
     },
     "execution_count": 26,
     "metadata": {},
     "output_type": "execute_result"
    }
   ],
   "source": [
    "sparse_features = [feat for feat in final_df.columns if feat not in ['time_stamp','pid', 'nonclk','brand',\n",
    "       'cms_segid', 'cms_group_id', 'age_level',\n",
    "       'pvalue_level', 'shopping_level', 'occupation', 'new_user_class_level ',\n",
    "        'campaign_id', 'customer', 'price', 'hist_cate_id','hist_adgroup_id']]\n",
    "sparse_features"
   ]
  },
  {
   "cell_type": "code",
   "execution_count": 27,
   "id": "ef9644ce",
   "metadata": {},
   "outputs": [
    {
     "data": {
      "text/plain": [
       "['price']"
      ]
     },
     "execution_count": 27,
     "metadata": {},
     "output_type": "execute_result"
    }
   ],
   "source": [
    "dense_features = [feat for feat in final_df.columns if feat not in ['userid', 'time_stamp', 'adgroup_id', 'pid', 'nonclk', 'clk',\n",
    "       'cms_segid', 'cms_group_id', 'final_gender_code', 'age_level',\n",
    "       'pvalue_level', 'shopping_level', 'occupation', 'new_user_class_level ',\n",
    "       'cate_id', 'campaign_id', 'customer', 'brand','hist_cate_id','hist_adgroup_id']]\n",
    "dense_features"
   ]
  },
  {
   "cell_type": "code",
   "execution_count": 28,
   "id": "bbc757d4",
   "metadata": {},
   "outputs": [
    {
     "data": {
      "text/plain": [
       "['hist_cate_id', 'hist_adgroup_id']"
      ]
     },
     "execution_count": 28,
     "metadata": {},
     "output_type": "execute_result"
    }
   ],
   "source": [
    "sequence_features = [feat for feat in final_df.columns if feat not in ['userid', 'time_stamp', 'adgroup_id', 'pid', 'nonclk', 'clk',\n",
    "       'cms_segid', 'cms_group_id', 'final_gender_code', 'age_level',\n",
    "       'pvalue_level', 'shopping_level', 'occupation', 'new_user_class_level ',\n",
    "       'cate_id', 'campaign_id', 'customer', 'brand', 'price']]\n",
    "sequence_features"
   ]
  },
  {
   "cell_type": "code",
   "execution_count": 29,
   "id": "1cab92fb",
   "metadata": {},
   "outputs": [
    {
     "data": {
      "text/plain": [
       "['adgroup_id', 'cate_id']"
      ]
     },
     "execution_count": 29,
     "metadata": {},
     "output_type": "execute_result"
    }
   ],
   "source": [
    "behavior_feature_list = [feat for feat in final_df.columns if feat in ['adgroup_id', 'cate_id']]\n",
    "behavior_feature_list"
   ]
  },
  {
   "cell_type": "code",
   "execution_count": 31,
   "id": "c4b810da",
   "metadata": {},
   "outputs": [],
   "source": [
    "final_df[sparse_features] = final_df[sparse_features].fillna('-1', )\n",
    "final_df[sequence_features] = final_df[sequence_features].fillna('-1', )\n",
    "final_df[dense_features] = final_df[dense_features].fillna(0, )\n",
    "target = ['clk']"
   ]
  },
  {
   "cell_type": "markdown",
   "id": "d4d18a8b",
   "metadata": {},
   "source": [
    "## Perform simple transformation on dense features"
   ]
  },
  {
   "cell_type": "code",
   "execution_count": 32,
   "id": "4cba1be5",
   "metadata": {},
   "outputs": [],
   "source": [
    "mms = MinMaxScaler(feature_range=(0, 1))\n",
    "final_df[dense_features] = mms.fit_transform(final_df[dense_features])"
   ]
  },
  {
   "cell_type": "markdown",
   "id": "cfcd3c82",
   "metadata": {},
   "source": [
    "## Set hashing space for each sparse field,and record dense feature field name"
   ]
  },
  {
   "cell_type": "code",
   "execution_count": 34,
   "id": "9214e1b6",
   "metadata": {},
   "outputs": [],
   "source": [
    "fixlen_feature_columns = [SparseFeat(feat, vocabulary_size=2000000,embedding_dim=8) for feat in sparse_features] + [DenseFeat(feat, 1, )for feat in dense_features] + [VarLenSparseFeat(SparseFeat(feat, vocabulary_size=2000000,embedding_dim=8), maxlen=1) for feat in sequence_features] \n",
    "linear_feature_columns = fixlen_feature_columns\n",
    "dnn_feature_columns = fixlen_feature_columns\n",
    "feature_names = get_feature_names(linear_feature_columns + dnn_feature_columns, )"
   ]
  },
  {
   "cell_type": "markdown",
   "id": "e9958199",
   "metadata": {},
   "source": [
    "## Generate input data for model"
   ]
  },
  {
   "cell_type": "code",
   "execution_count": 35,
   "id": "872daa10",
   "metadata": {},
   "outputs": [],
   "source": [
    "train, test = train_test_split(final_df, test_size=0.2)\n",
    "train_model_input = {name:train[name] for name in feature_names}\n",
    "test_model_input = {name:test[name] for name in feature_names}"
   ]
  },
  {
   "cell_type": "markdown",
   "id": "d724487e",
   "metadata": {},
   "source": [
    "## Define Model, Train, Predict and Evaluate"
   ]
  },
  {
   "cell_type": "code",
   "execution_count": null,
   "id": "f400e998",
   "metadata": {},
   "outputs": [],
   "source": []
  }
 ],
 "metadata": {
  "kernelspec": {
   "display_name": "Python 3 (ipykernel)",
   "language": "python",
   "name": "python3"
  },
  "language_info": {
   "codemirror_mode": {
    "name": "ipython",
    "version": 3
   },
   "file_extension": ".py",
   "mimetype": "text/x-python",
   "name": "python",
   "nbconvert_exporter": "python",
   "pygments_lexer": "ipython3",
   "version": "3.8.9"
  }
 },
 "nbformat": 4,
 "nbformat_minor": 5
}
