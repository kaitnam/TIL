{
 "cells": [
  {
   "cell_type": "code",
   "execution_count": null,
   "id": "0cfc519b",
   "metadata": {},
   "outputs": [],
   "source": [
    "# 진행상황이 얼마나 됐는지, 앞으로 얼마나 남았는지 알아보기 위해 tqdm 사용\n",
    "\n",
    "import warnings\n",
    "warnings.filterwarnings('ignore')\n",
    "from tqdm import tqdm\n",
    "\n",
    "pdde_copu = pd.DataFrame()\n",
    "for i in tqdm(copu_cust):\n",
    "    z = pdde[pdde['cust']== i]\n",
    "    df = pd.DataFrame({'cust':z.cust,'rct_no':z.rct_no,'chnl_dv':z.chnl_dv, 'cop_c': z.cop_c,'br_c':z.br_c,'pd_c':z.pd_c,'de_dt':z.de_dt,'de_hr':z.de_hr,'buy_am':z.buy_am,'buy_ct':z.buy_ct})\n",
    "    pdde_copu =  pd.concat([pdde_copu, df], ignore_index=True)\n",
    "    "
   ]
  },
  {
   "cell_type": "code",
   "execution_count": null,
   "id": "53e574eb",
   "metadata": {},
   "outputs": [],
   "source": [
    "# csv로 저장 & 불러오기 \n",
    "\n",
    "# 데이터 저장\n",
    "pdde_copu.to_csv(\"pdde_copu.csv\", index = False)\n",
    "\n",
    "# 데이터 로드\n",
    "data = pd.read_csv(\"pdde_copu.csv\")"
   ]
  },
  {
   "cell_type": "code",
   "execution_count": null,
   "id": "80a13e1e",
   "metadata": {},
   "outputs": [],
   "source": [
    "# pickle로 저장 & 불러오기\n",
    "\n",
    "# 데이터 저장\n",
    "pdde_copu.to_pickle('filename.pkl')\n",
    "\n",
    "# 데이터 로드\n",
    "data = pd.read_pickle('filename.pkl')"
   ]
  }
 ],
 "metadata": {
  "kernelspec": {
   "display_name": "Python 3 (ipykernel)",
   "language": "python",
   "name": "python3"
  },
  "language_info": {
   "codemirror_mode": {
    "name": "ipython",
    "version": 3
   },
   "file_extension": ".py",
   "mimetype": "text/x-python",
   "name": "python",
   "nbconvert_exporter": "python",
   "pygments_lexer": "ipython3",
   "version": "3.9.12"
  }
 },
 "nbformat": 4,
 "nbformat_minor": 5
}
