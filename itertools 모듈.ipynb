{
 "cells": [
  {
   "cell_type": "code",
   "execution_count": 1,
   "id": "cc4c1f7a",
   "metadata": {},
   "outputs": [],
   "source": [
    "import collections\n",
    "import itertools\n",
    "\n",
    "def solution(orders, course):\n",
    "    result = []\n",
    "\n",
    "    for course_size in course:\n",
    "        order_combinations = []\n",
    "        for order in orders:\n",
    "            order_combinations += itertools.combinations(sorted(order), course_size)\n",
    "\n",
    "        most_ordered = collections.Counter(order_combinations).most_common()\n",
    "        result += [ k for k, v in most_ordered if v > 1 and v == most_ordered[0][1] ]\n",
    "\n",
    "    return [ ''.join(v) for v in sorted(result) ]"
   ]
  },
  {
   "cell_type": "code",
   "execution_count": 3,
   "id": "b22b0e9c",
   "metadata": {},
   "outputs": [
    {
     "data": {
      "text/plain": [
       "['AC', 'ACDE', 'BCFG', 'CDE']"
      ]
     },
     "execution_count": 3,
     "metadata": {},
     "output_type": "execute_result"
    }
   ],
   "source": [
    "orders = [\"ABCFG\", \"AC\", \"CDE\", \"ACDE\", \"BCFG\", \"ACDEH\"]\n",
    "course = [2,3,4]\n",
    "solution(orders, course)"
   ]
  },
  {
   "cell_type": "code",
   "execution_count": 5,
   "id": "396d508c",
   "metadata": {},
   "outputs": [
    {
     "name": "stdout",
     "output_type": "stream",
     "text": [
      "(1, 2)\n",
      "(1, 3)\n",
      "(2, 3)\n"
     ]
    }
   ],
   "source": [
    "from itertools import combinations\n",
    "\n",
    "z = [1,2,3]\n",
    "\n",
    "for i in combinations(z,2):\n",
    "    print(i)"
   ]
  },
  {
   "cell_type": "code",
   "execution_count": 6,
   "id": "896897ef",
   "metadata": {},
   "outputs": [
    {
     "name": "stdout",
     "output_type": "stream",
     "text": [
      "('A', 'A')\n",
      "('A', 'B')\n",
      "('A', 'C')\n",
      "('B', 'B')\n",
      "('B', 'C')\n",
      "('C', 'C')\n"
     ]
    }
   ],
   "source": [
    "from itertools import combinations_with_replacement\n",
    "\n",
    "y = ['A', 'B', 'C']\n",
    "\n",
    "for i in combinations_with_replacement(y,2):\n",
    "    print(i)"
   ]
  },
  {
   "cell_type": "code",
   "execution_count": 14,
   "id": "87effe7f",
   "metadata": {},
   "outputs": [
    {
     "name": "stdout",
     "output_type": "stream",
     "text": [
      "('A', '1')\n",
      "('A', '2')\n",
      "('B', '1')\n",
      "('B', '2')\n"
     ]
    }
   ],
   "source": [
    "from itertools import product\n",
    "\n",
    "a = ['A', 'B']\n",
    "b = ['1', '2']\n",
    "\n",
    "for i in product(a,b,repeat=1): \n",
    "    print(i)"
   ]
  },
  {
   "cell_type": "code",
   "execution_count": 15,
   "id": "2cd457d5",
   "metadata": {},
   "outputs": [
    {
     "name": "stdout",
     "output_type": "stream",
     "text": [
      "('A', '1', 'A', '1')\n",
      "('A', '1', 'A', '2')\n",
      "('A', '1', 'B', '1')\n",
      "('A', '1', 'B', '2')\n",
      "('A', '2', 'A', '1')\n",
      "('A', '2', 'A', '2')\n",
      "('A', '2', 'B', '1')\n",
      "('A', '2', 'B', '2')\n",
      "('B', '1', 'A', '1')\n",
      "('B', '1', 'A', '2')\n",
      "('B', '1', 'B', '1')\n",
      "('B', '1', 'B', '2')\n",
      "('B', '2', 'A', '1')\n",
      "('B', '2', 'A', '2')\n",
      "('B', '2', 'B', '1')\n",
      "('B', '2', 'B', '2')\n"
     ]
    }
   ],
   "source": [
    "from itertools import product\n",
    "\n",
    "a = ['A', 'B']\n",
    "b = ['1', '2']\n",
    "\n",
    "for i in product(a,b,repeat=2): \n",
    "    print(i)"
   ]
  },
  {
   "cell_type": "code",
   "execution_count": 9,
   "id": "a63a2579",
   "metadata": {},
   "outputs": [
    {
     "name": "stdout",
     "output_type": "stream",
     "text": [
      "('A', '1', 'A', '1', 'A', '1')\n",
      "('A', '1', 'A', '1', 'A', '2')\n",
      "('A', '1', 'A', '1', 'B', '1')\n",
      "('A', '1', 'A', '1', 'B', '2')\n",
      "('A', '1', 'A', '2', 'A', '1')\n",
      "('A', '1', 'A', '2', 'A', '2')\n",
      "('A', '1', 'A', '2', 'B', '1')\n",
      "('A', '1', 'A', '2', 'B', '2')\n",
      "('A', '1', 'B', '1', 'A', '1')\n",
      "('A', '1', 'B', '1', 'A', '2')\n",
      "('A', '1', 'B', '1', 'B', '1')\n",
      "('A', '1', 'B', '1', 'B', '2')\n",
      "('A', '1', 'B', '2', 'A', '1')\n",
      "('A', '1', 'B', '2', 'A', '2')\n",
      "('A', '1', 'B', '2', 'B', '1')\n",
      "('A', '1', 'B', '2', 'B', '2')\n",
      "('A', '2', 'A', '1', 'A', '1')\n",
      "('A', '2', 'A', '1', 'A', '2')\n",
      "('A', '2', 'A', '1', 'B', '1')\n",
      "('A', '2', 'A', '1', 'B', '2')\n",
      "('A', '2', 'A', '2', 'A', '1')\n",
      "('A', '2', 'A', '2', 'A', '2')\n",
      "('A', '2', 'A', '2', 'B', '1')\n",
      "('A', '2', 'A', '2', 'B', '2')\n",
      "('A', '2', 'B', '1', 'A', '1')\n",
      "('A', '2', 'B', '1', 'A', '2')\n",
      "('A', '2', 'B', '1', 'B', '1')\n",
      "('A', '2', 'B', '1', 'B', '2')\n",
      "('A', '2', 'B', '2', 'A', '1')\n",
      "('A', '2', 'B', '2', 'A', '2')\n",
      "('A', '2', 'B', '2', 'B', '1')\n",
      "('A', '2', 'B', '2', 'B', '2')\n",
      "('B', '1', 'A', '1', 'A', '1')\n",
      "('B', '1', 'A', '1', 'A', '2')\n",
      "('B', '1', 'A', '1', 'B', '1')\n",
      "('B', '1', 'A', '1', 'B', '2')\n",
      "('B', '1', 'A', '2', 'A', '1')\n",
      "('B', '1', 'A', '2', 'A', '2')\n",
      "('B', '1', 'A', '2', 'B', '1')\n",
      "('B', '1', 'A', '2', 'B', '2')\n",
      "('B', '1', 'B', '1', 'A', '1')\n",
      "('B', '1', 'B', '1', 'A', '2')\n",
      "('B', '1', 'B', '1', 'B', '1')\n",
      "('B', '1', 'B', '1', 'B', '2')\n",
      "('B', '1', 'B', '2', 'A', '1')\n",
      "('B', '1', 'B', '2', 'A', '2')\n",
      "('B', '1', 'B', '2', 'B', '1')\n",
      "('B', '1', 'B', '2', 'B', '2')\n",
      "('B', '2', 'A', '1', 'A', '1')\n",
      "('B', '2', 'A', '1', 'A', '2')\n",
      "('B', '2', 'A', '1', 'B', '1')\n",
      "('B', '2', 'A', '1', 'B', '2')\n",
      "('B', '2', 'A', '2', 'A', '1')\n",
      "('B', '2', 'A', '2', 'A', '2')\n",
      "('B', '2', 'A', '2', 'B', '1')\n",
      "('B', '2', 'A', '2', 'B', '2')\n",
      "('B', '2', 'B', '1', 'A', '1')\n",
      "('B', '2', 'B', '1', 'A', '2')\n",
      "('B', '2', 'B', '1', 'B', '1')\n",
      "('B', '2', 'B', '1', 'B', '2')\n",
      "('B', '2', 'B', '2', 'A', '1')\n",
      "('B', '2', 'B', '2', 'A', '2')\n",
      "('B', '2', 'B', '2', 'B', '1')\n",
      "('B', '2', 'B', '2', 'B', '2')\n"
     ]
    }
   ],
   "source": [
    "from itertools import product\n",
    "\n",
    "l1 = ['A', 'B']\n",
    "l2 = ['1', '2']\n",
    "\n",
    "for i in product(l1,l2,repeat=3): #l1과 l2의 모든 쌍을 지어 리턴한다\n",
    "    print(i)"
   ]
  },
  {
   "cell_type": "code",
   "execution_count": 18,
   "id": "c770da87",
   "metadata": {},
   "outputs": [
    {
     "name": "stdout",
     "output_type": "stream",
     "text": [
      "('A', 'A', 'A')\n",
      "('A', 'A', 'B')\n",
      "('A', 'B', 'A')\n",
      "('A', 'B', 'B')\n",
      "('B', 'A', 'A')\n",
      "('B', 'A', 'B')\n",
      "('B', 'B', 'A')\n",
      "('B', 'B', 'B')\n"
     ]
    }
   ],
   "source": [
    "from itertools import product\n",
    "\n",
    "a = ['A', 'B']\n",
    "\n",
    "for i in product(a,repeat=3): \n",
    "    print(i)"
   ]
  },
  {
   "cell_type": "code",
   "execution_count": 16,
   "id": "cda50f6f",
   "metadata": {},
   "outputs": [
    {
     "name": "stdout",
     "output_type": "stream",
     "text": [
      "('A', 'B', 'C')\n",
      "('A', 'C', 'B')\n",
      "('B', 'A', 'C')\n",
      "('B', 'C', 'A')\n",
      "('C', 'A', 'B')\n",
      "('C', 'B', 'A')\n"
     ]
    }
   ],
   "source": [
    "from itertools import permutations\n",
    "\n",
    "l = ['A', 'B', 'C']\n",
    "\n",
    "for i in permutations(l):\n",
    "    print(i)"
   ]
  },
  {
   "cell_type": "code",
   "execution_count": 17,
   "id": "a8ac4a5a",
   "metadata": {},
   "outputs": [
    {
     "name": "stdout",
     "output_type": "stream",
     "text": [
      "('A', 'B')\n",
      "('A', 'C')\n",
      "('B', 'A')\n",
      "('B', 'C')\n",
      "('C', 'A')\n",
      "('C', 'B')\n"
     ]
    }
   ],
   "source": [
    "from itertools import permutations\n",
    "\n",
    "l = ['A', 'B', 'C']\n",
    "\n",
    "for i in permutations(l,2): \n",
    "    print(i)"
   ]
  },
  {
   "cell_type": "code",
   "execution_count": null,
   "id": "60be532c",
   "metadata": {},
   "outputs": [],
   "source": []
  }
 ],
 "metadata": {
  "kernelspec": {
   "display_name": "Python 3 (ipykernel)",
   "language": "python",
   "name": "python3"
  },
  "language_info": {
   "codemirror_mode": {
    "name": "ipython",
    "version": 3
   },
   "file_extension": ".py",
   "mimetype": "text/x-python",
   "name": "python",
   "nbconvert_exporter": "python",
   "pygments_lexer": "ipython3",
   "version": "3.9.12"
  }
 },
 "nbformat": 4,
 "nbformat_minor": 5
}
