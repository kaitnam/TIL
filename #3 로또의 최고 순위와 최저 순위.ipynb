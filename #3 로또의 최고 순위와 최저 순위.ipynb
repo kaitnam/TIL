{
 "cells": [
  {
   "cell_type": "code",
   "execution_count": 39,
   "id": "6247499a",
   "metadata": {},
   "outputs": [],
   "source": [
    "# https://programmers.co.kr/learn/courses/30/lessons/77484\n",
    "            \n",
    "# 문제 설명\n",
    "#로또 6/45(이하 '로또'로 표기)는 1부터 45까지의 숫자 중 6개를 찍어서 맞히는 대표적인 복권입니다. 아래는 로또의 순위를 정하는 방식입니다. 1\n",
    "\n",
    "#순위\t당첨 내용\n",
    "#1\t6개 번호가 모두 일치\n",
    "#2\t5개 번호가 일치\n",
    "#3\t4개 번호가 일치\n",
    "#4\t3개 번호가 일치\n",
    "#5\t2개 번호가 일치\n",
    "#6(낙첨)\t그 외\n",
    "\n",
    "#로또를 구매한 민우는 당첨 번호 발표일을 학수고대하고 있었습니다. 하지만, 민우의 동생이 로또에 낙서를 하여, \n",
    "#일부 번호를 알아볼 수 없게 되었습니다. 당첨 번호 발표 후, 민우는 자신이 구매했던 로또로 당첨이 가능했던 \n",
    "#최고 순위와 최저 순위를 알아보고 싶어 졌습니다.\n",
    "#알아볼 수 없는 번호를 0으로 표기하기로 하고, 민우가 구매한 로또 번호 6개가 44, 1, 0, 0, 31 25라고 가정해보겠습니다. \n",
    "#당첨 번호 6개가 31, 10, 45, 1, 6, 19라면, 당첨 가능한 최고 순위와 최저 순위의 한 예는 아래와 같습니다.\n",
    "\n",
    "#민우가 구매한 로또 번호를 담은 배열 lottos, 당첨 번호를 담은 배열 win_nums가 매개변수로 주어집니다. 이\n",
    "#때, 당첨 가능한 최고 순위와 최저 순위를 차례대로 배열에 담아서 return 하도록 solution 함수를 완성해주세요.\n",
    "\n",
    "#제한사항\n",
    "#lottos는 길이 6인 정수 배열입니다.\n",
    "#lottos의 모든 원소는 0 이상 45 이하인 정수입니다.\n",
    "#0은 알아볼 수 없는 숫자를 의미합니다.\n",
    "#0을 제외한 다른 숫자들은 lottos에 2개 이상 담겨있지 않습니다.\n",
    "#lottos의 원소들은 정렬되어 있지 않을 수도 있습니다.\n",
    "#win_nums은 길이 6인 정수 배열입니다.\n",
    "#win_nums의 모든 원소는 1 이상 45 이하인 정수입니다.\n",
    "#win_nums에는 같은 숫자가 2개 이상 담겨있지 않습니다.\n",
    "#win_nums의 원소들은 정렬되어 있지 않을 수도 있습니다.\n",
    "\n",
    "#입출력 예\n",
    "#lottos                     win_nums                  result\n",
    "#[44, 1, 0, 0, 31, 25] -> [31, 10, 45, 1, 6, 19] --> [3, 5]\n",
    "#[0, 0, 0, 0, 0, 0] -> [38, 19, 20, 40, 15, 25] --> [1, 6]\n",
    "#[45, 4, 35, 20, 3, 9] -> [20, 9, 3, 45, 4, 35] --> [1, 1]"
   ]
  },
  {
   "cell_type": "code",
   "execution_count": 67,
   "id": "da3233f0",
   "metadata": {},
   "outputs": [],
   "source": [
    "def solution(lottos, win_nums):\n",
    "    rank=[6,6,5,4,3,2,1]\n",
    "   \n",
    "    win=0\n",
    "    \n",
    "    cnt = lottos.count(0)\n",
    "    \n",
    "    for x in win_nums:\n",
    "        if x in lottos:\n",
    "            win += 1\n",
    "    \n",
    "    return rank[win+cnt],rank[win]\n",
    "            "
   ]
  },
  {
   "cell_type": "code",
   "execution_count": 68,
   "id": "66aa71dd",
   "metadata": {},
   "outputs": [
    {
     "data": {
      "text/plain": [
       "(3, 5)"
      ]
     },
     "execution_count": 68,
     "metadata": {},
     "output_type": "execute_result"
    }
   ],
   "source": [
    "solution([44, 1, 0, 0, 31, 25], [31, 10, 45, 1, 6, 19])"
   ]
  },
  {
   "cell_type": "code",
   "execution_count": 69,
   "id": "5133b204",
   "metadata": {},
   "outputs": [
    {
     "data": {
      "text/plain": [
       "(1, 6)"
      ]
     },
     "execution_count": 69,
     "metadata": {},
     "output_type": "execute_result"
    }
   ],
   "source": [
    "solution([0, 0, 0, 0, 0, 0], [38, 19, 20, 40, 15, 25])"
   ]
  },
  {
   "cell_type": "code",
   "execution_count": null,
   "id": "dbe01f12",
   "metadata": {},
   "outputs": [],
   "source": []
  },
  {
   "cell_type": "markdown",
   "id": "01743f80",
   "metadata": {},
   "source": [
    "## 정리\n",
    "- rank=[] 미리 정해주고 문제를 푸는게 좋음\n",
    "- 만약 win=2, cnt=2 라면 rank=[2+2]해서 rank[4]가 되고 이 말은 rank 리스트 인덱스 4라는 뜻이므로 0부터 시작해서 4 인덱스 숫자를 반환"
   ]
  }
 ],
 "metadata": {
  "kernelspec": {
   "display_name": "Python 3",
   "language": "python",
   "name": "python3"
  },
  "language_info": {
   "codemirror_mode": {
    "name": "ipython",
    "version": 3
   },
   "file_extension": ".py",
   "mimetype": "text/x-python",
   "name": "python",
   "nbconvert_exporter": "python",
   "pygments_lexer": "ipython3",
   "version": "3.8.8"
  }
 },
 "nbformat": 4,
 "nbformat_minor": 5
}
