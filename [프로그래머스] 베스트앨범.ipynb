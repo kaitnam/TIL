{
 "cells": [
  {
   "cell_type": "code",
   "execution_count": null,
   "id": "3f7a95da",
   "metadata": {},
   "outputs": [],
   "source": [
    "# https://school.programmers.co.kr/learn/courses/30/lessons/42579"
   ]
  },
  {
   "cell_type": "markdown",
   "id": "3340040b",
   "metadata": {},
   "source": [
    "### 정답"
   ]
  },
  {
   "cell_type": "code",
   "execution_count": null,
   "id": "5141a705",
   "metadata": {},
   "outputs": [],
   "source": [
    "def solution(genres, plays):\n",
    "    answer = []\n",
    "\n",
    "    dic1 = {}\n",
    "    dic2 = {}\n",
    "\n",
    "    for i, (g, p) in enumerate(zip(genres, plays)):\n",
    "        if g not in dic1:\n",
    "            dic1[g] = [(i, p)]\n",
    "        else:\n",
    "            dic1[g].append((i, p))\n",
    "\n",
    "        if g not in dic2:\n",
    "            dic2[g] = p\n",
    "        else:\n",
    "            dic2[g] += p\n",
    "\n",
    "    for (k, v) in sorted(dic2.items(), key=lambda x:x[1], reverse=True):\n",
    "        for (i, p) in sorted(dic1[k], key=lambda x:x[1], reverse=True)[:2]:\n",
    "            answer.append(i)\n",
    "\n",
    "    return answer"
   ]
  },
  {
   "cell_type": "markdown",
   "id": "5f5f224e",
   "metadata": {},
   "source": [
    "### 풀이"
   ]
  },
  {
   "cell_type": "code",
   "execution_count": 2,
   "id": "95de662f",
   "metadata": {},
   "outputs": [],
   "source": [
    "genres = [\"classic\", \"pop\", \"classic\", \"classic\", \"pop\"]"
   ]
  },
  {
   "cell_type": "code",
   "execution_count": 3,
   "id": "f1f3b517",
   "metadata": {},
   "outputs": [],
   "source": [
    "plays = [500, 600, 150, 800, 2500]"
   ]
  },
  {
   "cell_type": "code",
   "execution_count": null,
   "id": "bb6b24b4",
   "metadata": {},
   "outputs": [],
   "source": [
    "[4, 1, 3, 0]"
   ]
  },
  {
   "cell_type": "code",
   "execution_count": 9,
   "id": "3acbc51c",
   "metadata": {},
   "outputs": [
    {
     "name": "stdout",
     "output_type": "stream",
     "text": [
      "['classic', 500]\n",
      "['pop', 600]\n",
      "['classic', 150]\n",
      "['classic', 800]\n",
      "['pop', 2500]\n"
     ]
    }
   ],
   "source": [
    "for p1, p2 in zip(genres,plays):\n",
    "    y = list([p1,p2])\n",
    "    print(y)"
   ]
  },
  {
   "cell_type": "code",
   "execution_count": 10,
   "id": "868abbbc",
   "metadata": {},
   "outputs": [
    {
     "data": {
      "text/plain": [
       "['pop', 2500]"
      ]
     },
     "execution_count": 10,
     "metadata": {},
     "output_type": "execute_result"
    }
   ],
   "source": [
    "y"
   ]
  },
  {
   "cell_type": "code",
   "execution_count": 11,
   "id": "41fda78a",
   "metadata": {},
   "outputs": [],
   "source": [
    "def solution(genres, plays):\n",
    "    answer = []\n",
    "\n",
    "    dic1 = {}\n",
    "    dic2 = {}\n",
    "\n",
    "    for i, (g, p) in enumerate(zip(genres, plays)):\n",
    "        if g not in dic1:\n",
    "            dic1[g] = [(i, p)]\n",
    "        else:\n",
    "            dic1[g].append((i, p))\n",
    "\n",
    "        if g not in dic2:\n",
    "            dic2[g] = p\n",
    "        else:\n",
    "            dic2[g] += p\n",
    "\n",
    "    for (k, v) in sorted(dic2.items(), key=lambda x:x[1], reverse=True):\n",
    "        for (i, p) in sorted(dic1[k], key=lambda x:x[1], reverse=True)[:2]:\n",
    "            answer.append(i)\n",
    "\n",
    "    return answer"
   ]
  },
  {
   "cell_type": "code",
   "execution_count": 13,
   "id": "3c76deb2",
   "metadata": {},
   "outputs": [
    {
     "name": "stdout",
     "output_type": "stream",
     "text": [
      "0 ('classic', 500)\n",
      "1 ('pop', 600)\n",
      "2 ('classic', 150)\n",
      "3 ('classic', 800)\n",
      "4 ('pop', 2500)\n"
     ]
    }
   ],
   "source": [
    "for i, (g, p) in enumerate(zip(genres, plays)):\n",
    "    print(i,(g,p))\n",
    "#     if g not in dic1:\n",
    "#         dic1[g] = [(i, p)]\n",
    "#     else:\n",
    "#         dic1[g].append((i, p))"
   ]
  },
  {
   "cell_type": "code",
   "execution_count": 14,
   "id": "f860f4ef",
   "metadata": {},
   "outputs": [
    {
     "name": "stdout",
     "output_type": "stream",
     "text": [
      "{'classic': [(0, 500), (2, 150), (3, 800)], 'pop': [(1, 600), (4, 2500)]}\n",
      "{'classic': 1450, 'pop': 3100}\n"
     ]
    }
   ],
   "source": [
    "\n",
    "dic1 = {}\n",
    "dic2 = {}\n",
    "\n",
    "for i, (g, p) in enumerate(zip(genres, plays)):\n",
    "    if g not in dic1:\n",
    "        dic1[g] = [(i, p)]\n",
    "    else:\n",
    "        dic1[g].append((i, p))\n",
    "\n",
    "    if g not in dic2:\n",
    "        dic2[g] = p\n",
    "    else:\n",
    "        dic2[g] += p\n",
    "\n",
    "print(dic1)\n",
    "print(dic2)"
   ]
  },
  {
   "cell_type": "code",
   "execution_count": 15,
   "id": "ba99c282",
   "metadata": {},
   "outputs": [
    {
     "data": {
      "text/plain": [
       "dict_items([('classic', 1450), ('pop', 3100)])"
      ]
     },
     "execution_count": 15,
     "metadata": {},
     "output_type": "execute_result"
    }
   ],
   "source": [
    "dic2.items()"
   ]
  },
  {
   "cell_type": "code",
   "execution_count": 22,
   "id": "c81e3c5e",
   "metadata": {},
   "outputs": [
    {
     "data": {
      "text/plain": [
       "[('classic', 1450), ('pop', 3100)]"
      ]
     },
     "execution_count": 22,
     "metadata": {},
     "output_type": "execute_result"
    }
   ],
   "source": [
    "sorted(dic2.items()) # sorted() 오름차순 정렬"
   ]
  },
  {
   "cell_type": "code",
   "execution_count": 25,
   "id": "ba554c97",
   "metadata": {},
   "outputs": [
    {
     "data": {
      "text/plain": [
       "[('pop', 3100), ('classic', 1450)]"
      ]
     },
     "execution_count": 25,
     "metadata": {},
     "output_type": "execute_result"
    }
   ],
   "source": [
    "sorted(dic2.items(), key = lambda x:x[0],reverse=True) # sorted()는 오름차순인데 reverse=True하면 내림차순으로 변한다"
   ]
  },
  {
   "cell_type": "code",
   "execution_count": 23,
   "id": "22d5cf11",
   "metadata": {},
   "outputs": [
    {
     "data": {
      "text/plain": [
       "[('classic', 1450), ('pop', 3100)]"
      ]
     },
     "execution_count": 23,
     "metadata": {},
     "output_type": "execute_result"
    }
   ],
   "source": [
    "sorted(dic2.items(), key = lambda x:x[0])"
   ]
  },
  {
   "cell_type": "code",
   "execution_count": 24,
   "id": "275ef43c",
   "metadata": {},
   "outputs": [
    {
     "data": {
      "text/plain": [
       "[('classic', 1450), ('pop', 3100)]"
      ]
     },
     "execution_count": 24,
     "metadata": {},
     "output_type": "execute_result"
    }
   ],
   "source": [
    "sorted(dic2.items(), key = lambda x:x[1])"
   ]
  },
  {
   "cell_type": "code",
   "execution_count": 21,
   "id": "85e61e43",
   "metadata": {},
   "outputs": [
    {
     "data": {
      "text/plain": [
       "[('pop', 3100), ('classic', 1450)]"
      ]
     },
     "execution_count": 21,
     "metadata": {},
     "output_type": "execute_result"
    }
   ],
   "source": [
    "sorted(dic2.items(), key = lambda x:x[1],reverse=True) "
   ]
  },
  {
   "cell_type": "code",
   "execution_count": 20,
   "id": "4fd44021",
   "metadata": {},
   "outputs": [
    {
     "data": {
      "text/plain": [
       "[('pop', 3100), ('classic', 1450)]"
      ]
     },
     "execution_count": 20,
     "metadata": {},
     "output_type": "execute_result"
    }
   ],
   "source": [
    "sorted(dic2.items(), key = lambda x:x[0],reverse=True) "
   ]
  },
  {
   "cell_type": "code",
   "execution_count": null,
   "id": "41ade328",
   "metadata": {},
   "outputs": [],
   "source": [
    "answer = []\n",
    "\n",
    "for (k, v) in sorted(dic2.items(), key=lambda x:x[1], reverse=True):\n",
    "    for (i, p) in sorted(dic1[k], key=lambda x:x[1], reverse=True)[:2]:\n",
    "        answer.append(i)\n",
    "\n",
    "print(answer)"
   ]
  },
  {
   "cell_type": "code",
   "execution_count": 26,
   "id": "9bc2fdb3",
   "metadata": {},
   "outputs": [
    {
     "name": "stdout",
     "output_type": "stream",
     "text": [
      "('pop', 3100)\n",
      "('classic', 1450)\n"
     ]
    }
   ],
   "source": [
    "for (k, v) in sorted(dic2.items(), key=lambda x:x[1], reverse=True):\n",
    "    print((k,v))"
   ]
  },
  {
   "cell_type": "code",
   "execution_count": 30,
   "id": "11ac5eff",
   "metadata": {},
   "outputs": [
    {
     "name": "stdout",
     "output_type": "stream",
     "text": [
      "[3, 0]\n"
     ]
    }
   ],
   "source": [
    "answer = []\n",
    "\n",
    "for (i, p) in sorted(dic1[k], key=lambda x:x[1], reverse=True)[:2]:\n",
    "    answer.append(i)\n",
    "\n",
    "print(answer)"
   ]
  },
  {
   "cell_type": "code",
   "execution_count": null,
   "id": "2065bdf8",
   "metadata": {},
   "outputs": [],
   "source": []
  }
 ],
 "metadata": {
  "kernelspec": {
   "display_name": "Python 3 (ipykernel)",
   "language": "python",
   "name": "python3"
  },
  "language_info": {
   "codemirror_mode": {
    "name": "ipython",
    "version": 3
   },
   "file_extension": ".py",
   "mimetype": "text/x-python",
   "name": "python",
   "nbconvert_exporter": "python",
   "pygments_lexer": "ipython3",
   "version": "3.9.12"
  }
 },
 "nbformat": 4,
 "nbformat_minor": 5
}
