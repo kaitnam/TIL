{
 "cells": [
  {
   "cell_type": "code",
   "execution_count": 8,
   "id": "2f57eb45",
   "metadata": {},
   "outputs": [],
   "source": [
    "def solution(gems):\n",
    "    answer = [] \n",
    "    shortest = len(gems)+1 # 현재 최단 구간 길이\n",
    "\n",
    "    start_p = 0 # 구간의 시작점\n",
    "    end_p = 0 # 구간의 끝 점 (보석을 체크하는 기준점)\n",
    "\n",
    "    check_len = len(set(gems)) # 보석의 총 종류 수\n",
    "    contained = {} # 현재 구간에 포함된 보석들(종류: 갯수)\n",
    "\n",
    "    while end_p < len(gems): # 구간의 끝 점이 gems의 길이보다 작을 동안\n",
    "\n",
    "        if gems[end_p] not in contained: # 현재 끝 점의 보석이 contained에 없다면(이 종류가 처음 발견되었다면)\n",
    "            contained[gems[end_p]] = 1 # dictionary에 추가\n",
    "        else:\n",
    "            contained[gems[end_p]] += 1 # 이미 있으면 dictionary에 +1\n",
    "            \n",
    "        end_p += 1 # 끝 점 증가\n",
    "\n",
    "        if len(contained) == check_len: # 현재 구간 내 보석의 종류의 갯수가 전체 종류의 갯수와 같다면 (현재 구간내 모든 종류가 다 있다면)\n",
    "            while start_p < end_p: # start_p 가 end_p 보다 같을 때까지 증가\n",
    "                if contained[gems[start_p]] > 1: # start_p에 해당하는 보석이 구간 내에 하나 이상 있다면\n",
    "                    contained[gems[start_p]] -= 1 # 구간 내 보석 하나 감소(start_p 의 보석 뺄거니까)\n",
    "                    start_p += 1 # start_p 증가\n",
    "                    \n",
    "                elif shortest > end_p - start_p: # 기존의 구간 최단거리보다 현재의 구간거리가 더 짧다면\n",
    "                    shortest = end_p - start_p\n",
    "                    answer = [start_p+1, end_p] # answer와 최단거리 갱신\n",
    "                    break\n",
    "                    \n",
    "                else:\n",
    "                    break\n",
    "\n",
    "\n",
    "    return answer\n"
   ]
  },
  {
   "cell_type": "code",
   "execution_count": 10,
   "id": "73189051",
   "metadata": {},
   "outputs": [
    {
     "data": {
      "text/plain": [
       "[3, 7]"
      ]
     },
     "execution_count": 10,
     "metadata": {},
     "output_type": "execute_result"
    }
   ],
   "source": [
    "gems = [\"DIA\", \"RUBY\", \"RUBY\", \"DIA\", \"DIA\", \"EMERALD\", \"SAPPHIRE\", \"DIA\"]\n",
    "solution(gems)"
   ]
  },
  {
   "cell_type": "code",
   "execution_count": 11,
   "id": "275e57ca",
   "metadata": {},
   "outputs": [
    {
     "data": {
      "text/plain": [
       "[1, 3]"
      ]
     },
     "execution_count": 11,
     "metadata": {},
     "output_type": "execute_result"
    }
   ],
   "source": [
    "gems = [\"AA\", \"AB\", \"AC\", \"AA\", \"AC\"]\n",
    "solution(gems)"
   ]
  },
  {
   "cell_type": "code",
   "execution_count": 12,
   "id": "e29f1cda",
   "metadata": {},
   "outputs": [
    {
     "data": {
      "text/plain": [
       "[1, 1]"
      ]
     },
     "execution_count": 12,
     "metadata": {},
     "output_type": "execute_result"
    }
   ],
   "source": [
    "gems = [\"XYZ\", \"XYZ\", \"XYZ\"]\n",
    "solution(gems)"
   ]
  },
  {
   "cell_type": "code",
   "execution_count": 13,
   "id": "fd646191",
   "metadata": {},
   "outputs": [
    {
     "data": {
      "text/plain": [
       "[1, 5]"
      ]
     },
     "execution_count": 13,
     "metadata": {},
     "output_type": "execute_result"
    }
   ],
   "source": [
    "gems = [\"ZZZ\", \"YYY\", \"NNNN\", \"YYY\", \"BBB\"]\n",
    "solution(gems)"
   ]
  },
  {
   "cell_type": "code",
   "execution_count": null,
   "id": "0c528023",
   "metadata": {},
   "outputs": [],
   "source": []
  }
 ],
 "metadata": {
  "kernelspec": {
   "display_name": "Python 3 (ipykernel)",
   "language": "python",
   "name": "python3"
  },
  "language_info": {
   "codemirror_mode": {
    "name": "ipython",
    "version": 3
   },
   "file_extension": ".py",
   "mimetype": "text/x-python",
   "name": "python",
   "nbconvert_exporter": "python",
   "pygments_lexer": "ipython3",
   "version": "3.9.12"
  }
 },
 "nbformat": 4,
 "nbformat_minor": 5
}
