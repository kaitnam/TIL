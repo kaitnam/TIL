{
 "cells": [
  {
   "cell_type": "code",
   "execution_count": null,
   "id": "ce28bbdc",
   "metadata": {},
   "outputs": [],
   "source": [
    "# https://www.kaggle.com/nicapotato/guided-numeric-and-text-exploration-e-commerce"
   ]
  },
  {
   "cell_type": "code",
   "execution_count": 1,
   "id": "f1997544",
   "metadata": {},
   "outputs": [],
   "source": [
    "# General\n",
    "import numpy as np\n",
    "import pandas as pd\n",
    "import nltk\n",
    "import random\n",
    "import os\n",
    "from os import path\n",
    "from PIL import Image\n",
    "\n",
    "# Visualization\n",
    "import matplotlib as mpl\n",
    "import matplotlib.pyplot as plt\n",
    "import seaborn as sns\n",
    "%matplotlib inline\n",
    "from subprocess import check_output\n",
    "from wordcloud import WordCloud, STOPWORDS\n",
    "\n",
    "# Set Plot Theme\n",
    "sns.set_palette([\n",
    "    \"#30a2da\",\n",
    "    \"#fc4f30\",\n",
    "    \"#e5ae38\",\n",
    "    \"#6d904f\",\n",
    "    \"#8b8b8b\",\n",
    "])\n",
    "# Alternate # plt.style.use('fivethirtyeight')\n",
    "\n",
    "# Pre-Processing\n",
    "import string\n",
    "from nltk.tokenize import RegexpTokenizer\n",
    "from nltk.corpus import stopwords\n",
    "import re\n",
    "from nltk.stem import PorterStemmer\n",
    "\n",
    "# Modeling\n",
    "import statsmodels.api as sm\n",
    "from nltk.sentiment.vader import SentimentIntensityAnalyzer\n",
    "from nltk.sentiment.util import *\n",
    "from nltk.util import ngrams\n",
    "from collections import Counter\n",
    "from gensim.models import word2vec\n",
    "\n",
    "# Warnings\n",
    "import warnings\n",
    "warnings.filterwarnings('ignore')"
   ]
  },
  {
   "cell_type": "code",
   "execution_count": 2,
   "id": "3fdb6109",
   "metadata": {},
   "outputs": [
    {
     "data": {
      "text/html": [
       "<div>\n",
       "<style scoped>\n",
       "    .dataframe tbody tr th:only-of-type {\n",
       "        vertical-align: middle;\n",
       "    }\n",
       "\n",
       "    .dataframe tbody tr th {\n",
       "        vertical-align: top;\n",
       "    }\n",
       "\n",
       "    .dataframe thead th {\n",
       "        text-align: right;\n",
       "    }\n",
       "</style>\n",
       "<table border=\"1\" class=\"dataframe\">\n",
       "  <thead>\n",
       "    <tr style=\"text-align: right;\">\n",
       "      <th></th>\n",
       "      <th>Unnamed: 0</th>\n",
       "      <th>Clothing ID</th>\n",
       "      <th>Age</th>\n",
       "      <th>Title</th>\n",
       "      <th>Review Text</th>\n",
       "      <th>Rating</th>\n",
       "      <th>Recommended IND</th>\n",
       "      <th>Positive Feedback Count</th>\n",
       "      <th>Division Name</th>\n",
       "      <th>Department Name</th>\n",
       "      <th>Class Name</th>\n",
       "    </tr>\n",
       "  </thead>\n",
       "  <tbody>\n",
       "    <tr>\n",
       "      <th>0</th>\n",
       "      <td>0</td>\n",
       "      <td>767</td>\n",
       "      <td>33</td>\n",
       "      <td>NaN</td>\n",
       "      <td>Absolutely wonderful - silky and sexy and comf...</td>\n",
       "      <td>4</td>\n",
       "      <td>1</td>\n",
       "      <td>0</td>\n",
       "      <td>Initmates</td>\n",
       "      <td>Intimate</td>\n",
       "      <td>Intimates</td>\n",
       "    </tr>\n",
       "    <tr>\n",
       "      <th>1</th>\n",
       "      <td>1</td>\n",
       "      <td>1080</td>\n",
       "      <td>34</td>\n",
       "      <td>NaN</td>\n",
       "      <td>Love this dress!  it's sooo pretty.  i happene...</td>\n",
       "      <td>5</td>\n",
       "      <td>1</td>\n",
       "      <td>4</td>\n",
       "      <td>General</td>\n",
       "      <td>Dresses</td>\n",
       "      <td>Dresses</td>\n",
       "    </tr>\n",
       "    <tr>\n",
       "      <th>2</th>\n",
       "      <td>2</td>\n",
       "      <td>1077</td>\n",
       "      <td>60</td>\n",
       "      <td>Some major design flaws</td>\n",
       "      <td>I had such high hopes for this dress and reall...</td>\n",
       "      <td>3</td>\n",
       "      <td>0</td>\n",
       "      <td>0</td>\n",
       "      <td>General</td>\n",
       "      <td>Dresses</td>\n",
       "      <td>Dresses</td>\n",
       "    </tr>\n",
       "    <tr>\n",
       "      <th>3</th>\n",
       "      <td>3</td>\n",
       "      <td>1049</td>\n",
       "      <td>50</td>\n",
       "      <td>My favorite buy!</td>\n",
       "      <td>I love, love, love this jumpsuit. it's fun, fl...</td>\n",
       "      <td>5</td>\n",
       "      <td>1</td>\n",
       "      <td>0</td>\n",
       "      <td>General Petite</td>\n",
       "      <td>Bottoms</td>\n",
       "      <td>Pants</td>\n",
       "    </tr>\n",
       "    <tr>\n",
       "      <th>4</th>\n",
       "      <td>4</td>\n",
       "      <td>847</td>\n",
       "      <td>47</td>\n",
       "      <td>Flattering shirt</td>\n",
       "      <td>This shirt is very flattering to all due to th...</td>\n",
       "      <td>5</td>\n",
       "      <td>1</td>\n",
       "      <td>6</td>\n",
       "      <td>General</td>\n",
       "      <td>Tops</td>\n",
       "      <td>Blouses</td>\n",
       "    </tr>\n",
       "  </tbody>\n",
       "</table>\n",
       "</div>"
      ],
      "text/plain": [
       "   Unnamed: 0  Clothing ID  Age                    Title  \\\n",
       "0           0          767   33                      NaN   \n",
       "1           1         1080   34                      NaN   \n",
       "2           2         1077   60  Some major design flaws   \n",
       "3           3         1049   50         My favorite buy!   \n",
       "4           4          847   47         Flattering shirt   \n",
       "\n",
       "                                         Review Text  Rating  Recommended IND  \\\n",
       "0  Absolutely wonderful - silky and sexy and comf...       4                1   \n",
       "1  Love this dress!  it's sooo pretty.  i happene...       5                1   \n",
       "2  I had such high hopes for this dress and reall...       3                0   \n",
       "3  I love, love, love this jumpsuit. it's fun, fl...       5                1   \n",
       "4  This shirt is very flattering to all due to th...       5                1   \n",
       "\n",
       "   Positive Feedback Count   Division Name Department Name Class Name  \n",
       "0                        0       Initmates        Intimate  Intimates  \n",
       "1                        4         General         Dresses    Dresses  \n",
       "2                        0         General         Dresses    Dresses  \n",
       "3                        0  General Petite         Bottoms      Pants  \n",
       "4                        6         General            Tops    Blouses  "
      ]
     },
     "execution_count": 2,
     "metadata": {},
     "output_type": "execute_result"
    }
   ],
   "source": [
    "df = pd.read_csv(\"E:/Kaggle Practice/Womens Clothing E-Commerce Reviews/Womens Clothing E-Commerce Reviews.csv\")\n",
    "df.head()"
   ]
  },
  {
   "cell_type": "code",
   "execution_count": null,
   "id": "3ec80c56",
   "metadata": {},
   "outputs": [],
   "source": [
    "# Clothing ID: Integer Categorical variable that refers to the specific piece being reviewed.\n",
    "# Age: Positive Integer variable of the reviewers age.\n",
    "# Title: String variable for the title of the review.\n",
    "# Review Text: String variable for the review body.\n",
    "# Rating: Positive Ordinal Integer variable for the product score granted by the customer from 1 Worst, to 5 Best.\n",
    "# Recommended IND: Binary variable stating where the customer recommends the product where 1 is recommended, 0 is not recommended.\n",
    "# Positive Feedback Count: Positive Integer documenting the number of other customers who found this review positive.\n",
    "# Division Name: Categorical name of the product high level division.\n",
    "# Department Name: Categorical name of the product department name.\n",
    "# Class Name: Categorical name of the product class name."
   ]
  },
  {
   "cell_type": "code",
   "execution_count": 3,
   "id": "84e11239",
   "metadata": {},
   "outputs": [
    {
     "name": "stdout",
     "output_type": "stream",
     "text": [
      "<class 'pandas.core.frame.DataFrame'>\n",
      "RangeIndex: 23486 entries, 0 to 23485\n",
      "Data columns (total 11 columns):\n",
      " #   Column                   Non-Null Count  Dtype \n",
      "---  ------                   --------------  ----- \n",
      " 0   Unnamed: 0               23486 non-null  int64 \n",
      " 1   Clothing ID              23486 non-null  int64 \n",
      " 2   Age                      23486 non-null  int64 \n",
      " 3   Title                    19676 non-null  object\n",
      " 4   Review Text              22641 non-null  object\n",
      " 5   Rating                   23486 non-null  int64 \n",
      " 6   Recommended IND          23486 non-null  int64 \n",
      " 7   Positive Feedback Count  23486 non-null  int64 \n",
      " 8   Division Name            23472 non-null  object\n",
      " 9   Department Name          23472 non-null  object\n",
      " 10  Class Name               23472 non-null  object\n",
      "dtypes: int64(6), object(5)\n",
      "memory usage: 2.0+ MB\n"
     ]
    }
   ],
   "source": [
    "df.info()"
   ]
  },
  {
   "cell_type": "code",
   "execution_count": 4,
   "id": "7b2805f3",
   "metadata": {},
   "outputs": [
    {
     "data": {
      "text/plain": [
       "Unnamed: 0                    0\n",
       "Clothing ID                   0\n",
       "Age                           0\n",
       "Title                      3810\n",
       "Review Text                 845\n",
       "Rating                        0\n",
       "Recommended IND               0\n",
       "Positive Feedback Count       0\n",
       "Division Name                14\n",
       "Department Name              14\n",
       "Class Name                   14\n",
       "dtype: int64"
      ]
     },
     "execution_count": 4,
     "metadata": {},
     "output_type": "execute_result"
    }
   ],
   "source": [
    "df.isnull().sum()"
   ]
  },
  {
   "cell_type": "code",
   "execution_count": null,
   "id": "8f147797",
   "metadata": {},
   "outputs": [],
   "source": [
    "#Code Explanation and Reasoning:\n",
    "#These packages are separated in four categories: General, Visualization, Pre-Processing, and Modeling.\n",
    "\n",
    "# The General category includes the basic data manipulation tools for scientific computation (numpy), dataframes (pandas), Natural Language Processing (NLTK), path directory manipulation (os), and image saving (PIL).\n",
    "\n",
    "# The Visualization section enables the creation of simple graphics (matplotlib, seaborn), as well as wordcloud's text frequency visualization.\n",
    "\n",
    "# The Pre-Processing section extracts more specialized modules from the NLTK package such as tokenizers and stemmers to enable the preparation of text data for mathematical analysis.\n",
    "\n",
    "# The Modeling section includes nltk’s sentiment analysis module, which can determine the mood of text, NLTK’s N-grams, and gensim.models’s word2vec. It also includes statsmodels.api which offers an array of linear models."
   ]
  },
  {
   "cell_type": "code",
   "execution_count": 5,
   "id": "72aa48e2",
   "metadata": {},
   "outputs": [
    {
     "name": "stdout",
     "output_type": "stream",
     "text": [
      "<class 'pandas.core.frame.DataFrame'>\n",
      "Int64Index: 22628 entries, 0 to 23485\n",
      "Data columns (total 10 columns):\n",
      " #   Column                   Non-Null Count  Dtype \n",
      "---  ------                   --------------  ----- \n",
      " 0   Clothing ID              22628 non-null  int64 \n",
      " 1   Age                      22628 non-null  int64 \n",
      " 2   Title                    19662 non-null  object\n",
      " 3   Review Text              22628 non-null  object\n",
      " 4   Rating                   22628 non-null  int64 \n",
      " 5   Recommended IND          22628 non-null  int64 \n",
      " 6   Positive Feedback Count  22628 non-null  int64 \n",
      " 7   Division Name            22628 non-null  object\n",
      " 8   Department Name          22628 non-null  object\n",
      " 9   Class Name               22628 non-null  object\n",
      "dtypes: int64(5), object(5)\n",
      "memory usage: 1.9+ MB\n"
     ]
    }
   ],
   "source": [
    "df.drop(df.columns[0],inplace=True, axis=1)\n",
    "# 인덱스 컬럼은 드롭. inplace=True는 df에 바로 적용하는거고, axis=1은 컬럼을 의미하므로 컬럼[0]을 드롭하는데 바로 적용하라는 뜻\n",
    "\n",
    "# Delete missing observations for following variables\n",
    "for x in \"Division Name\",\"Department Name\",\"Class Name\",\"Review Text\":\n",
    "    df = df[df[x].notnull()]\n",
    "# 이 데이터셋에는 \"Title\",\"Division Name\",\"Department Name\",\"Class Name\",\"Review Text\" 5가지의 컬럼에 missing value가 있는데\n",
    "# 리뷰에서 \"Review Text\"가 중요하므로 리뷰가 없으면 삭제하고 \"Title\"은 큰 의미가 없기때문에 냅두고, 나머지 3개의 컬럼에서\n",
    "# missig value가 있으면 삭제한다\n",
    "df.info()"
   ]
  },
  {
   "cell_type": "code",
   "execution_count": 6,
   "id": "6194af14",
   "metadata": {},
   "outputs": [
    {
     "data": {
      "text/plain": [
       "Clothing ID                   0\n",
       "Age                           0\n",
       "Title                      2966\n",
       "Review Text                   0\n",
       "Rating                        0\n",
       "Recommended IND               0\n",
       "Positive Feedback Count       0\n",
       "Division Name                 0\n",
       "Department Name               0\n",
       "Class Name                    0\n",
       "dtype: int64"
      ]
     },
     "execution_count": 6,
     "metadata": {},
     "output_type": "execute_result"
    }
   ],
   "source": [
    "df.isnull().sum()"
   ]
  },
  {
   "cell_type": "code",
   "execution_count": 7,
   "id": "aa689328",
   "metadata": {},
   "outputs": [
    {
     "data": {
      "text/plain": [
       "[['Clothing ID', 1172, 0],\n",
       " ['Age', 77, 0],\n",
       " ['Title', 13984, 2966],\n",
       " ['Review Text', 22621, 0],\n",
       " ['Rating', 5, 0],\n",
       " ['Recommended IND', 2, 0],\n",
       " ['Positive Feedback Count', 82, 0],\n",
       " ['Division Name', 3, 0],\n",
       " ['Department Name', 6, 0],\n",
       " ['Class Name', 20, 0]]"
      ]
     },
     "execution_count": 7,
     "metadata": {},
     "output_type": "execute_result"
    }
   ],
   "source": [
    "# Extracting Missing Count and Unique Count by Column\n",
    "unique_count = []\n",
    "for x in df.columns:\n",
    "    unique_count.append([x,len(df[x].unique()),df[x].isnull().sum()])\n",
    "unique_count"
   ]
  },
  {
   "cell_type": "code",
   "execution_count": 8,
   "id": "2de70ac4",
   "metadata": {},
   "outputs": [
    {
     "name": "stdout",
     "output_type": "stream",
     "text": [
      "Missing Values: 2966\n"
     ]
    }
   ],
   "source": [
    "# Missing Values\n",
    "print(\"Missing Values: {}\".format(df.isnull().sum().sum()))"
   ]
  },
  {
   "cell_type": "code",
   "execution_count": 9,
   "id": "60b0d48b",
   "metadata": {},
   "outputs": [
    {
     "name": "stdout",
     "output_type": "stream",
     "text": [
      "Dataframe Dimension: 22628 Rows, 10 Columns\n"
     ]
    }
   ],
   "source": [
    "print(\"Dataframe Dimension: {} Rows, {} Columns\".format(*df.shape))"
   ]
  },
  {
   "cell_type": "code",
   "execution_count": 10,
   "id": "6b0503ff",
   "metadata": {},
   "outputs": [],
   "source": [
    "# Create New Variables:\n",
    "# Word Length \n",
    "df[\"Word Count\"] = df['Review Text'].str.split().apply(len)\n",
    "\n",
    "# Character Length\n",
    "df[\"Character Count\"] = df[\"Review Text\"].apply(len)\n",
    "\n",
    "# Boolean for Positive and Negative Reviews\n",
    "df[\"Label\"] = 0\n",
    "df.loc[df.Rating >= 3, [\"Label\"]] = 1"
   ]
  },
  {
   "cell_type": "code",
   "execution_count": 11,
   "id": "79a895f5",
   "metadata": {},
   "outputs": [
    {
     "data": {
      "text/html": [
       "<div>\n",
       "<style scoped>\n",
       "    .dataframe tbody tr th:only-of-type {\n",
       "        vertical-align: middle;\n",
       "    }\n",
       "\n",
       "    .dataframe tbody tr th {\n",
       "        vertical-align: top;\n",
       "    }\n",
       "\n",
       "    .dataframe thead th {\n",
       "        text-align: right;\n",
       "    }\n",
       "</style>\n",
       "<table border=\"1\" class=\"dataframe\">\n",
       "  <thead>\n",
       "    <tr style=\"text-align: right;\">\n",
       "      <th></th>\n",
       "      <th>Clothing ID</th>\n",
       "      <th>Age</th>\n",
       "      <th>Title</th>\n",
       "      <th>Review Text</th>\n",
       "      <th>Rating</th>\n",
       "      <th>Recommended IND</th>\n",
       "      <th>Positive Feedback Count</th>\n",
       "      <th>Division Name</th>\n",
       "      <th>Department Name</th>\n",
       "      <th>Class Name</th>\n",
       "      <th>Word Count</th>\n",
       "      <th>Character Count</th>\n",
       "      <th>Label</th>\n",
       "    </tr>\n",
       "  </thead>\n",
       "  <tbody>\n",
       "    <tr>\n",
       "      <th>19104</th>\n",
       "      <td>1121</td>\n",
       "      <td>55</td>\n",
       "      <td>Beautiful coat, but runs small</td>\n",
       "      <td>I love this coat, and wanted it to fit so badl...</td>\n",
       "      <td>4</td>\n",
       "      <td>1</td>\n",
       "      <td>2</td>\n",
       "      <td>General</td>\n",
       "      <td>Jackets</td>\n",
       "      <td>Outerwear</td>\n",
       "      <td>31</td>\n",
       "      <td>144</td>\n",
       "      <td>1</td>\n",
       "    </tr>\n",
       "    <tr>\n",
       "      <th>21913</th>\n",
       "      <td>969</td>\n",
       "      <td>70</td>\n",
       "      <td>Kimono with kick</td>\n",
       "      <td>When i saw this on a model at my retailer stor...</td>\n",
       "      <td>5</td>\n",
       "      <td>1</td>\n",
       "      <td>1</td>\n",
       "      <td>General</td>\n",
       "      <td>Jackets</td>\n",
       "      <td>Jackets</td>\n",
       "      <td>66</td>\n",
       "      <td>334</td>\n",
       "      <td>1</td>\n",
       "    </tr>\n",
       "    <tr>\n",
       "      <th>4261</th>\n",
       "      <td>1068</td>\n",
       "      <td>47</td>\n",
       "      <td>Great pants</td>\n",
       "      <td>These pants are perfect for any closet! they c...</td>\n",
       "      <td>5</td>\n",
       "      <td>1</td>\n",
       "      <td>0</td>\n",
       "      <td>General Petite</td>\n",
       "      <td>Bottoms</td>\n",
       "      <td>Pants</td>\n",
       "      <td>28</td>\n",
       "      <td>161</td>\n",
       "      <td>1</td>\n",
       "    </tr>\n",
       "  </tbody>\n",
       "</table>\n",
       "</div>"
      ],
      "text/plain": [
       "       Clothing ID  Age                           Title  \\\n",
       "19104         1121   55  Beautiful coat, but runs small   \n",
       "21913          969   70                Kimono with kick   \n",
       "4261          1068   47                     Great pants   \n",
       "\n",
       "                                             Review Text  Rating  \\\n",
       "19104  I love this coat, and wanted it to fit so badl...       4   \n",
       "21913  When i saw this on a model at my retailer stor...       5   \n",
       "4261   These pants are perfect for any closet! they c...       5   \n",
       "\n",
       "       Recommended IND  Positive Feedback Count   Division Name  \\\n",
       "19104                1                        2         General   \n",
       "21913                1                        1         General   \n",
       "4261                 1                        0  General Petite   \n",
       "\n",
       "      Department Name Class Name  Word Count  Character Count  Label  \n",
       "19104         Jackets  Outerwear          31              144      1  \n",
       "21913         Jackets    Jackets          66              334      1  \n",
       "4261          Bottoms      Pants          28              161      1  "
      ]
     },
     "execution_count": 11,
     "metadata": {},
     "output_type": "execute_result"
    }
   ],
   "source": [
    "df.sample(3)"
   ]
  },
  {
   "cell_type": "markdown",
   "id": "015387e3",
   "metadata": {},
   "source": [
    "## Univariate Distribution\n",
    "### To start off my analysis, I will first take a look at the distribution of individual variables. This is a good way to see what I am up against, and understand the context of the subsequent multi-variate analysis."
   ]
  },
  {
   "cell_type": "code",
   "execution_count": 12,
   "id": "9bd548c7",
   "metadata": {},
   "outputs": [
    {
     "name": "stdout",
     "output_type": "stream",
     "text": [
      "Dataframe Dimension: 22628 Rows, 13 Columns\n"
     ]
    }
   ],
   "source": [
    "print(\"Dataframe Dimension: {} Rows, {} Columns\".format(*df.shape))"
   ]
  },
  {
   "cell_type": "code",
   "execution_count": 13,
   "id": "e23ea8e7",
   "metadata": {},
   "outputs": [
    {
     "data": {
      "text/html": [
       "<div>\n",
       "<style scoped>\n",
       "    .dataframe tbody tr th:only-of-type {\n",
       "        vertical-align: middle;\n",
       "    }\n",
       "\n",
       "    .dataframe tbody tr th {\n",
       "        vertical-align: top;\n",
       "    }\n",
       "\n",
       "    .dataframe thead th {\n",
       "        text-align: right;\n",
       "    }\n",
       "</style>\n",
       "<table border=\"1\" class=\"dataframe\">\n",
       "  <thead>\n",
       "    <tr style=\"text-align: right;\">\n",
       "      <th>Column</th>\n",
       "      <th>Clothing ID</th>\n",
       "      <th>Age</th>\n",
       "      <th>Title</th>\n",
       "      <th>Review Text</th>\n",
       "      <th>Rating</th>\n",
       "      <th>Recommended IND</th>\n",
       "      <th>Positive Feedback Count</th>\n",
       "      <th>Division Name</th>\n",
       "      <th>Department Name</th>\n",
       "      <th>Class Name</th>\n",
       "    </tr>\n",
       "  </thead>\n",
       "  <tbody>\n",
       "    <tr>\n",
       "      <th>Unique</th>\n",
       "      <td>1172</td>\n",
       "      <td>77</td>\n",
       "      <td>13984</td>\n",
       "      <td>22621</td>\n",
       "      <td>5</td>\n",
       "      <td>2</td>\n",
       "      <td>82</td>\n",
       "      <td>3</td>\n",
       "      <td>6</td>\n",
       "      <td>20</td>\n",
       "    </tr>\n",
       "    <tr>\n",
       "      <th>Missing</th>\n",
       "      <td>0</td>\n",
       "      <td>0</td>\n",
       "      <td>2966</td>\n",
       "      <td>0</td>\n",
       "      <td>0</td>\n",
       "      <td>0</td>\n",
       "      <td>0</td>\n",
       "      <td>0</td>\n",
       "      <td>0</td>\n",
       "      <td>0</td>\n",
       "    </tr>\n",
       "  </tbody>\n",
       "</table>\n",
       "</div>"
      ],
      "text/plain": [
       "Column   Clothing ID  Age  Title  Review Text  Rating  Recommended IND  \\\n",
       "Unique          1172   77  13984        22621       5                2   \n",
       "Missing            0    0   2966            0       0                0   \n",
       "\n",
       "Column   Positive Feedback Count  Division Name  Department Name  Class Name  \n",
       "Unique                        82              3                6          20  \n",
       "Missing                        0              0                0           0  "
      ]
     },
     "execution_count": 13,
     "metadata": {},
     "output_type": "execute_result"
    }
   ],
   "source": [
    "pd.DataFrame(unique_count, columns=[\"Column\",\"Unique\",\"Missing\"]).set_index(\"Column\").T"
   ]
  },
  {
   "cell_type": "markdown",
   "id": "38181dbd",
   "metadata": {},
   "source": [
    "## Interpretation\n",
    "### There are approximately 3000 missing values, which represents 1% of the dataset, but the dataset will not get trimmed further since the review text body is the only variable that must be complete.\n",
    "\n",
    "### Amongst the categorical variables, the high unique count of Clothing ID and Class Names will require non-visual exploratory methods."
   ]
  },
  {
   "cell_type": "code",
   "execution_count": 14,
   "id": "6bbedf15",
   "metadata": {},
   "outputs": [
    {
     "data": {
      "text/html": [
       "<div>\n",
       "<style scoped>\n",
       "    .dataframe tbody tr th:only-of-type {\n",
       "        vertical-align: middle;\n",
       "    }\n",
       "\n",
       "    .dataframe tbody tr th {\n",
       "        vertical-align: top;\n",
       "    }\n",
       "\n",
       "    .dataframe thead th {\n",
       "        text-align: right;\n",
       "    }\n",
       "</style>\n",
       "<table border=\"1\" class=\"dataframe\">\n",
       "  <thead>\n",
       "    <tr style=\"text-align: right;\">\n",
       "      <th></th>\n",
       "      <th>Clothing ID</th>\n",
       "      <th>Age</th>\n",
       "      <th>Rating</th>\n",
       "      <th>Recommended IND</th>\n",
       "      <th>Positive Feedback Count</th>\n",
       "      <th>Word Count</th>\n",
       "      <th>Character Count</th>\n",
       "      <th>Label</th>\n",
       "    </tr>\n",
       "  </thead>\n",
       "  <tbody>\n",
       "    <tr>\n",
       "      <th>count</th>\n",
       "      <td>22628.000000</td>\n",
       "      <td>22628.000000</td>\n",
       "      <td>22628.000000</td>\n",
       "      <td>22628.000000</td>\n",
       "      <td>22628.000000</td>\n",
       "      <td>22628.000000</td>\n",
       "      <td>22628.000000</td>\n",
       "      <td>22628.000000</td>\n",
       "    </tr>\n",
       "    <tr>\n",
       "      <th>mean</th>\n",
       "      <td>919.695908</td>\n",
       "      <td>43.282880</td>\n",
       "      <td>4.183092</td>\n",
       "      <td>0.818764</td>\n",
       "      <td>2.631784</td>\n",
       "      <td>60.211950</td>\n",
       "      <td>308.761534</td>\n",
       "      <td>0.895263</td>\n",
       "    </tr>\n",
       "    <tr>\n",
       "      <th>std</th>\n",
       "      <td>201.683804</td>\n",
       "      <td>12.328176</td>\n",
       "      <td>1.115911</td>\n",
       "      <td>0.385222</td>\n",
       "      <td>5.787520</td>\n",
       "      <td>28.533053</td>\n",
       "      <td>143.934126</td>\n",
       "      <td>0.306222</td>\n",
       "    </tr>\n",
       "    <tr>\n",
       "      <th>min</th>\n",
       "      <td>1.000000</td>\n",
       "      <td>18.000000</td>\n",
       "      <td>1.000000</td>\n",
       "      <td>0.000000</td>\n",
       "      <td>0.000000</td>\n",
       "      <td>2.000000</td>\n",
       "      <td>9.000000</td>\n",
       "      <td>0.000000</td>\n",
       "    </tr>\n",
       "    <tr>\n",
       "      <th>25%</th>\n",
       "      <td>861.000000</td>\n",
       "      <td>34.000000</td>\n",
       "      <td>4.000000</td>\n",
       "      <td>1.000000</td>\n",
       "      <td>0.000000</td>\n",
       "      <td>36.000000</td>\n",
       "      <td>186.000000</td>\n",
       "      <td>1.000000</td>\n",
       "    </tr>\n",
       "    <tr>\n",
       "      <th>50%</th>\n",
       "      <td>936.000000</td>\n",
       "      <td>41.000000</td>\n",
       "      <td>5.000000</td>\n",
       "      <td>1.000000</td>\n",
       "      <td>1.000000</td>\n",
       "      <td>59.000000</td>\n",
       "      <td>302.000000</td>\n",
       "      <td>1.000000</td>\n",
       "    </tr>\n",
       "    <tr>\n",
       "      <th>75%</th>\n",
       "      <td>1078.000000</td>\n",
       "      <td>52.000000</td>\n",
       "      <td>5.000000</td>\n",
       "      <td>1.000000</td>\n",
       "      <td>3.000000</td>\n",
       "      <td>88.000000</td>\n",
       "      <td>459.000000</td>\n",
       "      <td>1.000000</td>\n",
       "    </tr>\n",
       "    <tr>\n",
       "      <th>max</th>\n",
       "      <td>1205.000000</td>\n",
       "      <td>99.000000</td>\n",
       "      <td>5.000000</td>\n",
       "      <td>1.000000</td>\n",
       "      <td>122.000000</td>\n",
       "      <td>115.000000</td>\n",
       "      <td>508.000000</td>\n",
       "      <td>1.000000</td>\n",
       "    </tr>\n",
       "  </tbody>\n",
       "</table>\n",
       "</div>"
      ],
      "text/plain": [
       "        Clothing ID           Age        Rating  Recommended IND  \\\n",
       "count  22628.000000  22628.000000  22628.000000     22628.000000   \n",
       "mean     919.695908     43.282880      4.183092         0.818764   \n",
       "std      201.683804     12.328176      1.115911         0.385222   \n",
       "min        1.000000     18.000000      1.000000         0.000000   \n",
       "25%      861.000000     34.000000      4.000000         1.000000   \n",
       "50%      936.000000     41.000000      5.000000         1.000000   \n",
       "75%     1078.000000     52.000000      5.000000         1.000000   \n",
       "max     1205.000000     99.000000      5.000000         1.000000   \n",
       "\n",
       "       Positive Feedback Count    Word Count  Character Count         Label  \n",
       "count             22628.000000  22628.000000     22628.000000  22628.000000  \n",
       "mean                  2.631784     60.211950       308.761534      0.895263  \n",
       "std                   5.787520     28.533053       143.934126      0.306222  \n",
       "min                   0.000000      2.000000         9.000000      0.000000  \n",
       "25%                   0.000000     36.000000       186.000000      1.000000  \n",
       "50%                   1.000000     59.000000       302.000000      1.000000  \n",
       "75%                   3.000000     88.000000       459.000000      1.000000  \n",
       "max                 122.000000    115.000000       508.000000      1.000000  "
      ]
     },
     "execution_count": 14,
     "metadata": {},
     "output_type": "execute_result"
    }
   ],
   "source": [
    "df.describe()"
   ]
  },
  {
   "cell_type": "code",
   "execution_count": 15,
   "id": "aa018c04",
   "metadata": {},
   "outputs": [
    {
     "data": {
      "text/html": [
       "<div>\n",
       "<style scoped>\n",
       "    .dataframe tbody tr th:only-of-type {\n",
       "        vertical-align: middle;\n",
       "    }\n",
       "\n",
       "    .dataframe tbody tr th {\n",
       "        vertical-align: top;\n",
       "    }\n",
       "\n",
       "    .dataframe thead th {\n",
       "        text-align: right;\n",
       "    }\n",
       "</style>\n",
       "<table border=\"1\" class=\"dataframe\">\n",
       "  <thead>\n",
       "    <tr style=\"text-align: right;\">\n",
       "      <th></th>\n",
       "      <th>count</th>\n",
       "      <th>mean</th>\n",
       "      <th>std</th>\n",
       "      <th>min</th>\n",
       "      <th>25%</th>\n",
       "      <th>50%</th>\n",
       "      <th>75%</th>\n",
       "      <th>max</th>\n",
       "    </tr>\n",
       "  </thead>\n",
       "  <tbody>\n",
       "    <tr>\n",
       "      <th>Clothing ID</th>\n",
       "      <td>22628.0</td>\n",
       "      <td>919.695908</td>\n",
       "      <td>201.683804</td>\n",
       "      <td>1.0</td>\n",
       "      <td>861.0</td>\n",
       "      <td>936.0</td>\n",
       "      <td>1078.0</td>\n",
       "      <td>1205.0</td>\n",
       "    </tr>\n",
       "    <tr>\n",
       "      <th>Age</th>\n",
       "      <td>22628.0</td>\n",
       "      <td>43.282880</td>\n",
       "      <td>12.328176</td>\n",
       "      <td>18.0</td>\n",
       "      <td>34.0</td>\n",
       "      <td>41.0</td>\n",
       "      <td>52.0</td>\n",
       "      <td>99.0</td>\n",
       "    </tr>\n",
       "    <tr>\n",
       "      <th>Rating</th>\n",
       "      <td>22628.0</td>\n",
       "      <td>4.183092</td>\n",
       "      <td>1.115911</td>\n",
       "      <td>1.0</td>\n",
       "      <td>4.0</td>\n",
       "      <td>5.0</td>\n",
       "      <td>5.0</td>\n",
       "      <td>5.0</td>\n",
       "    </tr>\n",
       "    <tr>\n",
       "      <th>Recommended IND</th>\n",
       "      <td>22628.0</td>\n",
       "      <td>0.818764</td>\n",
       "      <td>0.385222</td>\n",
       "      <td>0.0</td>\n",
       "      <td>1.0</td>\n",
       "      <td>1.0</td>\n",
       "      <td>1.0</td>\n",
       "      <td>1.0</td>\n",
       "    </tr>\n",
       "    <tr>\n",
       "      <th>Positive Feedback Count</th>\n",
       "      <td>22628.0</td>\n",
       "      <td>2.631784</td>\n",
       "      <td>5.787520</td>\n",
       "      <td>0.0</td>\n",
       "      <td>0.0</td>\n",
       "      <td>1.0</td>\n",
       "      <td>3.0</td>\n",
       "      <td>122.0</td>\n",
       "    </tr>\n",
       "    <tr>\n",
       "      <th>Word Count</th>\n",
       "      <td>22628.0</td>\n",
       "      <td>60.211950</td>\n",
       "      <td>28.533053</td>\n",
       "      <td>2.0</td>\n",
       "      <td>36.0</td>\n",
       "      <td>59.0</td>\n",
       "      <td>88.0</td>\n",
       "      <td>115.0</td>\n",
       "    </tr>\n",
       "    <tr>\n",
       "      <th>Character Count</th>\n",
       "      <td>22628.0</td>\n",
       "      <td>308.761534</td>\n",
       "      <td>143.934126</td>\n",
       "      <td>9.0</td>\n",
       "      <td>186.0</td>\n",
       "      <td>302.0</td>\n",
       "      <td>459.0</td>\n",
       "      <td>508.0</td>\n",
       "    </tr>\n",
       "    <tr>\n",
       "      <th>Label</th>\n",
       "      <td>22628.0</td>\n",
       "      <td>0.895263</td>\n",
       "      <td>0.306222</td>\n",
       "      <td>0.0</td>\n",
       "      <td>1.0</td>\n",
       "      <td>1.0</td>\n",
       "      <td>1.0</td>\n",
       "      <td>1.0</td>\n",
       "    </tr>\n",
       "  </tbody>\n",
       "</table>\n",
       "</div>"
      ],
      "text/plain": [
       "                           count        mean         std   min    25%    50%  \\\n",
       "Clothing ID              22628.0  919.695908  201.683804   1.0  861.0  936.0   \n",
       "Age                      22628.0   43.282880   12.328176  18.0   34.0   41.0   \n",
       "Rating                   22628.0    4.183092    1.115911   1.0    4.0    5.0   \n",
       "Recommended IND          22628.0    0.818764    0.385222   0.0    1.0    1.0   \n",
       "Positive Feedback Count  22628.0    2.631784    5.787520   0.0    0.0    1.0   \n",
       "Word Count               22628.0   60.211950   28.533053   2.0   36.0   59.0   \n",
       "Character Count          22628.0  308.761534  143.934126   9.0  186.0  302.0   \n",
       "Label                    22628.0    0.895263    0.306222   0.0    1.0    1.0   \n",
       "\n",
       "                            75%     max  \n",
       "Clothing ID              1078.0  1205.0  \n",
       "Age                        52.0    99.0  \n",
       "Rating                      5.0     5.0  \n",
       "Recommended IND             1.0     1.0  \n",
       "Positive Feedback Count     3.0   122.0  \n",
       "Word Count                 88.0   115.0  \n",
       "Character Count           459.0   508.0  \n",
       "Label                       1.0     1.0  "
      ]
     },
     "execution_count": 15,
     "metadata": {},
     "output_type": "execute_result"
    }
   ],
   "source": [
    "df.describe().T \n",
    "# 위의 결과랑 가로, 세로가 바뀜"
   ]
  },
  {
   "cell_type": "code",
   "execution_count": 16,
   "id": "8d773108",
   "metadata": {},
   "outputs": [
    {
     "data": {
      "text/html": [
       "<div>\n",
       "<style scoped>\n",
       "    .dataframe tbody tr th:only-of-type {\n",
       "        vertical-align: middle;\n",
       "    }\n",
       "\n",
       "    .dataframe tbody tr th {\n",
       "        vertical-align: top;\n",
       "    }\n",
       "\n",
       "    .dataframe thead th {\n",
       "        text-align: right;\n",
       "    }\n",
       "</style>\n",
       "<table border=\"1\" class=\"dataframe\">\n",
       "  <thead>\n",
       "    <tr style=\"text-align: right;\">\n",
       "      <th></th>\n",
       "      <th>mean</th>\n",
       "      <th>std</th>\n",
       "      <th>min</th>\n",
       "      <th>25%</th>\n",
       "      <th>50%</th>\n",
       "      <th>75%</th>\n",
       "      <th>max</th>\n",
       "    </tr>\n",
       "  </thead>\n",
       "  <tbody>\n",
       "    <tr>\n",
       "      <th>Clothing ID</th>\n",
       "      <td>919.695908</td>\n",
       "      <td>201.683804</td>\n",
       "      <td>1.0</td>\n",
       "      <td>861.0</td>\n",
       "      <td>936.0</td>\n",
       "      <td>1078.0</td>\n",
       "      <td>1205.0</td>\n",
       "    </tr>\n",
       "    <tr>\n",
       "      <th>Age</th>\n",
       "      <td>43.282880</td>\n",
       "      <td>12.328176</td>\n",
       "      <td>18.0</td>\n",
       "      <td>34.0</td>\n",
       "      <td>41.0</td>\n",
       "      <td>52.0</td>\n",
       "      <td>99.0</td>\n",
       "    </tr>\n",
       "    <tr>\n",
       "      <th>Rating</th>\n",
       "      <td>4.183092</td>\n",
       "      <td>1.115911</td>\n",
       "      <td>1.0</td>\n",
       "      <td>4.0</td>\n",
       "      <td>5.0</td>\n",
       "      <td>5.0</td>\n",
       "      <td>5.0</td>\n",
       "    </tr>\n",
       "    <tr>\n",
       "      <th>Recommended IND</th>\n",
       "      <td>0.818764</td>\n",
       "      <td>0.385222</td>\n",
       "      <td>0.0</td>\n",
       "      <td>1.0</td>\n",
       "      <td>1.0</td>\n",
       "      <td>1.0</td>\n",
       "      <td>1.0</td>\n",
       "    </tr>\n",
       "    <tr>\n",
       "      <th>Positive Feedback Count</th>\n",
       "      <td>2.631784</td>\n",
       "      <td>5.787520</td>\n",
       "      <td>0.0</td>\n",
       "      <td>0.0</td>\n",
       "      <td>1.0</td>\n",
       "      <td>3.0</td>\n",
       "      <td>122.0</td>\n",
       "    </tr>\n",
       "    <tr>\n",
       "      <th>Word Count</th>\n",
       "      <td>60.211950</td>\n",
       "      <td>28.533053</td>\n",
       "      <td>2.0</td>\n",
       "      <td>36.0</td>\n",
       "      <td>59.0</td>\n",
       "      <td>88.0</td>\n",
       "      <td>115.0</td>\n",
       "    </tr>\n",
       "    <tr>\n",
       "      <th>Character Count</th>\n",
       "      <td>308.761534</td>\n",
       "      <td>143.934126</td>\n",
       "      <td>9.0</td>\n",
       "      <td>186.0</td>\n",
       "      <td>302.0</td>\n",
       "      <td>459.0</td>\n",
       "      <td>508.0</td>\n",
       "    </tr>\n",
       "    <tr>\n",
       "      <th>Label</th>\n",
       "      <td>0.895263</td>\n",
       "      <td>0.306222</td>\n",
       "      <td>0.0</td>\n",
       "      <td>1.0</td>\n",
       "      <td>1.0</td>\n",
       "      <td>1.0</td>\n",
       "      <td>1.0</td>\n",
       "    </tr>\n",
       "  </tbody>\n",
       "</table>\n",
       "</div>"
      ],
      "text/plain": [
       "                               mean         std   min    25%    50%     75%  \\\n",
       "Clothing ID              919.695908  201.683804   1.0  861.0  936.0  1078.0   \n",
       "Age                       43.282880   12.328176  18.0   34.0   41.0    52.0   \n",
       "Rating                     4.183092    1.115911   1.0    4.0    5.0     5.0   \n",
       "Recommended IND            0.818764    0.385222   0.0    1.0    1.0     1.0   \n",
       "Positive Feedback Count    2.631784    5.787520   0.0    0.0    1.0     3.0   \n",
       "Word Count                60.211950   28.533053   2.0   36.0   59.0    88.0   \n",
       "Character Count          308.761534  143.934126   9.0  186.0  302.0   459.0   \n",
       "Label                      0.895263    0.306222   0.0    1.0    1.0     1.0   \n",
       "\n",
       "                            max  \n",
       "Clothing ID              1205.0  \n",
       "Age                        99.0  \n",
       "Rating                      5.0  \n",
       "Recommended IND             1.0  \n",
       "Positive Feedback Count   122.0  \n",
       "Word Count                115.0  \n",
       "Character Count           508.0  \n",
       "Label                       1.0  "
      ]
     },
     "execution_count": 16,
     "metadata": {},
     "output_type": "execute_result"
    }
   ],
   "source": [
    "df.describe().T.drop(\"count\",axis=1)"
   ]
  },
  {
   "cell_type": "code",
   "execution_count": 17,
   "id": "7733317d",
   "metadata": {},
   "outputs": [
    {
     "data": {
      "text/html": [
       "<div>\n",
       "<style scoped>\n",
       "    .dataframe tbody tr th:only-of-type {\n",
       "        vertical-align: middle;\n",
       "    }\n",
       "\n",
       "    .dataframe tbody tr th {\n",
       "        vertical-align: top;\n",
       "    }\n",
       "\n",
       "    .dataframe thead th {\n",
       "        text-align: right;\n",
       "    }\n",
       "</style>\n",
       "<table border=\"1\" class=\"dataframe\">\n",
       "  <thead>\n",
       "    <tr style=\"text-align: right;\">\n",
       "      <th></th>\n",
       "      <th>count</th>\n",
       "      <th>unique</th>\n",
       "      <th>top</th>\n",
       "      <th>freq</th>\n",
       "    </tr>\n",
       "  </thead>\n",
       "  <tbody>\n",
       "    <tr>\n",
       "      <th>Title</th>\n",
       "      <td>19662</td>\n",
       "      <td>13983</td>\n",
       "      <td>Love it!</td>\n",
       "      <td>136</td>\n",
       "    </tr>\n",
       "    <tr>\n",
       "      <th>Review Text</th>\n",
       "      <td>22628</td>\n",
       "      <td>22621</td>\n",
       "      <td>Perfect fit and i've gotten so many compliment...</td>\n",
       "      <td>3</td>\n",
       "    </tr>\n",
       "    <tr>\n",
       "      <th>Division Name</th>\n",
       "      <td>22628</td>\n",
       "      <td>3</td>\n",
       "      <td>General</td>\n",
       "      <td>13365</td>\n",
       "    </tr>\n",
       "    <tr>\n",
       "      <th>Department Name</th>\n",
       "      <td>22628</td>\n",
       "      <td>6</td>\n",
       "      <td>Tops</td>\n",
       "      <td>10048</td>\n",
       "    </tr>\n",
       "    <tr>\n",
       "      <th>Class Name</th>\n",
       "      <td>22628</td>\n",
       "      <td>20</td>\n",
       "      <td>Dresses</td>\n",
       "      <td>6145</td>\n",
       "    </tr>\n",
       "  </tbody>\n",
       "</table>\n",
       "</div>"
      ],
      "text/plain": [
       "                 count unique  \\\n",
       "Title            19662  13983   \n",
       "Review Text      22628  22621   \n",
       "Division Name    22628      3   \n",
       "Department Name  22628      6   \n",
       "Class Name       22628     20   \n",
       "\n",
       "                                                               top   freq  \n",
       "Title                                                     Love it!    136  \n",
       "Review Text      Perfect fit and i've gotten so many compliment...      3  \n",
       "Division Name                                              General  13365  \n",
       "Department Name                                               Tops  10048  \n",
       "Class Name                                                 Dresses   6145  "
      ]
     },
     "execution_count": 17,
     "metadata": {},
     "output_type": "execute_result"
    }
   ],
   "source": [
    "df.describe(include=[\"O\"]).T\n",
    "# df.describe().T 이렇게 출력하면 숫자형 자료들의 mean, min, max 등이 출력되는데\n",
    "# df.describe(include=[\"O\"]).T 이렇게 include=[\"O\"] 을 넣어서 출력하면 \n",
    "# categorical(문자형) 데이터들의 unique, top, freq의 정보가 출력된다."
   ]
  },
  {
   "cell_type": "code",
   "execution_count": 18,
   "id": "86a178ff",
   "metadata": {},
   "outputs": [
    {
     "data": {
      "text/html": [
       "<div>\n",
       "<style scoped>\n",
       "    .dataframe tbody tr th:only-of-type {\n",
       "        vertical-align: middle;\n",
       "    }\n",
       "\n",
       "    .dataframe tbody tr th {\n",
       "        vertical-align: top;\n",
       "    }\n",
       "\n",
       "    .dataframe thead th {\n",
       "        text-align: right;\n",
       "    }\n",
       "</style>\n",
       "<table border=\"1\" class=\"dataframe\">\n",
       "  <thead>\n",
       "    <tr style=\"text-align: right;\">\n",
       "      <th></th>\n",
       "      <th>unique</th>\n",
       "      <th>top</th>\n",
       "      <th>freq</th>\n",
       "    </tr>\n",
       "  </thead>\n",
       "  <tbody>\n",
       "    <tr>\n",
       "      <th>Title</th>\n",
       "      <td>13983</td>\n",
       "      <td>Love it!</td>\n",
       "      <td>136</td>\n",
       "    </tr>\n",
       "    <tr>\n",
       "      <th>Division Name</th>\n",
       "      <td>3</td>\n",
       "      <td>General</td>\n",
       "      <td>13365</td>\n",
       "    </tr>\n",
       "    <tr>\n",
       "      <th>Department Name</th>\n",
       "      <td>6</td>\n",
       "      <td>Tops</td>\n",
       "      <td>10048</td>\n",
       "    </tr>\n",
       "    <tr>\n",
       "      <th>Class Name</th>\n",
       "      <td>20</td>\n",
       "      <td>Dresses</td>\n",
       "      <td>6145</td>\n",
       "    </tr>\n",
       "  </tbody>\n",
       "</table>\n",
       "</div>"
      ],
      "text/plain": [
       "                unique       top   freq\n",
       "Title            13983  Love it!    136\n",
       "Division Name        3   General  13365\n",
       "Department Name      6      Tops  10048\n",
       "Class Name          20   Dresses   6145"
      ]
     },
     "execution_count": 18,
     "metadata": {},
     "output_type": "execute_result"
    }
   ],
   "source": [
    "df[[\"Title\", \"Division Name\", \"Department Name\", \"Class Name\"]].describe().T.drop(\"count\",axis=1)"
   ]
  },
  {
   "cell_type": "code",
   "execution_count": null,
   "id": "1a7d68a5",
   "metadata": {},
   "outputs": [],
   "source": [
    "# Just an overview. I want to explore these numbers using visualizations."
   ]
  },
  {
   "cell_type": "markdown",
   "id": "9785daf1",
   "metadata": {},
   "source": [
    "### Age and Positive Feedback Count Distributions:"
   ]
  },
  {
   "cell_type": "code",
   "execution_count": 19,
   "id": "821017ad",
   "metadata": {
    "scrolled": true
   },
   "outputs": [
    {
     "data": {
      "image/png": "[encoded data removed]",
      "text/plain": [
       "<Figure size 864x288 with 3 Axes>"
      ]
     },
     "metadata": {
      "needs_background": "light"
     },
     "output_type": "display_data"
    }
   ],
   "source": [
    "# Continuous Distributions\n",
    "\n",
    "f, ax = plt.subplots(1,3,figsize=(12,4), sharey=False)\n",
    "# 여기서 1,3 은 \n",
    "sns.distplot(df.Age, ax=ax[0])\n",
    "ax[0].set_title(\"Age Distribution\")\n",
    "ax[0].set_ylabel(\"Density\")\n",
    "sns.distplot(df[\"Positive Feedback Count\"], ax=ax[1])\n",
    "ax[1].set_title(\"Positive Feedback Count Distribution\")\n",
    "sns.distplot(np.log10((df[\"Positive Feedback Count\"][df[\"Positive Feedback Count\"].notnull()]+1)), ax=ax[2])\n",
    "ax[2].set_title(\"Positive Feedback Count Distribution\\n[Log 10]\")\n",
    "ax[2].set_xlabel(\"Log Positive Feedback Count\")\n",
    "plt.tight_layout()\n",
    "plt.show()"
   ]
  },
  {
   "cell_type": "code",
   "execution_count": null,
   "id": "c1a4302b",
   "metadata": {},
   "outputs": [],
   "source": [
    "# Code Explanation:\n",
    "#Using seaborn, a simple variable frequency bar/density plot is created. In the log positive feedback count plot, I had to add 0.0001 to all values so that the logarithm of previously zero values can be taken. Matplotlib's subplots function is employed through assign each plot the AX argument.\n",
    "\n",
    "# Distribution of Age:\n",
    "# My a priori expectation was that the biggest group of reviewing customers would be young, tech savvy women between the age of 18 and 34. However, this plot would say otherwise, since it appears that not only is the 34 to 50 year old age most engage in reviewing products, they also appear to be the most positive reviewers, since they proportionately give higher more reviews of 5. Before making insight about these point, it would be wise to gather further data on the age distribution of shoppers. Nevertheless, this trend suggest that the core market segment for this clothing brand is women between 34 and 50. With its single peak and slight right tail, the distribution of age is more or less normal.\n",
    "\n",
    "# Distribution of Positive Feedback Count:\n",
    "# This kind of distribution is common for network effect phenomenon, where popularity has an exponential effect on response, and most individuals receive no attention. This phenomenon is also known as the Cumulative-Advantage Effect / Matthew Effect or the Pareto Principle.\n",
    "\n",
    "# Cumulative-Advantage Effect / Matthew Effect:\n",
    "#Coined by Robert K. Merton in 1968, this states that once a social agent gains a small advantage over other agents, that advantage will compound over time into an increasingly larger advantage. Here is the passage from the New Testament:\n",
    "\n",
    "#\"For to everyone who has will more be given, and he will have abundance; but from him who has not, even what he has will be taken away.\" Matthew 25:29\n",
    "\n",
    "#This tendency effects any system with a positive feedback loop, which compounds. This effect turns out to be quite common among competing agents, and what we end up with, is a the Pareto Distribution.\n",
    "\n",
    "# Pareto Distribution:\n",
    "# Also known as the 80/20 rule. Often used to describe the distribution of wealth, 20% of the population hold 80% of the wealth. I wonder how accurate this rule of thumb applies to the distribution of Positive Feedback."
   ]
  },
  {
   "cell_type": "code",
   "execution_count": 20,
   "id": "9219f98d",
   "metadata": {},
   "outputs": [
    {
     "data": {
      "image/png": "[encoded data removed]",
      "text/plain": [
       "<Figure size 432x288 with 1 Axes>"
      ]
     },
     "metadata": {
      "needs_background": "light"
     },
     "output_type": "display_data"
    },
    {
     "name": "stdout",
     "output_type": "stream",
     "text": [
      "78.0% of Positive Feedback belongs to the top 20% of Reviewers\n",
      "\n",
      "Gini Coefficient: 0.76\n"
     ]
    }
   ],
   "source": [
    "# Percentage Accumulation from \"Most Wealthy\"\n",
    "def percentage_accumulation(series, percentage):\n",
    "    return (series.sort_values(ascending=False)[:round(series.shape[0]*(percentage/100))]\n",
    "            .sum()/series.sum()*100)\n",
    "\n",
    "# Gini Coefficient- Inequality Score\n",
    "# The Gini Coefficient is a measure of inequality.\n",
    "# Source: https://planspace.org/2013/06/21/how-to-calculate-gini-coefficient-from-raw-data-in-python/\n",
    "\n",
    "def gini(list_of_values):\n",
    "    sorted_list = sorted(list_of_values)\n",
    "    height, area = 0, 0\n",
    "    for value in sorted_list:\n",
    "        height += value\n",
    "        area += height - value / 2.\n",
    "    fair_area = height * len(list_of_values) / 2.\n",
    "    return (fair_area - area) / fair_area\n",
    "\n",
    "# Cumulative Percentage of Positive Feedback assigned Percent of Reviewers (from most wealthy)\n",
    "inequality = []\n",
    "for x in list(range(100)):\n",
    "    inequality.append(percentage_accumulation(df[\"Positive Feedback Count\"], x))\n",
    "\n",
    "# Generic Matplotlib Plot\n",
    "plt.plot(inequality)\n",
    "plt.title(\"Percentage of Positive Feedback by Percentage of Reviews\")\n",
    "plt.xlabel(\"Review Percentile starting with Feedback\")\n",
    "plt.ylabel(\"Percent of Positive Feedback Received\")\n",
    "plt.axvline(x=20, c = \"r\")\n",
    "plt.axvline(x=53, c = \"g\")\n",
    "plt.axhline(y=78, c = \"y\")\n",
    "plt.axhline(y=100, c = \"b\", alpha=.3)\n",
    "plt.show()\n",
    "\n",
    "# 80-20 Rule Confirmation\n",
    "print(\"{}% of Positive Feedback belongs to the top 20% of Reviewers\".format(round(percentage_accumulation(df[\"Positive Feedback Count\"],20))))\n",
    "\n",
    "# Gini\n",
    "print(\"\\nGini Coefficient: {}\".format(round(gini(df[\"Positive Feedback Count\"]),2)))"
   ]
  },
  {
   "cell_type": "code",
   "execution_count": null,
   "id": "15254996",
   "metadata": {},
   "outputs": [],
   "source": [
    "# Interpretation:\n",
    "# In this case, the 80/20 rule applies pretty closely. Nevertheless do not take this rule as granted, since sometimes the proportion of inequality may be much higher! Since the Pareto Principle is a power law, it is fundamentally embedded in itself. However, notice the green vertical line, where 47% of reviews received no feedback at all.\n",
    "\n",
    "# Since I am on the topic of inequaliy, I want to quickly touch the Gini Coefficient."
   ]
  },
  {
   "cell_type": "code",
   "execution_count": 21,
   "id": "122b0a6d",
   "metadata": {},
   "outputs": [
    {
     "data": {
      "image/png": "[encoded data removed]",
      "text/plain": [
       "<Figure size 432x288 with 1 Axes>"
      ]
     },
     "metadata": {
      "needs_background": "light"
     },
     "output_type": "display_data"
    },
    {
     "name": "stdout",
     "output_type": "stream",
     "text": [
      "47.0% of Positive Feedback belongs to the top 20% of Reviews\n",
      "\n",
      "Gini Coefficient: 0.38\n"
     ]
    }
   ],
   "source": [
    "# Next, lets see what happens when we look at the top 20% of the top 20%...\n",
    "\n",
    "# Cumulative Percentage of Positive Feedback assigned Percent of Reviewers (from most wealthy)\n",
    "top_20 = df[\"Positive Feedback Count\"].sort_values(ascending=False)[:round(df.shape[0]*(20/100))]\n",
    "\n",
    "inequality = []\n",
    "for x in list(range(100)):\n",
    "    inequality.append(percentage_accumulation(top_20, x))\n",
    "\n",
    "# Generic Matplotlib Plot\n",
    "plt.plot(inequality)\n",
    "plt.title(\"Percentage of Positive Feedback by Percentage of Reviews\")\n",
    "plt.xlabel(\"Review Percentile starting with Feedback\")\n",
    "plt.ylabel(\"Percent of Positive Feedback Received\")\n",
    "plt.axvline(x=20, c = \"r\")\n",
    "plt.axhline(y=47, c = \"r\")\n",
    "plt.axhline(y=100, c = \"b\", alpha=.3)\n",
    "\n",
    "plt.show()\n",
    "\n",
    "# 80-20 Rule Confirmation\n",
    "print(\"{}% of Positive Feedback belongs to the top 20% of Reviews\".format(\n",
    "    round(percentage_accumulation(top_20, 20))))\n",
    "\n",
    "# Gini\n",
    "print(\"\\nGini Coefficient: {}\".format(round(gini(top_20),2)))"
   ]
  },
  {
   "cell_type": "code",
   "execution_count": null,
   "id": "d9fde164",
   "metadata": {},
   "outputs": [],
   "source": [
    "# Interpretation:\n",
    "# Oh look it didn't hold up. \n",
    "# Well think about, the compounding influence of the Network Effect as whole accounts for the sizable portion of the population that receive nothing."
   ]
  },
  {
   "cell_type": "markdown",
   "id": "35864bb0",
   "metadata": {},
   "source": [
    "### Division Name and Department Name Distribution:"
   ]
  },
  {
   "cell_type": "code",
   "execution_count": 22,
   "id": "1dc44663",
   "metadata": {},
   "outputs": [
    {
     "data": {
      "image/png": "[encoded data removed]",
      "text/plain": [
       "<Figure size 1008x288 with 2 Axes>"
      ]
     },
     "metadata": {
      "needs_background": "light"
     },
     "output_type": "display_data"
    }
   ],
   "source": [
    "row_plots = [\"Division Name\", \"Department Name\"]\n",
    "f, axes = plt.subplots(1, len(row_plots), figsize=(14,4), sharex=False)\n",
    "# subplot(nrows, ncols, figsize=(가로길이, 세로길이))\n",
    "\n",
    "for i, x in enumerate(row_plots):\n",
    "    sns.countplot(y=x, data=df, order=df[x].value_counts().index, ax=axes[i])\n",
    "    axes[i].set_title(\"Count of Categories in {}\".format(x))\n",
    "    axes[i].set_xlabel(\"\")\n",
    "    axes[i].set_xlabel(\"Frequency Count\")\n",
    "axes[0].set_ylabel(\"Category\")\n",
    "axes[1].set_ylabel(\"\")\n",
    "plt.show()"
   ]
  },
  {
   "cell_type": "code",
   "execution_count": 23,
   "id": "38d44877",
   "metadata": {},
   "outputs": [
    {
     "data": {
      "image/png": "[encoded data removed]",
      "text/plain": [
       "<Figure size 1008x1440 with 2 Axes>"
      ]
     },
     "metadata": {
      "needs_background": "light"
     },
     "output_type": "display_data"
    }
   ],
   "source": [
    "row_plots = [\"Division Name\", \"Department Name\"]\n",
    "f, axes = plt.subplots(1, len(row_plots), figsize=(14,20), sharex=False)\n",
    "# 위에 figsize=(14,4)와 크기 비교해볼것!\n",
    "\n",
    "for i, x in enumerate(row_plots):\n",
    "    sns.countplot(y=x, data=df, order=df[x].value_counts().index, ax=axes[i])\n",
    "    axes[i].set_title(\"Count of Categories in {}\".format(x))\n",
    "    axes[i].set_xlabel(\"\")\n",
    "    axes[i].set_xlabel(\"Frequency Count\")\n",
    "axes[0].set_ylabel(\"Category\")\n",
    "axes[1].set_ylabel(\"\")\n",
    "plt.show()"
   ]
  },
  {
   "cell_type": "code",
   "execution_count": null,
   "id": "5fadbccc",
   "metadata": {},
   "outputs": [],
   "source": [
    "# Code Explanation:\n",
    "# Enumerating the loop enables the loop iteration to coincide with the matplotlib subplot ax.\n",
    "\n",
    "# Distribution of Division Name\n",
    "# This high level feature describes had three categories: General, Petite, and Intimates. \n",
    "# This offers some insight into the clothing sizes of the customers leaving reviews.\n",
    "\n",
    "# Distribution of Department Name\n",
    "# It is notable to observe that Tops and Dresses are the most commonly reviewed products. \n",
    "# It would be interesting to investigate the motivation of leaving a review in the first place.\n"
   ]
  },
  {
   "cell_type": "markdown",
   "id": "6de24c30",
   "metadata": {},
   "source": [
    "### Distribution of Clothing ID to Understand Product Popularity"
   ]
  },
  {
   "cell_type": "code",
   "execution_count": 24,
   "id": "9f15b25a",
   "metadata": {},
   "outputs": [
    {
     "data": {
      "image/png": "[encoded data removed]",
      "text/plain": [
       "<Figure size 1008x504 with 2 Axes>"
      ]
     },
     "metadata": {
      "needs_background": "light"
     },
     "output_type": "display_data"
    },
    {
     "name": "stdout",
     "output_type": "stream",
     "text": [
      "Dataframe Dimension: 22628 Rows\n"
     ]
    },
    {
     "data": {
      "text/html": [
       "<div>\n",
       "<style scoped>\n",
       "    .dataframe tbody tr th:only-of-type {\n",
       "        vertical-align: middle;\n",
       "    }\n",
       "\n",
       "    .dataframe tbody tr th {\n",
       "        vertical-align: top;\n",
       "    }\n",
       "\n",
       "    .dataframe thead th {\n",
       "        text-align: right;\n",
       "    }\n",
       "</style>\n",
       "<table border=\"1\" class=\"dataframe\">\n",
       "  <thead>\n",
       "    <tr style=\"text-align: right;\">\n",
       "      <th></th>\n",
       "      <th>mean</th>\n",
       "      <th>std</th>\n",
       "      <th>min</th>\n",
       "      <th>25%</th>\n",
       "      <th>50%</th>\n",
       "      <th>75%</th>\n",
       "      <th>max</th>\n",
       "    </tr>\n",
       "  </thead>\n",
       "  <tbody>\n",
       "    <tr>\n",
       "      <th>Clothing ID</th>\n",
       "      <td>1015.4848</td>\n",
       "      <td>103.396022</td>\n",
       "      <td>862.0</td>\n",
       "      <td>862.0</td>\n",
       "      <td>1078.0</td>\n",
       "      <td>1094.0</td>\n",
       "      <td>1094.0</td>\n",
       "    </tr>\n",
       "    <tr>\n",
       "      <th>Age</th>\n",
       "      <td>42.7248</td>\n",
       "      <td>12.150429</td>\n",
       "      <td>18.0</td>\n",
       "      <td>34.0</td>\n",
       "      <td>41.0</td>\n",
       "      <td>51.0</td>\n",
       "      <td>99.0</td>\n",
       "    </tr>\n",
       "    <tr>\n",
       "      <th>Rating</th>\n",
       "      <td>4.1892</td>\n",
       "      <td>1.104306</td>\n",
       "      <td>1.0</td>\n",
       "      <td>4.0</td>\n",
       "      <td>5.0</td>\n",
       "      <td>5.0</td>\n",
       "      <td>5.0</td>\n",
       "    </tr>\n",
       "    <tr>\n",
       "      <th>Recommended IND</th>\n",
       "      <td>0.8184</td>\n",
       "      <td>0.385592</td>\n",
       "      <td>0.0</td>\n",
       "      <td>1.0</td>\n",
       "      <td>1.0</td>\n",
       "      <td>1.0</td>\n",
       "      <td>1.0</td>\n",
       "    </tr>\n",
       "    <tr>\n",
       "      <th>Positive Feedback Count</th>\n",
       "      <td>2.8624</td>\n",
       "      <td>6.773021</td>\n",
       "      <td>0.0</td>\n",
       "      <td>0.0</td>\n",
       "      <td>1.0</td>\n",
       "      <td>3.0</td>\n",
       "      <td>98.0</td>\n",
       "    </tr>\n",
       "    <tr>\n",
       "      <th>Word Count</th>\n",
       "      <td>60.5912</td>\n",
       "      <td>28.731486</td>\n",
       "      <td>2.0</td>\n",
       "      <td>36.0</td>\n",
       "      <td>60.0</td>\n",
       "      <td>89.0</td>\n",
       "      <td>115.0</td>\n",
       "    </tr>\n",
       "    <tr>\n",
       "      <th>Character Count</th>\n",
       "      <td>310.8604</td>\n",
       "      <td>144.836158</td>\n",
       "      <td>16.0</td>\n",
       "      <td>189.0</td>\n",
       "      <td>305.0</td>\n",
       "      <td>469.0</td>\n",
       "      <td>504.0</td>\n",
       "    </tr>\n",
       "    <tr>\n",
       "      <th>Label</th>\n",
       "      <td>0.9024</td>\n",
       "      <td>0.296832</td>\n",
       "      <td>0.0</td>\n",
       "      <td>1.0</td>\n",
       "      <td>1.0</td>\n",
       "      <td>1.0</td>\n",
       "      <td>1.0</td>\n",
       "    </tr>\n",
       "  </tbody>\n",
       "</table>\n",
       "</div>"
      ],
      "text/plain": [
       "                              mean         std    min    25%     50%     75%  \\\n",
       "Clothing ID              1015.4848  103.396022  862.0  862.0  1078.0  1094.0   \n",
       "Age                        42.7248   12.150429   18.0   34.0    41.0    51.0   \n",
       "Rating                      4.1892    1.104306    1.0    4.0     5.0     5.0   \n",
       "Recommended IND             0.8184    0.385592    0.0    1.0     1.0     1.0   \n",
       "Positive Feedback Count     2.8624    6.773021    0.0    0.0     1.0     3.0   \n",
       "Word Count                 60.5912   28.731486    2.0   36.0    60.0    89.0   \n",
       "Character Count           310.8604  144.836158   16.0  189.0   305.0   469.0   \n",
       "Label                       0.9024    0.296832    0.0    1.0     1.0     1.0   \n",
       "\n",
       "                            max  \n",
       "Clothing ID              1094.0  \n",
       "Age                        99.0  \n",
       "Rating                      5.0  \n",
       "Recommended IND             1.0  \n",
       "Positive Feedback Count    98.0  \n",
       "Word Count                115.0  \n",
       "Character Count           504.0  \n",
       "Label                       1.0  "
      ]
     },
     "execution_count": 24,
     "metadata": {},
     "output_type": "execute_result"
    }
   ],
   "source": [
    "# Clothing ID Category\n",
    "f, axes = plt.subplots(1,2, figsize =[14,7])\n",
    "num = 30\n",
    "sns.countplot(y=\"Clothing ID\", data = df[df[\"Clothing ID\"].isin(df[\"Clothing ID\"].value_counts()[:num].index)],\n",
    "             order = df[\"Clothing ID\"].value_counts()[:num].index, ax=axes[0])\n",
    "\n",
    "axes[0].set_title(\"Frequency Count of Clothing ID\\nTop 30\")\n",
    "axes[0].set_xlabel(\"Count\")\n",
    "\n",
    "sns.countplot(y=\"Clothing ID\", data = df[df[\"Clothing ID\"].isin(df[\"Clothing ID\"].value_counts()[num:60].index)],\n",
    "              order= df[\"Clothing ID\"].value_counts()[num:60].index, ax=axes[1])\n",
    "axes[1].set_title(\"Frequency Count of Clothing ID\\nTop 30 to 60\")\n",
    "axes[1].set_ylabel(\"\")\n",
    "axes[1].set_xlabel(\"Count\")\n",
    "plt.show()\n",
    "\n",
    "print(\"Dataframe Dimension: {} Rows\".format(df.shape[0]))\n",
    "df[df[\"Clothing ID\"].isin([1078, 862,1094])].describe().T.drop(\"count\",axis=1)"
   ]
  },
  {
   "cell_type": "code",
   "execution_count": 26,
   "id": "fedd5793",
   "metadata": {},
   "outputs": [
    {
     "data": {
      "text/html": [
       "<div>\n",
       "<style scoped>\n",
       "    .dataframe tbody tr th:only-of-type {\n",
       "        vertical-align: middle;\n",
       "    }\n",
       "\n",
       "    .dataframe tbody tr th {\n",
       "        vertical-align: top;\n",
       "    }\n",
       "\n",
       "    .dataframe thead th {\n",
       "        text-align: right;\n",
       "    }\n",
       "</style>\n",
       "<table border=\"1\" class=\"dataframe\">\n",
       "  <thead>\n",
       "    <tr style=\"text-align: right;\">\n",
       "      <th></th>\n",
       "      <th>unique</th>\n",
       "      <th>top</th>\n",
       "      <th>freq</th>\n",
       "    </tr>\n",
       "  </thead>\n",
       "  <tbody>\n",
       "    <tr>\n",
       "      <th>Title</th>\n",
       "      <td>1815</td>\n",
       "      <td>Beautiful dress</td>\n",
       "      <td>21</td>\n",
       "    </tr>\n",
       "    <tr>\n",
       "      <th>Division Name</th>\n",
       "      <td>2</td>\n",
       "      <td>General</td>\n",
       "      <td>1524</td>\n",
       "    </tr>\n",
       "    <tr>\n",
       "      <th>Department Name</th>\n",
       "      <td>2</td>\n",
       "      <td>Dresses</td>\n",
       "      <td>1722</td>\n",
       "    </tr>\n",
       "    <tr>\n",
       "      <th>Class Name</th>\n",
       "      <td>2</td>\n",
       "      <td>Dresses</td>\n",
       "      <td>1722</td>\n",
       "    </tr>\n",
       "  </tbody>\n",
       "</table>\n",
       "</div>"
      ],
      "text/plain": [
       "                unique              top  freq\n",
       "Title             1815  Beautiful dress    21\n",
       "Division Name        2          General  1524\n",
       "Department Name      2          Dresses  1722\n",
       "Class Name           2          Dresses  1722"
      ]
     },
     "execution_count": 26,
     "metadata": {},
     "output_type": "execute_result"
    }
   ],
   "source": [
    "df.loc[df[\"Clothing ID\"].isin([1078, 862, 1094]), \n",
    "       [\"Title\", \"Division Name\",\"Department Name\",\"Class Name\"]].describe(include=[\"O\"]).T.drop(\"count\",axis=1)"
   ]
  },
  {
   "cell_type": "code",
   "execution_count": null,
   "id": "172ccd04",
   "metadata": {},
   "outputs": [],
   "source": [
    "# Code Explanation\n",
    "# Since they are around one thousand unique Clothing IDs, \n",
    "# I used boolean operators to only select the top 60 most popular cloth items, \n",
    "# then optimizing notebook real estate by splitting them in two plot columns.\n",
    "\n",
    "# Interpretation\n",
    "# It appears like there are around three products that receive a small magnitude more reviews than others. \n",
    "# I follow up on these findings by observing the descriptive statistics of the top three items. \n",
    "# These items received an average rating of ~4.2, and an average recommendation rate of 81%. \n",
    "# Furthermore, it appears that these products are predominately normal sized dresses.\n",
    "\n",
    "# These observations make me wonder about the nature of review popularity and rating performance. A question that could shed light on the customer's motivation to leave a review."
   ]
  },
  {
   "cell_type": "markdown",
   "id": "aff05631",
   "metadata": {},
   "source": [
    "### Distribution of Class Name"
   ]
  },
  {
   "cell_type": "code",
   "execution_count": 27,
   "id": "da526a8a",
   "metadata": {},
   "outputs": [
    {
     "data": {
      "image/png": "[encoded data removed]",
      "text/plain": [
       "<Figure size 648x360 with 1 Axes>"
      ]
     },
     "metadata": {
      "needs_background": "light"
     },
     "output_type": "display_data"
    }
   ],
   "source": [
    "# Class Name\n",
    "plt.subplots(figsize=(9,5))\n",
    "sns.countplot(y=\"Class Name\", data=df, order=df[\"Class Name\"].value_counts().index)\n",
    "plt.title(\"Frequency Count of Class Name\")\n",
    "plt.xlabel(\"Count\")\n",
    "plt.show()"
   ]
  },
  {
   "cell_type": "code",
   "execution_count": null,
   "id": "10878d7a",
   "metadata": {},
   "outputs": [],
   "source": [
    "# Interpretation:\n",
    "# Exploring the class variable suggests that the most popular clothing types are: Petite and Anthro, Dresses, Blouses, and Cut and Sew Knits. The distribution of reviews is fairly constant, suggesting that there are not negative nor positive outliers. \n",
    "# This statement has been further verified by taking the mean of the label by class group. The results show that no class falls above .80, and the majority rest at .90. Casual bottoms and Chemises scored the highest in this criteria with a 100% positive review rate, however upon investigation this is because only 4 reviews were made in these categories."
   ]
  },
  {
   "cell_type": "markdown",
   "id": "acea2779",
   "metadata": {},
   "source": [
    "### Distribution of Rating, Recommended IND, and Label"
   ]
  },
  {
   "cell_type": "code",
   "execution_count": 28,
   "id": "8a9ece01",
   "metadata": {},
   "outputs": [
    {
     "data": {
      "image/png": "[encoded data removed]",
      "text/plain": [
       "<Figure size 1008x288 with 3 Axes>"
      ]
     },
     "metadata": {
      "needs_background": "light"
     },
     "output_type": "display_data"
    }
   ],
   "source": [
    "#cat_dtypes = [x for x,y,z in unique_count if y < 10 and x not in [\"Division Name\",\"Department Name\"]]\n",
    "\n",
    "cat_dtypes = [\"Rating\", \"Recommended IND\", \"Label\"]\n",
    "increment = 0\n",
    "f, axes = plt.subplots(1,len(cat_dtypes), figsize=(14,4), sharex=False)\n",
    "# sharex는 subplots을 그릴때 x 축을 share 할지, 말지를 결정할떄 사용함\n",
    "# sharex = False 는 여기에 3개의 subplots이 그려질텐데\n",
    "# 그 3개의 모든 x축을 share 하지않고 다 다르게 하겠다는 뜻\n",
    "\n",
    "for i in range(len(cat_dtypes)):\n",
    "    sns.countplot(x=cat_dtypes[increment], data=df, order=df[cat_dtypes[increment]].value_counts().index, ax=axes[i])\n",
    "    axes[i].set_title(\"Frequency Distribution for\\n{}\".format(cat_dtypes[increment]))\n",
    "    axes[i].set_ylabel(\"Occurrence\")\n",
    "    axes[i].set_xlabel(\"{}\".format(cat_dtypes[increment]))\n",
    "    increment += 1\n",
    "axes[1].set_ylabel(\"\")\n",
    "axes[2].set_ylabel(\"\")\n",
    "plt.show()\n"
   ]
  },
  {
   "cell_type": "code",
   "execution_count": null,
   "id": "2d398c19",
   "metadata": {},
   "outputs": [],
   "source": [
    "# Code Explanation:\n",
    "# Yet another way to iterate plots, where I both loop over the index position of cat_dtypes and subplot ax at the same time with range of the length of cat_dtypes.\n",
    "\n",
    "# Distribution of Rating:\n",
    "# The vast majority of reviews were highly positive, with a score of five out of five. This suggests that this retail store is performing fairly well, but then again, I am not familiar with the industry benchmark.\n",
    "# Competitor reviews may be scraped and analyzed. It is important to note that these reviews are subjective, and some negative reviews may a outcome of a bad day, instead of constructive feedback. \n",
    "# In the plot below, the Label plot is the binary classification of 1 = good, and 0= bad.\n",
    "\n",
    "# Distribution of Recommended IND:\n",
    "# This variable mirrors the positivity of the Rating distribution, \n",
    "# but as mentioned earlier, I believe that it provides variation of positivity which is social, rather than personal.\n",
    "\n",
    "# Distribution of Label:\n",
    "# I am surprised to see that products are rated 3 and over, than are recommended by the customer. \n",
    "# I am eager to see the multivariate interaction between Rating and Recommended.\n",
    "\n",
    "# I find these three variables especially promising in the quest of finding how customers express dislike. \n",
    "# In the multivariate section, I shall explore the interplay between these variables."
   ]
  },
  {
   "cell_type": "code",
   "execution_count": null,
   "id": "47ca1375",
   "metadata": {},
   "outputs": [],
   "source": []
  }
 ],
 "metadata": {
  "kernelspec": {
   "display_name": "Python 3",
   "language": "python",
   "name": "python3"
  },
  "language_info": {
   "codemirror_mode": {
    "name": "ipython",
    "version": 3
   },
   "file_extension": ".py",
   "mimetype": "text/x-python",
   "name": "python",
   "nbconvert_exporter": "python",
   "pygments_lexer": "ipython3",
   "version": "3.8.8"
  }
 },
 "nbformat": 4,
 "nbformat_minor": 5
}
