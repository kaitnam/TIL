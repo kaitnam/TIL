{
 "cells": [
  {
   "cell_type": "code",
   "execution_count": 2,
   "id": "4fb75c18",
   "metadata": {},
   "outputs": [
    {
     "name": "stdout",
     "output_type": "stream",
     "text": [
      "[1, 4, 2, 6, 7, 9]\n"
     ]
    }
   ],
   "source": [
    "### heap 정렬"
   ]
  },
  {
   "cell_type": "code",
   "execution_count": 32,
   "id": "a8113299",
   "metadata": {},
   "outputs": [
    {
     "name": "stdout",
     "output_type": "stream",
     "text": [
      "[1, 4, 2, 6, 7, 9]\n"
     ]
    }
   ],
   "source": [
    "import heapq\n",
    "\n",
    "woong = []\n",
    "\n",
    "heapq.heappush(woong, 2)\n",
    "heapq.heappush(woong, 6)\n",
    "heapq.heappush(woong, 9)\n",
    "heapq.heappush(woong, 4)\n",
    "heapq.heappush(woong, 7)\n",
    "heapq.heappush(woong, 1)\n",
    "\n",
    "print(woong)"
   ]
  },
  {
   "cell_type": "code",
   "execution_count": null,
   "id": "a8f4ffc6",
   "metadata": {},
   "outputs": [],
   "source": [
    "### heapify 사용해서 heap 정렬"
   ]
  },
  {
   "cell_type": "code",
   "execution_count": 29,
   "id": "8b979436",
   "metadata": {},
   "outputs": [
    {
     "name": "stdout",
     "output_type": "stream",
     "text": [
      "[1, 4, 3, 10, 7]\n"
     ]
    }
   ],
   "source": [
    "# heapify 사용해서 heap 정렬\n",
    "\n",
    "heap = [3, 10, 1, 4, 7]\n",
    "heapq.heapify(heap)\n",
    "print(heap)"
   ]
  },
  {
   "cell_type": "code",
   "execution_count": null,
   "id": "9a770738",
   "metadata": {},
   "outputs": [],
   "source": [
    "### min heap sort (최소힙 정렬)"
   ]
  },
  {
   "cell_type": "code",
   "execution_count": 25,
   "id": "53b77235",
   "metadata": {},
   "outputs": [
    {
     "name": "stdout",
     "output_type": "stream",
     "text": [
      "[0, 1, 2, 3, 4, 5, 6, 7, 8, 9]\n"
     ]
    }
   ],
   "source": [
    "\n",
    "import heapq\n",
    "\n",
    "def heap_sort(data):\n",
    "    h = []\n",
    "    result = []\n",
    "    \n",
    "    # 모든 원소를 차례대로 힙에 삽입\n",
    "    for value in data:\n",
    "        heapq.heappush(h, value)\n",
    "        \n",
    "    # 힙에 삽입된 모든 원소를 차례대로 꺼내어 담기\n",
    "    for i in range (len(h)):\n",
    "        result.append(heapq.heappop(h))\n",
    "    \n",
    "    return result\n",
    "\n",
    "data = [1,3,5,7,9,2,4,6,8,0]\n",
    "result = heap_sort(data)\n",
    "print(result)"
   ]
  },
  {
   "cell_type": "code",
   "execution_count": null,
   "id": "53946fe4",
   "metadata": {},
   "outputs": [],
   "source": [
    "### max heap sort (최대힙 정렬)"
   ]
  },
  {
   "cell_type": "code",
   "execution_count": 28,
   "id": "3c82d245",
   "metadata": {},
   "outputs": [
    {
     "name": "stdout",
     "output_type": "stream",
     "text": [
      "[9, 8, 7, 6, 5, 4, 3, 2, 1, 0]\n"
     ]
    }
   ],
   "source": [
    "\n",
    "import heapq\n",
    "\n",
    "def heapsort(data):\n",
    "    r = []\n",
    "    result = []\n",
    "    \n",
    "    for value in data:\n",
    "        heapq.heappush(r, -value)\n",
    "        \n",
    "    for i in range(len(r)):\n",
    "        result.append(-heapq.heappop(r))\n",
    "        \n",
    "    return result\n",
    "\n",
    "data = [1,3,5,7,9,2,4,6,8,0]\n",
    "result = heapsort(data)\n",
    "print(result)"
   ]
  },
  {
   "cell_type": "code",
   "execution_count": null,
   "id": "3df89944",
   "metadata": {},
   "outputs": [],
   "source": []
  }
 ],
 "metadata": {
  "kernelspec": {
   "display_name": "Python 3",
   "language": "python",
   "name": "python3"
  },
  "language_info": {
   "codemirror_mode": {
    "name": "ipython",
    "version": 3
   },
   "file_extension": ".py",
   "mimetype": "text/x-python",
   "name": "python",
   "nbconvert_exporter": "python",
   "pygments_lexer": "ipython3",
   "version": "3.8.3"
  }
 },
 "nbformat": 4,
 "nbformat_minor": 5
}
