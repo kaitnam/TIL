{
 "cells": [
  {
   "cell_type": "code",
   "execution_count": 1,
   "id": "57699d08",
   "metadata": {},
   "outputs": [],
   "source": [
    "import numpy as np # linear algebra\n",
    "import pandas as pd # data processing, CSV file I/O (e.g. pd.read_csv)\n",
    "from tqdm import tqdm\n",
    "from sklearn.model_selection import train_test_split\n",
    "import tensorflow as tf\n",
    "from keras.models import Sequential\n",
    "from tensorflow.keras.layers import LSTM, GRU,SimpleRNN, Embedding\n",
    "from keras.layers.core import Dense, Activation, Dropout\n",
    "from tensorflow.keras.layers import BatchNormalization\n",
    "from keras.utils import np_utils\n",
    "from sklearn import preprocessing, decomposition, model_selection, metrics, pipeline\n",
    "from keras.layers import GlobalMaxPooling1D, Conv1D, MaxPooling1D, Flatten, Bidirectional, SpatialDropout1D\n",
    "from keras.preprocessing import sequence, text\n",
    "from keras.callbacks import EarlyStopping\n",
    "\n",
    "\n",
    "import matplotlib.pyplot as plt\n",
    "import seaborn as sns\n",
    "%matplotlib inline\n",
    "from plotly import graph_objs as go\n",
    "import plotly.express as px\n",
    "import plotly.figure_factory as ff"
   ]
  },
  {
   "cell_type": "code",
   "execution_count": 50,
   "id": "98662b2f",
   "metadata": {},
   "outputs": [
    {
     "data": {
      "text/plain": [
       "['나는 밥을 먹었다', '나는 학교에 갔다', '오늘 학교에 선생님이 오셨다']"
      ]
     },
     "execution_count": 50,
     "metadata": {},
     "output_type": "execute_result"
    }
   ],
   "source": [
    "text = [\"나는 밥을 먹었다\", \"나는 학교에 갔다\", \"오늘 학교에 선생님이 오셨다\"]\n",
    "text"
   ]
  },
  {
   "cell_type": "code",
   "execution_count": 51,
   "id": "d5f77b1b",
   "metadata": {},
   "outputs": [
    {
     "name": "stdout",
     "output_type": "stream",
     "text": [
      "정수인코딩: \n",
      "[[1, 3, 4], [1, 2, 5], [6, 2, 7, 8]]\n"
     ]
    }
   ],
   "source": [
    "from tensorflow.keras.preprocessing.sequence import pad_sequences\n",
    "\n",
    "tokenizer = Tokenizer()\n",
    "tokenizer.fit_on_texts(text)\n",
    "sequences = tokenizer.texts_to_sequences(text) \n",
    "\n",
    "print('정수인코딩: ')\n",
    "print(sequences)"
   ]
  },
  {
   "cell_type": "code",
   "execution_count": null,
   "id": "e84666de",
   "metadata": {},
   "outputs": [],
   "source": [
    "pri"
   ]
  },
  {
   "cell_type": "code",
   "execution_count": 52,
   "id": "326c80da",
   "metadata": {},
   "outputs": [
    {
     "name": "stdout",
     "output_type": "stream",
     "text": [
      "단어에 맵핑된 정수값: \n",
      "{'나는': 1, '학교에': 2, '밥을': 3, '먹었다': 4, '갔다': 5, '오늘': 6, '선생님이': 7, '오셨다': 8}\n",
      "8\n"
     ]
    }
   ],
   "source": [
    "# word_index는 index 부여방법은 빈도수가 높은 단어들만 사용하기 위해서 단어에 대한 빈도수를 기준으로 정렬한 뒤 높은 빈도 단어에 1, 그뒤로 2,3,4 이렇게 부여한다.\n",
    "word_index = tokenizer.word_index\n",
    "\n",
    "print(\"단어에 맵핑된 정수값: \")\n",
    "print(word_index)\n",
    "# 여기에는 '나는'이라는 단어가 제일 빈도가 높으므로 1을 부여하였다.\n",
    "print(len(word_index))"
   ]
  },
  {
   "cell_type": "code",
   "execution_count": 53,
   "id": "b4f7cc91",
   "metadata": {},
   "outputs": [
    {
     "data": {
      "text/plain": [
       "array([[0, 1, 3, 4],\n",
       "       [0, 1, 2, 5],\n",
       "       [6, 2, 7, 8]])"
      ]
     },
     "execution_count": 53,
     "metadata": {},
     "output_type": "execute_result"
    }
   ],
   "source": [
    "data = pad_sequences(sequences, maxlen = 4) # 문장의 길이를 맞추기 위해서 0을 패딩해주었다.\n",
    "data"
   ]
  },
  {
   "cell_type": "code",
   "execution_count": 20,
   "id": "1d03cf9c",
   "metadata": {},
   "outputs": [
    {
     "data": {
      "text/plain": [
       "array([[1, 3, 4, 0],\n",
       "       [1, 2, 5, 0],\n",
       "       [6, 2, 7, 8]])"
      ]
     },
     "execution_count": 20,
     "metadata": {},
     "output_type": "execute_result"
    }
   ],
   "source": [
    "data = pad_sequences(sequences, maxlen = 4, padding='post') # padding = 'post'를 사용하면 뒤에 0이 붙는다.\n",
    "data"
   ]
  },
  {
   "cell_type": "code",
   "execution_count": 22,
   "id": "10fc34ac",
   "metadata": {},
   "outputs": [
    {
     "name": "stdout",
     "output_type": "stream",
     "text": [
      "(3, 4)\n"
     ]
    }
   ],
   "source": [
    "print(data.shape)"
   ]
  },
  {
   "cell_type": "code",
   "execution_count": 24,
   "id": "efd769bc",
   "metadata": {},
   "outputs": [
    {
     "name": "stdout",
     "output_type": "stream",
     "text": [
      "input array:  (3, 4)\n",
      "1/1 [==============================] - 0s 372ms/step\n",
      "output array:  (3, 4, 100)\n"
     ]
    }
   ],
   "source": [
    "model = Sequential()\n",
    "model.add(Embedding(len(word_index) + 1,\n",
    "                 100,\n",
    "                 input_length=4))\n",
    "# Embedding의 파라미터는 Embedding(입력개수, 출력개수, 단어 시퀀수 수)이다.\n",
    "# 우선 word_index는 1-8까지인데 패딩으로 0이 생겼다. 그럼으로 len(word_index)에 1을 더해줘서 0-9까지 사용한다.\n",
    "# 두번째 출력개수는 100차원으로 출력하겠다는 뜻이다\n",
    "# 세번째 인수는 시퀀수의 갯수, 즉 [1, 3, 4, 0] 처럼 다 4개로 맞췄으므로 4이다.\n",
    "\n",
    "\n",
    "model.compile('rmsprop', 'mse') # model.compile(loss='mse', optimizer='rmsprop')\n",
    "# RMSprop은 AdaGrad를 보완한기법이다. \n",
    "\n",
    "print('input array: ', data.shape)\n",
    "\n",
    "output_array = model.predict(data)\n",
    "print(\"output array: \", output_array.shape)"
   ]
  },
  {
   "cell_type": "code",
   "execution_count": 26,
   "id": "eebdbae3",
   "metadata": {},
   "outputs": [
    {
     "name": "stdout",
     "output_type": "stream",
     "text": [
      "첫번째 문장 \"나는\" Embedding: \n",
      " [-0.01384702  0.0371436   0.01095534  0.03367838  0.00748586 -0.04306557\n",
      "  0.04461204  0.04957396  0.02695719 -0.04672531 -0.04706959 -0.0392246\n",
      "  0.04509034  0.02460587 -0.02717716 -0.02454519 -0.02186393  0.0035964\n",
      " -0.0099218  -0.03039159  0.01345428  0.00153429 -0.04081904 -0.01948032\n",
      "  0.01339186  0.03778786  0.01547382  0.01958058  0.03102026 -0.03372184\n",
      " -0.02685304 -0.00408576 -0.04285035 -0.01521815 -0.02358946  0.00223653\n",
      " -0.04906732 -0.03053992 -0.01203509  0.0148083  -0.00837088 -0.03746637\n",
      "  0.0059826  -0.02687998  0.03710565 -0.04211212  0.04715941  0.03099537\n",
      "  0.04364506 -0.01585461  0.01547397  0.03595937  0.00209177  0.02491119\n",
      "  0.01291678  0.04078807 -0.02207683 -0.00617392 -0.04845591  0.04920919\n",
      "  0.03366101  0.0016185  -0.0356267  -0.00545005  0.04531418 -0.03804404\n",
      " -0.00985862  0.00300404 -0.04989513  0.0411781   0.01996001  0.04092241\n",
      "  0.026906   -0.04743264  0.02085704  0.02539755 -0.00254804 -0.04436892\n",
      "  0.03695695  0.02077902 -0.00798383  0.00946166  0.02672682  0.01705566\n",
      "  0.02666484 -0.02141627 -0.04131459 -0.0288079  -0.03326595 -0.04873576\n",
      " -0.02001895  0.00997082 -0.02638856 -0.00050176 -0.04774182  0.00455358\n",
      "  0.02476739  0.01435645  0.0100778   0.0408392 ]\n"
     ]
    }
   ],
   "source": [
    "print('첫번째 문장 \"나는\" Embedding: \\n', output_array[0][0])"
   ]
  },
  {
   "cell_type": "code",
   "execution_count": 28,
   "id": "12471a7e",
   "metadata": {},
   "outputs": [
    {
     "name": "stdout",
     "output_type": "stream",
     "text": [
      "첫번째 문장 \"학교에\" Embedding: \n",
      " [-0.04375289 -0.03394834 -0.04010032  0.04852011 -0.03512425 -0.04599524\n",
      " -0.02096882 -0.01632801  0.00378805  0.03784357  0.00971507  0.0399324\n",
      " -0.0045149   0.04046425  0.03808017 -0.02071444  0.01025813 -0.00335947\n",
      " -0.0488055   0.01820456  0.00197654 -0.00125508 -0.04811257  0.00768564\n",
      " -0.01205084 -0.00105112 -0.040073    0.01776217 -0.02583157  0.0035933\n",
      " -0.03088847 -0.03521693 -0.03329425 -0.01379777 -0.02552875  0.00383938\n",
      " -0.00686176 -0.04133471  0.01261869  0.03642048  0.01452739 -0.04712811\n",
      "  0.02411289  0.0133352  -0.01863471 -0.03075097  0.02236264 -0.02244967\n",
      "  0.0080909  -0.02654378  0.01276291  0.01112139  0.01231181 -0.00811839\n",
      "  0.01457658 -0.03117751 -0.0009721   0.0286448  -0.04138844 -0.03082758\n",
      " -0.01873792 -0.03747505 -0.03960998  0.0116488  -0.01671425 -0.04663948\n",
      " -0.02577258  0.04251221 -0.00783583  0.02969866 -0.01357145  0.0283001\n",
      " -0.00104018 -0.01575626  0.01557704  0.03887001 -0.04591342  0.02990567\n",
      "  0.04687429  0.03748536  0.03691539 -0.02719638  0.02015356 -0.0414267\n",
      "  0.03787048 -0.02918612  0.04617399  0.02353128  0.02926849 -0.0430313\n",
      " -0.03060141  0.01984524  0.04623289 -0.01037834  0.01454145  0.0069165\n",
      "  0.0357202  -0.00938404 -0.00490866  0.04493202]\n"
     ]
    }
   ],
   "source": [
    "print('첫번째 문장 \"학교에\" Embedding: \\n', output_array[0][1])"
   ]
  },
  {
   "cell_type": "code",
   "execution_count": null,
   "id": "5505e84d",
   "metadata": {},
   "outputs": [],
   "source": [
    "# 위의 결과와 같이 100차원 즉, 100개의 값으로 출력된것을 확인할 수 있음"
   ]
  },
  {
   "cell_type": "code",
   "execution_count": 27,
   "id": "b13014ab",
   "metadata": {},
   "outputs": [
    {
     "data": {
      "text/plain": [
       "array([[[-0.01384702,  0.0371436 ,  0.01095534, ...,  0.01435645,\n",
       "          0.0100778 ,  0.0408392 ],\n",
       "        [-0.04375289, -0.03394834, -0.04010032, ..., -0.00938404,\n",
       "         -0.00490866,  0.04493202],\n",
       "        [ 0.00920025,  0.00876013,  0.03634125, ..., -0.03620528,\n",
       "          0.0499987 , -0.00865694],\n",
       "        [-0.02692565,  0.04901146,  0.0341002 , ...,  0.04093217,\n",
       "         -0.03753398,  0.04545455]],\n",
       "\n",
       "       [[-0.01384702,  0.0371436 ,  0.01095534, ...,  0.01435645,\n",
       "          0.0100778 ,  0.0408392 ],\n",
       "        [ 0.02173131,  0.01843714,  0.04129163, ...,  0.03983423,\n",
       "          0.00089423, -0.02362682],\n",
       "        [ 0.02711215,  0.01585234, -0.01850986, ...,  0.04430768,\n",
       "         -0.00190226, -0.02207126],\n",
       "        [-0.02692565,  0.04901146,  0.0341002 , ...,  0.04093217,\n",
       "         -0.03753398,  0.04545455]],\n",
       "\n",
       "       [[ 0.00345943, -0.03788632, -0.04872021, ...,  0.0080614 ,\n",
       "          0.0211109 , -0.00350795],\n",
       "        [ 0.02173131,  0.01843714,  0.04129163, ...,  0.03983423,\n",
       "          0.00089423, -0.02362682],\n",
       "        [ 0.00315775,  0.02608479, -0.0141693 , ..., -0.0430929 ,\n",
       "          0.02090522,  0.04955928],\n",
       "        [ 0.02279678, -0.02184037, -0.00380095, ..., -0.00719422,\n",
       "         -0.02715741, -0.00322912]]], dtype=float32)"
      ]
     },
     "execution_count": 27,
     "metadata": {},
     "output_type": "execute_result"
    }
   ],
   "source": [
    "output_array"
   ]
  },
  {
   "cell_type": "code",
   "execution_count": 30,
   "id": "0a9843c1",
   "metadata": {},
   "outputs": [
    {
     "name": "stdout",
     "output_type": "stream",
     "text": [
      "Model: \"sequential_1\"\n",
      "_________________________________________________________________\n",
      " Layer (type)                Output Shape              Param #   \n",
      "=================================================================\n",
      " embedding (Embedding)       (None, 4, 100)            900       \n",
      "                                                                 \n",
      "=================================================================\n",
      "Total params: 900\n",
      "Trainable params: 900\n",
      "Non-trainable params: 0\n",
      "_________________________________________________________________\n"
     ]
    }
   ],
   "source": [
    "model.summary()"
   ]
  },
  {
   "cell_type": "code",
   "execution_count": null,
   "id": "26f62d21",
   "metadata": {},
   "outputs": [],
   "source": []
  },
  {
   "cell_type": "code",
   "execution_count": null,
   "id": "f3f5083e",
   "metadata": {},
   "outputs": [],
   "source": []
  },
  {
   "cell_type": "code",
   "execution_count": 31,
   "id": "ed3c1b85",
   "metadata": {},
   "outputs": [],
   "source": [
    "text = [\"I was wondering if anyone out there could enlighten me on this car.\"]"
   ]
  },
  {
   "cell_type": "code",
   "execution_count": 32,
   "id": "556a5a84",
   "metadata": {},
   "outputs": [
    {
     "name": "stdout",
     "output_type": "stream",
     "text": [
      "정수인코딩: \n",
      "[[1, 2, 3, 4, 5, 6, 7, 8, 9, 10, 11, 12, 13]]\n"
     ]
    }
   ],
   "source": [
    "tokenizer = Tokenizer()\n",
    "tokenizer.fit_on_texts(text)\n",
    "sequences = tokenizer.texts_to_sequences(text) \n",
    "\n",
    "print('정수인코딩: ')\n",
    "print(sequences)"
   ]
  },
  {
   "cell_type": "code",
   "execution_count": 33,
   "id": "d593aa49",
   "metadata": {},
   "outputs": [
    {
     "name": "stdout",
     "output_type": "stream",
     "text": [
      "단어에 맵핑된 정수값: \n",
      "{'i': 1, 'was': 2, 'wondering': 3, 'if': 4, 'anyone': 5, 'out': 6, 'there': 7, 'could': 8, 'enlighten': 9, 'me': 10, 'on': 11, 'this': 12, 'car': 13}\n",
      "13\n"
     ]
    }
   ],
   "source": [
    "# word_index는 index 부여방법은 빈도수가 높은 단어들만 사용하기 위해서 단어에 대한 빈도수를 기준으로 정렬한 뒤 높은 빈도 단어에 1, 그뒤로 2,3,4 이렇게 부여한다.\n",
    "word_index = tokenizer.word_index\n",
    "\n",
    "print(\"단어에 맵핑된 정수값: \")\n",
    "print(word_index)\n",
    "# 여기에는 '나는'이라는 단어가 제일 빈도가 높으므로 1을 부여하였다.\n",
    "print(len(word_index))"
   ]
  },
  {
   "cell_type": "code",
   "execution_count": 35,
   "id": "1f5d1341",
   "metadata": {},
   "outputs": [
    {
     "data": {
      "text/plain": [
       "array([[ 1,  2,  3,  4,  5,  6,  7,  8,  9, 10, 11, 12, 13]])"
      ]
     },
     "execution_count": 35,
     "metadata": {},
     "output_type": "execute_result"
    }
   ],
   "source": [
    "data = pad_sequences(sequences, maxlen = 13, padding='post') # padding = 'post'를 사용하면 뒤에 0이 붙는다.\n",
    "data"
   ]
  },
  {
   "cell_type": "code",
   "execution_count": 36,
   "id": "8bfc5d09",
   "metadata": {},
   "outputs": [
    {
     "name": "stdout",
     "output_type": "stream",
     "text": [
      "(1, 13)\n"
     ]
    }
   ],
   "source": [
    "print(data.shape)"
   ]
  },
  {
   "cell_type": "code",
   "execution_count": null,
   "id": "57a696f4",
   "metadata": {},
   "outputs": [],
   "source": []
  },
  {
   "cell_type": "code",
   "execution_count": null,
   "id": "f6435678",
   "metadata": {},
   "outputs": [],
   "source": []
  },
  {
   "cell_type": "code",
   "execution_count": 37,
   "id": "8935239a",
   "metadata": {},
   "outputs": [
    {
     "data": {
      "text/plain": [
       "['The Ukrainian military says Russian units are being reinforced on the approaches to Sloviansk as they prepare to resume an offensive toward the eastern city.',\n",
       " 'In nearby Severodonetsk, the Ukrainian military said battles continue and Russian forces had partial success in storming eastern residential areas.',\n",
       " \"In a video message Friday, Ukraine's President Volodymyr Zelensky said Ukrainians have been defending their country for 100 days and victory shall be ours.\",\n",
       " 'Facing the prospect of an extended stalemate in Ukraine, the US and its allies are placing a renewed emphasis on the need for a negotiated settlement to end the war.',\n",
       " 'Ukrainian troops dove under their tank, screaming at Washington Post reporters to take cover with them.',\n",
       " 'Together, they pressed their bodies against the damp earth and grass, as Russian firepower rained down along this eastern front, where Moscow is concentrating its military might and inflicting massive casualties on outgunned Ukrainian forces.']"
      ]
     },
     "execution_count": 37,
     "metadata": {},
     "output_type": "execute_result"
    }
   ],
   "source": [
    "text = [\"The Ukrainian military says Russian units are being reinforced on the approaches to Sloviansk as they prepare to resume an offensive toward the eastern city.\",\n",
    "\"In nearby Severodonetsk, the Ukrainian military said battles continue and Russian forces had partial success in storming eastern residential areas.\", \n",
    "\"In a video message Friday, Ukraine's President Volodymyr Zelensky said Ukrainians have been defending their country for 100 days and victory shall be ours.\",\n",
    "\"Facing the prospect of an extended stalemate in Ukraine, the US and its allies are placing a renewed emphasis on the need for a negotiated settlement to end the war.\",\n",
    "\"Ukrainian troops dove under their tank, screaming at Washington Post reporters to take cover with them.\", \n",
    "\"Together, they pressed their bodies against the damp earth and grass, as Russian firepower rained down along this eastern front, where Moscow is concentrating its military might and inflicting massive casualties on outgunned Ukrainian forces.\"]\n",
    "\n"
   ]
  },
  {
   "cell_type": "code",
   "execution_count": 48,
   "id": "6162a4bf",
   "metadata": {},
   "outputs": [
    {
     "name": "stdout",
     "output_type": "stream",
     "text": [
      "정수인코딩: \n",
      "[[1, 3, 6, 20, 7, 21, 12, 22, 23, 8, 1, 24, 4, 25, 13, 14, 26, 4, 27, 15, 28, 29, 1, 9, 30], [5, 31, 32, 1, 3, 6, 16, 33, 34, 2, 7, 17, 35, 36, 37, 5, 38, 9, 39, 40], [5, 10, 41, 42, 43, 44, 45, 46, 47, 16, 48, 49, 50, 51, 11, 52, 18, 53, 54, 2, 55, 56, 57, 58], [59, 1, 60, 61, 15, 62, 63, 5, 64, 1, 65, 2, 19, 66, 12, 67, 10, 68, 69, 8, 1, 70, 18, 10, 71, 72, 4, 73, 1, 74], [3, 75, 76, 77, 11, 78, 79, 80, 81, 82, 83, 4, 84, 85, 86, 87], [88, 14, 89, 11, 90, 91, 1, 92, 93, 2, 94, 13, 7, 95, 96, 97, 98, 99, 9, 100, 101, 102, 103, 104, 19, 6, 105, 2, 106, 107, 108, 8, 109, 3, 17]]\n",
      "35\n"
     ]
    }
   ],
   "source": [
    "tokenizer = Tokenizer()\n",
    "tokenizer.fit_on_texts(text)\n",
    "sequences = tokenizer.texts_to_sequences(text) \n",
    "\n",
    "print('정수인코딩: ')\n",
    "print(sequences)"
   ]
  },
  {
   "cell_type": "code",
   "execution_count": 49,
   "id": "4a3bea3f",
   "metadata": {},
   "outputs": [
    {
     "name": "stdout",
     "output_type": "stream",
     "text": [
      "35\n"
     ]
    }
   ],
   "source": [
    "print(len(max(sequences)))"
   ]
  },
  {
   "cell_type": "code",
   "execution_count": 45,
   "id": "bea69854",
   "metadata": {},
   "outputs": [
    {
     "name": "stdout",
     "output_type": "stream",
     "text": [
      "단어에 맵핑된 정수값: \n",
      "{'the': 1, 'and': 2, 'ukrainian': 3, 'to': 4, 'in': 5, 'military': 6, 'russian': 7, 'on': 8, 'eastern': 9, 'a': 10, 'their': 11, 'are': 12, 'as': 13, 'they': 14, 'an': 15, 'said': 16, 'forces': 17, 'for': 18, 'its': 19, 'says': 20, 'units': 21, 'being': 22, 'reinforced': 23, 'approaches': 24, 'sloviansk': 25, 'prepare': 26, 'resume': 27, 'offensive': 28, 'toward': 29, 'city': 30, 'nearby': 31, 'severodonetsk': 32, 'battles': 33, 'continue': 34, 'had': 35, 'partial': 36, 'success': 37, 'storming': 38, 'residential': 39, 'areas': 40, 'video': 41, 'message': 42, 'friday': 43, \"ukraine's\": 44, 'president': 45, 'volodymyr': 46, 'zelensky': 47, 'ukrainians': 48, 'have': 49, 'been': 50, 'defending': 51, 'country': 52, '100': 53, 'days': 54, 'victory': 55, 'shall': 56, 'be': 57, 'ours': 58, 'facing': 59, 'prospect': 60, 'of': 61, 'extended': 62, 'stalemate': 63, 'ukraine': 64, 'us': 65, 'allies': 66, 'placing': 67, 'renewed': 68, 'emphasis': 69, 'need': 70, 'negotiated': 71, 'settlement': 72, 'end': 73, 'war': 74, 'troops': 75, 'dove': 76, 'under': 77, 'tank': 78, 'screaming': 79, 'at': 80, 'washington': 81, 'post': 82, 'reporters': 83, 'take': 84, 'cover': 85, 'with': 86, 'them': 87, 'together': 88, 'pressed': 89, 'bodies': 90, 'against': 91, 'damp': 92, 'earth': 93, 'grass': 94, 'firepower': 95, 'rained': 96, 'down': 97, 'along': 98, 'this': 99, 'front': 100, 'where': 101, 'moscow': 102, 'is': 103, 'concentrating': 104, 'might': 105, 'inflicting': 106, 'massive': 107, 'casualties': 108, 'outgunned': 109}\n",
      "109\n",
      "8\n"
     ]
    }
   ],
   "source": [
    "word_index = tokenizer.word_index\n",
    "\n",
    "print(\"단어에 맵핑된 정수값: \")\n",
    "print(word_index)\n",
    "\n",
    "print(len(word_index))\n",
    "print(len(max(word_index)))"
   ]
  },
  {
   "cell_type": "code",
   "execution_count": null,
   "id": "6f85ca1e",
   "metadata": {},
   "outputs": [],
   "source": [
    "data = pad_sequences(sequences, maxlen = 13, padding='post') \n",
    "data"
   ]
  }
 ],
 "metadata": {
  "kernelspec": {
   "display_name": "Python 3 (ipykernel)",
   "language": "python",
   "name": "python3"
  },
  "language_info": {
   "codemirror_mode": {
    "name": "ipython",
    "version": 3
   },
   "file_extension": ".py",
   "mimetype": "text/x-python",
   "name": "python",
   "nbconvert_exporter": "python",
   "pygments_lexer": "ipython3",
   "version": "3.8.9"
  }
 },
 "nbformat": 4,
 "nbformat_minor": 5
}
