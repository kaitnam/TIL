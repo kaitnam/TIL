{
 "cells": [
  {
   "cell_type": "code",
   "execution_count": 1,
   "id": "8a8786c8",
   "metadata": {},
   "outputs": [
    {
     "data": {
      "text/html": [
       "<div>\n",
       "<style scoped>\n",
       "    .dataframe tbody tr th:only-of-type {\n",
       "        vertical-align: middle;\n",
       "    }\n",
       "\n",
       "    .dataframe tbody tr th {\n",
       "        vertical-align: top;\n",
       "    }\n",
       "\n",
       "    .dataframe thead th {\n",
       "        text-align: right;\n",
       "    }\n",
       "</style>\n",
       "<table border=\"1\" class=\"dataframe\">\n",
       "  <thead>\n",
       "    <tr style=\"text-align: right;\">\n",
       "      <th></th>\n",
       "      <th>purchase_date</th>\n",
       "      <th>item_name</th>\n",
       "      <th>item_price</th>\n",
       "      <th>customer_name</th>\n",
       "    </tr>\n",
       "  </thead>\n",
       "  <tbody>\n",
       "    <tr>\n",
       "      <th>0</th>\n",
       "      <td>2019-06-13 18:02</td>\n",
       "      <td>상품A</td>\n",
       "      <td>100.0</td>\n",
       "      <td>김가온</td>\n",
       "    </tr>\n",
       "    <tr>\n",
       "      <th>1</th>\n",
       "      <td>2019-07-13 13:05</td>\n",
       "      <td>상 품 S</td>\n",
       "      <td>NaN</td>\n",
       "      <td>김우찬</td>\n",
       "    </tr>\n",
       "    <tr>\n",
       "      <th>2</th>\n",
       "      <td>2019-05-11 19:42</td>\n",
       "      <td>상 품 a</td>\n",
       "      <td>NaN</td>\n",
       "      <td>김유찬</td>\n",
       "    </tr>\n",
       "    <tr>\n",
       "      <th>3</th>\n",
       "      <td>2019-02-12 23:40</td>\n",
       "      <td>상품Z</td>\n",
       "      <td>2600.0</td>\n",
       "      <td>김재현</td>\n",
       "    </tr>\n",
       "    <tr>\n",
       "      <th>4</th>\n",
       "      <td>2019-04-22 3:09</td>\n",
       "      <td>상품a</td>\n",
       "      <td>NaN</td>\n",
       "      <td>김강현</td>\n",
       "    </tr>\n",
       "  </tbody>\n",
       "</table>\n",
       "</div>"
      ],
      "text/plain": [
       "      purchase_date item_name  item_price customer_name\n",
       "0  2019-06-13 18:02       상품A       100.0           김가온\n",
       "1  2019-07-13 13:05     상 품 S         NaN           김우찬\n",
       "2  2019-05-11 19:42     상 품 a         NaN           김유찬\n",
       "3  2019-02-12 23:40       상품Z      2600.0           김재현\n",
       "4   2019-04-22 3:09       상품a         NaN           김강현"
      ]
     },
     "execution_count": 1,
     "metadata": {},
     "output_type": "execute_result"
    }
   ],
   "source": [
    "import pandas as pd\n",
    "uriage_data = pd.read_csv(\"C:/Users/kaitnam/Documents/파이썬 데이터 분석 실무 테크닉 100_위키북스/pyda100-master/2장/uriage.csv\")\n",
    "uriage_data.head()"
   ]
  },
  {
   "cell_type": "code",
   "execution_count": 2,
   "id": "76bfef6c",
   "metadata": {},
   "outputs": [
    {
     "data": {
      "text/html": [
       "<div>\n",
       "<style scoped>\n",
       "    .dataframe tbody tr th:only-of-type {\n",
       "        vertical-align: middle;\n",
       "    }\n",
       "\n",
       "    .dataframe tbody tr th {\n",
       "        vertical-align: top;\n",
       "    }\n",
       "\n",
       "    .dataframe thead th {\n",
       "        text-align: right;\n",
       "    }\n",
       "</style>\n",
       "<table border=\"1\" class=\"dataframe\">\n",
       "  <thead>\n",
       "    <tr style=\"text-align: right;\">\n",
       "      <th></th>\n",
       "      <th>고객이름</th>\n",
       "      <th>지역</th>\n",
       "      <th>등록일</th>\n",
       "    </tr>\n",
       "  </thead>\n",
       "  <tbody>\n",
       "    <tr>\n",
       "      <th>0</th>\n",
       "      <td>김 현성</td>\n",
       "      <td>H시</td>\n",
       "      <td>2018-01-04 00:00:00</td>\n",
       "    </tr>\n",
       "    <tr>\n",
       "      <th>1</th>\n",
       "      <td>김 도윤</td>\n",
       "      <td>E시</td>\n",
       "      <td>42782</td>\n",
       "    </tr>\n",
       "    <tr>\n",
       "      <th>2</th>\n",
       "      <td>김 지한</td>\n",
       "      <td>A시</td>\n",
       "      <td>2018-01-07 00:00:00</td>\n",
       "    </tr>\n",
       "    <tr>\n",
       "      <th>3</th>\n",
       "      <td>김 하윤</td>\n",
       "      <td>F시</td>\n",
       "      <td>42872</td>\n",
       "    </tr>\n",
       "    <tr>\n",
       "      <th>4</th>\n",
       "      <td>김 시온</td>\n",
       "      <td>E시</td>\n",
       "      <td>43127</td>\n",
       "    </tr>\n",
       "  </tbody>\n",
       "</table>\n",
       "</div>"
      ],
      "text/plain": [
       "   고객이름  지역                  등록일\n",
       "0  김 현성  H시  2018-01-04 00:00:00\n",
       "1  김 도윤  E시                42782\n",
       "2  김 지한  A시  2018-01-07 00:00:00\n",
       "3  김 하윤  F시                42872\n",
       "4  김 시온  E시                43127"
      ]
     },
     "execution_count": 2,
     "metadata": {},
     "output_type": "execute_result"
    }
   ],
   "source": [
    "kokyaku_data = pd.read_excel(\"C:/Users/kaitnam/Documents/파이썬 데이터 분석 실무 테크닉 100_위키북스/pyda100-master/2장/kokyaku_daicho.xlsx\")\n",
    "kokyaku_data.head()"
   ]
  },
  {
   "cell_type": "code",
   "execution_count": 4,
   "id": "41e8268a",
   "metadata": {},
   "outputs": [
    {
     "data": {
      "text/html": [
       "<div>\n",
       "<style scoped>\n",
       "    .dataframe tbody tr th:only-of-type {\n",
       "        vertical-align: middle;\n",
       "    }\n",
       "\n",
       "    .dataframe tbody tr th {\n",
       "        vertical-align: top;\n",
       "    }\n",
       "\n",
       "    .dataframe thead th {\n",
       "        text-align: right;\n",
       "    }\n",
       "</style>\n",
       "<table border=\"1\" class=\"dataframe\">\n",
       "  <thead>\n",
       "    <tr style=\"text-align: right;\">\n",
       "      <th></th>\n",
       "      <th>purchase_date</th>\n",
       "      <th>item_name</th>\n",
       "      <th>item_price</th>\n",
       "      <th>customer_name</th>\n",
       "    </tr>\n",
       "  </thead>\n",
       "  <tbody>\n",
       "    <tr>\n",
       "      <th>0</th>\n",
       "      <td>2019-06-13 18:02</td>\n",
       "      <td>상품A</td>\n",
       "      <td>100.0</td>\n",
       "      <td>김가온</td>\n",
       "    </tr>\n",
       "    <tr>\n",
       "      <th>1</th>\n",
       "      <td>2019-07-13 13:05</td>\n",
       "      <td>상품S</td>\n",
       "      <td>NaN</td>\n",
       "      <td>김우찬</td>\n",
       "    </tr>\n",
       "    <tr>\n",
       "      <th>2</th>\n",
       "      <td>2019-05-11 19:42</td>\n",
       "      <td>상품A</td>\n",
       "      <td>NaN</td>\n",
       "      <td>김유찬</td>\n",
       "    </tr>\n",
       "    <tr>\n",
       "      <th>3</th>\n",
       "      <td>2019-02-12 23:40</td>\n",
       "      <td>상품Z</td>\n",
       "      <td>2600.0</td>\n",
       "      <td>김재현</td>\n",
       "    </tr>\n",
       "    <tr>\n",
       "      <th>4</th>\n",
       "      <td>2019-04-22 3:09</td>\n",
       "      <td>상품A</td>\n",
       "      <td>NaN</td>\n",
       "      <td>김강현</td>\n",
       "    </tr>\n",
       "  </tbody>\n",
       "</table>\n",
       "</div>"
      ],
      "text/plain": [
       "      purchase_date item_name  item_price customer_name\n",
       "0  2019-06-13 18:02       상품A       100.0           김가온\n",
       "1  2019-07-13 13:05       상품S         NaN           김우찬\n",
       "2  2019-05-11 19:42       상품A         NaN           김유찬\n",
       "3  2019-02-12 23:40       상품Z      2600.0           김재현\n",
       "4   2019-04-22 3:09       상품A         NaN           김강현"
      ]
     },
     "execution_count": 4,
     "metadata": {},
     "output_type": "execute_result"
    }
   ],
   "source": [
    "uriage_data[\"item_name\"] = uriage_data[\"item_name\"].str.upper()\n",
    "uriage_data[\"item_name\"] = uriage_data[\"item_name\"].str.replace(\" \",\"\") #스페이스는 한번만\n",
    "uriage_data.head()"
   ]
  },
  {
   "cell_type": "code",
   "execution_count": 5,
   "id": "8ef0b509",
   "metadata": {},
   "outputs": [
    {
     "name": "stdout",
     "output_type": "stream",
     "text": [
      "26\n"
     ]
    }
   ],
   "source": [
    "print(len(pd.unique(uriage_data[\"item_name\"])))"
   ]
  },
  {
   "cell_type": "code",
   "execution_count": 7,
   "id": "173ac1a5",
   "metadata": {},
   "outputs": [
    {
     "data": {
      "text/plain": [
       "purchase_date      0\n",
       "item_name          0\n",
       "item_price       387\n",
       "customer_name      0\n",
       "dtype: int64"
      ]
     },
     "execution_count": 7,
     "metadata": {},
     "output_type": "execute_result"
    }
   ],
   "source": [
    "uriage_data.isnull().sum()"
   ]
  },
  {
   "cell_type": "code",
   "execution_count": 9,
   "id": "23cf20a5",
   "metadata": {},
   "outputs": [
    {
     "data": {
      "text/plain": [
       "0       False\n",
       "1        True\n",
       "2        True\n",
       "3       False\n",
       "4        True\n",
       "        ...  \n",
       "2994    False\n",
       "2995    False\n",
       "2996     True\n",
       "2997     True\n",
       "2998    False\n",
       "Name: item_price, Length: 2999, dtype: bool"
      ]
     },
     "execution_count": 9,
     "metadata": {},
     "output_type": "execute_result"
    }
   ],
   "source": [
    "flg_is_null = uriage_data[\"item_price\"].isnull()\n",
    "flg_is_null"
   ]
  },
  {
   "cell_type": "code",
   "execution_count": 10,
   "id": "fb366307",
   "metadata": {},
   "outputs": [
    {
     "name": "stderr",
     "output_type": "stream",
     "text": [
      "C:\\ProgramData\\Anaconda3\\lib\\site-packages\\pandas\\core\\indexing.py:1637: SettingWithCopyWarning: \n",
      "A value is trying to be set on a copy of a slice from a DataFrame\n",
      "\n",
      "See the caveats in the documentation: https://pandas.pydata.org/pandas-docs/stable/user_guide/indexing.html#returning-a-view-versus-a-copy\n",
      "  self._setitem_single_block(indexer, value, name)\n"
     ]
    },
    {
     "data": {
      "text/html": [
       "<div>\n",
       "<style scoped>\n",
       "    .dataframe tbody tr th:only-of-type {\n",
       "        vertical-align: middle;\n",
       "    }\n",
       "\n",
       "    .dataframe tbody tr th {\n",
       "        vertical-align: top;\n",
       "    }\n",
       "\n",
       "    .dataframe thead th {\n",
       "        text-align: right;\n",
       "    }\n",
       "</style>\n",
       "<table border=\"1\" class=\"dataframe\">\n",
       "  <thead>\n",
       "    <tr style=\"text-align: right;\">\n",
       "      <th></th>\n",
       "      <th>purchase_date</th>\n",
       "      <th>item_name</th>\n",
       "      <th>item_price</th>\n",
       "      <th>customer_name</th>\n",
       "    </tr>\n",
       "  </thead>\n",
       "  <tbody>\n",
       "    <tr>\n",
       "      <th>0</th>\n",
       "      <td>2019-06-13 18:02</td>\n",
       "      <td>상품A</td>\n",
       "      <td>100.0</td>\n",
       "      <td>김가온</td>\n",
       "    </tr>\n",
       "    <tr>\n",
       "      <th>1</th>\n",
       "      <td>2019-07-13 13:05</td>\n",
       "      <td>상품S</td>\n",
       "      <td>1900.0</td>\n",
       "      <td>김우찬</td>\n",
       "    </tr>\n",
       "    <tr>\n",
       "      <th>2</th>\n",
       "      <td>2019-05-11 19:42</td>\n",
       "      <td>상품A</td>\n",
       "      <td>100.0</td>\n",
       "      <td>김유찬</td>\n",
       "    </tr>\n",
       "    <tr>\n",
       "      <th>3</th>\n",
       "      <td>2019-02-12 23:40</td>\n",
       "      <td>상품Z</td>\n",
       "      <td>2600.0</td>\n",
       "      <td>김재현</td>\n",
       "    </tr>\n",
       "    <tr>\n",
       "      <th>4</th>\n",
       "      <td>2019-04-22 3:09</td>\n",
       "      <td>상품A</td>\n",
       "      <td>100.0</td>\n",
       "      <td>김강현</td>\n",
       "    </tr>\n",
       "  </tbody>\n",
       "</table>\n",
       "</div>"
      ],
      "text/plain": [
       "      purchase_date item_name  item_price customer_name\n",
       "0  2019-06-13 18:02       상품A       100.0           김가온\n",
       "1  2019-07-13 13:05       상품S      1900.0           김우찬\n",
       "2  2019-05-11 19:42       상품A       100.0           김유찬\n",
       "3  2019-02-12 23:40       상품Z      2600.0           김재현\n",
       "4   2019-04-22 3:09       상품A       100.0           김강현"
      ]
     },
     "execution_count": 10,
     "metadata": {},
     "output_type": "execute_result"
    }
   ],
   "source": [
    "for trg in list(uriage_data.loc[flg_is_null, \"item_name\"].unique()):\n",
    "    price = uriage_data.loc[(~flg_is_null) & (uriage_data[\"item_name\"] ==trg), \"item_price\"].max()\n",
    "    uriage_data[\"item_price\"].loc[(flg_is_null) & (uriage_data[\"item_name\"]==trg)] = price\n",
    "uriage_data.head()"
   ]
  },
  {
   "cell_type": "code",
   "execution_count": 11,
   "id": "82c80731",
   "metadata": {},
   "outputs": [
    {
     "data": {
      "text/plain": [
       "0"
      ]
     },
     "execution_count": 11,
     "metadata": {},
     "output_type": "execute_result"
    }
   ],
   "source": [
    "uriage_data[\"item_price\"].isnull().sum()"
   ]
  },
  {
   "cell_type": "code",
   "execution_count": 12,
   "id": "5e0bb3ac",
   "metadata": {},
   "outputs": [
    {
     "name": "stdout",
     "output_type": "stream",
     "text": [
      "상품A의 최고가 : 100.0의 최저가 : 100.0\n",
      "상품B의 최고가 : 200.0의 최저가 : 200.0\n",
      "상품C의 최고가 : 300.0의 최저가 : 300.0\n",
      "상품D의 최고가 : 400.0의 최저가 : 400.0\n",
      "상품E의 최고가 : 500.0의 최저가 : 500.0\n",
      "상품F의 최고가 : 600.0의 최저가 : 600.0\n",
      "상품G의 최고가 : 700.0의 최저가 : 700.0\n",
      "상품H의 최고가 : 800.0의 최저가 : 800.0\n",
      "상품I의 최고가 : 900.0의 최저가 : 900.0\n",
      "상품J의 최고가 : 1000.0의 최저가 : 1000.0\n",
      "상품K의 최고가 : 1100.0의 최저가 : 1100.0\n",
      "상품L의 최고가 : 1200.0의 최저가 : 1200.0\n",
      "상품M의 최고가 : 1300.0의 최저가 : 1300.0\n",
      "상품N의 최고가 : 1400.0의 최저가 : 1400.0\n",
      "상품O의 최고가 : 1500.0의 최저가 : 1500.0\n",
      "상품P의 최고가 : 1600.0의 최저가 : 1600.0\n",
      "상품Q의 최고가 : 1700.0의 최저가 : 1700.0\n",
      "상품R의 최고가 : 1800.0의 최저가 : 1800.0\n",
      "상품S의 최고가 : 1900.0의 최저가 : 1900.0\n",
      "상품T의 최고가 : 2000.0의 최저가 : 2000.0\n",
      "상품U의 최고가 : 2100.0의 최저가 : 2100.0\n",
      "상품V의 최고가 : 2200.0의 최저가 : 2200.0\n",
      "상품W의 최고가 : 2300.0의 최저가 : 2300.0\n",
      "상품X의 최고가 : 2400.0의 최저가 : 2400.0\n",
      "상품Y의 최고가 : 2500.0의 최저가 : 2500.0\n",
      "상품Z의 최고가 : 2600.0의 최저가 : 2600.0\n"
     ]
    }
   ],
   "source": [
    "for trg in list(uriage_data[\"item_name\"].sort_values().unique()):\n",
    "    print(trg + \"의 최고가 : \" + str(uriage_data.loc[uriage_data[\"item_name\"]==trg][\"item_price\"].max()) + \"의 최저가 : \" + str(uriage_data.loc[uriage_data[\"item_name\"]==trg][\"item_price\"].min(skipna=False)))"
   ]
  },
  {
   "cell_type": "code",
   "execution_count": 13,
   "id": "643d5d57",
   "metadata": {},
   "outputs": [
    {
     "data": {
      "text/plain": [
       "0      김현성\n",
       "1      김도윤\n",
       "2      김지한\n",
       "3      김하윤\n",
       "4      김시온\n",
       "      ... \n",
       "195    김재희\n",
       "196    김도영\n",
       "197    김이안\n",
       "198    김시현\n",
       "199    김서우\n",
       "Name: 고객이름, Length: 200, dtype: object"
      ]
     },
     "execution_count": 13,
     "metadata": {},
     "output_type": "execute_result"
    }
   ],
   "source": [
    "kokyaku_data[\"고객이름\"] = kokyaku_data[\"고객이름\"].str.replace(\"  \",\"\")\n",
    "kokyaku_data[\"고객이름\"] = kokyaku_data[\"고객이름\"].str.replace(\" \",\"\")\n",
    "kokyaku_data[\"고객이름\"]"
   ]
  },
  {
   "cell_type": "code",
   "execution_count": 14,
   "id": "98593c3e",
   "metadata": {},
   "outputs": [
    {
     "data": {
      "text/plain": [
       "22"
      ]
     },
     "execution_count": 14,
     "metadata": {},
     "output_type": "execute_result"
    }
   ],
   "source": [
    "flg_is_serial = kokyaku_data[\"등록일\"].astype(\"str\").str.isdigit()\n",
    "flg_is_serial.sum()"
   ]
  },
  {
   "cell_type": "code",
   "execution_count": 15,
   "id": "e3fc5a3d",
   "metadata": {},
   "outputs": [
    {
     "data": {
      "text/plain": [
       "1     2017-02-18\n",
       "3     2017-05-19\n",
       "4     2018-01-29\n",
       "21    2017-07-06\n",
       "27    2017-06-17\n",
       "47    2017-01-08\n",
       "49    2017-07-15\n",
       "53    2017-04-10\n",
       "76    2018-03-31\n",
       "80    2018-01-12\n",
       "99    2017-06-01\n",
       "114   2018-06-05\n",
       "118   2018-01-31\n",
       "122   2018-04-18\n",
       "139   2017-05-27\n",
       "143   2017-03-26\n",
       "155   2017-01-21\n",
       "172   2018-03-24\n",
       "179   2017-01-10\n",
       "183   2017-07-26\n",
       "186   2018-07-15\n",
       "192   2018-06-10\n",
       "Name: 등록일, dtype: datetime64[ns]"
      ]
     },
     "execution_count": 15,
     "metadata": {},
     "output_type": "execute_result"
    }
   ],
   "source": [
    "fromSerial = pd.to_timedelta(kokyaku_data.loc[flg_is_serial, \"등록일\"].astype(\"float\"), unit=\"D\") + pd.to_datetime(\"1900/01/01\")\n",
    "fromSerial"
   ]
  },
  {
   "cell_type": "code",
   "execution_count": null,
   "id": "24d62a0b",
   "metadata": {},
   "outputs": [],
   "source": []
  }
 ],
 "metadata": {
  "kernelspec": {
   "display_name": "Python 3",
   "language": "python",
   "name": "python3"
  },
  "language_info": {
   "codemirror_mode": {
    "name": "ipython",
    "version": 3
   },
   "file_extension": ".py",
   "mimetype": "text/x-python",
   "name": "python",
   "nbconvert_exporter": "python",
   "pygments_lexer": "ipython3",
   "version": "3.8.8"
  }
 },
 "nbformat": 4,
 "nbformat_minor": 5
}
