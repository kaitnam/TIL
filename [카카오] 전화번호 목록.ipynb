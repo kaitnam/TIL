{
 "cells": [
  {
   "cell_type": "code",
   "execution_count": null,
   "id": "8afe8182",
   "metadata": {},
   "outputs": [],
   "source": [
    "# https://school.programmers.co.kr/learn/courses/30/lessons/42577"
   ]
  },
  {
   "cell_type": "markdown",
   "id": "8a14041e",
   "metadata": {},
   "source": [
    "### 정답"
   ]
  },
  {
   "cell_type": "code",
   "execution_count": 2,
   "id": "8ed2f9c2",
   "metadata": {},
   "outputs": [],
   "source": [
    "def solution(phoneBook):\n",
    "    phoneBook = sorted(phoneBook)\n",
    "\n",
    "    for p1, p2 in zip(phoneBook, phoneBook[1:]):\n",
    "        if p2.startswith(p1):\n",
    "            return False\n",
    "    return True\n"
   ]
  },
  {
   "cell_type": "code",
   "execution_count": 3,
   "id": "3fcdbb38",
   "metadata": {},
   "outputs": [],
   "source": [
    "phoneBook = [\"119\", \"97674223\", \"1195524421\"]"
   ]
  },
  {
   "cell_type": "code",
   "execution_count": 4,
   "id": "b3072253",
   "metadata": {},
   "outputs": [
    {
     "data": {
      "text/plain": [
       "['119', '1195524421', '97674223']"
      ]
     },
     "execution_count": 4,
     "metadata": {},
     "output_type": "execute_result"
    }
   ],
   "source": [
    "# sorted 함수를 사용하여 숫자가 순서대로 정렬되었다.\n",
    "\n",
    "phoneBook = sorted(phoneBook)\n",
    "phoneBook"
   ]
  },
  {
   "cell_type": "code",
   "execution_count": 5,
   "id": "0a23e6bb",
   "metadata": {},
   "outputs": [
    {
     "name": "stdout",
     "output_type": "stream",
     "text": [
      "['119', '1195524421', '97674223']\n",
      "['1195524421', '97674223']\n"
     ]
    }
   ],
   "source": [
    "print(phoneBook)\n",
    "print(phoneBook[1:])"
   ]
  },
  {
   "cell_type": "code",
   "execution_count": 6,
   "id": "301410d3",
   "metadata": {},
   "outputs": [
    {
     "name": "stdout",
     "output_type": "stream",
     "text": [
      "119 1195524421\n",
      "1195524421 97674223\n"
     ]
    }
   ],
   "source": [
    "# zip함수를 사용하여서 2개를 한번에 출력해 보았다.\n",
    "\n",
    "for p1, p2 in zip(phoneBook, phoneBook[1:]):\n",
    "    print(p1,p2)"
   ]
  },
  {
   "cell_type": "code",
   "execution_count": 9,
   "id": "9c01a2cf",
   "metadata": {},
   "outputs": [
    {
     "name": "stdout",
     "output_type": "stream",
     "text": [
      "119 1195524421 97674223\n",
      "1195524421 97674223 244315\n"
     ]
    }
   ],
   "source": [
    "# 3개도 한번 해보자\n",
    "\n",
    "phone_Book = ['119', '1195524421', '97674223', '244315']\n",
    "\n",
    "for p1, p2, p3 in zip(phone_Book, phone_Book[1:], phone_Book[2:]):\n",
    "    print(p1,p2,p3)"
   ]
  },
  {
   "cell_type": "code",
   "execution_count": 10,
   "id": "78905ba2",
   "metadata": {},
   "outputs": [],
   "source": [
    "def solution(phoneBook):\n",
    "    phoneBook = sorted(phoneBook)\n",
    "\n",
    "    for p1, p2 in zip(phoneBook, phoneBook[1:]):\n",
    "        if p2.startswith(p1):\n",
    "            return False\n",
    "    return True"
   ]
  },
  {
   "cell_type": "code",
   "execution_count": 11,
   "id": "1163df64",
   "metadata": {},
   "outputs": [
    {
     "data": {
      "text/plain": [
       "False"
      ]
     },
     "execution_count": 11,
     "metadata": {},
     "output_type": "execute_result"
    }
   ],
   "source": [
    "solution(phoneBook)"
   ]
  },
  {
   "cell_type": "code",
   "execution_count": null,
   "id": "3ad8d4d3",
   "metadata": {},
   "outputs": [],
   "source": []
  }
 ],
 "metadata": {
  "kernelspec": {
   "display_name": "Python 3 (ipykernel)",
   "language": "python",
   "name": "python3"
  },
  "language_info": {
   "codemirror_mode": {
    "name": "ipython",
    "version": 3
   },
   "file_extension": ".py",
   "mimetype": "text/x-python",
   "name": "python",
   "nbconvert_exporter": "python",
   "pygments_lexer": "ipython3",
   "version": "3.9.12"
  }
 },
 "nbformat": 4,
 "nbformat_minor": 5
}
